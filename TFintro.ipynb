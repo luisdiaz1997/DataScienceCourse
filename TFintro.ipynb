{
  "nbformat": 4,
  "nbformat_minor": 0,
  "metadata": {
    "kernelspec": {
      "name": "python3",
      "display_name": "Python 3"
    },
    "language_info": {
      "codemirror_mode": {
        "name": "ipython",
        "version": 3
      },
      "file_extension": ".py",
      "mimetype": "text/x-python",
      "name": "python",
      "nbconvert_exporter": "python",
      "pygments_lexer": "ipython3",
      "version": "3.7.0"
    },
    "colab": {
      "name": "TFintro.ipynb",
      "provenance": []
    },
    "accelerator": "GPU"
  },
  "cells": [
    {
      "cell_type": "code",
      "metadata": {
        "id": "1doeaasJKWOq",
        "colab_type": "code",
        "colab": {
          "base_uri": "https://localhost:8080/",
          "height": 63
        },
        "outputId": "e2af9996-ddd6-4d15-a291-369c67fc05da"
      },
      "source": [
        "import numpy as np\n",
        "import pandas as pd\n",
        "import matplotlib.pyplot as plt\n",
        "import tensorflow as tf"
      ],
      "execution_count": 1,
      "outputs": [
        {
          "output_type": "display_data",
          "data": {
            "text/html": [
              "<p style=\"color: red;\">\n",
              "The default version of TensorFlow in Colab will soon switch to TensorFlow 2.x.<br>\n",
              "We recommend you <a href=\"https://www.tensorflow.org/guide/migrate\" target=\"_blank\">upgrade</a> now \n",
              "or ensure your notebook will continue to use TensorFlow 1.x via the <code>%tensorflow_version 1.x</code> magic:\n",
              "<a href=\"https://colab.research.google.com/notebooks/tensorflow_version.ipynb\" target=\"_blank\">more info</a>.</p>\n"
            ],
            "text/plain": [
              "<IPython.core.display.HTML object>"
            ]
          },
          "metadata": {
            "tags": []
          }
        }
      ]
    },
    {
      "cell_type": "code",
      "metadata": {
        "id": "RXpQwd3CKWOx",
        "colab_type": "code",
        "colab": {}
      },
      "source": [
        "config = tf.ConfigProto()\n",
        "config.gpu_options.allow_growth = True\n",
        "sess = tf.Session(config=config)\n",
        "sess.close()"
      ],
      "execution_count": 0,
      "outputs": []
    },
    {
      "cell_type": "code",
      "metadata": {
        "id": "TrGtlO0uKWO1",
        "colab_type": "code",
        "colab": {}
      },
      "source": [
        "data_url = \"https://download.mlcc.google.com/mledu-datasets/california_housing_train.csv\""
      ],
      "execution_count": 0,
      "outputs": []
    },
    {
      "cell_type": "code",
      "metadata": {
        "id": "DOqzgJ-eKWPF",
        "colab_type": "code",
        "colab": {
          "base_uri": "https://localhost:8080/",
          "height": 204
        },
        "outputId": "8595871a-2805-4725-cced-3d447fb03a6e"
      },
      "source": [
        "df = pd.read_csv(data_url, sep=\",\")\n",
        "df.head()"
      ],
      "execution_count": 4,
      "outputs": [
        {
          "output_type": "execute_result",
          "data": {
            "text/html": [
              "<div>\n",
              "<style scoped>\n",
              "    .dataframe tbody tr th:only-of-type {\n",
              "        vertical-align: middle;\n",
              "    }\n",
              "\n",
              "    .dataframe tbody tr th {\n",
              "        vertical-align: top;\n",
              "    }\n",
              "\n",
              "    .dataframe thead th {\n",
              "        text-align: right;\n",
              "    }\n",
              "</style>\n",
              "<table border=\"1\" class=\"dataframe\">\n",
              "  <thead>\n",
              "    <tr style=\"text-align: right;\">\n",
              "      <th></th>\n",
              "      <th>longitude</th>\n",
              "      <th>latitude</th>\n",
              "      <th>housing_median_age</th>\n",
              "      <th>total_rooms</th>\n",
              "      <th>total_bedrooms</th>\n",
              "      <th>population</th>\n",
              "      <th>households</th>\n",
              "      <th>median_income</th>\n",
              "      <th>median_house_value</th>\n",
              "    </tr>\n",
              "  </thead>\n",
              "  <tbody>\n",
              "    <tr>\n",
              "      <th>0</th>\n",
              "      <td>-114.31</td>\n",
              "      <td>34.19</td>\n",
              "      <td>15.0</td>\n",
              "      <td>5612.0</td>\n",
              "      <td>1283.0</td>\n",
              "      <td>1015.0</td>\n",
              "      <td>472.0</td>\n",
              "      <td>1.4936</td>\n",
              "      <td>66900.0</td>\n",
              "    </tr>\n",
              "    <tr>\n",
              "      <th>1</th>\n",
              "      <td>-114.47</td>\n",
              "      <td>34.40</td>\n",
              "      <td>19.0</td>\n",
              "      <td>7650.0</td>\n",
              "      <td>1901.0</td>\n",
              "      <td>1129.0</td>\n",
              "      <td>463.0</td>\n",
              "      <td>1.8200</td>\n",
              "      <td>80100.0</td>\n",
              "    </tr>\n",
              "    <tr>\n",
              "      <th>2</th>\n",
              "      <td>-114.56</td>\n",
              "      <td>33.69</td>\n",
              "      <td>17.0</td>\n",
              "      <td>720.0</td>\n",
              "      <td>174.0</td>\n",
              "      <td>333.0</td>\n",
              "      <td>117.0</td>\n",
              "      <td>1.6509</td>\n",
              "      <td>85700.0</td>\n",
              "    </tr>\n",
              "    <tr>\n",
              "      <th>3</th>\n",
              "      <td>-114.57</td>\n",
              "      <td>33.64</td>\n",
              "      <td>14.0</td>\n",
              "      <td>1501.0</td>\n",
              "      <td>337.0</td>\n",
              "      <td>515.0</td>\n",
              "      <td>226.0</td>\n",
              "      <td>3.1917</td>\n",
              "      <td>73400.0</td>\n",
              "    </tr>\n",
              "    <tr>\n",
              "      <th>4</th>\n",
              "      <td>-114.57</td>\n",
              "      <td>33.57</td>\n",
              "      <td>20.0</td>\n",
              "      <td>1454.0</td>\n",
              "      <td>326.0</td>\n",
              "      <td>624.0</td>\n",
              "      <td>262.0</td>\n",
              "      <td>1.9250</td>\n",
              "      <td>65500.0</td>\n",
              "    </tr>\n",
              "  </tbody>\n",
              "</table>\n",
              "</div>"
            ],
            "text/plain": [
              "   longitude  latitude  ...  median_income  median_house_value\n",
              "0    -114.31     34.19  ...         1.4936             66900.0\n",
              "1    -114.47     34.40  ...         1.8200             80100.0\n",
              "2    -114.56     33.69  ...         1.6509             85700.0\n",
              "3    -114.57     33.64  ...         3.1917             73400.0\n",
              "4    -114.57     33.57  ...         1.9250             65500.0\n",
              "\n",
              "[5 rows x 9 columns]"
            ]
          },
          "metadata": {
            "tags": []
          },
          "execution_count": 4
        }
      ]
    },
    {
      "cell_type": "code",
      "metadata": {
        "id": "c1aBD1hsKWPR",
        "colab_type": "code",
        "colab": {}
      },
      "source": [
        "x = df.households.values.reshape(-1, 1)\n",
        "y = df.total_rooms.values.reshape(-1,1)"
      ],
      "execution_count": 0,
      "outputs": []
    },
    {
      "cell_type": "code",
      "metadata": {
        "id": "HwtDj0-lKWPU",
        "colab_type": "code",
        "colab": {
          "base_uri": "https://localhost:8080/",
          "height": 388
        },
        "outputId": "7e855b59-3ee5-48a7-932e-4f01665810dd"
      },
      "source": [
        "plt.figure(figsize=(8, 6))\n",
        "plt.scatter(x[::10], y[::10])\n",
        "plt.xlabel('Number of Households')\n",
        "plt.ylabel('Total Rooms');"
      ],
      "execution_count": 6,
      "outputs": [
        {
          "output_type": "display_data",
          "data": {
            "image/png": "[encoded data removed]",
            "text/plain": [
              "<Figure size 576x432 with 1 Axes>"
            ]
          },
          "metadata": {
            "tags": []
          }
        }
      ]
    },
    {
      "cell_type": "markdown",
      "metadata": {
        "id": "wIrRKTTFKWPa",
        "colab_type": "text"
      },
      "source": [
        "$$h(x) = x w + b$$"
      ]
    },
    {
      "cell_type": "code",
      "metadata": {
        "id": "xsCi3H5WKWPb",
        "colab_type": "code",
        "colab": {}
      },
      "source": [
        "def get_params(shape):\n",
        "    np.random.seed(7)\n",
        "    params = {\n",
        "    'W':tf.Variable(np.random.randn(*shape), dtype = tf.float32),\n",
        "    'b':tf.Variable(np.zeros((1, shape[1])), dtype = tf.float32)\n",
        "    }\n",
        "    return params"
      ],
      "execution_count": 0,
      "outputs": []
    },
    {
      "cell_type": "code",
      "metadata": {
        "id": "sVP2O0fAKWPg",
        "colab_type": "code",
        "colab": {}
      },
      "source": [
        "params = get_params([x.shape[1], y.shape[1]])"
      ],
      "execution_count": 0,
      "outputs": []
    },
    {
      "cell_type": "code",
      "metadata": {
        "id": "ICKc8vR-KWPj",
        "colab_type": "code",
        "colab": {
          "base_uri": "https://localhost:8080/",
          "height": 34
        },
        "outputId": "405b797d-a02e-446c-a60c-31a06d8b5a50"
      },
      "source": [
        "with tf.Session() as sess:\n",
        "    init = tf.global_variables_initializer()\n",
        "    sess.run(init)\n",
        "    result = sess.run(params)\n",
        "    print(result)"
      ],
      "execution_count": 9,
      "outputs": [
        {
          "output_type": "stream",
          "text": [
            "{'W': array([[1.6905257]], dtype=float32), 'b': array([[0.]], dtype=float32)}\n"
          ],
          "name": "stdout"
        }
      ]
    },
    {
      "cell_type": "code",
      "metadata": {
        "id": "DPivQG_TKWPm",
        "colab_type": "code",
        "colab": {}
      },
      "source": [
        "def linear(x, params):\n",
        "    h = tf.add(tf.matmul(x, params['W']),params['b'])\n",
        "    return h"
      ],
      "execution_count": 0,
      "outputs": []
    },
    {
      "cell_type": "code",
      "metadata": {
        "id": "9FDnrMQ9KWPo",
        "colab_type": "code",
        "colab": {}
      },
      "source": [
        "def get_cost(x, y, model, params, lambd = 0):\n",
        "    h= model(x, params)\n",
        "    J = tf.math.reduce_mean((h-y)**2) + ((lambd/2)*tf.math.reduce_sum(params['W']**2)) \n",
        "    return J"
      ],
      "execution_count": 0,
      "outputs": []
    },
    {
      "cell_type": "code",
      "metadata": {
        "id": "sEv71mxZKWPt",
        "colab_type": "code",
        "colab": {}
      },
      "source": [
        "def train(inp, out, model, epochs = 100, lr= 1e-3, lambd = 0):\n",
        "    x = tf.placeholder(tf.float32, shape = (None, inp.shape[1]))\n",
        "    y = tf.placeholder(tf.float32, shape = (None, out.shape[1]))\n",
        "    params = get_params([x.shape[1], y.shape[1]])\n",
        "    costs = []\n",
        "    cost = get_cost(x, y, model, params, lambd)\n",
        "    optimizer = tf.train.GradientDescentOptimizer(learning_rate = lr).minimize(cost)\n",
        "    init=tf.global_variables_initializer()\n",
        "    with tf.Session(config = config) as sess:\n",
        "        sess.run(init)\n",
        "        for epoch in range(epochs):\n",
        "            c, _ = sess.run([cost, optimizer], feed_dict={x: inp, y:out})\n",
        "            \n",
        "            if epoch%(epochs//10) == 0:\n",
        "                print('Cost at epoch ' + str(epoch), c)\n",
        "            if epoch%5 == 0:\n",
        "                costs.append(c)\n",
        "                \n",
        "        params = sess.run(params)\n",
        "    \n",
        "    return costs, params\n",
        "        \n",
        "    "
      ],
      "execution_count": 0,
      "outputs": []
    },
    {
      "cell_type": "code",
      "metadata": {
        "id": "e_fBrNhxKWPw",
        "colab_type": "code",
        "colab": {
          "base_uri": "https://localhost:8080/",
          "height": 258
        },
        "outputId": "d69f63b0-7c26-4bfd-c777-60f40b582d9f"
      },
      "source": [
        "costs, params = train(x, y, model = linear, lr= 1e-6)"
      ],
      "execution_count": 18,
      "outputs": [
        {
          "output_type": "stream",
          "text": [
            "WARNING:tensorflow:From /usr/local/lib/python3.6/dist-packages/tensorflow_core/python/ops/math_grad.py:1375: where (from tensorflow.python.ops.array_ops) is deprecated and will be removed in a future version.\n",
            "Instructions for updating:\n",
            "Use tf.where in 2.0, which has the same broadcast rule as np.where\n",
            "Cost at epoch 0 5796791.0\n",
            "Cost at epoch 10 738853.7\n",
            "Cost at epoch 20 738853.7\n",
            "Cost at epoch 30 738853.7\n",
            "Cost at epoch 40 738853.7\n",
            "Cost at epoch 50 738853.7\n",
            "Cost at epoch 60 738853.7\n",
            "Cost at epoch 70 738853.7\n",
            "Cost at epoch 80 738853.7\n",
            "Cost at epoch 90 738853.7\n"
          ],
          "name": "stdout"
        }
      ]
    },
    {
      "cell_type": "code",
      "metadata": {
        "id": "8Z7stGHRKWPz",
        "colab_type": "code",
        "colab": {
          "base_uri": "https://localhost:8080/",
          "height": 284
        },
        "outputId": "ee779094-704f-44b3-e3b0-9db4ce5170b3"
      },
      "source": [
        "plt.plot(costs)"
      ],
      "execution_count": 19,
      "outputs": [
        {
          "output_type": "execute_result",
          "data": {
            "text/plain": [
              "[<matplotlib.lines.Line2D at 0x7f31f862be10>]"
            ]
          },
          "metadata": {
            "tags": []
          },
          "execution_count": 19
        },
        {
          "output_type": "display_data",
          "data": {
            "image/png": "[encoded data removed]",
            "text/plain": [
              "<Figure size 432x288 with 1 Axes>"
            ]
          },
          "metadata": {
            "tags": []
          }
        }
      ]
    },
    {
      "cell_type": "code",
      "metadata": {
        "id": "dOzS9pfhLCDq",
        "colab_type": "code",
        "colab": {}
      },
      "source": [
        "with tf.Session() as sess:\n",
        "  inp = tf.constant(x, dtype = tf.float32)\n",
        "  prediction = sess.run(linear(inp, params))\n"
      ],
      "execution_count": 0,
      "outputs": []
    },
    {
      "cell_type": "code",
      "metadata": {
        "id": "pIi8xA2hLaKL",
        "colab_type": "code",
        "colab": {
          "base_uri": "https://localhost:8080/",
          "height": 388
        },
        "outputId": "ebfd20c5-8bbe-4d61-9715-ec3fd34c5f15"
      },
      "source": [
        "plt.figure(figsize = (8, 6))\n",
        "plt.scatter(x[::10], y[::10], label = 'Actual Data')\n",
        "plt.scatter(x[::10], prediction[::10], label = 'Predicted Data')\n",
        "plt.legend()\n",
        "plt.xlabel('Number of Households')\n",
        "plt.ylabel('Total Rooms');"
      ],
      "execution_count": 23,
      "outputs": [
        {
          "output_type": "display_data",
          "data": {
            "image/png": "[encoded data removed]",
            "text/plain": [
              "<Figure size 576x432 with 1 Axes>"
            ]
          },
          "metadata": {
            "tags": []
          }
        }
      ]
    },
    {
      "cell_type": "code",
      "metadata": {
        "id": "woFTHNqhMdcF",
        "colab_type": "code",
        "colab": {}
      },
      "source": [
        ""
      ],
      "execution_count": 0,
      "outputs": []
    }
  ]
}