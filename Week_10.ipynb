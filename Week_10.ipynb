{
  "nbformat": 4,
  "nbformat_minor": 0,
  "metadata": {
    "kernelspec": {
      "name": "python3",
      "display_name": "Python 3"
    },
    "language_info": {
      "codemirror_mode": {
        "name": "ipython",
        "version": 3
      },
      "file_extension": ".py",
      "mimetype": "text/x-python",
      "name": "python",
      "nbconvert_exporter": "python",
      "pygments_lexer": "ipython3",
      "version": "3.7.7"
    },
    "colab": {
      "name": "Week_10.ipynb",
      "provenance": [],
      "collapsed_sections": [],
      "include_colab_link": true
    },
    "accelerator": "GPU"
  },
  "cells": [
    {
      "cell_type": "markdown",
      "metadata": {
        "id": "view-in-github",
        "colab_type": "text"
      },
      "source": [
        "<a href=\"https://colab.research.google.com/github/luisdiaz1997/DataScienceCourse/blob/master/Week_10.ipynb\" target=\"_parent\"><img src=\"https://colab.research.google.com/assets/colab-badge.svg\" alt=\"Open In Colab\"/></a>"
      ]
    },
    {
      "cell_type": "code",
      "metadata": {
        "id": "HFe_6xpmn9u6",
        "colab_type": "code",
        "colab": {}
      },
      "source": [
        "import matplotlib.pyplot as plt\n",
        "import numpy as np\n",
        "import torch\n",
        "from torch.utils.data import Dataset, DataLoader, TensorDataset\n",
        "import torchvision\n",
        "from tqdm.autonotebook import tqdm"
      ],
      "execution_count": 0,
      "outputs": []
    },
    {
      "cell_type": "code",
      "metadata": {
        "id": "VE_hnYxc5N_I",
        "colab_type": "code",
        "colab": {}
      },
      "source": [
        "device = torch.device(\"cuda:0\" if torch.cuda.is_available() else \"cpu\")\n",
        "\n",
        "# Assuming that we are on a CUDA machine, this should print a CUDA device:\n",
        "\n",
        "print(device)"
      ],
      "execution_count": 0,
      "outputs": []
    },
    {
      "cell_type": "code",
      "metadata": {
        "id": "wYwDQ3bm5PDI",
        "colab_type": "code",
        "colab": {}
      },
      "source": [
        "!nvidia-smi"
      ],
      "execution_count": 0,
      "outputs": []
    },
    {
      "cell_type": "code",
      "metadata": {
        "id": "uEmYvFXee_A1",
        "colab_type": "code",
        "colab": {}
      },
      "source": [
        "! pip install -q kaggle\n",
        "! mkdir ~/.kaggle"
      ],
      "execution_count": 0,
      "outputs": []
    },
    {
      "cell_type": "code",
      "metadata": {
        "id": "TKddKFTSfUDc",
        "colab_type": "code",
        "colab": {}
      },
      "source": [
        "! cp kaggle.json ~/.kaggle/\n",
        "!chmod 600 ~/.kaggle/kaggle.json\n",
        "! kaggle datasets download -d chetankv/dogs-cats-images\n",
        "!unzip dogs-cats-images.zip"
      ],
      "execution_count": 0,
      "outputs": []
    },
    {
      "cell_type": "code",
      "metadata": {
        "id": "Ah1EEwp5feiE",
        "colab_type": "code",
        "colab": {}
      },
      "source": [
        "import torchvision.transforms as transforms\n",
        "data_transforms = transforms.Compose([\n",
        "                    transforms.Resize([64,64]),\n",
        "                    transforms.ToTensor()])"
      ],
      "execution_count": 0,
      "outputs": []
    },
    {
      "cell_type": "code",
      "metadata": {
        "id": "W60w9iklfskD",
        "colab_type": "code",
        "colab": {}
      },
      "source": [
        "train_dataset = torchvision.datasets.ImageFolder('dataset/training_set', transform=data_transforms)\n",
        "train_dataloader = DataLoader(train_dataset, batch_size=32,\n",
        "                        shuffle=True, num_workers=4)\n",
        "\n",
        "\n",
        "test_dataset = torchvision.datasets.ImageFolder('dataset/test_set', transform=data_transforms)\n",
        "test_dataloader = DataLoader(test_dataset, batch_size=4,\n",
        "                        shuffle=False, num_workers=4)"
      ],
      "execution_count": 0,
      "outputs": []
    },
    {
      "cell_type": "code",
      "metadata": {
        "id": "PZnVQ4-QfvDU",
        "colab_type": "code",
        "colab": {}
      },
      "source": [
        "data_iter = iter(train_dataloader)\n",
        "images, labels = data_iter.next()"
      ],
      "execution_count": 0,
      "outputs": []
    },
    {
      "cell_type": "code",
      "metadata": {
        "id": "E7gZBtAsfzVH",
        "colab_type": "code",
        "colab": {}
      },
      "source": [
        "def imshow(img, one_channel = True):\n",
        "    npimg = img.cpu().numpy()\n",
        "    if one_channel:\n",
        "      npimg = np.squeeze(npimg)\n",
        "      plt.imshow(npimg, cmap = 'gray')\n",
        "    else:\n",
        "      plt.imshow(np.transpose(npimg, axes = (1, 2, 0)))"
      ],
      "execution_count": 0,
      "outputs": []
    },
    {
      "cell_type": "code",
      "metadata": {
        "id": "F_Rf6y7pf6Fm",
        "colab_type": "code",
        "colab": {}
      },
      "source": [
        "imgrid = torchvision.utils.make_grid(images)"
      ],
      "execution_count": 0,
      "outputs": []
    },
    {
      "cell_type": "code",
      "metadata": {
        "id": "EYyfW0DKf_WD",
        "colab_type": "code",
        "colab": {}
      },
      "source": [
        "imshow(imgrid, one_channel= False)"
      ],
      "execution_count": 0,
      "outputs": []
    },
    {
      "cell_type": "code",
      "metadata": {
        "id": "cbWGv79BzNDM",
        "colab_type": "code",
        "colab": {}
      },
      "source": [
        "class Neural(torch.nn.Module):\n",
        "    def __init__(self):\n",
        "        super(Neural, self).__init__()\n",
        "\n",
        "        \n",
        "        \n",
        "        \n",
        "    def forward(self, inputs):\n",
        "        \n",
        "        \n",
        "        return x"
      ],
      "execution_count": 0,
      "outputs": []
    },
    {
      "cell_type": "code",
      "metadata": {
        "id": "Rd5kZkccmyS0",
        "colab_type": "code",
        "colab": {}
      },
      "source": [
        ""
      ],
      "execution_count": 0,
      "outputs": []
    },
    {
      "cell_type": "code",
      "metadata": {
        "id": "9O1ZILk6m8k5",
        "colab_type": "code",
        "colab": {}
      },
      "source": [
        ""
      ],
      "execution_count": 0,
      "outputs": []
    },
    {
      "cell_type": "code",
      "metadata": {
        "id": "qxFl_GjZm6RA",
        "colab_type": "code",
        "colab": {}
      },
      "source": [
        "from torchsummary import summary\n",
        "summary(model, input_size=(3, 64, 64))"
      ],
      "execution_count": 0,
      "outputs": []
    },
    {
      "cell_type": "code",
      "metadata": {
        "id": "Xf4XlIEFICgJ",
        "colab_type": "code",
        "colab": {}
      },
      "source": [
        "def images_to_probs(model, images):\n",
        "    '''\n",
        "    Generates predictions and corresponding probabilities from a trained\n",
        "    network and a list of images\n",
        "    '''\n",
        "    output = model(images)\n",
        "    output = torch.softmax(output, 1)\n",
        "\n",
        "    probs, preds = torch.max(output, 1)\n",
        "\n",
        "    \n",
        "    \n",
        "    return probs, preds"
      ],
      "execution_count": 0,
      "outputs": []
    },
    {
      "cell_type": "code",
      "metadata": {
        "id": "wzrfCfTDHxT3",
        "colab_type": "code",
        "colab": {}
      },
      "source": [
        "def plot_classes_preds(model, images, labels):\n",
        "    probs, preds = images_to_probs( model, images)\n",
        "    # plot the images in the batch, along with predicted and true labels\n",
        "    fig = plt.figure(figsize=(10, 4))\n",
        "    for idx in range(4):\n",
        "        ax = fig.add_subplot(1, 4, idx+1, xticks=[], yticks=[])\n",
        "        if images.shape[1] == 3:\n",
        "          imshow(images[idx],one_channel= False)\n",
        "        else:\n",
        "          imshow(images[idx])\n",
        "        ax.set_title(\"{0}, {1:.1f}%\\n(label: {2})\".format(\n",
        "            preds[idx],\n",
        "            probs[idx]*100,\n",
        "            labels[idx]),\n",
        "                    color=(\"green\" if preds[idx]==labels[idx].item() else \"red\"))\n",
        "    return fig"
      ],
      "execution_count": 0,
      "outputs": []
    },
    {
      "cell_type": "code",
      "metadata": {
        "id": "SamLT-5fnifB",
        "colab_type": "code",
        "colab": {}
      },
      "source": [
        "fig = plot_classes_preds(model, images.to(device), labels.to(device))"
      ],
      "execution_count": 0,
      "outputs": []
    },
    {
      "cell_type": "code",
      "metadata": {
        "id": "bMrCUt5FNigY",
        "colab_type": "code",
        "colab": {}
      },
      "source": [
        "%load_ext tensorboard"
      ],
      "execution_count": 0,
      "outputs": []
    },
    {
      "cell_type": "code",
      "metadata": {
        "id": "tpxBJjAOQekB",
        "colab_type": "code",
        "colab": {}
      },
      "source": [
        "from torch.utils.tensorboard import SummaryWriter\n",
        "\n",
        "# default `log_dir` is \"runs\" - we'll be more specific here\n",
        "writer = SummaryWriter('runs/cat_dog_cnn')"
      ],
      "execution_count": 0,
      "outputs": []
    },
    {
      "cell_type": "code",
      "metadata": {
        "id": "gRc9Vjrq7Rt1",
        "colab_type": "code",
        "colab": {}
      },
      "source": [
        "writer.add_image('cat_dog', imgrid)\n",
        "writer.add_graph(model, images.to(device))\n",
        "writer.close()"
      ],
      "execution_count": 0,
      "outputs": []
    },
    {
      "cell_type": "code",
      "metadata": {
        "id": "ADK0wALDJ6Bi",
        "colab_type": "code",
        "colab": {}
      },
      "source": [
        "%tensorboard --logdir=runs"
      ],
      "execution_count": 0,
      "outputs": []
    },
    {
      "cell_type": "code",
      "metadata": {
        "id": "Lbyz7p6kOcZT",
        "colab_type": "code",
        "colab": {}
      },
      "source": [
        "%tensorboard --logdir=runs"
      ],
      "execution_count": 0,
      "outputs": []
    },
    {
      "cell_type": "code",
      "metadata": {
        "id": "WuYbSHuEyWkP",
        "colab_type": "code",
        "colab": {}
      },
      "source": [
        "def fit(model, dataloader, loss, optimizer, device, writer =None, epochs= 5, print_every = 100):\n",
        "\n",
        "    model.train()\n",
        "    for epoch in tqdm(range(epochs)):\n",
        "      running_cost = 0.0\n",
        "      for i, data in enumerate(tqdm(dataloader, leave = False)):\n",
        "        inputs, labels = data[0].to(device), data[1].to(device)\n",
        "        optimizer.zero_grad()\n",
        "        outputs = model(inputs)\n",
        "        J = loss(outputs, labels)\n",
        "        J.backward()\n",
        "        optimizer.step()\n",
        "        if (writer != None):\n",
        "          running_cost += J.item()\n",
        "          if i % print_every == (print_every-1):\n",
        "            writer.add_scalar('training_cost',\n",
        "                              running_cost / print_every,\n",
        "                              epoch * len(dataloader) + i)\n",
        "            \n",
        "            writer.add_figure('predictions vs. actuals',\n",
        "                              plot_classes_preds(model, inputs, labels),\n",
        "                              global_step=epoch * len(dataloader) + i)\n",
        "            running_cost = 0.0"
      ],
      "execution_count": 0,
      "outputs": []
    },
    {
      "cell_type": "code",
      "metadata": {
        "id": "hzKNIPLAQV5r",
        "colab_type": "code",
        "colab": {}
      },
      "source": [
        ""
      ],
      "execution_count": 0,
      "outputs": []
    },
    {
      "cell_type": "code",
      "metadata": {
        "id": "DEUs6pNn92pp",
        "colab_type": "code",
        "colab": {}
      },
      "source": [
        "def accuracy(model, dataloader, device):\n",
        "  model.eval()\n",
        "  correct = 0\n",
        "  total = 0\n",
        "  with torch.no_grad():\n",
        "      for data in dataloader:\n",
        "          images, labels = data[0].to(device), data[1].to(device)\n",
        "          outputs = model(images)\n",
        "          _, predicted = torch.max(outputs.data, 1)\n",
        "          total += labels.size(0)\n",
        "          correct += (predicted == labels).sum().item()\n",
        "\n",
        "  print('Accuracy of the network on the images: %d %%' % (\n",
        "      100 * correct / total))"
      ],
      "execution_count": 0,
      "outputs": []
    },
    {
      "cell_type": "code",
      "metadata": {
        "id": "XJdT3g2CrAlp",
        "colab_type": "code",
        "colab": {}
      },
      "source": [
        "accuracy(model, train_dataloader, device)"
      ],
      "execution_count": 0,
      "outputs": []
    },
    {
      "cell_type": "code",
      "metadata": {
        "id": "b4O3Zrer9zla",
        "colab_type": "code",
        "colab": {}
      },
      "source": [
        "accuracy(model, test_dataloader, device)"
      ],
      "execution_count": 0,
      "outputs": []
    },
    {
      "cell_type": "code",
      "metadata": {
        "id": "EhDA2qkR9050",
        "colab_type": "code",
        "colab": {}
      },
      "source": [
        "visualisation = {}\n",
        "\n",
        "def hook_fn(m, i, o):\n",
        "  visualisation[m] = o \n",
        "\n",
        "def get_all_layers(net):\n",
        "  for name, layer in net._modules.items():\n",
        "    layer.register_forward_hook(hook_fn)\n",
        "    \n",
        "get_all_layers(model)\n"
      ],
      "execution_count": 0,
      "outputs": []
    },
    {
      "cell_type": "code",
      "metadata": {
        "id": "HPpUgJzF-fYw",
        "colab_type": "code",
        "colab": {}
      },
      "source": [
        "model(images.to(device))"
      ],
      "execution_count": 0,
      "outputs": []
    },
    {
      "cell_type": "code",
      "metadata": {
        "id": "Qjg8yf7-CclY",
        "colab_type": "code",
        "colab": {}
      },
      "source": [
        "first_out = visualisation[list(visualisation.keys())[6]]"
      ],
      "execution_count": 0,
      "outputs": []
    },
    {
      "cell_type": "code",
      "metadata": {
        "id": "e-AZsyqP_8Vz",
        "colab_type": "code",
        "colab": {}
      },
      "source": [
        "first_out[0].shape"
      ],
      "execution_count": 0,
      "outputs": []
    },
    {
      "cell_type": "code",
      "metadata": {
        "id": "JNoGAkJcAidC",
        "colab_type": "code",
        "colab": {}
      },
      "source": [
        "k = 1\n",
        "plt.figure(1, figsize = (2, 2) )\n",
        "plt.imshow(images[k].detach().numpy().transpose(1, 2, 0))\n",
        "plt.figure(2, figsize = (10, 10))\n",
        "for i in range(16):\n",
        "  plt.subplot(4, 4, i+1)\n",
        "  plt.imshow(first_out[k][i].cpu().detach().numpy())\n",
        "  plt.axis('off')"
      ],
      "execution_count": 0,
      "outputs": []
    },
    {
      "cell_type": "code",
      "metadata": {
        "id": "nlmPCLuyAKwK",
        "colab_type": "code",
        "colab": {}
      },
      "source": [
        ""
      ],
      "execution_count": 0,
      "outputs": []
    },
    {
      "cell_type": "code",
      "metadata": {
        "id": "gqVpcfowCAXL",
        "colab_type": "code",
        "colab": {}
      },
      "source": [
        ""
      ],
      "execution_count": 0,
      "outputs": []
    },
    {
      "cell_type": "code",
      "metadata": {
        "id": "jIptsiEYIPzj",
        "colab_type": "code",
        "colab": {}
      },
      "source": [
        ""
      ],
      "execution_count": 0,
      "outputs": []
    },
    {
      "cell_type": "code",
      "metadata": {
        "id": "wIF-elenBwmK",
        "colab_type": "code",
        "colab": {}
      },
      "source": [
        ""
      ],
      "execution_count": 0,
      "outputs": []
    },
    {
      "cell_type": "code",
      "metadata": {
        "id": "S4V2M2hDAUmh",
        "colab_type": "code",
        "colab": {}
      },
      "source": [
        ""
      ],
      "execution_count": 0,
      "outputs": []
    },
    {
      "cell_type": "code",
      "metadata": {
        "id": "fryYeB5wAXd5",
        "colab_type": "code",
        "colab": {}
      },
      "source": [
        ""
      ],
      "execution_count": 0,
      "outputs": []
    },
    {
      "cell_type": "code",
      "metadata": {
        "id": "Sz0hjgMaIjeH",
        "colab_type": "code",
        "colab": {}
      },
      "source": [
        ""
      ],
      "execution_count": 0,
      "outputs": []
    },
    {
      "cell_type": "code",
      "metadata": {
        "id": "edPjApwEIyNC",
        "colab_type": "code",
        "colab": {}
      },
      "source": [
        ""
      ],
      "execution_count": 0,
      "outputs": []
    }
  ]
}