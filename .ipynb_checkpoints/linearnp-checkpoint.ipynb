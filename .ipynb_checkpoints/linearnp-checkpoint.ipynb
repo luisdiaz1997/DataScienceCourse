{
 "cells": [
  {
   "cell_type": "code",
   "execution_count": 1,
   "metadata": {},
   "outputs": [],
   "source": [
    "import numpy as np\n",
    "import pandas as pd\n",
    "import matplotlib.pyplot as plt"
   ]
  },
  {
   "cell_type": "code",
   "execution_count": 2,
   "metadata": {},
   "outputs": [],
   "source": [
    "data_url = \"https://download.mlcc.google.com/mledu-datasets/california_housing_train.csv\""
   ]
  },
  {
   "cell_type": "markdown",
   "metadata": {},
   "source": [
    "## Load the Dataset"
   ]
  },
  {
   "cell_type": "code",
   "execution_count": 3,
   "metadata": {},
   "outputs": [
    {
     "data": {
      "text/html": [
       "<div>\n",
       "<style scoped>\n",
       "    .dataframe tbody tr th:only-of-type {\n",
       "        vertical-align: middle;\n",
       "    }\n",
       "\n",
       "    .dataframe tbody tr th {\n",
       "        vertical-align: top;\n",
       "    }\n",
       "\n",
       "    .dataframe thead th {\n",
       "        text-align: right;\n",
       "    }\n",
       "</style>\n",
       "<table border=\"1\" class=\"dataframe\">\n",
       "  <thead>\n",
       "    <tr style=\"text-align: right;\">\n",
       "      <th></th>\n",
       "      <th>longitude</th>\n",
       "      <th>latitude</th>\n",
       "      <th>housing_median_age</th>\n",
       "      <th>total_rooms</th>\n",
       "      <th>total_bedrooms</th>\n",
       "      <th>population</th>\n",
       "      <th>households</th>\n",
       "      <th>median_income</th>\n",
       "      <th>median_house_value</th>\n",
       "    </tr>\n",
       "  </thead>\n",
       "  <tbody>\n",
       "    <tr>\n",
       "      <th>0</th>\n",
       "      <td>-114.31</td>\n",
       "      <td>34.19</td>\n",
       "      <td>15.0</td>\n",
       "      <td>5612.0</td>\n",
       "      <td>1283.0</td>\n",
       "      <td>1015.0</td>\n",
       "      <td>472.0</td>\n",
       "      <td>1.4936</td>\n",
       "      <td>66900.0</td>\n",
       "    </tr>\n",
       "    <tr>\n",
       "      <th>1</th>\n",
       "      <td>-114.47</td>\n",
       "      <td>34.40</td>\n",
       "      <td>19.0</td>\n",
       "      <td>7650.0</td>\n",
       "      <td>1901.0</td>\n",
       "      <td>1129.0</td>\n",
       "      <td>463.0</td>\n",
       "      <td>1.8200</td>\n",
       "      <td>80100.0</td>\n",
       "    </tr>\n",
       "    <tr>\n",
       "      <th>2</th>\n",
       "      <td>-114.56</td>\n",
       "      <td>33.69</td>\n",
       "      <td>17.0</td>\n",
       "      <td>720.0</td>\n",
       "      <td>174.0</td>\n",
       "      <td>333.0</td>\n",
       "      <td>117.0</td>\n",
       "      <td>1.6509</td>\n",
       "      <td>85700.0</td>\n",
       "    </tr>\n",
       "    <tr>\n",
       "      <th>3</th>\n",
       "      <td>-114.57</td>\n",
       "      <td>33.64</td>\n",
       "      <td>14.0</td>\n",
       "      <td>1501.0</td>\n",
       "      <td>337.0</td>\n",
       "      <td>515.0</td>\n",
       "      <td>226.0</td>\n",
       "      <td>3.1917</td>\n",
       "      <td>73400.0</td>\n",
       "    </tr>\n",
       "    <tr>\n",
       "      <th>4</th>\n",
       "      <td>-114.57</td>\n",
       "      <td>33.57</td>\n",
       "      <td>20.0</td>\n",
       "      <td>1454.0</td>\n",
       "      <td>326.0</td>\n",
       "      <td>624.0</td>\n",
       "      <td>262.0</td>\n",
       "      <td>1.9250</td>\n",
       "      <td>65500.0</td>\n",
       "    </tr>\n",
       "  </tbody>\n",
       "</table>\n",
       "</div>"
      ],
      "text/plain": [
       "   longitude  latitude  housing_median_age  total_rooms  total_bedrooms  \\\n",
       "0    -114.31     34.19                15.0       5612.0          1283.0   \n",
       "1    -114.47     34.40                19.0       7650.0          1901.0   \n",
       "2    -114.56     33.69                17.0        720.0           174.0   \n",
       "3    -114.57     33.64                14.0       1501.0           337.0   \n",
       "4    -114.57     33.57                20.0       1454.0           326.0   \n",
       "\n",
       "   population  households  median_income  median_house_value  \n",
       "0      1015.0       472.0         1.4936             66900.0  \n",
       "1      1129.0       463.0         1.8200             80100.0  \n",
       "2       333.0       117.0         1.6509             85700.0  \n",
       "3       515.0       226.0         3.1917             73400.0  \n",
       "4       624.0       262.0         1.9250             65500.0  "
      ]
     },
     "execution_count": 3,
     "metadata": {},
     "output_type": "execute_result"
    }
   ],
   "source": [
    "df = pd.read_csv(data_url, sep=\",\")\n",
    "df.head()"
   ]
  },
  {
   "cell_type": "markdown",
   "metadata": {},
   "source": [
    "## Let's find correlations within the data"
   ]
  },
  {
   "cell_type": "code",
   "execution_count": 4,
   "metadata": {},
   "outputs": [
    {
     "data": {
      "text/html": [
       "<div>\n",
       "<style scoped>\n",
       "    .dataframe tbody tr th:only-of-type {\n",
       "        vertical-align: middle;\n",
       "    }\n",
       "\n",
       "    .dataframe tbody tr th {\n",
       "        vertical-align: top;\n",
       "    }\n",
       "\n",
       "    .dataframe thead th {\n",
       "        text-align: right;\n",
       "    }\n",
       "</style>\n",
       "<table border=\"1\" class=\"dataframe\">\n",
       "  <thead>\n",
       "    <tr style=\"text-align: right;\">\n",
       "      <th></th>\n",
       "      <th>longitude</th>\n",
       "      <th>latitude</th>\n",
       "      <th>housing_median_age</th>\n",
       "      <th>total_rooms</th>\n",
       "      <th>total_bedrooms</th>\n",
       "      <th>population</th>\n",
       "      <th>households</th>\n",
       "      <th>median_income</th>\n",
       "      <th>median_house_value</th>\n",
       "    </tr>\n",
       "  </thead>\n",
       "  <tbody>\n",
       "    <tr>\n",
       "      <th>longitude</th>\n",
       "      <td>1.000000</td>\n",
       "      <td>-0.925208</td>\n",
       "      <td>-0.114250</td>\n",
       "      <td>0.047010</td>\n",
       "      <td>0.071802</td>\n",
       "      <td>0.101674</td>\n",
       "      <td>0.059628</td>\n",
       "      <td>-0.015485</td>\n",
       "      <td>-0.044982</td>\n",
       "    </tr>\n",
       "    <tr>\n",
       "      <th>latitude</th>\n",
       "      <td>-0.925208</td>\n",
       "      <td>1.000000</td>\n",
       "      <td>0.016454</td>\n",
       "      <td>-0.038773</td>\n",
       "      <td>-0.069373</td>\n",
       "      <td>-0.111261</td>\n",
       "      <td>-0.074902</td>\n",
       "      <td>-0.080303</td>\n",
       "      <td>-0.144917</td>\n",
       "    </tr>\n",
       "    <tr>\n",
       "      <th>housing_median_age</th>\n",
       "      <td>-0.114250</td>\n",
       "      <td>0.016454</td>\n",
       "      <td>1.000000</td>\n",
       "      <td>-0.360984</td>\n",
       "      <td>-0.320434</td>\n",
       "      <td>-0.295890</td>\n",
       "      <td>-0.302754</td>\n",
       "      <td>-0.115932</td>\n",
       "      <td>0.106758</td>\n",
       "    </tr>\n",
       "    <tr>\n",
       "      <th>total_rooms</th>\n",
       "      <td>0.047010</td>\n",
       "      <td>-0.038773</td>\n",
       "      <td>-0.360984</td>\n",
       "      <td>1.000000</td>\n",
       "      <td>0.928403</td>\n",
       "      <td>0.860170</td>\n",
       "      <td>0.919018</td>\n",
       "      <td>0.195383</td>\n",
       "      <td>0.130991</td>\n",
       "    </tr>\n",
       "    <tr>\n",
       "      <th>total_bedrooms</th>\n",
       "      <td>0.071802</td>\n",
       "      <td>-0.069373</td>\n",
       "      <td>-0.320434</td>\n",
       "      <td>0.928403</td>\n",
       "      <td>1.000000</td>\n",
       "      <td>0.881169</td>\n",
       "      <td>0.980920</td>\n",
       "      <td>-0.013495</td>\n",
       "      <td>0.045783</td>\n",
       "    </tr>\n",
       "    <tr>\n",
       "      <th>population</th>\n",
       "      <td>0.101674</td>\n",
       "      <td>-0.111261</td>\n",
       "      <td>-0.295890</td>\n",
       "      <td>0.860170</td>\n",
       "      <td>0.881169</td>\n",
       "      <td>1.000000</td>\n",
       "      <td>0.909247</td>\n",
       "      <td>-0.000638</td>\n",
       "      <td>-0.027850</td>\n",
       "    </tr>\n",
       "    <tr>\n",
       "      <th>households</th>\n",
       "      <td>0.059628</td>\n",
       "      <td>-0.074902</td>\n",
       "      <td>-0.302754</td>\n",
       "      <td>0.919018</td>\n",
       "      <td>0.980920</td>\n",
       "      <td>0.909247</td>\n",
       "      <td>1.000000</td>\n",
       "      <td>0.007644</td>\n",
       "      <td>0.061031</td>\n",
       "    </tr>\n",
       "    <tr>\n",
       "      <th>median_income</th>\n",
       "      <td>-0.015485</td>\n",
       "      <td>-0.080303</td>\n",
       "      <td>-0.115932</td>\n",
       "      <td>0.195383</td>\n",
       "      <td>-0.013495</td>\n",
       "      <td>-0.000638</td>\n",
       "      <td>0.007644</td>\n",
       "      <td>1.000000</td>\n",
       "      <td>0.691871</td>\n",
       "    </tr>\n",
       "    <tr>\n",
       "      <th>median_house_value</th>\n",
       "      <td>-0.044982</td>\n",
       "      <td>-0.144917</td>\n",
       "      <td>0.106758</td>\n",
       "      <td>0.130991</td>\n",
       "      <td>0.045783</td>\n",
       "      <td>-0.027850</td>\n",
       "      <td>0.061031</td>\n",
       "      <td>0.691871</td>\n",
       "      <td>1.000000</td>\n",
       "    </tr>\n",
       "  </tbody>\n",
       "</table>\n",
       "</div>"
      ],
      "text/plain": [
       "                    longitude  latitude  housing_median_age  total_rooms  \\\n",
       "longitude            1.000000 -0.925208           -0.114250     0.047010   \n",
       "latitude            -0.925208  1.000000            0.016454    -0.038773   \n",
       "housing_median_age  -0.114250  0.016454            1.000000    -0.360984   \n",
       "total_rooms          0.047010 -0.038773           -0.360984     1.000000   \n",
       "total_bedrooms       0.071802 -0.069373           -0.320434     0.928403   \n",
       "population           0.101674 -0.111261           -0.295890     0.860170   \n",
       "households           0.059628 -0.074902           -0.302754     0.919018   \n",
       "median_income       -0.015485 -0.080303           -0.115932     0.195383   \n",
       "median_house_value  -0.044982 -0.144917            0.106758     0.130991   \n",
       "\n",
       "                    total_bedrooms  population  households  median_income  \\\n",
       "longitude                 0.071802    0.101674    0.059628      -0.015485   \n",
       "latitude                 -0.069373   -0.111261   -0.074902      -0.080303   \n",
       "housing_median_age       -0.320434   -0.295890   -0.302754      -0.115932   \n",
       "total_rooms               0.928403    0.860170    0.919018       0.195383   \n",
       "total_bedrooms            1.000000    0.881169    0.980920      -0.013495   \n",
       "population                0.881169    1.000000    0.909247      -0.000638   \n",
       "households                0.980920    0.909247    1.000000       0.007644   \n",
       "median_income            -0.013495   -0.000638    0.007644       1.000000   \n",
       "median_house_value        0.045783   -0.027850    0.061031       0.691871   \n",
       "\n",
       "                    median_house_value  \n",
       "longitude                    -0.044982  \n",
       "latitude                     -0.144917  \n",
       "housing_median_age            0.106758  \n",
       "total_rooms                   0.130991  \n",
       "total_bedrooms                0.045783  \n",
       "population                   -0.027850  \n",
       "households                    0.061031  \n",
       "median_income                 0.691871  \n",
       "median_house_value            1.000000  "
      ]
     },
     "execution_count": 4,
     "metadata": {},
     "output_type": "execute_result"
    }
   ],
   "source": [
    "corr =df.corr(method = 'pearson')\n",
    "corr"
   ]
  },
  {
   "cell_type": "markdown",
   "metadata": {},
   "source": [
    "## Let's plot them nicely"
   ]
  },
  {
   "cell_type": "code",
   "execution_count": 5,
   "metadata": {},
   "outputs": [
    {
     "data": {
      "image/png": "[encoded data removed]",
      "text/plain": [
       "<Figure size 864x864 with 2 Axes>"
      ]
     },
     "metadata": {
      "needs_background": "light"
     },
     "output_type": "display_data"
    }
   ],
   "source": [
    "plt.figure(figsize = (12, 12))\n",
    "plt.imshow(np.abs(corr), cmap = 'coolwarm', vmin = 0, vmax = 1)\n",
    "plt.colorbar()\n",
    "ticks = np.arange(0, len(corr), 1)\n",
    "plt.xticks(ticks, labels = corr.columns, rotation = 90)\n",
    "plt.yticks(ticks, labels = corr.columns)\n",
    "\n",
    "for i in ticks:\n",
    "    for j in ticks:\n",
    "        plt.text(i, j, np.round(np.abs(corr.iloc[i, j]), 2), ha = 'center', va = 'center', color = 'w')\n",
    "plt.title('Pearson Correlations');"
   ]
  },
  {
   "cell_type": "markdown",
   "metadata": {},
   "source": [
    "# Let's do households vs total rooms"
   ]
  },
  {
   "cell_type": "code",
   "execution_count": 6,
   "metadata": {},
   "outputs": [],
   "source": [
    "x = df.households.values.reshape(-1, 1)\n",
    "y = df.total_rooms.values.reshape(-1,1)"
   ]
  },
  {
   "cell_type": "code",
   "execution_count": 7,
   "metadata": {},
   "outputs": [
    {
     "data": {
      "image/png": "[encoded data removed]",
      "text/plain": [
       "<Figure size 576x432 with 1 Axes>"
      ]
     },
     "metadata": {
      "needs_background": "light"
     },
     "output_type": "display_data"
    }
   ],
   "source": [
    "plt.figure(figsize=(8, 6))\n",
    "plt.scatter(x[::10], y[::10])\n",
    "plt.xlabel('Number of Households')\n",
    "plt.ylabel('Total Rooms');"
   ]
  },
  {
   "cell_type": "markdown",
   "metadata": {},
   "source": [
    "## Say that you would like to estimate the amount of rooms based on the households?"
   ]
  },
  {
   "cell_type": "markdown",
   "metadata": {},
   "source": [
    "## Let's learn from data by using logistic regression, with the following model"
   ]
  },
  {
   "cell_type": "markdown",
   "metadata": {},
   "source": [
    "$$h(x) = x w + b$$"
   ]
  },
  {
   "cell_type": "markdown",
   "metadata": {},
   "source": [
    "## Make a function that initializes parameters w and b, and returns them in a dictionary"
   ]
  },
  {
   "cell_type": "code",
   "execution_count": 8,
   "metadata": {},
   "outputs": [],
   "source": [
    "def get_params():\n",
    "    params = {\n",
    "    'W':np.random.randn(*(1, 1)),\n",
    "    'b':np.zeros((1,1))\n",
    "    }\n",
    "    return params"
   ]
  },
  {
   "cell_type": "markdown",
   "metadata": {},
   "source": [
    "## Make a function that builds your model, using your input and parameters"
   ]
  },
  {
   "cell_type": "code",
   "execution_count": 9,
   "metadata": {},
   "outputs": [],
   "source": [
    "def model(inp, params):\n",
    "    z = np.dot(inp, params['W']) + params['b']\n",
    "    return z"
   ]
  },
  {
   "cell_type": "markdown",
   "metadata": {},
   "source": [
    "## The cost function is as follows"
   ]
  },
  {
   "cell_type": "markdown",
   "metadata": {},
   "source": [
    "$$J = \\frac{1}{2M}\\sum_{} (h(x) - y)^2 $$"
   ]
  },
  {
   "cell_type": "code",
   "execution_count": 10,
   "metadata": {},
   "outputs": [],
   "source": [
    "def get_cost(inp, params):\n",
    "    return np.mean((model(inp, params) - y)**2)/2"
   ]
  },
  {
   "cell_type": "markdown",
   "metadata": {},
   "source": [
    "## We decrease this cost function by gradient descent\n",
    "### To make things easier"
   ]
  },
  {
   "cell_type": "markdown",
   "metadata": {},
   "source": [
    "$$ \\delta = h(x) - y $$"
   ]
  },
  {
   "cell_type": "markdown",
   "metadata": {},
   "source": [
    "$$J = \\frac{1}{2M}\\sum_{} (\\delta)^2 $$"
   ]
  },
  {
   "cell_type": "markdown",
   "metadata": {},
   "source": [
    "## The derivatives are as follow"
   ]
  },
  {
   "cell_type": "markdown",
   "metadata": {},
   "source": [
    "## With chain rule"
   ]
  },
  {
   "cell_type": "markdown",
   "metadata": {},
   "source": [
    "$$\\frac{\\partial J}{\\partial W} = \\frac{1}{M} \\sum_{} \\delta \\frac{\\partial \\delta}{\\partial W}$$"
   ]
  },
  {
   "cell_type": "markdown",
   "metadata": {},
   "source": [
    "$$ \\frac{\\partial \\delta}{\\partial W} = x $$"
   ]
  },
  {
   "cell_type": "markdown",
   "metadata": {},
   "source": [
    "$$\\frac{\\partial J}{\\partial W} = \\frac{1}{M}\\sum_{} \\delta x $$"
   ]
  },
  {
   "cell_type": "markdown",
   "metadata": {},
   "source": [
    "## Vectorizing we get"
   ]
  },
  {
   "cell_type": "markdown",
   "metadata": {},
   "source": [
    "$$dW=\\frac{\\partial J}{\\partial W} = \\frac{1}{M}X^T \\delta $$"
   ]
  },
  {
   "cell_type": "markdown",
   "metadata": {},
   "source": [
    "## Similarly for B, since dJ/db is 1"
   ]
  },
  {
   "cell_type": "markdown",
   "metadata": {},
   "source": [
    "$$db = \\frac{\\partial J}{\\partial b} = \\frac{1}{M}\\sum_{} \\delta $$"
   ]
  },
  {
   "cell_type": "markdown",
   "metadata": {},
   "source": [
    "## We will update the models this way, where alpha is our learning rate"
   ]
  },
  {
   "cell_type": "markdown",
   "metadata": {},
   "source": [
    "$$W=W - \\alpha dW $$"
   ]
  },
  {
   "cell_type": "markdown",
   "metadata": {},
   "source": [
    "$$b=b - \\alpha db $$"
   ]
  },
  {
   "cell_type": "markdown",
   "metadata": {},
   "source": [
    "## Let's make a dictionary to store our gradients"
   ]
  },
  {
   "cell_type": "code",
   "execution_count": 11,
   "metadata": {},
   "outputs": [],
   "source": [
    "def get_grads(params):\n",
    "    grad_dict = dict()\n",
    "    for key in params.keys():\n",
    "        grad_dict['d' + key] = np.zeros(params[key].shape)\n",
    "    return grad_dict"
   ]
  },
  {
   "cell_type": "markdown",
   "metadata": {},
   "source": [
    "## Here we are goint to train the model"
   ]
  },
  {
   "cell_type": "code",
   "execution_count": 12,
   "metadata": {},
   "outputs": [],
   "source": [
    "def train(x, y, epochs = 1000, lr= 1e-3):\n",
    "    \n",
    "    costs = []\n",
    "    params= get_params()\n",
    "    grads = get_grads(params)\n",
    "    \n",
    "    for epoch in range(epochs):\n",
    "        \n",
    "        prediction = model(x, params)\n",
    "        \n",
    "        \n",
    "        cost = get_cost(x, params)\n",
    "        \n",
    "        error = (prediction-y)/y.shape[0]\n",
    "        grads['dW'] = np.dot(x.T, error)\n",
    "        grads['db'] = np.sum(error, axis = 0, keepdims = True)\n",
    "        \n",
    "        for key in params.keys():\n",
    "             params[key]-= lr* grads['d' + key]\n",
    "        \n",
    "        if epoch%100 == 0:\n",
    "            print('Error at epoch ' + str(epoch), cost)\n",
    "        \n",
    "        if epoch%5 == 0:\n",
    "            costs.append(cost)\n",
    "    \n",
    "    return costs, params"
   ]
  },
  {
   "cell_type": "code",
   "execution_count": 13,
   "metadata": {},
   "outputs": [
    {
     "name": "stdout",
     "output_type": "stream",
     "text": [
      "Error at epoch 0 5976841.5121461805\n",
      "Error at epoch 100 2889655.54319637\n",
      "Error at epoch 200 1502132.9249632352\n",
      "Error at epoch 300 878516.7788660323\n",
      "Error at epoch 400 598235.1512928127\n",
      "Error at epoch 500 472263.76444906084\n",
      "Error at epoch 600 415646.45973009255\n",
      "Error at epoch 700 390200.05257847905\n",
      "Error at epoch 800 378763.27291218203\n",
      "Error at epoch 900 373623.06080070965\n"
     ]
    }
   ],
   "source": [
    "costs, params = train(x, y, lr= 1e-8)"
   ]
  },
  {
   "cell_type": "code",
   "execution_count": 14,
   "metadata": {},
   "outputs": [
    {
     "data": {
      "text/plain": [
       "[<matplotlib.lines.Line2D at 0x11bfb2748>]"
      ]
     },
     "execution_count": 14,
     "metadata": {},
     "output_type": "execute_result"
    },
    {
     "data": {
      "image/png": "[encoded data removed]",
      "text/plain": [
       "<Figure size 432x288 with 1 Axes>"
      ]
     },
     "metadata": {
      "needs_background": "light"
     },
     "output_type": "display_data"
    }
   ],
   "source": [
    "plt.plot(costs)"
   ]
  },
  {
   "cell_type": "code",
   "execution_count": 15,
   "metadata": {},
   "outputs": [],
   "source": [
    "prediction = model(x, params)"
   ]
  },
  {
   "cell_type": "code",
   "execution_count": 16,
   "metadata": {},
   "outputs": [
    {
     "data": {
      "image/png": "[encoded data removed]",
      "text/plain": [
       "<Figure size 432x288 with 1 Axes>"
      ]
     },
     "metadata": {
      "needs_background": "light"
     },
     "output_type": "display_data"
    }
   ],
   "source": [
    "plt.scatter(x[::100], y[::100])\n",
    "plt.scatter(x[::100], prediction[::100])\n",
    "plt.xlabel('Households')\n",
    "plt.ylabel('Rooms');"
   ]
  },
  {
   "cell_type": "code",
   "execution_count": 17,
   "metadata": {},
   "outputs": [
    {
     "data": {
      "text/plain": [
       "{'W': array([[5.15339229]]), 'b': array([[0.00665536]])}"
      ]
     },
     "execution_count": 17,
     "metadata": {},
     "output_type": "execute_result"
    }
   ],
   "source": [
    "params"
   ]
  }
 ],
 "metadata": {
  "kernelspec": {
   "display_name": "Python 3",
   "language": "python",
   "name": "python3"
  },
  "language_info": {
   "codemirror_mode": {
    "name": "ipython",
    "version": 3
   },
   "file_extension": ".py",
   "mimetype": "text/x-python",
   "name": "python",
   "nbconvert_exporter": "python",
   "pygments_lexer": "ipython3",
   "version": "3.7.0"
  }
 },
 "nbformat": 4,
 "nbformat_minor": 4
}
