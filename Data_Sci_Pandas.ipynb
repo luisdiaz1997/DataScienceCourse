{
  "nbformat": 4,
  "nbformat_minor": 0,
  "metadata": {
    "colab": {
      "name": "Data Sci Pandas",
      "provenance": [],
      "collapsed_sections": [],
      "include_colab_link": true
    },
    "kernelspec": {
      "name": "python3",
      "display_name": "Python 3"
    }
  },
  "cells": [
    {
      "cell_type": "markdown",
      "metadata": {
        "id": "view-in-github",
        "colab_type": "text"
      },
      "source": [
        "<a href=\"https://colab.research.google.com/github/luisdiaz1997/DataScienceCourse/blob/master/Data_Sci_Pandas.ipynb\" target=\"_parent\"><img src=\"https://colab.research.google.com/assets/colab-badge.svg\" alt=\"Open In Colab\"/></a>"
      ]
    },
    {
      "cell_type": "markdown",
      "metadata": {
        "id": "8ZG3RSMEG_QU",
        "colab_type": "text"
      },
      "source": [
        "# PACKAGES \n",
        "\n",
        "There are tools you can download into your code to implement. Think of these like your toolbox, to create plots, analyze data, and "
      ]
    },
    {
      "cell_type": "code",
      "metadata": {
        "id": "RAKk3_pBjh4E",
        "colab_type": "code",
        "colab": {}
      },
      "source": [
        ""
      ],
      "execution_count": 0,
      "outputs": []
    },
    {
      "cell_type": "markdown",
      "metadata": {
        "id": "HRi-8zH1HC2M",
        "colab_type": "text"
      },
      "source": [
        "# IMPORT DATA\n",
        "\n",
        "Pd. - pandas : used for data manipulation and analysis \n",
        "\n",
        "pd.read_csv({dataframe}) \n",
        "\n",
        "variables : a way to name your values to refer to them "
      ]
    },
    {
      "cell_type": "code",
      "metadata": {
        "id": "-dTA8yZkkPKd",
        "colab_type": "code",
        "colab": {}
      },
      "source": [
        "url_link = \"https://raw.githubusercontent.com/luisdiaz1997/Python-Lessons/master/IMDB-Movie-Data.csv\""
      ],
      "execution_count": 0,
      "outputs": []
    },
    {
      "cell_type": "code",
      "metadata": {
        "id": "winxLCpdU550",
        "colab_type": "code",
        "colab": {}
      },
      "source": [
        ""
      ],
      "execution_count": 0,
      "outputs": []
    },
    {
      "cell_type": "markdown",
      "metadata": {
        "id": "jseXO1XqZ42H",
        "colab_type": "text"
      },
      "source": [
        "# Google \n",
        "\n",
        "how can you view the first five lines of the dataframe?  "
      ]
    },
    {
      "cell_type": "code",
      "metadata": {
        "id": "LonoOeLIH_it",
        "colab_type": "code",
        "colab": {}
      },
      "source": [
        ""
      ],
      "execution_count": 0,
      "outputs": []
    },
    {
      "cell_type": "markdown",
      "metadata": {
        "id": "5I1ACp7VXgCp",
        "colab_type": "text"
      },
      "source": [
        "## How we can access rows?"
      ]
    },
    {
      "cell_type": "code",
      "metadata": {
        "id": "80tX4SoUH7DD",
        "colab_type": "code",
        "colab": {}
      },
      "source": [
        ""
      ],
      "execution_count": 0,
      "outputs": []
    },
    {
      "cell_type": "markdown",
      "metadata": {
        "id": "3Q7xuTZ5m7N7",
        "colab_type": "text"
      },
      "source": [
        "## How we can access multiple rows?"
      ]
    },
    {
      "cell_type": "code",
      "metadata": {
        "id": "Twnz7qjuH7lA",
        "colab_type": "code",
        "colab": {}
      },
      "source": [
        ""
      ],
      "execution_count": 0,
      "outputs": []
    },
    {
      "cell_type": "markdown",
      "metadata": {
        "id": "1CZUhL_CjT7l",
        "colab_type": "text"
      },
      "source": [
        "##Accessing Columns\n",
        "there are two ways to do this, \n",
        "using df, and the exact name, or iloc"
      ]
    },
    {
      "cell_type": "code",
      "metadata": {
        "id": "jHMPmhinH8K5",
        "colab_type": "code",
        "colab": {}
      },
      "source": [
        ""
      ],
      "execution_count": 0,
      "outputs": []
    },
    {
      "cell_type": "markdown",
      "metadata": {
        "id": "pceAut44C9UY",
        "colab_type": "text"
      },
      "source": [
        "## Get the movies released 2015"
      ]
    },
    {
      "cell_type": "code",
      "metadata": {
        "id": "vZTCXyCGQT3x",
        "colab_type": "code",
        "colab": {}
      },
      "source": [
        ""
      ],
      "execution_count": 0,
      "outputs": []
    },
    {
      "cell_type": "code",
      "metadata": {
        "id": "P9zRe81rVkkw",
        "colab_type": "code",
        "colab": {}
      },
      "source": [
        ""
      ],
      "execution_count": 0,
      "outputs": []
    },
    {
      "cell_type": "markdown",
      "metadata": {
        "id": "b4l7-tCtLOd9",
        "colab_type": "text"
      },
      "source": [
        "##Get the movies with a rating higher than 8"
      ]
    },
    {
      "cell_type": "code",
      "metadata": {
        "id": "Q1sl32MFjeHY",
        "colab_type": "code",
        "colab": {}
      },
      "source": [
        ""
      ],
      "execution_count": 0,
      "outputs": []
    },
    {
      "cell_type": "markdown",
      "metadata": {
        "id": "fH1akRxwJEzF",
        "colab_type": "text"
      },
      "source": [
        "## Get the movies with a rating higher than 7 and released 2014"
      ]
    },
    {
      "cell_type": "code",
      "metadata": {
        "id": "clprus-tJEAe",
        "colab_type": "code",
        "colab": {}
      },
      "source": [
        ""
      ],
      "execution_count": 0,
      "outputs": []
    },
    {
      "cell_type": "markdown",
      "metadata": {
        "id": "5ZFjmhtokyQv",
        "colab_type": "text"
      },
      "source": [
        "##What was the maximum length of movies?"
      ]
    },
    {
      "cell_type": "code",
      "metadata": {
        "id": "HYPcnhKRkJNL",
        "colab_type": "code",
        "colab": {}
      },
      "source": [
        ""
      ],
      "execution_count": 0,
      "outputs": []
    },
    {
      "cell_type": "markdown",
      "metadata": {
        "id": "Yj09fzuJL1rT",
        "colab_type": "text"
      },
      "source": [
        "## What was the maximum duration of the movies in 2014?"
      ]
    },
    {
      "cell_type": "code",
      "metadata": {
        "id": "gXGMtrNpj0Wj",
        "colab_type": "code",
        "colab": {}
      },
      "source": [
        ""
      ],
      "execution_count": 0,
      "outputs": []
    },
    {
      "cell_type": "code",
      "metadata": {
        "id": "EjFkbkLcj0ha",
        "colab_type": "code",
        "colab": {}
      },
      "source": [
        ""
      ],
      "execution_count": 0,
      "outputs": []
    },
    {
      "cell_type": "markdown",
      "metadata": {
        "id": "onQ4cHuYlcZW",
        "colab_type": "text"
      },
      "source": [
        "##What was the average duration of movies in 2015?"
      ]
    },
    {
      "cell_type": "code",
      "metadata": {
        "id": "1x1lrOjalkoO",
        "colab_type": "code",
        "colab": {}
      },
      "source": [
        ""
      ],
      "execution_count": 0,
      "outputs": []
    },
    {
      "cell_type": "code",
      "metadata": {
        "id": "LFNHNqQYlk88",
        "colab_type": "code",
        "colab": {}
      },
      "source": [
        ""
      ],
      "execution_count": 0,
      "outputs": []
    },
    {
      "cell_type": "markdown",
      "metadata": {
        "id": "8eJhxWzvjora",
        "colab_type": "text"
      },
      "source": [
        "#Challenge Question\n",
        "\n",
        "##In the year 2016, what was the average rating of movies?"
      ]
    },
    {
      "cell_type": "code",
      "metadata": {
        "id": "J3fp29L4tbzn",
        "colab_type": "code",
        "colab": {}
      },
      "source": [
        ""
      ],
      "execution_count": 0,
      "outputs": []
    },
    {
      "cell_type": "code",
      "metadata": {
        "id": "fqUI2Ru51aJK",
        "colab_type": "code",
        "colab": {}
      },
      "source": [
        ""
      ],
      "execution_count": 0,
      "outputs": []
    },
    {
      "cell_type": "markdown",
      "metadata": {
        "id": "ca97wOgK1f3x",
        "colab_type": "text"
      },
      "source": [
        "\n",
        "#Challenge 2\n",
        "##What year had the highest rated movie?\n"
      ]
    },
    {
      "cell_type": "code",
      "metadata": {
        "id": "IeWobn6X1hIp",
        "colab_type": "code",
        "colab": {}
      },
      "source": [
        ""
      ],
      "execution_count": 0,
      "outputs": []
    }
  ]
}