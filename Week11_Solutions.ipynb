{
  "nbformat": 4,
  "nbformat_minor": 0,
  "metadata": {
    "colab": {
      "name": "Week11_Solutions.ipynb",
      "provenance": [],
      "collapsed_sections": [],
      "include_colab_link": true
    },
    "kernelspec": {
      "name": "python3",
      "display_name": "Python 3"
    }
  },
  "cells": [
    {
      "cell_type": "markdown",
      "metadata": {
        "id": "view-in-github",
        "colab_type": "text"
      },
      "source": [
        "<a href=\"https://colab.research.google.com/github/luisdiaz1997/DataScienceCourse/blob/master/Week11_Solutions.ipynb\" target=\"_parent\"><img src=\"https://colab.research.google.com/assets/colab-badge.svg\" alt=\"Open In Colab\"/></a>"
      ]
    },
    {
      "cell_type": "code",
      "metadata": {
        "id": "YCEjlhd2cG9K",
        "colab_type": "code",
        "colab": {}
      },
      "source": [
        "import numpy as np\n",
        "import pandas as pd\n",
        "import plotly.express as px\n",
        "import tensorflow.keras as keras\n",
        "import matplotlib.pyplot as plt"
      ],
      "execution_count": 0,
      "outputs": []
    },
    {
      "cell_type": "markdown",
      "metadata": {
        "id": "jcD5fB0udVP6",
        "colab_type": "text"
      },
      "source": [
        ">$\n",
        "A = \\begin{pmatrix}\n",
        "  A_{11}&A_{12} \\\\\n",
        "  A_{21}&A_{22}\n",
        " \\end{pmatrix}\n",
        " =\n",
        " \\begin{pmatrix}\n",
        "  \\vec{A_1} \\\\\n",
        "  \\vec{A_2}\n",
        " \\end{pmatrix}\n",
        " $\n",
        "\n",
        " >$\n",
        "V = \\begin{pmatrix}\n",
        "  V_{11}& V_{12} \\\\\n",
        "  V_{21}& V_{22}\n",
        " \\end{pmatrix}\n",
        " =\n",
        " \\begin{pmatrix}\n",
        "  \\vec{V_1}& \\vec{V_2}\n",
        " \\end{pmatrix}\n",
        " $"
      ]
    },
    {
      "cell_type": "code",
      "metadata": {
        "id": "KO_DCRtWZ2wH",
        "colab_type": "code",
        "outputId": "686a1d6a-2235-42ac-dcf0-3dd421eec30a",
        "colab": {
          "base_uri": "https://localhost:8080/",
          "height": 115
        }
      },
      "source": [
        "A = np.array([[1, 3], [3, 1]])\n",
        "V = np.array([[1, -1], [1, 1]])/np.sqrt(2)\n",
        "print('A:\\n', A, '\\nV:\\n',V)"
      ],
      "execution_count": 2,
      "outputs": [
        {
          "output_type": "stream",
          "text": [
            "A:\n",
            " [[1 3]\n",
            " [3 1]] \n",
            "V:\n",
            " [[ 0.70710678 -0.70710678]\n",
            " [ 0.70710678  0.70710678]]\n"
          ],
          "name": "stdout"
        }
      ]
    },
    {
      "cell_type": "code",
      "metadata": {
        "id": "ljLlnLelac1A",
        "colab_type": "code",
        "outputId": "43420dcb-871e-4a33-de6b-78756b0b8bf9",
        "colab": {
          "base_uri": "https://localhost:8080/",
          "height": 284
        }
      },
      "source": [
        "plt.figure(1, figsize= (4, 4))\n",
        "plt.arrow(0, 0 , V[0,0], V[1,0], head_width=0.2, head_length=0.1, color= 'blue')\n",
        "plt.arrow(0, 0 , V[0,1], V[1, 1], head_width=0.2, head_length=0.1, color= 'blue')\n",
        "plt.arrow(0, 0 , A[0,0], A[0, 1], head_width=0.2, head_length=0.1, color = 'red')\n",
        "\n",
        "plt.xlim([-4, 4])\n",
        "plt.ylim([-4, 4])"
      ],
      "execution_count": 3,
      "outputs": [
        {
          "output_type": "execute_result",
          "data": {
            "text/plain": [
              "(-4.0, 4.0)"
            ]
          },
          "metadata": {
            "tags": []
          },
          "execution_count": 3
        },
        {
          "output_type": "display_data",
          "data": {
            "image/png": "[encoded data removed]",
            "text/plain": [
              "<Figure size 288x288 with 1 Axes>"
            ]
          },
          "metadata": {
            "tags": [],
            "needs_background": "light"
          }
        }
      ]
    },
    {
      "cell_type": "markdown",
      "metadata": {
        "id": "NJ1IoNGzi_sQ",
        "colab_type": "text"
      },
      "source": [
        ">$\n",
        "AV =\n",
        " \\begin{pmatrix}\n",
        "  A_{11}&A_{12} \\\\\n",
        "  A_{21}&A_{22}\n",
        " \\end{pmatrix}\n",
        " \\begin{pmatrix}\n",
        "  V_{11}& V_{12} \\\\\n",
        "  V_{21}& V_{22}\n",
        " \\end{pmatrix}\n",
        " =\n",
        " \\begin{pmatrix}\n",
        "  A_{11}V_{11} + A_{12}V_{21} & A_{11}V_{12} + A_{12}V_{22}\\\\\n",
        "  A_{21}V_{11} + A_{22}V_{21} & A_{21}V_{12} + A_{22}V_{22}\n",
        " \\end{pmatrix}\n",
        "$\n",
        "\n",
        ">$\n",
        "AV =\n",
        " \\begin{pmatrix}\n",
        "  \\vec{A_1} \\\\\n",
        "  \\vec{A_2}\n",
        " \\end{pmatrix}\n",
        " \\begin{pmatrix}\n",
        "  \\vec{V_1}& \\vec{V_2}\n",
        " \\end{pmatrix}\n",
        " =\n",
        " \\begin{pmatrix}\n",
        "  \\vec{A_1} \\cdot  \\vec{V_1} & \\vec{A_1} \\cdot  \\vec{V_2}\\\\\n",
        "  \\vec{A_2} \\cdot  \\vec{V_1} & \\vec{A_2} \\cdot  \\vec{V_2}\n",
        " \\end{pmatrix}\n",
        "$\n",
        "\n",
        ">$\n",
        "= \\begin{pmatrix}\n",
        "  Proj{{A_1}_{V_1}} & Proj{{A_1}_{V_2}} \\\\\n",
        "  Proj{{A_2}_{V_1}} & Proj{{A_2}_{V_2}}\n",
        " \\end{pmatrix}\n",
        " = \n",
        " \\begin{pmatrix}\n",
        "  \\vec{Z_1} \\\\\n",
        "  \\vec{Z_2}\n",
        " \\end{pmatrix}\n",
        "$\n"
      ]
    },
    {
      "cell_type": "code",
      "metadata": {
        "id": "ejW2Bb8vsCiR",
        "colab_type": "code",
        "colab": {}
      },
      "source": [
        "Z = np.dot(A, V)"
      ],
      "execution_count": 0,
      "outputs": []
    },
    {
      "cell_type": "code",
      "metadata": {
        "id": "ybfgmbfxrex9",
        "colab_type": "code",
        "outputId": "2449fd15-8975-4ef9-ab72-328e88e1d904",
        "colab": {
          "base_uri": "https://localhost:8080/"
        }
      },
      "source": [
        "plt.figure(2, figsize= (4, 4))\n",
        "plt.arrow(0, 0 , V[0,0], V[1,0], head_width=0.2, head_length=0.1, color= 'blue')\n",
        "plt.arrow(0, 0 , V[0,1], V[1, 1], head_width=0.2, head_length=0.1, color= 'blue')\n",
        "plt.arrow(0, 0 , A[0,0], A[0, 1], head_width=0.2, head_length=0.1, color = 'red')\n",
        "\n",
        "plt.arrow(0, 0 , Z[0,0], Z[0, 1], head_width=0.2, head_length=0.1, color = 'green')\n",
        "\n",
        "plt.xlim([-4, 4])\n",
        "plt.ylim([-4, 4])"
      ],
      "execution_count": 5,
      "outputs": [
        {
          "output_type": "execute_result",
          "data": {
            "text/plain": [
              "(-4.0, 4.0)"
            ]
          },
          "metadata": {
            "tags": []
          },
          "execution_count": 5
        },
        {
          "output_type": "display_data",
          "data": {
            "image/png": "[encoded data removed]",
            "text/plain": [
              "<Figure size 288x288 with 1 Axes>"
            ]
          },
          "metadata": {
            "tags": [],
            "needs_background": "light"
          }
        }
      ]
    },
    {
      "cell_type": "code",
      "metadata": {
        "id": "R_Gvs3WLghhX",
        "colab_type": "code",
        "outputId": "799db1f2-9256-4dda-dbfd-a99d75087bf5",
        "colab": {
          "base_uri": "https://localhost:8080/"
        }
      },
      "source": [
        "plt.figure(3, figsize= (4, 4))\n",
        "plt.arrow(0, 0 , V[0,0], V[1,0], head_width=0.2, head_length=0.1, color= 'blue')\n",
        "plt.arrow(0, 0 , V[0,1], V[1, 1], head_width=0.2, head_length=0.1, color= 'blue')\n",
        "plt.arrow(0, 0 , A[0,0], A[0, 1], head_width=0.2, head_length=0.1, color = 'red')\n",
        "plt.arrow(0, 0 , A[1,0], A[1, 1], head_width=0.2, head_length=0.1, color = 'red')\n",
        "\n",
        "plt.arrow(0, 0 , Z[0,0], Z[0, 1], head_width=0.2, head_length=0.1, color = 'green')\n",
        "plt.arrow(0, 0 , Z[1,0], Z[1, 1], head_width=0.2, head_length=0.1, color = 'green')\n",
        "\n",
        "\n",
        "plt.xlim([-4, 4])\n",
        "plt.ylim([-4, 4])"
      ],
      "execution_count": 6,
      "outputs": [
        {
          "output_type": "execute_result",
          "data": {
            "text/plain": [
              "(-4.0, 4.0)"
            ]
          },
          "metadata": {
            "tags": []
          },
          "execution_count": 6
        },
        {
          "output_type": "display_data",
          "data": {
            "image/png": "[encoded data removed]",
            "text/plain": [
              "<Figure size 288x288 with 1 Axes>"
            ]
          },
          "metadata": {
            "tags": [],
            "needs_background": "light"
          }
        }
      ]
    },
    {
      "cell_type": "code",
      "metadata": {
        "id": "fBEGabf9uRfq",
        "colab_type": "code",
        "outputId": "351eeabc-abd3-4105-e013-bd8ca4aa12f6",
        "colab": {
          "base_uri": "https://localhost:8080/",
          "height": 284
        }
      },
      "source": [
        "A = np.array([[1.95, 2.05], [1.05, 0.95]])\n",
        "Z = np.dot(A, V)\n",
        "plt.figure(4, figsize= (4, 4))\n",
        "plt.arrow(0, 0 , V[0,0], V[1,0], head_width=0.2, head_length=0.1, color= 'blue')\n",
        "plt.arrow(0, 0 , V[0,1], V[1, 1], head_width=0.2, head_length=0.1, color= 'blue')\n",
        "plt.arrow(0, 0 , A[0,0], A[0, 1], head_width=0.2, head_length=0.1, color = 'red')\n",
        "plt.arrow(0, 0 , A[1,0], A[1, 1], head_width=0.2, head_length=0.1, color = 'red')\n",
        "\n",
        "plt.arrow(0, 0 , Z[0,0], Z[0, 1], head_width=0.2, head_length=0.1, color = 'green')\n",
        "plt.arrow(0, 0 , Z[1,0], Z[1, 1], head_width=0.2, head_length=0.1, color = 'green')\n",
        "\n",
        "\n",
        "plt.xlim([-4, 4])\n",
        "plt.ylim([-4, 4])"
      ],
      "execution_count": 7,
      "outputs": [
        {
          "output_type": "execute_result",
          "data": {
            "text/plain": [
              "(-4.0, 4.0)"
            ]
          },
          "metadata": {
            "tags": []
          },
          "execution_count": 7
        },
        {
          "output_type": "display_data",
          "data": {
            "image/png": "[encoded data removed]",
            "text/plain": [
              "<Figure size 288x288 with 1 Axes>"
            ]
          },
          "metadata": {
            "tags": [],
            "needs_background": "light"
          }
        }
      ]
    },
    {
      "cell_type": "code",
      "metadata": {
        "id": "8RWXFNNgu34L",
        "colab_type": "code",
        "outputId": "735eb4d2-9f1b-47dc-a357-1351578014fc",
        "colab": {
          "base_uri": "https://localhost:8080/"
        }
      },
      "source": [
        "Z"
      ],
      "execution_count": 8,
      "outputs": [
        {
          "output_type": "execute_result",
          "data": {
            "text/plain": [
              "array([[ 2.82842712,  0.07071068],\n",
              "       [ 1.41421356, -0.07071068]])"
            ]
          },
          "metadata": {
            "tags": []
          },
          "execution_count": 8
        }
      ]
    },
    {
      "cell_type": "markdown",
      "metadata": {
        "id": "cDuP7FfCxDXK",
        "colab_type": "text"
      },
      "source": [
        "[Visual PCA Link](https://setosa.io/ev/principal-component-analysis/)"
      ]
    },
    {
      "cell_type": "markdown",
      "metadata": {
        "id": "kiI9GPhu5pja",
        "colab_type": "text"
      },
      "source": [
        "#Let's look at some data"
      ]
    },
    {
      "cell_type": "code",
      "metadata": {
        "id": "Wsc3rtQGpLVZ",
        "colab_type": "code",
        "colab": {}
      },
      "source": [
        "df = px.data.iris()"
      ],
      "execution_count": 0,
      "outputs": []
    },
    {
      "cell_type": "code",
      "metadata": {
        "id": "Tg6ITe1_pN-4",
        "colab_type": "code",
        "outputId": "4a30a47f-423d-4e09-f5b9-62941c367a1f",
        "colab": {
          "base_uri": "https://localhost:8080/"
        }
      },
      "source": [
        "df.head()"
      ],
      "execution_count": 10,
      "outputs": [
        {
          "output_type": "execute_result",
          "data": {
            "text/html": [
              "<div>\n",
              "<style scoped>\n",
              "    .dataframe tbody tr th:only-of-type {\n",
              "        vertical-align: middle;\n",
              "    }\n",
              "\n",
              "    .dataframe tbody tr th {\n",
              "        vertical-align: top;\n",
              "    }\n",
              "\n",
              "    .dataframe thead th {\n",
              "        text-align: right;\n",
              "    }\n",
              "</style>\n",
              "<table border=\"1\" class=\"dataframe\">\n",
              "  <thead>\n",
              "    <tr style=\"text-align: right;\">\n",
              "      <th></th>\n",
              "      <th>sepal_length</th>\n",
              "      <th>sepal_width</th>\n",
              "      <th>petal_length</th>\n",
              "      <th>petal_width</th>\n",
              "      <th>species</th>\n",
              "      <th>species_id</th>\n",
              "    </tr>\n",
              "  </thead>\n",
              "  <tbody>\n",
              "    <tr>\n",
              "      <th>0</th>\n",
              "      <td>5.1</td>\n",
              "      <td>3.5</td>\n",
              "      <td>1.4</td>\n",
              "      <td>0.2</td>\n",
              "      <td>setosa</td>\n",
              "      <td>1</td>\n",
              "    </tr>\n",
              "    <tr>\n",
              "      <th>1</th>\n",
              "      <td>4.9</td>\n",
              "      <td>3.0</td>\n",
              "      <td>1.4</td>\n",
              "      <td>0.2</td>\n",
              "      <td>setosa</td>\n",
              "      <td>1</td>\n",
              "    </tr>\n",
              "    <tr>\n",
              "      <th>2</th>\n",
              "      <td>4.7</td>\n",
              "      <td>3.2</td>\n",
              "      <td>1.3</td>\n",
              "      <td>0.2</td>\n",
              "      <td>setosa</td>\n",
              "      <td>1</td>\n",
              "    </tr>\n",
              "    <tr>\n",
              "      <th>3</th>\n",
              "      <td>4.6</td>\n",
              "      <td>3.1</td>\n",
              "      <td>1.5</td>\n",
              "      <td>0.2</td>\n",
              "      <td>setosa</td>\n",
              "      <td>1</td>\n",
              "    </tr>\n",
              "    <tr>\n",
              "      <th>4</th>\n",
              "      <td>5.0</td>\n",
              "      <td>3.6</td>\n",
              "      <td>1.4</td>\n",
              "      <td>0.2</td>\n",
              "      <td>setosa</td>\n",
              "      <td>1</td>\n",
              "    </tr>\n",
              "  </tbody>\n",
              "</table>\n",
              "</div>"
            ],
            "text/plain": [
              "   sepal_length  sepal_width  petal_length  petal_width species  species_id\n",
              "0           5.1          3.5           1.4          0.2  setosa           1\n",
              "1           4.9          3.0           1.4          0.2  setosa           1\n",
              "2           4.7          3.2           1.3          0.2  setosa           1\n",
              "3           4.6          3.1           1.5          0.2  setosa           1\n",
              "4           5.0          3.6           1.4          0.2  setosa           1"
            ]
          },
          "metadata": {
            "tags": []
          },
          "execution_count": 10
        }
      ]
    },
    {
      "cell_type": "code",
      "metadata": {
        "id": "toXMPBNU2vPB",
        "colab_type": "code",
        "outputId": "11927616-b40b-4c30-d44d-23ffd35aa162",
        "colab": {
          "base_uri": "https://localhost:8080/"
        }
      },
      "source": [
        "fig = px.scatter_3d(df, x='sepal_length', y='sepal_width', z='petal_width',\n",
        "              color='species')\n",
        "fig.show()"
      ],
      "execution_count": 11,
      "outputs": [
        {
          "output_type": "display_data",
          "data": {
            "text/html": [
              "<html>\n",
              "<head><meta charset=\"utf-8\" /></head>\n",
              "<body>\n",
              "    <div>\n",
              "            <script src=\"https://cdnjs.cloudflare.com/ajax/libs/mathjax/2.7.5/MathJax.js?config=TeX-AMS-MML_SVG\"></script><script type=\"text/javascript\">if (window.MathJax) {MathJax.Hub.Config({SVG: {font: \"STIX-Web\"}});}</script>\n",
              "                <script type=\"text/javascript\">window.PlotlyConfig = {MathJaxConfig: 'local'};</script>\n",
              "        <script src=\"https://cdn.plot.ly/plotly-latest.min.js\"></script>    \n",
              "            <div id=\"4d8aa474-beb4-4500-98e3-e1f406878fdd\" class=\"plotly-graph-div\" style=\"height:525px; width:100%;\"></div>\n",
              "            <script type=\"text/javascript\">\n",
              "                \n",
              "                    window.PLOTLYENV=window.PLOTLYENV || {};\n",
              "                    \n",
              "                if (document.getElementById(\"4d8aa474-beb4-4500-98e3-e1f406878fdd\")) {\n",
              "                    Plotly.newPlot(\n",
              "                        '4d8aa474-beb4-4500-98e3-e1f406878fdd',\n",
              "                        [{\"hoverlabel\": {\"namelength\": 0}, \"hovertemplate\": \"species=setosa<br>sepal_length=%{x}<br>sepal_width=%{y}<br>petal_width=%{z}\", \"legendgroup\": \"species=setosa\", \"marker\": {\"color\": \"#636efa\", \"symbol\": \"circle\"}, \"mode\": \"markers\", \"name\": \"species=setosa\", \"scene\": \"scene\", \"showlegend\": true, \"type\": \"scatter3d\", \"x\": [5.1, 4.9, 4.7, 4.6, 5.0, 5.4, 4.6, 5.0, 4.4, 4.9, 5.4, 4.8, 4.8, 4.3, 5.8, 5.7, 5.4, 5.1, 5.7, 5.1, 5.4, 5.1, 4.6, 5.1, 4.8, 5.0, 5.0, 5.2, 5.2, 4.7, 4.8, 5.4, 5.2, 5.5, 4.9, 5.0, 5.5, 4.9, 4.4, 5.1, 5.0, 4.5, 4.4, 5.0, 5.1, 4.8, 5.1, 4.6, 5.3, 5.0], \"y\": [3.5, 3.0, 3.2, 3.1, 3.6, 3.9, 3.4, 3.4, 2.9, 3.1, 3.7, 3.4, 3.0, 3.0, 4.0, 4.4, 3.9, 3.5, 3.8, 3.8, 3.4, 3.7, 3.6, 3.3, 3.4, 3.0, 3.4, 3.5, 3.4, 3.2, 3.1, 3.4, 4.1, 4.2, 3.1, 3.2, 3.5, 3.1, 3.0, 3.4, 3.5, 2.3, 3.2, 3.5, 3.8, 3.0, 3.8, 3.2, 3.7, 3.3], \"z\": [0.2, 0.2, 0.2, 0.2, 0.2, 0.4, 0.3, 0.2, 0.2, 0.1, 0.2, 0.2, 0.1, 0.1, 0.2, 0.4, 0.4, 0.3, 0.3, 0.3, 0.2, 0.4, 0.2, 0.5, 0.2, 0.2, 0.4, 0.2, 0.2, 0.2, 0.2, 0.4, 0.1, 0.2, 0.1, 0.2, 0.2, 0.1, 0.2, 0.2, 0.3, 0.3, 0.2, 0.6, 0.4, 0.3, 0.2, 0.2, 0.2, 0.2]}, {\"hoverlabel\": {\"namelength\": 0}, \"hovertemplate\": \"species=versicolor<br>sepal_length=%{x}<br>sepal_width=%{y}<br>petal_width=%{z}\", \"legendgroup\": \"species=versicolor\", \"marker\": {\"color\": \"#EF553B\", \"symbol\": \"circle\"}, \"mode\": \"markers\", \"name\": \"species=versicolor\", \"scene\": \"scene\", \"showlegend\": true, \"type\": \"scatter3d\", \"x\": [7.0, 6.4, 6.9, 5.5, 6.5, 5.7, 6.3, 4.9, 6.6, 5.2, 5.0, 5.9, 6.0, 6.1, 5.6, 6.7, 5.6, 5.8, 6.2, 5.6, 5.9, 6.1, 6.3, 6.1, 6.4, 6.6, 6.8, 6.7, 6.0, 5.7, 5.5, 5.5, 5.8, 6.0, 5.4, 6.0, 6.7, 6.3, 5.6, 5.5, 5.5, 6.1, 5.8, 5.0, 5.6, 5.7, 5.7, 6.2, 5.1, 5.7], \"y\": [3.2, 3.2, 3.1, 2.3, 2.8, 2.8, 3.3, 2.4, 2.9, 2.7, 2.0, 3.0, 2.2, 2.9, 2.9, 3.1, 3.0, 2.7, 2.2, 2.5, 3.2, 2.8, 2.5, 2.8, 2.9, 3.0, 2.8, 3.0, 2.9, 2.6, 2.4, 2.4, 2.7, 2.7, 3.0, 3.4, 3.1, 2.3, 3.0, 2.5, 2.6, 3.0, 2.6, 2.3, 2.7, 3.0, 2.9, 2.9, 2.5, 2.8], \"z\": [1.4, 1.5, 1.5, 1.3, 1.5, 1.3, 1.6, 1.0, 1.3, 1.4, 1.0, 1.5, 1.0, 1.4, 1.3, 1.4, 1.5, 1.0, 1.5, 1.1, 1.8, 1.3, 1.5, 1.2, 1.3, 1.4, 1.4, 1.7, 1.5, 1.0, 1.1, 1.0, 1.2, 1.6, 1.5, 1.6, 1.5, 1.3, 1.3, 1.3, 1.2, 1.4, 1.2, 1.0, 1.3, 1.2, 1.3, 1.3, 1.1, 1.3]}, {\"hoverlabel\": {\"namelength\": 0}, \"hovertemplate\": \"species=virginica<br>sepal_length=%{x}<br>sepal_width=%{y}<br>petal_width=%{z}\", \"legendgroup\": \"species=virginica\", \"marker\": {\"color\": \"#00cc96\", \"symbol\": \"circle\"}, \"mode\": \"markers\", \"name\": \"species=virginica\", \"scene\": \"scene\", \"showlegend\": true, \"type\": \"scatter3d\", \"x\": [6.3, 5.8, 7.1, 6.3, 6.5, 7.6, 4.9, 7.3, 6.7, 7.2, 6.5, 6.4, 6.8, 5.7, 5.8, 6.4, 6.5, 7.7, 7.7, 6.0, 6.9, 5.6, 7.7, 6.3, 6.7, 7.2, 6.2, 6.1, 6.4, 7.2, 7.4, 7.9, 6.4, 6.3, 6.1, 7.7, 6.3, 6.4, 6.0, 6.9, 6.7, 6.9, 5.8, 6.8, 6.7, 6.7, 6.3, 6.5, 6.2, 5.9], \"y\": [3.3, 2.7, 3.0, 2.9, 3.0, 3.0, 2.5, 2.9, 2.5, 3.6, 3.2, 2.7, 3.0, 2.5, 2.8, 3.2, 3.0, 3.8, 2.6, 2.2, 3.2, 2.8, 2.8, 2.7, 3.3, 3.2, 2.8, 3.0, 2.8, 3.0, 2.8, 3.8, 2.8, 2.8, 2.6, 3.0, 3.4, 3.1, 3.0, 3.1, 3.1, 3.1, 2.7, 3.2, 3.3, 3.0, 2.5, 3.0, 3.4, 3.0], \"z\": [2.5, 1.9, 2.1, 1.8, 2.2, 2.1, 1.7, 1.8, 1.8, 2.5, 2.0, 1.9, 2.1, 2.0, 2.4, 2.3, 1.8, 2.2, 2.3, 1.5, 2.3, 2.0, 2.0, 1.8, 2.1, 1.8, 1.8, 1.8, 2.1, 1.6, 1.9, 2.0, 2.2, 1.5, 1.4, 2.3, 2.4, 1.8, 1.8, 2.1, 2.4, 2.3, 1.9, 2.3, 2.5, 2.3, 1.9, 2.0, 2.3, 1.8]}],\n",
              "                        {\"legend\": {\"tracegroupgap\": 0}, \"margin\": {\"t\": 60}, \"scene\": {\"domain\": {\"x\": [0.0, 1.0], \"y\": [0.0, 1.0]}, \"xaxis\": {\"title\": {\"text\": \"sepal_length\"}}, \"yaxis\": {\"title\": {\"text\": \"sepal_width\"}}, \"zaxis\": {\"title\": {\"text\": \"petal_width\"}}}, \"template\": {\"data\": {\"bar\": [{\"error_x\": {\"color\": \"#2a3f5f\"}, \"error_y\": {\"color\": \"#2a3f5f\"}, \"marker\": {\"line\": {\"color\": \"#E5ECF6\", \"width\": 0.5}}, \"type\": \"bar\"}], \"barpolar\": [{\"marker\": {\"line\": {\"color\": \"#E5ECF6\", \"width\": 0.5}}, \"type\": \"barpolar\"}], \"carpet\": [{\"aaxis\": {\"endlinecolor\": \"#2a3f5f\", \"gridcolor\": \"white\", \"linecolor\": \"white\", \"minorgridcolor\": \"white\", \"startlinecolor\": \"#2a3f5f\"}, \"baxis\": {\"endlinecolor\": \"#2a3f5f\", \"gridcolor\": \"white\", \"linecolor\": \"white\", \"minorgridcolor\": \"white\", \"startlinecolor\": \"#2a3f5f\"}, \"type\": \"carpet\"}], \"choropleth\": [{\"colorbar\": {\"outlinewidth\": 0, \"ticks\": \"\"}, \"type\": \"choropleth\"}], \"contour\": [{\"colorbar\": {\"outlinewidth\": 0, \"ticks\": \"\"}, \"colorscale\": [[0.0, \"#0d0887\"], [0.1111111111111111, \"#46039f\"], [0.2222222222222222, \"#7201a8\"], [0.3333333333333333, \"#9c179e\"], [0.4444444444444444, \"#bd3786\"], [0.5555555555555556, \"#d8576b\"], [0.6666666666666666, \"#ed7953\"], [0.7777777777777778, \"#fb9f3a\"], [0.8888888888888888, \"#fdca26\"], [1.0, \"#f0f921\"]], \"type\": \"contour\"}], \"contourcarpet\": [{\"colorbar\": {\"outlinewidth\": 0, \"ticks\": \"\"}, \"type\": \"contourcarpet\"}], \"heatmap\": [{\"colorbar\": {\"outlinewidth\": 0, \"ticks\": \"\"}, \"colorscale\": [[0.0, \"#0d0887\"], [0.1111111111111111, \"#46039f\"], [0.2222222222222222, \"#7201a8\"], [0.3333333333333333, \"#9c179e\"], [0.4444444444444444, \"#bd3786\"], [0.5555555555555556, \"#d8576b\"], [0.6666666666666666, \"#ed7953\"], [0.7777777777777778, \"#fb9f3a\"], [0.8888888888888888, \"#fdca26\"], [1.0, \"#f0f921\"]], \"type\": \"heatmap\"}], \"heatmapgl\": [{\"colorbar\": {\"outlinewidth\": 0, \"ticks\": \"\"}, \"colorscale\": [[0.0, \"#0d0887\"], [0.1111111111111111, \"#46039f\"], [0.2222222222222222, \"#7201a8\"], [0.3333333333333333, \"#9c179e\"], [0.4444444444444444, \"#bd3786\"], [0.5555555555555556, \"#d8576b\"], [0.6666666666666666, \"#ed7953\"], [0.7777777777777778, \"#fb9f3a\"], [0.8888888888888888, \"#fdca26\"], [1.0, \"#f0f921\"]], \"type\": \"heatmapgl\"}], \"histogram\": [{\"marker\": {\"colorbar\": {\"outlinewidth\": 0, \"ticks\": \"\"}}, \"type\": \"histogram\"}], \"histogram2d\": [{\"colorbar\": {\"outlinewidth\": 0, \"ticks\": \"\"}, \"colorscale\": [[0.0, \"#0d0887\"], [0.1111111111111111, \"#46039f\"], [0.2222222222222222, \"#7201a8\"], [0.3333333333333333, \"#9c179e\"], [0.4444444444444444, \"#bd3786\"], [0.5555555555555556, \"#d8576b\"], [0.6666666666666666, \"#ed7953\"], [0.7777777777777778, \"#fb9f3a\"], [0.8888888888888888, \"#fdca26\"], [1.0, \"#f0f921\"]], \"type\": \"histogram2d\"}], \"histogram2dcontour\": [{\"colorbar\": {\"outlinewidth\": 0, \"ticks\": \"\"}, \"colorscale\": [[0.0, \"#0d0887\"], [0.1111111111111111, \"#46039f\"], [0.2222222222222222, \"#7201a8\"], [0.3333333333333333, \"#9c179e\"], [0.4444444444444444, \"#bd3786\"], [0.5555555555555556, \"#d8576b\"], [0.6666666666666666, \"#ed7953\"], [0.7777777777777778, \"#fb9f3a\"], [0.8888888888888888, \"#fdca26\"], [1.0, \"#f0f921\"]], \"type\": \"histogram2dcontour\"}], \"mesh3d\": [{\"colorbar\": {\"outlinewidth\": 0, \"ticks\": \"\"}, \"type\": \"mesh3d\"}], \"parcoords\": [{\"line\": {\"colorbar\": {\"outlinewidth\": 0, \"ticks\": \"\"}}, \"type\": \"parcoords\"}], \"pie\": [{\"automargin\": true, \"type\": \"pie\"}], \"scatter\": [{\"marker\": {\"colorbar\": {\"outlinewidth\": 0, \"ticks\": \"\"}}, \"type\": \"scatter\"}], \"scatter3d\": [{\"line\": {\"colorbar\": {\"outlinewidth\": 0, \"ticks\": \"\"}}, \"marker\": {\"colorbar\": {\"outlinewidth\": 0, \"ticks\": \"\"}}, \"type\": \"scatter3d\"}], \"scattercarpet\": [{\"marker\": {\"colorbar\": {\"outlinewidth\": 0, \"ticks\": \"\"}}, \"type\": \"scattercarpet\"}], \"scattergeo\": [{\"marker\": {\"colorbar\": {\"outlinewidth\": 0, \"ticks\": \"\"}}, \"type\": \"scattergeo\"}], \"scattergl\": [{\"marker\": {\"colorbar\": {\"outlinewidth\": 0, \"ticks\": \"\"}}, \"type\": \"scattergl\"}], \"scattermapbox\": [{\"marker\": {\"colorbar\": {\"outlinewidth\": 0, \"ticks\": \"\"}}, \"type\": \"scattermapbox\"}], \"scatterpolar\": [{\"marker\": {\"colorbar\": {\"outlinewidth\": 0, \"ticks\": \"\"}}, \"type\": \"scatterpolar\"}], \"scatterpolargl\": [{\"marker\": {\"colorbar\": {\"outlinewidth\": 0, \"ticks\": \"\"}}, \"type\": \"scatterpolargl\"}], \"scatterternary\": [{\"marker\": {\"colorbar\": {\"outlinewidth\": 0, \"ticks\": \"\"}}, \"type\": \"scatterternary\"}], \"surface\": [{\"colorbar\": {\"outlinewidth\": 0, \"ticks\": \"\"}, \"colorscale\": [[0.0, \"#0d0887\"], [0.1111111111111111, \"#46039f\"], [0.2222222222222222, \"#7201a8\"], [0.3333333333333333, \"#9c179e\"], [0.4444444444444444, \"#bd3786\"], [0.5555555555555556, \"#d8576b\"], [0.6666666666666666, \"#ed7953\"], [0.7777777777777778, \"#fb9f3a\"], [0.8888888888888888, \"#fdca26\"], [1.0, \"#f0f921\"]], \"type\": \"surface\"}], \"table\": [{\"cells\": {\"fill\": {\"color\": \"#EBF0F8\"}, \"line\": {\"color\": \"white\"}}, \"header\": {\"fill\": {\"color\": \"#C8D4E3\"}, \"line\": {\"color\": \"white\"}}, \"type\": \"table\"}]}, \"layout\": {\"annotationdefaults\": {\"arrowcolor\": \"#2a3f5f\", \"arrowhead\": 0, \"arrowwidth\": 1}, \"coloraxis\": {\"colorbar\": {\"outlinewidth\": 0, \"ticks\": \"\"}}, \"colorscale\": {\"diverging\": [[0, \"#8e0152\"], [0.1, \"#c51b7d\"], [0.2, \"#de77ae\"], [0.3, \"#f1b6da\"], [0.4, \"#fde0ef\"], [0.5, \"#f7f7f7\"], [0.6, \"#e6f5d0\"], [0.7, \"#b8e186\"], [0.8, \"#7fbc41\"], [0.9, \"#4d9221\"], [1, \"#276419\"]], \"sequential\": [[0.0, \"#0d0887\"], [0.1111111111111111, \"#46039f\"], [0.2222222222222222, \"#7201a8\"], [0.3333333333333333, \"#9c179e\"], [0.4444444444444444, \"#bd3786\"], [0.5555555555555556, \"#d8576b\"], [0.6666666666666666, \"#ed7953\"], [0.7777777777777778, \"#fb9f3a\"], [0.8888888888888888, \"#fdca26\"], [1.0, \"#f0f921\"]], \"sequentialminus\": [[0.0, \"#0d0887\"], [0.1111111111111111, \"#46039f\"], [0.2222222222222222, \"#7201a8\"], [0.3333333333333333, \"#9c179e\"], [0.4444444444444444, \"#bd3786\"], [0.5555555555555556, \"#d8576b\"], [0.6666666666666666, \"#ed7953\"], [0.7777777777777778, \"#fb9f3a\"], [0.8888888888888888, \"#fdca26\"], [1.0, \"#f0f921\"]]}, \"colorway\": [\"#636efa\", \"#EF553B\", \"#00cc96\", \"#ab63fa\", \"#FFA15A\", \"#19d3f3\", \"#FF6692\", \"#B6E880\", \"#FF97FF\", \"#FECB52\"], \"font\": {\"color\": \"#2a3f5f\"}, \"geo\": {\"bgcolor\": \"white\", \"lakecolor\": \"white\", \"landcolor\": \"#E5ECF6\", \"showlakes\": true, \"showland\": true, \"subunitcolor\": \"white\"}, \"hoverlabel\": {\"align\": \"left\"}, \"hovermode\": \"closest\", \"mapbox\": {\"style\": \"light\"}, \"paper_bgcolor\": \"white\", \"plot_bgcolor\": \"#E5ECF6\", \"polar\": {\"angularaxis\": {\"gridcolor\": \"white\", \"linecolor\": \"white\", \"ticks\": \"\"}, \"bgcolor\": \"#E5ECF6\", \"radialaxis\": {\"gridcolor\": \"white\", \"linecolor\": \"white\", \"ticks\": \"\"}}, \"scene\": {\"xaxis\": {\"backgroundcolor\": \"#E5ECF6\", \"gridcolor\": \"white\", \"gridwidth\": 2, \"linecolor\": \"white\", \"showbackground\": true, \"ticks\": \"\", \"zerolinecolor\": \"white\"}, \"yaxis\": {\"backgroundcolor\": \"#E5ECF6\", \"gridcolor\": \"white\", \"gridwidth\": 2, \"linecolor\": \"white\", \"showbackground\": true, \"ticks\": \"\", \"zerolinecolor\": \"white\"}, \"zaxis\": {\"backgroundcolor\": \"#E5ECF6\", \"gridcolor\": \"white\", \"gridwidth\": 2, \"linecolor\": \"white\", \"showbackground\": true, \"ticks\": \"\", \"zerolinecolor\": \"white\"}}, \"shapedefaults\": {\"line\": {\"color\": \"#2a3f5f\"}}, \"ternary\": {\"aaxis\": {\"gridcolor\": \"white\", \"linecolor\": \"white\", \"ticks\": \"\"}, \"baxis\": {\"gridcolor\": \"white\", \"linecolor\": \"white\", \"ticks\": \"\"}, \"bgcolor\": \"#E5ECF6\", \"caxis\": {\"gridcolor\": \"white\", \"linecolor\": \"white\", \"ticks\": \"\"}}, \"title\": {\"x\": 0.05}, \"xaxis\": {\"automargin\": true, \"gridcolor\": \"white\", \"linecolor\": \"white\", \"ticks\": \"\", \"title\": {\"standoff\": 15}, \"zerolinecolor\": \"white\", \"zerolinewidth\": 2}, \"yaxis\": {\"automargin\": true, \"gridcolor\": \"white\", \"linecolor\": \"white\", \"ticks\": \"\", \"title\": {\"standoff\": 15}, \"zerolinecolor\": \"white\", \"zerolinewidth\": 2}}}},\n",
              "                        {\"responsive\": true}\n",
              "                    ).then(function(){\n",
              "                            \n",
              "var gd = document.getElementById('4d8aa474-beb4-4500-98e3-e1f406878fdd');\n",
              "var x = new MutationObserver(function (mutations, observer) {{\n",
              "        var display = window.getComputedStyle(gd).display;\n",
              "        if (!display || display === 'none') {{\n",
              "            console.log([gd, 'removed!']);\n",
              "            Plotly.purge(gd);\n",
              "            observer.disconnect();\n",
              "        }}\n",
              "}});\n",
              "\n",
              "// Listen for the removal of the full notebook cells\n",
              "var notebookContainer = gd.closest('#notebook-container');\n",
              "if (notebookContainer) {{\n",
              "    x.observe(notebookContainer, {childList: true});\n",
              "}}\n",
              "\n",
              "// Listen for the clearing of the current output cell\n",
              "var outputEl = gd.closest('.output');\n",
              "if (outputEl) {{\n",
              "    x.observe(outputEl, {childList: true});\n",
              "}}\n",
              "\n",
              "                        })\n",
              "                };\n",
              "                \n",
              "            </script>\n",
              "        </div>\n",
              "</body>\n",
              "</html>"
            ]
          },
          "metadata": {
            "tags": []
          }
        }
      ]
    },
    {
      "cell_type": "code",
      "metadata": {
        "id": "zTM_9g7Z4u1U",
        "colab_type": "code",
        "colab": {
          "base_uri": "https://localhost:8080/"
        },
        "outputId": "dba0f16a-c62a-42bf-b6bd-90996a9e667e"
      },
      "source": [
        "X = df.iloc[:, 0:4].values\n",
        "X.shape"
      ],
      "execution_count": 12,
      "outputs": [
        {
          "output_type": "execute_result",
          "data": {
            "text/plain": [
              "(150, 4)"
            ]
          },
          "metadata": {
            "tags": []
          },
          "execution_count": 12
        }
      ]
    },
    {
      "cell_type": "markdown",
      "metadata": {
        "id": "eT-4GGg99fhy",
        "colab_type": "text"
      },
      "source": [
        ">$\n",
        "X_i = \\frac{(X_i - u)}{S} \\\\\n",
        "X_i = \\frac{(X_i - \\tilde{x})}{\\sqrt{\\sum_{i}{(x_i-\\tilde{x})^2}}}\n",
        "$"
      ]
    },
    {
      "cell_type": "code",
      "metadata": {
        "id": "EicwEGZNAAte",
        "colab_type": "code",
        "colab": {}
      },
      "source": [
        "def normalize(data):\n",
        "  u = data.mean(axis = 0, keepdims = True)\n",
        "  A = data - u\n",
        "  s = np.linalg.norm(A, axis = 0, keepdims = True)\n",
        "  A /= s\n",
        "  return A, u, s"
      ],
      "execution_count": 0,
      "outputs": []
    },
    {
      "cell_type": "code",
      "metadata": {
        "id": "tlRerH0IAN81",
        "colab_type": "code",
        "colab": {}
      },
      "source": [
        "A, u, s = normalize(X)"
      ],
      "execution_count": 0,
      "outputs": []
    },
    {
      "cell_type": "code",
      "metadata": {
        "id": "h0ApXF4M8scw",
        "colab_type": "code",
        "colab": {
          "base_uri": "https://localhost:8080/"
        },
        "outputId": "1817122e-7c7a-49f0-f497-63a0a904e042"
      },
      "source": [
        "np.sum(A**2, axis = 0)"
      ],
      "execution_count": 15,
      "outputs": [
        {
          "output_type": "execute_result",
          "data": {
            "text/plain": [
              "array([1., 1., 1., 1.])"
            ]
          },
          "metadata": {
            "tags": []
          },
          "execution_count": 15
        }
      ]
    },
    {
      "cell_type": "markdown",
      "metadata": {
        "id": "5K07XaEs-Ni0",
        "colab_type": "text"
      },
      "source": [
        ">$\n",
        "Pearson = \\frac{ (x_{i} - \\tilde{x}) (y_{i} - \\tilde{y}) }{\\sqrt{\\sum_{i}{(x_i-\\tilde{x})^2}} \\sqrt{\\sum_{i}{(y_i-\\tilde{y})^2}}} \n",
        "$"
      ]
    },
    {
      "cell_type": "markdown",
      "metadata": {
        "id": "w_QVWNOzCr7e",
        "colab_type": "text"
      },
      "source": [
        ">$\n",
        "A = \\begin{pmatrix}\n",
        "  \\vec{A_1} &\n",
        "  \\vec{A_2}\n",
        " \\end{pmatrix} \\\\\n",
        "A^T = \\begin{pmatrix}\n",
        "  \\vec{A_1} \\\\\n",
        "  \\vec{A_2}\n",
        " \\end{pmatrix}\\\\\n",
        "A^T A = \n",
        " \\begin{pmatrix}\n",
        "  \\vec{A_1} \\\\\n",
        "  \\vec{A_2}\n",
        " \\end{pmatrix}\n",
        " \\begin{pmatrix}\n",
        "  \\vec{A_1}& \\vec{A_2}\n",
        " \\end{pmatrix}\n",
        " =\n",
        " \\begin{pmatrix}\n",
        "  \\vec{A_1} \\cdot  \\vec{A_1} & \\vec{A_1} \\cdot  \\vec{A_2}\\\\\n",
        "  \\vec{A_2} \\cdot  \\vec{A_1} & \\vec{A_2} \\cdot  \\vec{A_2}\n",
        " \\end{pmatrix}\n",
        "$"
      ]
    },
    {
      "cell_type": "code",
      "metadata": {
        "id": "dqa-H4YZDTc-",
        "colab_type": "code",
        "colab": {
          "base_uri": "https://localhost:8080/",
          "height": 82
        },
        "outputId": "a45bb3da-fa63-45dc-8e7d-9e865540910e"
      },
      "source": [
        "C = np.dot(A.T, A)\n",
        "C"
      ],
      "execution_count": 16,
      "outputs": [
        {
          "output_type": "execute_result",
          "data": {
            "text/plain": [
              "array([[ 1.        , -0.10936925,  0.87175416,  0.81795363],\n",
              "       [-0.10936925,  1.        , -0.4205161 , -0.35654409],\n",
              "       [ 0.87175416, -0.4205161 ,  1.        ,  0.9627571 ],\n",
              "       [ 0.81795363, -0.35654409,  0.9627571 ,  1.        ]])"
            ]
          },
          "metadata": {
            "tags": []
          },
          "execution_count": 16
        }
      ]
    },
    {
      "cell_type": "code",
      "metadata": {
        "id": "v4LZOyiI_348",
        "colab_type": "code",
        "outputId": "23f8118e-0747-4273-fce6-7c7c7fc14f4d",
        "colab": {
          "base_uri": "https://localhost:8080/"
        }
      },
      "source": [
        "corr = df.iloc[:, 0:4].corr()\n",
        "corr"
      ],
      "execution_count": 17,
      "outputs": [
        {
          "output_type": "execute_result",
          "data": {
            "text/html": [
              "<div>\n",
              "<style scoped>\n",
              "    .dataframe tbody tr th:only-of-type {\n",
              "        vertical-align: middle;\n",
              "    }\n",
              "\n",
              "    .dataframe tbody tr th {\n",
              "        vertical-align: top;\n",
              "    }\n",
              "\n",
              "    .dataframe thead th {\n",
              "        text-align: right;\n",
              "    }\n",
              "</style>\n",
              "<table border=\"1\" class=\"dataframe\">\n",
              "  <thead>\n",
              "    <tr style=\"text-align: right;\">\n",
              "      <th></th>\n",
              "      <th>sepal_length</th>\n",
              "      <th>sepal_width</th>\n",
              "      <th>petal_length</th>\n",
              "      <th>petal_width</th>\n",
              "    </tr>\n",
              "  </thead>\n",
              "  <tbody>\n",
              "    <tr>\n",
              "      <th>sepal_length</th>\n",
              "      <td>1.000000</td>\n",
              "      <td>-0.109369</td>\n",
              "      <td>0.871754</td>\n",
              "      <td>0.817954</td>\n",
              "    </tr>\n",
              "    <tr>\n",
              "      <th>sepal_width</th>\n",
              "      <td>-0.109369</td>\n",
              "      <td>1.000000</td>\n",
              "      <td>-0.420516</td>\n",
              "      <td>-0.356544</td>\n",
              "    </tr>\n",
              "    <tr>\n",
              "      <th>petal_length</th>\n",
              "      <td>0.871754</td>\n",
              "      <td>-0.420516</td>\n",
              "      <td>1.000000</td>\n",
              "      <td>0.962757</td>\n",
              "    </tr>\n",
              "    <tr>\n",
              "      <th>petal_width</th>\n",
              "      <td>0.817954</td>\n",
              "      <td>-0.356544</td>\n",
              "      <td>0.962757</td>\n",
              "      <td>1.000000</td>\n",
              "    </tr>\n",
              "  </tbody>\n",
              "</table>\n",
              "</div>"
            ],
            "text/plain": [
              "              sepal_length  sepal_width  petal_length  petal_width\n",
              "sepal_length      1.000000    -0.109369      0.871754     0.817954\n",
              "sepal_width      -0.109369     1.000000     -0.420516    -0.356544\n",
              "petal_length      0.871754    -0.420516      1.000000     0.962757\n",
              "petal_width       0.817954    -0.356544      0.962757     1.000000"
            ]
          },
          "metadata": {
            "tags": []
          },
          "execution_count": 17
        }
      ]
    },
    {
      "cell_type": "markdown",
      "metadata": {
        "id": "jl68olXrE-Ah",
        "colab_type": "text"
      },
      "source": [
        "## Eigenvectors\n",
        ">$\n",
        "C = \n",
        "\\begin{pmatrix}\n",
        "  C_{11} & C_{12}\\\\\n",
        "  C_{21} & C_{22}\n",
        " \\end{pmatrix}= \n",
        "\\begin{pmatrix}\n",
        "  \\vec{C_1} \\\\\n",
        "  \\vec{C_2}\n",
        " \\end{pmatrix}\\\\\n",
        "V = \\begin{pmatrix}\n",
        "  V_1 \\\\\n",
        "  V_2\n",
        " \\end{pmatrix}\\\\\n",
        " C \\vec{V} = \\lambda \\vec{V}\\\\\n",
        "C \\vec{V} = \n",
        "\\begin{pmatrix}\n",
        "  C_{11}V_1+C_{12}V_2 \\\\\n",
        "  C_{21}V_1+C_{22}V_2\n",
        " \\end{pmatrix}=\n",
        "\\begin{pmatrix}\n",
        "  \\vec{C_1} \\cdot \\vec{V} \\\\\n",
        "  \\vec{C_2} \\cdot \\vec{V}\n",
        " \\end{pmatrix}= \n",
        "  \\begin{pmatrix}\n",
        "  \\lambda  V_1 \\\\\n",
        "  \\lambda  V_2\n",
        " \\end{pmatrix}\n",
        "$\n",
        "\n",
        ">$\n",
        "V = \n",
        "\\begin{pmatrix}\n",
        "  V_{11} & V_{12}\\\\\n",
        "  V_{21} & V_{22}\n",
        " \\end{pmatrix}= \n",
        "\\begin{pmatrix}\n",
        "  \\vec{V_1}& \\vec{V_2}\n",
        " \\end{pmatrix}\\\\\n",
        "CV = \\begin{pmatrix}\n",
        "  \\lambda_1\\vec{V_1}& \\lambda_2 \\vec{V_2}\n",
        " \\end{pmatrix} = VS\\\\\n",
        "S = \\begin{pmatrix}\n",
        "\\lambda_1 &0\\\\\n",
        "0&\\lambda_2\n",
        "\\end{pmatrix} \n",
        "$\n",
        "\n",
        ">$\n",
        "V V^{T} = \n",
        "\\begin{pmatrix}\n",
        "  1 & 0\\\\\n",
        "  0 & 1\n",
        " \\end{pmatrix}\\\\\n",
        "  C V V^T = VS V^T \\\\\n",
        "  C = VS V^T \\\\ \n",
        "$"
      ]
    },
    {
      "cell_type": "code",
      "metadata": {
        "id": "PCS7FUoIE17D",
        "colab_type": "code",
        "colab": {
          "base_uri": "https://localhost:8080/",
          "height": 32
        },
        "outputId": "60313920-d5dc-4d89-80fa-44c60828fadd"
      },
      "source": [
        "S, E = np.linalg.eig(C)\n",
        "S"
      ],
      "execution_count": 18,
      "outputs": [
        {
          "output_type": "execute_result",
          "data": {
            "text/plain": [
              "array([2.91081808, 0.92122093, 0.14735328, 0.02060771])"
            ]
          },
          "metadata": {
            "tags": []
          },
          "execution_count": 18
        }
      ]
    },
    {
      "cell_type": "code",
      "metadata": {
        "id": "RwdYyiTGM3Cu",
        "colab_type": "code",
        "colab": {
          "base_uri": "https://localhost:8080/",
          "height": 82
        },
        "outputId": "86d4398a-7407-493f-9fe2-b6d98a86ba6e"
      },
      "source": [
        "E"
      ],
      "execution_count": 19,
      "outputs": [
        {
          "output_type": "execute_result",
          "data": {
            "text/plain": [
              "array([[ 0.52237162, -0.37231836, -0.72101681,  0.26199559],\n",
              "       [-0.26335492, -0.92555649,  0.24203288, -0.12413481],\n",
              "       [ 0.58125401, -0.02109478,  0.14089226, -0.80115427],\n",
              "       [ 0.56561105, -0.06541577,  0.6338014 ,  0.52354627]])"
            ]
          },
          "metadata": {
            "tags": []
          },
          "execution_count": 19
        }
      ]
    },
    {
      "cell_type": "code",
      "metadata": {
        "id": "zfyL8hpCEtAA",
        "colab_type": "code",
        "colab": {}
      },
      "source": [
        "U, S, V = np.linalg.svd(C)"
      ],
      "execution_count": 0,
      "outputs": []
    },
    {
      "cell_type": "code",
      "metadata": {
        "id": "cZMoEWVwM40W",
        "colab_type": "code",
        "colab": {
          "base_uri": "https://localhost:8080/",
          "height": 82
        },
        "outputId": "5cfb75e0-17ce-4c0b-900b-f2f8a1d8dc47"
      },
      "source": [
        "U"
      ],
      "execution_count": 21,
      "outputs": [
        {
          "output_type": "execute_result",
          "data": {
            "text/plain": [
              "array([[-0.52237162, -0.37231836,  0.72101681,  0.26199559],\n",
              "       [ 0.26335492, -0.92555649, -0.24203288, -0.12413481],\n",
              "       [-0.58125401, -0.02109478, -0.14089226, -0.80115427],\n",
              "       [-0.56561105, -0.06541577, -0.6338014 ,  0.52354627]])"
            ]
          },
          "metadata": {
            "tags": []
          },
          "execution_count": 21
        }
      ]
    },
    {
      "cell_type": "code",
      "metadata": {
        "id": "mUhJzy72zdX9",
        "colab_type": "code",
        "outputId": "7f042733-649f-4bb3-f551-e1ed249a38c9",
        "colab": {
          "base_uri": "https://localhost:8080/",
          "height": 32
        }
      },
      "source": [
        "np.round(S/np.sum(np.abs(S)), 2)"
      ],
      "execution_count": 22,
      "outputs": [
        {
          "output_type": "execute_result",
          "data": {
            "text/plain": [
              "array([0.73, 0.23, 0.04, 0.01])"
            ]
          },
          "metadata": {
            "tags": []
          },
          "execution_count": 22
        }
      ]
    },
    {
      "cell_type": "code",
      "metadata": {
        "id": "iec0UXNmwiOB",
        "colab_type": "code",
        "colab": {}
      },
      "source": [
        "Z = np.dot(A, U)"
      ],
      "execution_count": 0,
      "outputs": []
    },
    {
      "cell_type": "code",
      "metadata": {
        "id": "eR3xA1Kn1w3j",
        "colab_type": "code",
        "colab": {}
      },
      "source": [
        "df2 = df.copy()"
      ],
      "execution_count": 0,
      "outputs": []
    },
    {
      "cell_type": "code",
      "metadata": {
        "id": "pcxlOJuM2TWP",
        "colab_type": "code",
        "colab": {}
      },
      "source": [
        "columns = df2.columns.values\n",
        "columns[0:4] = ['PC1', 'PC2', 'PC3', 'PC4']\n",
        "df2.columns = columns"
      ],
      "execution_count": 0,
      "outputs": []
    },
    {
      "cell_type": "code",
      "metadata": {
        "id": "42gC9Sto6jX9",
        "colab_type": "code",
        "colab": {}
      },
      "source": [
        "df2.iloc[:,0:4] = Z"
      ],
      "execution_count": 0,
      "outputs": []
    },
    {
      "cell_type": "code",
      "metadata": {
        "id": "l1MofWjJnSu3",
        "colab_type": "code",
        "outputId": "028b5acc-8d42-4a9d-fb9b-b2590478d985",
        "colab": {
          "base_uri": "https://localhost:8080/",
          "height": 542
        }
      },
      "source": [
        "fig = px.scatter(df2, x = 'PC1', y = 'PC2', color = 'species')\n",
        "fig.show()"
      ],
      "execution_count": 27,
      "outputs": [
        {
          "output_type": "display_data",
          "data": {
            "text/html": [
              "<html>\n",
              "<head><meta charset=\"utf-8\" /></head>\n",
              "<body>\n",
              "    <div>\n",
              "            <script src=\"https://cdnjs.cloudflare.com/ajax/libs/mathjax/2.7.5/MathJax.js?config=TeX-AMS-MML_SVG\"></script><script type=\"text/javascript\">if (window.MathJax) {MathJax.Hub.Config({SVG: {font: \"STIX-Web\"}});}</script>\n",
              "                <script type=\"text/javascript\">window.PlotlyConfig = {MathJaxConfig: 'local'};</script>\n",
              "        <script src=\"https://cdn.plot.ly/plotly-latest.min.js\"></script>    \n",
              "            <div id=\"f1bb49db-4a92-48f6-93d3-88010a317f2d\" class=\"plotly-graph-div\" style=\"height:525px; width:100%;\"></div>\n",
              "            <script type=\"text/javascript\">\n",
              "                \n",
              "                    window.PLOTLYENV=window.PLOTLYENV || {};\n",
              "                    \n",
              "                if (document.getElementById(\"f1bb49db-4a92-48f6-93d3-88010a317f2d\")) {\n",
              "                    Plotly.newPlot(\n",
              "                        'f1bb49db-4a92-48f6-93d3-88010a317f2d',\n",
              "                        [{\"hoverlabel\": {\"namelength\": 0}, \"hovertemplate\": \"species=setosa<br>PC1=%{x}<br>PC2=%{y}\", \"legendgroup\": \"species=setosa\", \"marker\": {\"color\": \"#636efa\", \"symbol\": \"circle\"}, \"mode\": \"markers\", \"name\": \"species=setosa\", \"showlegend\": true, \"type\": \"scatter\", \"x\": [0.18489905786025987, 0.17035592876135125, 0.19334234454658258, 0.1881369103863988, 0.19504286560444595, 0.16905862237479316, 0.19969149467442945, 0.18239242399693517, 0.19122004355032673, 0.17870462709462387, 0.1766479376074716, 0.1900295978777966, 0.18159559382501744, 0.21553193015989613, 0.1789998521085854, 0.18383136497855979, 0.17985382356222965, 0.17882737988545397, 0.15465051842769248, 0.19105604155457234, 0.15632287504777587, 0.1800085429244406, 0.2265100151473235, 0.14863598173461315, 0.18193319698721924, 0.15979034107877277, 0.16755026775046422, 0.17703227047454048, 0.17475525011607376, 0.18524594365600522, 0.17510213591181914, 0.1495771196918823, 0.21295887238130132, 0.19905785409209958, 0.17870462709462387, 0.1805371835768609, 0.16692590980167793, 0.17870462709462387, 0.1988946645025117, 0.17722443690807493, 0.18669416727117336, 0.15282425485156476, 0.20884630581316335, 0.16038273245617826, 0.17418916239232993, 0.16945223787540564, 0.1944289192325191, 0.19581153133858373, 0.1818159246963319, 0.18011540363846845], \"xaxis\": \"x\", \"y\": [-0.04129055075766023, 0.053513572065376165, 0.02600356354098355, 0.04697857700595607, -0.05509452723291064, -0.1239889707121693, -0.006088016920793793, -0.02021759286657957, 0.08941832606644187, 0.036630408407247655, -0.0874137627391153, -0.012948611450749293, 0.05789925515054467, 0.07661040303371525, -0.1543160993333264, -0.22228066760395868, -0.12359719300773667, -0.0419927709218595, -0.11684969991465806, -0.0945530335366264, -0.03514733340267278, -0.07776781430460615, -0.0399688978446011, -0.008716165736143297, -0.013242444729073781, 0.049634220292190626, -0.021719977621086274, -0.04507195810473763, -0.02748657428240985, 0.02570973026265906, 0.03951370673790946, -0.036355884878854994, -0.14929437431785586, -0.17843647821507433, 0.036630408407247655, 0.015051119204184062, -0.05592645801542895, 0.036630408407247655, 0.07202883109633042, -0.023901055787548777, -0.03821136357478214, 0.19005522378469913, 0.0370539523038912, -0.04061185734570444, -0.09564703140525832, 0.05649481482214613, -0.0939487577985353, 0.029589082035844625, -0.08373029981814606, -0.0026322090442517975], \"yaxis\": \"y\"}, {\"hoverlabel\": {\"namelength\": 0}, \"hovertemplate\": \"species=versicolor<br>PC1=%{x}<br>PC2=%{y}\", \"legendgroup\": \"species=versicolor\", \"marker\": {\"color\": \"#EF553B\", \"symbol\": \"circle\"}, \"mode\": \"markers\", \"name\": \"species=versicolor\", \"showlegend\": true, \"type\": \"scatter\", \"x\": [-0.09014070428808439, -0.059806859136010505, -0.10141781642307415, -0.03244000380029314, -0.08757692914303318, -0.031390876185680164, -0.06113232996034856, 0.0406503753906258, -0.07562573962695578, -0.000405637590355824, 0.01018150508674401, -0.03582216411178349, -0.045040725975502564, -0.0585562824543195, 0.003042134230238036, -0.07151616278625209, -0.02841460373578002, -0.012524448818012015, -0.09922909151154821, -0.012814193332030809, -0.06027835850670425, -0.03856882305682559, -0.10026481782186748, -0.05138874716003353, -0.057193364558657936, -0.07132399635271763, -0.10240681302852629, -0.11089981914715034, -0.05406237274654692, 0.0038605193966771145, -0.00992322660163727, -0.0011527483299722527, -0.019270204173905583, -0.08627849381315918, -0.01807862955805953, -0.03525494744472371, -0.08568424165163535, -0.08457910169861173, -0.005476046598731727, -0.02248836248964149, -0.02223606504694625, -0.050881661502134544, -0.026944825126090532, 0.030506567646439723, -0.023102308861568322, -0.007271156009645244, -0.018318654639776978, -0.046857390380937405, 0.03731494478400259, -0.020595674998243673], \"xaxis\": \"x\", \"y\": [-0.07047283609937724, -0.04887838988554489, -0.050200042798604017, 0.14355389342809388, 0.017289960352256186, 0.04826004847451663, -0.06358047537721077, 0.1509595030330445, -0.0024765016365340853, 0.08405024886803196, 0.21702990884473736, 0.004807636790064913, 0.14473067871206516, 0.015140648378004572, 0.035337571834239724, -0.04164117466192549, 0.015564192274648106, 0.06456246314679741, 0.1333629299185895, 0.10639793646919214, -0.032861569051621096, 0.034015918921180596, 0.0768253711045289, 0.03403252810262272, 0.005184257483728814, -0.020470272344736643, 0.006745902901331487, -0.026848062314952667, 0.018317779986990832, 0.08632103202063521, 0.12766678321248912, 0.12846694780279655, 0.0633539116706152, 0.052002772058581725, 0.022931118116586515, -0.06982163715830642, -0.04263722810444925, 0.11369441235590746, 0.017360410307479295, 0.10857901463565464, 0.09140201769920164, -0.002248846592106877, 0.08074340664072666, 0.1647634795082949, 0.0697247840700299, 0.014281223124601165, 0.031066442356621503, 0.012551183325667256, 0.12569675090901172, 0.04865182617894928], \"yaxis\": \"y\"}, {\"hoverlabel\": {\"namelength\": 0}, \"hovertemplate\": \"species=virginica<br>PC1=%{x}<br>PC2=%{y}\", \"legendgroup\": \"species=virginica\", \"marker\": {\"color\": \"#00cc96\", \"symbol\": \"circle\"}, \"mode\": \"markers\", \"name\": \"species=virginica\", \"showlegend\": true, \"type\": \"scatter\", \"x\": [-0.15086183559277025, -0.09415755355985635, -0.1801476820735471, -0.11746817120299573, -0.1525126372183323, -0.22487921959586224, -0.029261153339999138, -0.18803964416961222, -0.16344100277345833, -0.18514505772339426, -0.11152603788005498, -0.1305630766867362, -0.1538485196195298, -0.10231408545959454, -0.11954012277856003, -0.12997068530933067, -0.12012952442853131, -0.19901111971378097, -0.27019024614621495, -0.10238711881812328, -0.1666058219410685, -0.07951983610789769, -0.2366259703174274, -0.10852821043563353, -0.13915067115841034, -0.15984779422419712, -0.09568560239458834, -0.08326477429193553, -0.14582701287159955, -0.15225847899151873, -0.19885752929488598, -0.18910733705131236, -0.15189869084640545, -0.09073495644960825, -0.09777294709202904, -0.2286965611500387, -0.12901913577520202, -0.10998571668434524, -0.07539798690621616, -0.15134188575620516, -0.16461854609662055, -0.15538884081523957, -0.09415755355985635, -0.16683543544592644, -0.16343738305763394, -0.15272748758970398, -0.1272503300179502, -0.12417647948756577, -0.11238187011781764, -0.07832640070793327], \"xaxis\": \"x\", \"y\": [-0.07117373439441033, 0.05726303740792236, -0.04527229449060007, 0.004083342044295584, -0.023775792702875883, -0.0643752200782033, 0.12738118937413204, -0.03343689814815374, 0.05910335909308074, -0.1568851632979003, -0.056660620184159426, 0.03496637102989071, -0.03383012802325978, 0.09531710338323968, 0.03626449719070648, -0.05527970660800435, -0.020673078767754312, -0.2087583627592367, 0.00019280097898279806, 0.14024013362998713, -0.0740887989172831, 0.046636192541658336, -0.03247952846864221, 0.03974383181949187, -0.08280487214316565, -0.08192192013751887, 0.026037799770349705, -0.005351560527228447, 0.015780658026948148, -0.045346712164464786, -0.020139252984886304, -0.21442701499445213, 0.015078437862748876, 0.02416716406365382, 0.06672146673168987, -0.06897340119703026, -0.08756717592199802, -0.03447705524300471, -0.0015701531801510786, -0.05490308591434046, -0.049838709417216145, -0.05601369296441451, 0.05726303740792236, -0.0706012248485302, -0.08561375279996272, -0.03125727215236462, 0.07391854602162365, -0.021783685817828365, -0.08298560398461322, 0.0018194764624936373], \"yaxis\": \"y\"}],\n",
              "                        {\"legend\": {\"tracegroupgap\": 0}, \"margin\": {\"t\": 60}, \"template\": {\"data\": {\"bar\": [{\"error_x\": {\"color\": \"#2a3f5f\"}, \"error_y\": {\"color\": \"#2a3f5f\"}, \"marker\": {\"line\": {\"color\": \"#E5ECF6\", \"width\": 0.5}}, \"type\": \"bar\"}], \"barpolar\": [{\"marker\": {\"line\": {\"color\": \"#E5ECF6\", \"width\": 0.5}}, \"type\": \"barpolar\"}], \"carpet\": [{\"aaxis\": {\"endlinecolor\": \"#2a3f5f\", \"gridcolor\": \"white\", \"linecolor\": \"white\", \"minorgridcolor\": \"white\", \"startlinecolor\": \"#2a3f5f\"}, \"baxis\": {\"endlinecolor\": \"#2a3f5f\", \"gridcolor\": \"white\", \"linecolor\": \"white\", \"minorgridcolor\": \"white\", \"startlinecolor\": \"#2a3f5f\"}, \"type\": \"carpet\"}], \"choropleth\": [{\"colorbar\": {\"outlinewidth\": 0, \"ticks\": \"\"}, \"type\": \"choropleth\"}], \"contour\": [{\"colorbar\": {\"outlinewidth\": 0, \"ticks\": \"\"}, \"colorscale\": [[0.0, \"#0d0887\"], [0.1111111111111111, \"#46039f\"], [0.2222222222222222, \"#7201a8\"], [0.3333333333333333, \"#9c179e\"], [0.4444444444444444, \"#bd3786\"], [0.5555555555555556, \"#d8576b\"], [0.6666666666666666, \"#ed7953\"], [0.7777777777777778, \"#fb9f3a\"], [0.8888888888888888, \"#fdca26\"], [1.0, \"#f0f921\"]], \"type\": \"contour\"}], \"contourcarpet\": [{\"colorbar\": {\"outlinewidth\": 0, \"ticks\": \"\"}, \"type\": \"contourcarpet\"}], \"heatmap\": [{\"colorbar\": {\"outlinewidth\": 0, \"ticks\": \"\"}, \"colorscale\": [[0.0, \"#0d0887\"], [0.1111111111111111, \"#46039f\"], [0.2222222222222222, \"#7201a8\"], [0.3333333333333333, \"#9c179e\"], [0.4444444444444444, \"#bd3786\"], [0.5555555555555556, \"#d8576b\"], [0.6666666666666666, \"#ed7953\"], [0.7777777777777778, \"#fb9f3a\"], [0.8888888888888888, \"#fdca26\"], [1.0, \"#f0f921\"]], \"type\": \"heatmap\"}], \"heatmapgl\": [{\"colorbar\": {\"outlinewidth\": 0, \"ticks\": \"\"}, \"colorscale\": [[0.0, \"#0d0887\"], [0.1111111111111111, \"#46039f\"], [0.2222222222222222, \"#7201a8\"], [0.3333333333333333, \"#9c179e\"], [0.4444444444444444, \"#bd3786\"], [0.5555555555555556, \"#d8576b\"], [0.6666666666666666, \"#ed7953\"], [0.7777777777777778, \"#fb9f3a\"], [0.8888888888888888, \"#fdca26\"], [1.0, \"#f0f921\"]], \"type\": \"heatmapgl\"}], \"histogram\": [{\"marker\": {\"colorbar\": {\"outlinewidth\": 0, \"ticks\": \"\"}}, \"type\": \"histogram\"}], \"histogram2d\": [{\"colorbar\": {\"outlinewidth\": 0, \"ticks\": \"\"}, \"colorscale\": [[0.0, \"#0d0887\"], [0.1111111111111111, \"#46039f\"], [0.2222222222222222, \"#7201a8\"], [0.3333333333333333, \"#9c179e\"], [0.4444444444444444, \"#bd3786\"], [0.5555555555555556, \"#d8576b\"], [0.6666666666666666, \"#ed7953\"], [0.7777777777777778, \"#fb9f3a\"], [0.8888888888888888, \"#fdca26\"], [1.0, \"#f0f921\"]], \"type\": \"histogram2d\"}], \"histogram2dcontour\": [{\"colorbar\": {\"outlinewidth\": 0, \"ticks\": \"\"}, \"colorscale\": [[0.0, \"#0d0887\"], [0.1111111111111111, \"#46039f\"], [0.2222222222222222, \"#7201a8\"], [0.3333333333333333, \"#9c179e\"], [0.4444444444444444, \"#bd3786\"], [0.5555555555555556, \"#d8576b\"], [0.6666666666666666, \"#ed7953\"], [0.7777777777777778, \"#fb9f3a\"], [0.8888888888888888, \"#fdca26\"], [1.0, \"#f0f921\"]], \"type\": \"histogram2dcontour\"}], \"mesh3d\": [{\"colorbar\": {\"outlinewidth\": 0, \"ticks\": \"\"}, \"type\": \"mesh3d\"}], \"parcoords\": [{\"line\": {\"colorbar\": {\"outlinewidth\": 0, \"ticks\": \"\"}}, \"type\": \"parcoords\"}], \"pie\": [{\"automargin\": true, \"type\": \"pie\"}], \"scatter\": [{\"marker\": {\"colorbar\": {\"outlinewidth\": 0, \"ticks\": \"\"}}, \"type\": \"scatter\"}], \"scatter3d\": [{\"line\": {\"colorbar\": {\"outlinewidth\": 0, \"ticks\": \"\"}}, \"marker\": {\"colorbar\": {\"outlinewidth\": 0, \"ticks\": \"\"}}, \"type\": \"scatter3d\"}], \"scattercarpet\": [{\"marker\": {\"colorbar\": {\"outlinewidth\": 0, \"ticks\": \"\"}}, \"type\": \"scattercarpet\"}], \"scattergeo\": [{\"marker\": {\"colorbar\": {\"outlinewidth\": 0, \"ticks\": \"\"}}, \"type\": \"scattergeo\"}], \"scattergl\": [{\"marker\": {\"colorbar\": {\"outlinewidth\": 0, \"ticks\": \"\"}}, \"type\": \"scattergl\"}], \"scattermapbox\": [{\"marker\": {\"colorbar\": {\"outlinewidth\": 0, \"ticks\": \"\"}}, \"type\": \"scattermapbox\"}], \"scatterpolar\": [{\"marker\": {\"colorbar\": {\"outlinewidth\": 0, \"ticks\": \"\"}}, \"type\": \"scatterpolar\"}], \"scatterpolargl\": [{\"marker\": {\"colorbar\": {\"outlinewidth\": 0, \"ticks\": \"\"}}, \"type\": \"scatterpolargl\"}], \"scatterternary\": [{\"marker\": {\"colorbar\": {\"outlinewidth\": 0, \"ticks\": \"\"}}, \"type\": \"scatterternary\"}], \"surface\": [{\"colorbar\": {\"outlinewidth\": 0, \"ticks\": \"\"}, \"colorscale\": [[0.0, \"#0d0887\"], [0.1111111111111111, \"#46039f\"], [0.2222222222222222, \"#7201a8\"], [0.3333333333333333, \"#9c179e\"], [0.4444444444444444, \"#bd3786\"], [0.5555555555555556, \"#d8576b\"], [0.6666666666666666, \"#ed7953\"], [0.7777777777777778, \"#fb9f3a\"], [0.8888888888888888, \"#fdca26\"], [1.0, \"#f0f921\"]], \"type\": \"surface\"}], \"table\": [{\"cells\": {\"fill\": {\"color\": \"#EBF0F8\"}, \"line\": {\"color\": \"white\"}}, \"header\": {\"fill\": {\"color\": \"#C8D4E3\"}, \"line\": {\"color\": \"white\"}}, \"type\": \"table\"}]}, \"layout\": {\"annotationdefaults\": {\"arrowcolor\": \"#2a3f5f\", \"arrowhead\": 0, \"arrowwidth\": 1}, \"coloraxis\": {\"colorbar\": {\"outlinewidth\": 0, \"ticks\": \"\"}}, \"colorscale\": {\"diverging\": [[0, \"#8e0152\"], [0.1, \"#c51b7d\"], [0.2, \"#de77ae\"], [0.3, \"#f1b6da\"], [0.4, \"#fde0ef\"], [0.5, \"#f7f7f7\"], [0.6, \"#e6f5d0\"], [0.7, \"#b8e186\"], [0.8, \"#7fbc41\"], [0.9, \"#4d9221\"], [1, \"#276419\"]], \"sequential\": [[0.0, \"#0d0887\"], [0.1111111111111111, \"#46039f\"], [0.2222222222222222, \"#7201a8\"], [0.3333333333333333, \"#9c179e\"], [0.4444444444444444, \"#bd3786\"], [0.5555555555555556, \"#d8576b\"], [0.6666666666666666, \"#ed7953\"], [0.7777777777777778, \"#fb9f3a\"], [0.8888888888888888, \"#fdca26\"], [1.0, \"#f0f921\"]], \"sequentialminus\": [[0.0, \"#0d0887\"], [0.1111111111111111, \"#46039f\"], [0.2222222222222222, \"#7201a8\"], [0.3333333333333333, \"#9c179e\"], [0.4444444444444444, \"#bd3786\"], [0.5555555555555556, \"#d8576b\"], [0.6666666666666666, \"#ed7953\"], [0.7777777777777778, \"#fb9f3a\"], [0.8888888888888888, \"#fdca26\"], [1.0, \"#f0f921\"]]}, \"colorway\": [\"#636efa\", \"#EF553B\", \"#00cc96\", \"#ab63fa\", \"#FFA15A\", \"#19d3f3\", \"#FF6692\", \"#B6E880\", \"#FF97FF\", \"#FECB52\"], \"font\": {\"color\": \"#2a3f5f\"}, \"geo\": {\"bgcolor\": \"white\", \"lakecolor\": \"white\", \"landcolor\": \"#E5ECF6\", \"showlakes\": true, \"showland\": true, \"subunitcolor\": \"white\"}, \"hoverlabel\": {\"align\": \"left\"}, \"hovermode\": \"closest\", \"mapbox\": {\"style\": \"light\"}, \"paper_bgcolor\": \"white\", \"plot_bgcolor\": \"#E5ECF6\", \"polar\": {\"angularaxis\": {\"gridcolor\": \"white\", \"linecolor\": \"white\", \"ticks\": \"\"}, \"bgcolor\": \"#E5ECF6\", \"radialaxis\": {\"gridcolor\": \"white\", \"linecolor\": \"white\", \"ticks\": \"\"}}, \"scene\": {\"xaxis\": {\"backgroundcolor\": \"#E5ECF6\", \"gridcolor\": \"white\", \"gridwidth\": 2, \"linecolor\": \"white\", \"showbackground\": true, \"ticks\": \"\", \"zerolinecolor\": \"white\"}, \"yaxis\": {\"backgroundcolor\": \"#E5ECF6\", \"gridcolor\": \"white\", \"gridwidth\": 2, \"linecolor\": \"white\", \"showbackground\": true, \"ticks\": \"\", \"zerolinecolor\": \"white\"}, \"zaxis\": {\"backgroundcolor\": \"#E5ECF6\", \"gridcolor\": \"white\", \"gridwidth\": 2, \"linecolor\": \"white\", \"showbackground\": true, \"ticks\": \"\", \"zerolinecolor\": \"white\"}}, \"shapedefaults\": {\"line\": {\"color\": \"#2a3f5f\"}}, \"ternary\": {\"aaxis\": {\"gridcolor\": \"white\", \"linecolor\": \"white\", \"ticks\": \"\"}, \"baxis\": {\"gridcolor\": \"white\", \"linecolor\": \"white\", \"ticks\": \"\"}, \"bgcolor\": \"#E5ECF6\", \"caxis\": {\"gridcolor\": \"white\", \"linecolor\": \"white\", \"ticks\": \"\"}}, \"title\": {\"x\": 0.05}, \"xaxis\": {\"automargin\": true, \"gridcolor\": \"white\", \"linecolor\": \"white\", \"ticks\": \"\", \"title\": {\"standoff\": 15}, \"zerolinecolor\": \"white\", \"zerolinewidth\": 2}, \"yaxis\": {\"automargin\": true, \"gridcolor\": \"white\", \"linecolor\": \"white\", \"ticks\": \"\", \"title\": {\"standoff\": 15}, \"zerolinecolor\": \"white\", \"zerolinewidth\": 2}}}, \"xaxis\": {\"anchor\": \"y\", \"domain\": [0.0, 1.0], \"title\": {\"text\": \"PC1\"}}, \"yaxis\": {\"anchor\": \"x\", \"domain\": [0.0, 1.0], \"title\": {\"text\": \"PC2\"}}},\n",
              "                        {\"responsive\": true}\n",
              "                    ).then(function(){\n",
              "                            \n",
              "var gd = document.getElementById('f1bb49db-4a92-48f6-93d3-88010a317f2d');\n",
              "var x = new MutationObserver(function (mutations, observer) {{\n",
              "        var display = window.getComputedStyle(gd).display;\n",
              "        if (!display || display === 'none') {{\n",
              "            console.log([gd, 'removed!']);\n",
              "            Plotly.purge(gd);\n",
              "            observer.disconnect();\n",
              "        }}\n",
              "}});\n",
              "\n",
              "// Listen for the removal of the full notebook cells\n",
              "var notebookContainer = gd.closest('#notebook-container');\n",
              "if (notebookContainer) {{\n",
              "    x.observe(notebookContainer, {childList: true});\n",
              "}}\n",
              "\n",
              "// Listen for the clearing of the current output cell\n",
              "var outputEl = gd.closest('.output');\n",
              "if (outputEl) {{\n",
              "    x.observe(outputEl, {childList: true});\n",
              "}}\n",
              "\n",
              "                        })\n",
              "                };\n",
              "                \n",
              "            </script>\n",
              "        </div>\n",
              "</body>\n",
              "</html>"
            ]
          },
          "metadata": {
            "tags": []
          }
        }
      ]
    },
    {
      "cell_type": "code",
      "metadata": {
        "id": "11NwSt4j0Up8",
        "colab_type": "code",
        "colab": {
          "base_uri": "https://localhost:8080/",
          "height": 49
        },
        "outputId": "2f6a4bf2-6138-4ab8-e9e7-39659addb2b6"
      },
      "source": [
        "(x_train, y_train), (x_test, y_test)= keras.datasets.mnist.load_data()\n",
        "x_train= (x_train)/255.0\n",
        "x_test= (x_test)/255.0"
      ],
      "execution_count": 28,
      "outputs": [
        {
          "output_type": "stream",
          "text": [
            "Downloading data from https://storage.googleapis.com/tensorflow/tf-keras-datasets/mnist.npz\n",
            "11493376/11490434 [==============================] - 0s 0us/step\n"
          ],
          "name": "stdout"
        }
      ]
    },
    {
      "cell_type": "code",
      "metadata": {
        "id": "TcBC2mtTArfW",
        "colab_type": "code",
        "colab": {}
      },
      "source": [
        "def flatten(data):\n",
        "  new_data = data.reshape(data.shape[0], -1)\n",
        "  return new_data"
      ],
      "execution_count": 0,
      "outputs": []
    },
    {
      "cell_type": "code",
      "metadata": {
        "id": "U5ae0_aZBPYD",
        "colab_type": "code",
        "outputId": "7c44c4c6-8a52-46e4-f41f-d0a40e0b9c1b",
        "colab": {
          "base_uri": "https://localhost:8080/",
          "height": 32
        }
      },
      "source": [
        "x = flatten(x_train)\n",
        "x.shape"
      ],
      "execution_count": 30,
      "outputs": [
        {
          "output_type": "execute_result",
          "data": {
            "text/plain": [
              "(60000, 784)"
            ]
          },
          "metadata": {
            "tags": []
          },
          "execution_count": 30
        }
      ]
    },
    {
      "cell_type": "code",
      "metadata": {
        "id": "RHrnhOanBfSG",
        "colab_type": "code",
        "outputId": "2cae1bfd-72fb-4121-8af4-d92c1ed27ff1",
        "colab": {
          "base_uri": "https://localhost:8080/",
          "height": 32
        }
      },
      "source": [
        "U, S, V = np.linalg.svd(np.dot(x.T, x))\n",
        "np.round(S/np.sum(np.abs(S)), 2)[:10]"
      ],
      "execution_count": 31,
      "outputs": [
        {
          "output_type": "execute_result",
          "data": {
            "text/plain": [
              "array([0.43, 0.05, 0.04, 0.04, 0.03, 0.03, 0.02, 0.02, 0.02, 0.01])"
            ]
          },
          "metadata": {
            "tags": []
          },
          "execution_count": 31
        }
      ]
    },
    {
      "cell_type": "code",
      "metadata": {
        "id": "U0QeKIcACVk3",
        "colab_type": "code",
        "colab": {}
      },
      "source": [
        "Z = np.dot(x, U[:, 0:10])"
      ],
      "execution_count": 0,
      "outputs": []
    },
    {
      "cell_type": "code",
      "metadata": {
        "id": "O3q35I2KCcgt",
        "colab_type": "code",
        "colab": {}
      },
      "source": [
        "mnist_df = pd.DataFrame(data = Z[::50], columns = ['PC'+ str(i + 1) for i in range(Z.shape[1])])"
      ],
      "execution_count": 0,
      "outputs": []
    },
    {
      "cell_type": "code",
      "metadata": {
        "id": "Is_aUrRjDWrU",
        "colab_type": "code",
        "colab": {}
      },
      "source": [
        "mnist_df['value'] = y_train[::50]"
      ],
      "execution_count": 0,
      "outputs": []
    },
    {
      "cell_type": "code",
      "metadata": {
        "id": "UUWQTzrmEIOy",
        "colab_type": "code",
        "outputId": "0407fc7e-352d-41a4-9d51-dd15925da381",
        "colab": {
          "base_uri": "https://localhost:8080/",
          "height": 201
        }
      },
      "source": [
        "mnist_df.head()"
      ],
      "execution_count": 35,
      "outputs": [
        {
          "output_type": "execute_result",
          "data": {
            "text/html": [
              "<div>\n",
              "<style scoped>\n",
              "    .dataframe tbody tr th:only-of-type {\n",
              "        vertical-align: middle;\n",
              "    }\n",
              "\n",
              "    .dataframe tbody tr th {\n",
              "        vertical-align: top;\n",
              "    }\n",
              "\n",
              "    .dataframe thead th {\n",
              "        text-align: right;\n",
              "    }\n",
              "</style>\n",
              "<table border=\"1\" class=\"dataframe\">\n",
              "  <thead>\n",
              "    <tr style=\"text-align: right;\">\n",
              "      <th></th>\n",
              "      <th>PC1</th>\n",
              "      <th>PC2</th>\n",
              "      <th>PC3</th>\n",
              "      <th>PC4</th>\n",
              "      <th>PC5</th>\n",
              "      <th>PC6</th>\n",
              "      <th>PC7</th>\n",
              "      <th>PC8</th>\n",
              "      <th>PC9</th>\n",
              "      <th>PC10</th>\n",
              "      <th>value</th>\n",
              "    </tr>\n",
              "  </thead>\n",
              "  <tbody>\n",
              "    <tr>\n",
              "      <th>0</th>\n",
              "      <td>-6.498235</td>\n",
              "      <td>0.186086</td>\n",
              "      <td>1.209039</td>\n",
              "      <td>0.365287</td>\n",
              "      <td>-2.008522</td>\n",
              "      <td>-0.953211</td>\n",
              "      <td>0.116981</td>\n",
              "      <td>-1.835498</td>\n",
              "      <td>0.113658</td>\n",
              "      <td>-0.825776</td>\n",
              "      <td>5</td>\n",
              "    </tr>\n",
              "    <tr>\n",
              "      <th>1</th>\n",
              "      <td>-4.359774</td>\n",
              "      <td>-0.491134</td>\n",
              "      <td>3.013455</td>\n",
              "      <td>1.666054</td>\n",
              "      <td>-0.804062</td>\n",
              "      <td>-1.124927</td>\n",
              "      <td>0.426678</td>\n",
              "      <td>-1.253710</td>\n",
              "      <td>-1.832299</td>\n",
              "      <td>0.906776</td>\n",
              "      <td>3</td>\n",
              "    </tr>\n",
              "    <tr>\n",
              "      <th>2</th>\n",
              "      <td>-4.355439</td>\n",
              "      <td>0.786783</td>\n",
              "      <td>-0.573431</td>\n",
              "      <td>-0.469241</td>\n",
              "      <td>-0.643348</td>\n",
              "      <td>-1.575969</td>\n",
              "      <td>-0.134320</td>\n",
              "      <td>1.060251</td>\n",
              "      <td>0.507342</td>\n",
              "      <td>-1.791437</td>\n",
              "      <td>5</td>\n",
              "    </tr>\n",
              "    <tr>\n",
              "      <th>3</th>\n",
              "      <td>-6.187624</td>\n",
              "      <td>1.626297</td>\n",
              "      <td>-0.627420</td>\n",
              "      <td>-1.301135</td>\n",
              "      <td>0.364680</td>\n",
              "      <td>-1.754990</td>\n",
              "      <td>2.302036</td>\n",
              "      <td>2.649861</td>\n",
              "      <td>0.013690</td>\n",
              "      <td>-0.459652</td>\n",
              "      <td>4</td>\n",
              "    </tr>\n",
              "    <tr>\n",
              "      <th>4</th>\n",
              "      <td>-4.618234</td>\n",
              "      <td>2.452212</td>\n",
              "      <td>0.441833</td>\n",
              "      <td>0.272354</td>\n",
              "      <td>-0.255044</td>\n",
              "      <td>-2.164007</td>\n",
              "      <td>2.292964</td>\n",
              "      <td>-0.702610</td>\n",
              "      <td>1.285908</td>\n",
              "      <td>-1.401824</td>\n",
              "      <td>1</td>\n",
              "    </tr>\n",
              "  </tbody>\n",
              "</table>\n",
              "</div>"
            ],
            "text/plain": [
              "        PC1       PC2       PC3       PC4  ...       PC8       PC9      PC10  value\n",
              "0 -6.498235  0.186086  1.209039  0.365287  ... -1.835498  0.113658 -0.825776      5\n",
              "1 -4.359774 -0.491134  3.013455  1.666054  ... -1.253710 -1.832299  0.906776      3\n",
              "2 -4.355439  0.786783 -0.573431 -0.469241  ...  1.060251  0.507342 -1.791437      5\n",
              "3 -6.187624  1.626297 -0.627420 -1.301135  ...  2.649861  0.013690 -0.459652      4\n",
              "4 -4.618234  2.452212  0.441833  0.272354  ... -0.702610  1.285908 -1.401824      1\n",
              "\n",
              "[5 rows x 11 columns]"
            ]
          },
          "metadata": {
            "tags": []
          },
          "execution_count": 35
        }
      ]
    },
    {
      "cell_type": "code",
      "metadata": {
        "id": "KAfwt-izDXs4",
        "colab_type": "code",
        "outputId": "ed830d4c-83ba-44f1-cb1b-69b253abd7a3",
        "colab": {
          "base_uri": "https://localhost:8080/",
          "height": 542
        }
      },
      "source": [
        "fig = px.scatter_3d(mnist_df, x='PC1', y='PC2', z='PC3',\n",
        "              color='value')\n",
        "fig.show()"
      ],
      "execution_count": 36,
      "outputs": [
        {
          "output_type": "display_data",
          "data": {
            "text/html": [
              "<html>\n",
              "<head><meta charset=\"utf-8\" /></head>\n",
              "<body>\n",
              "    <div>\n",
              "            <script src=\"https://cdnjs.cloudflare.com/ajax/libs/mathjax/2.7.5/MathJax.js?config=TeX-AMS-MML_SVG\"></script><script type=\"text/javascript\">if (window.MathJax) {MathJax.Hub.Config({SVG: {font: \"STIX-Web\"}});}</script>\n",
              "                <script type=\"text/javascript\">window.PlotlyConfig = {MathJaxConfig: 'local'};</script>\n",
              "        <script src=\"https://cdn.plot.ly/plotly-latest.min.js\"></script>    \n",
              "            <div id=\"766a538f-aa33-40b9-8dbf-22ab61fd7cef\" class=\"plotly-graph-div\" style=\"height:525px; width:100%;\"></div>\n",
              "            <script type=\"text/javascript\">\n",
              "                \n",
              "                    window.PLOTLYENV=window.PLOTLYENV || {};\n",
              "                    \n",
              "                if (document.getElementById(\"766a538f-aa33-40b9-8dbf-22ab61fd7cef\")) {\n",
              "                    Plotly.newPlot(\n",
              "                        '766a538f-aa33-40b9-8dbf-22ab61fd7cef',\n",
              "                        [{\"hoverlabel\": {\"namelength\": 0}, \"hovertemplate\": \"value=5<br>PC1=%{x}<br>PC2=%{y}<br>PC3=%{z}\", \"legendgroup\": \"value=5\", \"marker\": {\"color\": \"#636efa\", \"symbol\": \"circle\"}, \"mode\": \"markers\", \"name\": \"value=5\", \"scene\": \"scene\", \"showlegend\": true, \"type\": \"scatter3d\", \"x\": [-6.498235089389507, -4.3554394326586054, -5.2055786190405815, -6.00911528026777, -4.993375909409802, -4.2752103965970845, -4.83080468102926, -4.174079001317062, -7.182146180083948, -3.871527625013836, -6.047095036468603, -4.324789543815096, -4.52096733365526, -5.30581315314349, -9.7875394081231, -6.7130420918115945, -4.6997069722320415, -5.740577370357475, -3.850078483666375, -5.462958938495524, -6.395193024688428, -6.106260751666146, -6.7047990096254315, -7.31303100246963, -5.779146502260621, -4.301040004633412, -5.292277936422402, -7.818874392473982, -4.990185383339359, -7.584586480929227, -4.484683071213907, -4.886039544656101, -7.990787892979994, -5.706701206696296, -7.69928680913436, -7.492841969237514, -4.813509528769439, -6.835822909391268, -6.027593592928118, -6.022614135312538, -5.608906459611227, -6.554164536183735, -3.4047947675220827, -5.977616994896758, -5.374632320722725, -5.746947947915203, -6.077641943708183, -4.315239504962783, -4.7687214010224706, -3.551159828703931, -4.002248299981573, -5.517274240399714, -6.569186698134012, -5.512445487184538, -6.322733540910987, -4.394323246751191, -6.779876016166573, -4.688788129008545, -7.656901447884575, -7.186328524378302, -6.598819069914549, -3.1513702274292132, -6.962788412311308, -3.428050302605658, -4.22273487910521, -5.308000667822245, -6.346459702652914, -5.212039347693334, -5.117371542395856, -6.9231871416395325, -7.511650972299591, -4.8085093423348795, -8.559367943074474, -5.3178729066532195, -5.542977990713265, -8.971133922867217, -4.97304213947563, -7.060797423032984, -4.652409497165924, -4.765670350801312, -5.010672857591991, -4.0005693582622195, -4.1671773022284535, -5.442697160926459, -8.191194096282754, -6.380014764396855, -5.787816186528953, -6.787207473920574, -5.789429828262241, -2.8646077543133197, -5.6626345115073295, -7.310402511419222, -5.6989354393253855, -10.732027753110822, -5.887573916523476, -9.587563270885981, -5.395458809105489, -9.901205798510315, -6.861780123302864, -6.349879263417831, -8.716874685250911, -5.443891677810829, -8.79217051419914, -5.96251605453341, -5.370507501835355, -7.455975748353881, -7.135141707713311, -10.14630110315707, -5.162873545429272, -7.451992850998544, -7.031953316482212], \"y\": [0.1860856250543642, 0.7867829543519388, -0.7338992549282275, -1.1922425678019533, 0.6507824970258159, -0.3745809066421229, 0.6700827056303706, 0.12725973624696058, -0.8205772157925122, -0.28603970584557437, -2.014890112896519, -0.5364349311296585, -1.2019212658645375, 1.1489148773743056, -0.9735261942367267, 0.4331605425413044, -0.9162732576804692, -3.3326401237446714, -1.2869014212832686, -1.4183436904472915, -3.0175710350430633, -3.292847973503308, -0.43749809651423777, -1.312223675449101, -1.8897986844311663, 0.6303253170436846, -1.5956113471153999, 0.08696336911220812, -1.5361438453387362, -1.8482175416740543, -0.5152054200296582, -0.7265364039039105, -2.61918171435456, -1.210449222150814, -2.8034091240182413, -1.785115946418066, 1.6050081023095106, -0.360865352892904, -2.1165758353674087, -0.06704585906395001, 2.8830697557239184, -1.7526764812164135, 0.34146496373266655, -1.9925940406872649, -2.288986130760492, -1.0736878930647231, 0.4276373257050814, -2.0379838988197405, 0.16103790764178438, 0.39848618879912123, 0.8628270712081663, -1.4332319995824676, -0.7351173986611177, -0.532692113468404, -2.757113587665261, -1.5594556458571829, -1.8289692790654195, 0.2121334130268897, -0.0683148823537938, -0.739506030863089, -1.0718362162836872, -0.05925648730426074, 0.3604435930080343, -0.37734891439444024, -1.174558974767051, -0.4555762707090627, -2.7571119120343686, 1.066910366919323, 1.6428498478720137, 1.419990875415112, -1.4562844645369382, 1.3456354274494802, 0.9690303015719673, 1.974693860408044, -1.49640243499387, -1.5704737649392557, 0.4394921029205731, 0.8931356774713441, 1.3885875622847015, 2.1074963937823146, -1.0294059526318842, 1.2917248857431307, 0.9521365791271988, 0.9582344282311649, -0.16230313731044502, 1.1456014627487419, -2.283541892577649, -1.0256123196616598, -1.2625051257813287, 0.3570531665096522, -1.1219996339098464, 1.3334843426822045, 0.020831419858752254, -1.6471111071953188, -1.5088801235464784, -0.6961533554481214, -1.1764974500549563, -4.344522562893572, -0.6030539787303096, -1.9920930896927254, -0.6106867261504434, -1.1278297082243958, 0.32685752140806523, -1.1047826192809485, -2.5529661161964228, -3.490521568105077, -2.8849704656627213, -1.9764668009053932, 0.29174084937965844, 0.1798829434229458, 2.1807712174813565], \"z\": [1.2090385967063253, -0.5734312571184176, -0.3737636954581767, -0.6147277917698796, 1.111588741600503, -1.3482800278692744, 0.6429534454494724, 0.2817789164507129, 2.3117795367518656, 0.47585084894787066, 2.306059441051751, 1.2615517755289978, -0.016581981614942426, -1.6569040586347865, 1.1874060539199132, 1.642623792285494, 0.6346089165047021, 2.5622689169554618, 0.3889103546357262, -2.6545276957505473, 0.335361195473633, 2.0123312362041874, -0.4741242296913408, 2.5218682816014435, 1.846866387842907, -0.6345460829800521, -0.7720143498305433, -0.7533819050919113, 2.3809594385673876, 1.842010540445649, -0.6045190704931502, 0.9990873898042912, 1.002756538510635, 0.7758687563537989, 1.8268860891036025, 1.37909425561743, -0.4406442672805888, -1.5922056396586155, 2.3181520917274856, 0.35434655991637243, 1.3837936938793114, 2.8084178241837705, -0.8458987678867566, 1.2055489308726774, 0.014383950335624618, 1.8843676787358885, -1.6940147204670304, -0.03646611278108358, -0.22809059854756564, -0.7232603338112975, -0.39005728269317086, -0.7322364752592593, -1.9813832184897995, -0.13109975189307496, 1.1964695217318506, 2.0341688817762407, -1.467677147396403, -1.3789427939851855, 1.6146068593089904, 0.7871471010580056, -0.36234840959500236, 0.6821014441309786, -1.5911947824445711, -2.215156201079026, 0.16855386007801415, -2.5287949108831365, 0.9708495874989026, 0.46934490438945126, 1.1466483003410952, -0.03377225419945763, -1.7385433424095622, 0.45199097528661814, 0.1715365619191057, 0.11288961371544376, -0.9076184316020179, 1.1286940098296023, -1.3807856451204021, 0.712255710399587, 2.3373818310472014, 2.4332293811373886, -0.9763446411239483, -1.265711639558144, 1.2499460212867417, 1.5399061545804693, -0.3280653129434219, -1.6052271326050387, 0.668472539728854, 0.7657997524300574, 0.16912021259540044, 1.0395764287135068, -1.0956523972466092, 0.22638848614066345, -3.174109899250303, -0.7198232127898276, -1.3721137250003337, -0.9377234247286806, -0.15991804580777036, 1.898593458991697, 1.6412818129362496, -0.020562463551769203, 1.7556290016134097, 1.0903369390621063, -0.055854663852487496, -1.8381348300756852, 1.9729868745751276, 2.7298594194027026, 2.708163289938186, -0.2119090470449141, 0.2551236674040274, 0.22602392976660052, 2.195120169515442]}, {\"hoverlabel\": {\"namelength\": 0}, \"hovertemplate\": \"value=3<br>PC1=%{x}<br>PC2=%{y}<br>PC3=%{z}\", \"legendgroup\": \"value=3\", \"marker\": {\"color\": \"#EF553B\", \"symbol\": \"circle\"}, \"mode\": \"markers\", \"name\": \"value=3\", \"scene\": \"scene\", \"showlegend\": true, \"type\": \"scatter3d\", \"x\": [-4.359774046651917, -5.382873889212953, -3.8618574404827952, -4.6455715234619435, -10.976486324550113, -6.184443984311517, -3.70371063747392, -6.5411542420646835, -6.318625591228905, -5.361136560382649, -7.3575075460485815, -4.5318699434977425, -4.998671555244876, -4.653501589346284, -4.975776186810689, -5.1388852194690875, -4.51833160994531, -9.963056104332681, -5.751365824730366, -4.8334365160317345, -5.103003829063634, -7.932625305330522, -6.233214255174267, -6.545119135769138, -5.171446217244091, -7.632529205103369, -5.415010598213775, -6.437715785319193, -4.387471758197068, -5.072797480594654, -9.154380928594902, -4.944748014514298, -4.529973557538862, -4.009576788223905, -6.618776252891808, -6.052003344063483, -4.5671043069792425, -6.68617488913901, -2.6664271737762673, -5.243683422837024, -5.343405380253153, -5.041208100382761, -5.327997418806244, -6.471886609921622, -6.202899571367034, -7.602094608900223, -8.470631739349741, -5.656537071531485, -6.114150710170358, -4.313333385921968, -4.751202451347868, -6.207410268170478, -9.332630443711544, -4.329436463560898, -10.041433723660798, -4.16514991222338, -7.335585378521796, -3.3426410897018353, -6.566903362412454, -4.996645526339049, -8.040283312205453, -5.903674884979358, -4.776664399319819, -5.803303678507117, -6.324697673844121, -4.306599240115793, -8.021851542310378, -8.006161042433568, -5.398343623651961, -4.763478999899069, -4.41581253089714, -5.8594751613410345, -5.482977588506909, -3.7767630885983845, -6.656027069609911, -7.426293487381471, -4.626291280378416, -7.102477720034561, -5.491102720403604, -3.0777336038991097, -6.5597696441007916, -4.7548501655219955, -6.560763426926572, -5.7331336124326855, -9.523152299388633, -3.8432969046189704, -5.011834118834389, -3.6706350931414975, -5.830782551624771, -3.810837901956955, -4.874599762792246, -5.597802200355661, -6.746610021146043, -4.878324676868351, -4.6817667082369905, -5.215970081756691, -5.700518601681734, -7.0784925228265525, -5.493254144578834, -5.959265810094565, -4.629181430152869, -8.109170023231398, -2.30209859911342, -6.008363463451451, -5.631039535376133, -3.8788790467336507, -4.444292990532057, -7.649895295959516, -5.718170975598511, -5.644920953339806, -11.456125250134146, -6.2835445019393505, -6.954178923636855, -8.386096925887518, -6.535460491433628, -3.8180925391272122, -8.475813357600757, -4.295085054563664, -4.194665759060689, -6.208163011523933, -6.084814923299025, -6.478205394536541, -5.413232964760704, -6.771921792020915, -5.47696589683679, -4.816083419169188, -6.612043820557509, -6.9408794621769765, -5.7712572563401885, -4.863787796961654], \"y\": [-0.49113387904940564, 0.2687006025371049, 1.1821715714055063, 0.09099910959282653, -1.7540611321479171, -1.3145853687681046, 2.2694925122997303, -0.56542257520365, 0.4063914652083417, -0.15526567232647298, 1.012511123154631, -0.1393879007779297, -0.5840051796330881, -1.6010084712447485, 1.51268809076947, -1.9786180924816932, 0.6988028751151424, 1.0616571035185665, -1.4169534662250267, -0.4763323402155829, -1.1715741177049728, -0.4076159800644367, 3.705700016767796, -1.9809514815974376, 0.958048616563448, 0.17121221905465273, -0.5000594772452575, 0.43507304463682706, 2.701473327790824, -0.25654342873623537, 1.8243862922027323, -0.827589044904996, -1.112715390459061, 0.8071235738929202, 0.9042945980217516, 0.10050195108037019, 1.2353135812617346, 1.2404967089785508, 0.17686263977160752, 1.7464840860246362, -1.4286818327610373, -1.1749885737006667, 0.596861550783415, -0.1065808927270683, -1.7731262492421611, -1.3814300430929345, -1.6117404258716619, -0.7552102895764666, -0.042981476878521, -0.4519501817280136, 0.8940712043164449, 0.9213462991478386, -0.060166284770846915, 0.3266390367853336, 0.23287486303059868, -1.0854968541996255, 2.4255900935907553, 1.3509265183175243, 0.43576319248910456, -1.233011108593534, -0.06985768866793776, 2.200959670101914, 2.361929665385157, -0.4825045051418517, -2.282838757212881, 0.17412207978872768, 1.1781514378552116, 1.4455709049924435, -0.4099111601353223, 2.4404905480416117, -0.0684354143154931, 1.5370633028260046, 1.155055205878536, 1.4782710724728345, 1.2143045160949242, 2.232524785924828, 0.11178168064731744, -0.5910836841821372, -0.1779221773779191, -0.4621003307009359, -0.4351773296870699, -0.13064625244484068, -0.0013060479074207126, -1.1910550489394665, 0.5900910274761423, 0.7005376252975057, 0.11732610863702905, 0.0851069191986773, 2.4631272565128848, -0.08694247585792494, -0.3095579200211501, -0.9791044490464127, 1.444515292129646, -0.126441493581093, 0.9218825281738804, -0.38591301038552206, 0.2487393823462285, 0.777657203438395, 0.7378563898252272, 0.9182527987335147, 0.47622081252428117, 2.643352178502765, -0.347071274389608, 0.24610819154442892, -0.604897781961375, 1.3561168670199801, 0.3303363966692976, -2.9819459949231746, 1.6119614014306674, 0.009236822159733427, -3.651692852000857, 1.6430135845241107, -0.15186448197467206, 0.6021472163316425, -0.46294884904161643, 0.9886730045986986, 0.45289822215088427, 0.6218769267885902, -0.41819635309148545, -2.4323814905272823, 1.1276882104134556, -0.6587136556979989, -1.1646163532224272, 0.5072832574113261, 1.281223536870739, -0.22331754086479577, -0.04508301799806133, 0.03359894343827449, 0.08499486393056835, 0.3186525915901901], \"z\": [3.013454532319019, -0.8754894705164233, -1.6240299089552948, 2.1391690351649757, 2.418283135486026, 3.60993224084058, 0.32756265734445855, 4.221394383151781, 2.3570546141650612, 2.107627461613936, 3.234794886692386, 2.3603258435508176, 2.3621252959607695, 2.352049725461556, 1.7897749051586747, 2.899913558342677, 0.2324737753751278, 2.2926775521675826, 2.9792144092201176, 1.5005948795388373, -0.7918275338703662, 2.7845597862644578, 1.3349095704591172, 2.1057077441684937, 2.1607890246631154, 3.2569962155203873, 2.4159685684175267, 2.3714652014071387, -0.2782441665604352, 3.4511618970411506, 2.216854597789646, 2.257651848111826, 2.3748919320372566, 0.5552740042789605, 2.972746648417788, 0.30747693132722087, 1.735855191268348, 2.218774106812025, 1.1074486145308924, 1.6450977959617232, 1.0346059374171321, 2.3521723820891722, 2.3863151409462686, 1.9749483469915978, 3.4692809668028732, 2.6624236287244165, 3.142683556915636, 1.9275720717734823, 2.5112414878807328, 2.593738907839045, -0.06934024259867139, 3.3643034544465733, 0.3076391022757047, 1.732196566304004, -0.3308257420938727, 1.697957492987595, 2.923666117710084, 1.1210015184931077, 1.7607539689485785, 3.0760756077350466, 2.2404660805336913, 1.0014434261306766, -0.9399827469012648, 1.9052232906908582, 2.89659189345656, 2.6941007714449783, 1.2060232181811028, 0.9063644516484584, 3.3532304568974993, 0.788511443208464, 2.201328866338825, 0.015259104555089775, 3.015960923708153, 0.016757263333912642, -0.30861126029083186, 2.966220869837708, 1.1258733473218847, 4.160636883676594, 1.2565695443458758, 1.7952152241711694, 2.233781029956632, 2.6006810851099917, 3.1018901218465302, 2.6501057939585198, 2.9175148737668715, 0.7930905810130823, 1.7654024027997035, 1.5064946111935371, 1.7539658524185464, 2.171550918211743, 1.1846019273578787, -0.4018384021935398, 2.0256864354629203, 3.0955585274934725, 0.5801823304462623, 2.1616322104169043, 2.845515216679871, 3.3311058287177175, 2.8290998278969646, 2.4733213073774443, 1.9141915920407901, -0.10496281323851414, 1.3040972760205556, 1.0059536724218998, -0.11739137875333316, 0.6584841479182142, 2.2624380455770843, 2.2433424386849983, 2.97808023243941, 2.922392249166054, 2.9288715218079684, 0.8356787575892332, 3.5217502710799824, 2.437137341580621, 3.6938440853356798, 1.0507808375653005, 3.8412118325843294, 2.161402385428659, 2.978439320225281, 2.659892160796893, 1.544789090213789, 2.9642440844507094, 2.3598773420484678, 0.7010430839173273, 1.1646516120939712, 1.4897156896053314, 2.307195571426685, 1.372831257600542, 1.361323227659649, 0.9214512173042816]}, {\"hoverlabel\": {\"namelength\": 0}, \"hovertemplate\": \"value=4<br>PC1=%{x}<br>PC2=%{y}<br>PC3=%{z}\", \"legendgroup\": \"value=4\", \"marker\": {\"color\": \"#00cc96\", \"symbol\": \"circle\"}, \"mode\": \"markers\", \"name\": \"value=4\", \"scene\": \"scene\", \"showlegend\": true, \"type\": \"scatter3d\", \"x\": [-6.1876237002044405, -4.5202032733729895, -4.9062859682627264, -5.203680572100659, -3.7295466968114424, -3.955661647455561, -6.418683993109086, -3.3625911207219166, -4.746956777722082, -5.839795812868277, -4.184486604905491, -5.173496977008932, -4.029849737620947, -2.8915428173907687, -3.5392938096148305, -5.365010853600466, -4.239175033227021, -4.6286605150537365, -5.1566236164918156, -5.903792192318955, -5.699975219707338, -5.841384753118761, -5.2579322229033725, -8.287590663963671, -6.2221612792524486, -5.333845057818105, -5.264148874639598, -6.567318635229186, -3.2668100362934354, -3.8326811920754875, -5.287103822824045, -5.306976283205318, -5.8072001028725175, -8.44414458913521, -3.5248214980480235, -5.904014230358422, -6.380578903864773, -4.816567312827686, -4.094092556131205, -5.728772585384235, -7.3624745594452525, -6.220466857870761, -4.213277116789074, -4.540964197418087, -6.8796145853137505, -5.099873081042498, -7.677737873094946, -4.111097902123465, -4.189751517091348, -3.952635825637461, -3.826108478768072, -3.424361760883864, -6.808574133645681, -7.738605292697242, -5.985112388328481, -5.601043825145049, -3.9709448064788253, -7.827090702096249, -5.710772952043609, -4.191610404055361, -4.758007462827612, -6.872479271024317, -6.6896714307921465, -8.220627078401503, -3.95361116658318, -3.6622850106364715, -5.071553544542817, -5.226950500304449, -6.044702701880371, -4.200203347590572, -4.029135616419422, -3.651232859429509, -7.7521094587657595, -4.745485573243644, -3.3882498291723935, -4.146468332509855, -3.2470410848944122, -7.111751591532137, -4.51961043100898, -5.009779700023597, -3.7586663378020493, -3.194201715585464, -5.021381354434219, -4.848712639745475, -4.614360644251236, -5.2239362099516224, -3.945570213924629, -5.2302462011069775, -8.803961154195907, -6.319478646548838, -4.626441202729622, -4.177486840434901, -7.4030757912423155, -5.346332664964548, -6.00033274264449, -4.738654244949776, -5.567771007952216, -5.207053474293709, -4.583809186816527, -6.9688113611872105, -5.019014093095131, -3.7390023872845273, -4.78413037404178, -6.13871534407569, -6.203405526165716, -5.922098882299598, -4.5748797674324875, -4.503240445049997, -6.018988453782247, -4.317245242089481, -4.611243634333836, -6.754027467151726, -5.071283590991657, -5.155112065807423, -4.205574296197096, -7.314268432906379, -5.79436586579287, -4.125387763375906], \"y\": [1.626296864533858, 0.3589999486123328, -0.09704929850309876, -2.384000767474041, 1.6107778492572522, 0.5387461243203958, 0.6084500945068285, 2.3831556475312996, 0.4214430124446332, 2.596367855170796, 1.9405241512829414, 0.7150278966076732, 2.542852861144407, 0.7766019388349156, 2.1666995435515597, -0.2486409093877208, -0.15389390382304352, -0.8752978623221732, -0.44061856015193224, -2.402582217305733, 0.5694342641413831, -1.0684092315393945, 0.39506446973935705, -4.584184628216506, 1.3558433860913974, 3.3156302204309758, 1.3473581404042576, -1.9426443952935204, -0.42712672298883525, -2.3711194639565987, 1.9686615272326942, -1.6060681679055338, -2.7140164833233316, 1.4468295915705833, 1.8345863515139016, -0.76861189761813, -0.6038674194694168, 0.304064347834855, 0.5585255400417821, 2.8749547976466614, -1.5338666537736712, 1.012911878042194, 1.6717008621115563, 2.5771045491105946, 2.87290447481804, -0.9867458028463049, 1.2405804051605238, -1.130620721744394, -0.48492900980354864, 1.5102280676273188, 1.9452220780790483, 0.08116714839450163, -3.1354138364985844, 2.6001385278242717, 1.4156386910868806, 0.6258051634255025, 3.0805477070721716, -3.0989886948969843, 0.34693019088981986, -2.7645284035672866, 1.4624574830582564, -0.6562386501463874, 0.8813794602235338, 1.3186599525325255, 0.495521331390755, -0.5127974482511439, 0.562050446369856, 0.17546384527377007, -2.0497901989214586, 1.442430909308985, -1.57311664276811, -2.712319453321472, 0.39979966680574536, -3.016435449258134, -1.1750689841267816, -0.073188977623831, 1.0199327352429688, 0.1598120630072681, 1.2784971526516182, -0.7965652745351893, 0.7329435731868074, 0.7787160280793124, 1.2307974780883815, -2.991287996984962, 2.2063954003281854, -2.1577786597881135, 2.1168503067121662, 1.4775403046233069, -1.3735298361933541, 1.2260782542833304, -1.8202985770896956, 0.47113312084389486, -0.6459732774059399, -1.6893769560444927, -1.6686533558787653, -2.863414421292666, 0.10024420057599168, 0.7852209817173202, -2.131275146194989, 1.5109553477184825, -0.7518804745739922, 0.09187967364999977, -0.04720100603779299, 1.462523206768152, 0.6768440024981992, 2.9977415530977125, -0.09785907013714083, -1.5614323724718175, 2.102645926809638, -0.4282945397138052, 0.986150292522308, 1.4081520174281108, 0.2852396077582917, -0.16202316029503272, 1.7966997836764294, 1.8094502270495958, 2.3068825459454576, 2.389918570412679], \"z\": [-0.6274203067104825, -2.2038411614227718, -1.621248623670703, -1.8879215864396166, -1.2974239430680867, -1.7595153345759353, -3.720257877123905, 0.5191716484293585, -2.306651116690041, -2.1093182727827298, -1.096355296569309, -2.014760249317098, -0.05505407399058897, -1.6683401082887266, -0.31551861954812277, -2.5856214704279292, -0.9872866124108597, -2.077807639086468, -3.4662732771805467, -2.717566188668769, -1.2266745781680435, -3.0739613023255696, -2.389645347288881, -2.2837854449060857, -1.8270251358620535, 0.6628786233501934, -2.3303958040664163, -2.3840231982289746, -2.2470242020236095, -1.4753250440813015, -0.4226408290849628, -3.03526986386849, -3.636481912479496, -2.162611084710841, -0.9805758527293384, -3.4968157265733164, -3.3613173461431, -1.301564490123282, -2.0436341058338225, -1.456247766877712, -1.4943848025869013, -1.7876972971228786, -1.765810811634932, -1.088320445659515, -1.7459328994544387, -3.628423111281064, -2.2903624139956578, -1.622439833768987, -2.086670178647828, -1.7974431580629375, -1.2447564088534246, -2.107164555118738, -3.7137758268315086, -2.9535555475932247, -1.5818329299468408, -2.3580618601503183, -0.133974137091886, -2.7370556925084526, -3.51096113321291, -2.051900645167588, -2.1516725545018955, -3.9328206023371717, -2.128618606507846, -2.1985991928454105, -2.8131925583358903, -1.7329220032275552, -2.629741559016421, -2.685771184072879, -2.593586344055831, -1.6439766942275498, -2.130555493604324, -0.8908739418189794, -3.914300264832909, -1.9464700272042879, -2.223982700712683, -2.3331073817197385, 0.1310188571227927, -3.835619429059144, -2.032094190363138, -2.7889042541009377, -1.8425098717526294, -1.4988395522743851, -1.1775274901605808, -2.1173116562742815, -0.5706781225401281, -3.266837311803006, -1.0628680017984111, -3.228403965274226, -4.274584419012189, -2.7911610144544228, -2.9017703525548257, -2.061839534474602, -4.405171486125259, -1.6744759090451433, -3.3378154412783423, -1.982037294114042, -3.179291534205926, -2.3431318237102055, -2.073048224153342, -1.433398043316314, -2.7892372747147114, -2.240681705774217, -1.407642907437182, -3.1176794223873614, -2.1486440716313604, -2.0229269499011546, -2.1682561750795073, -2.131346452841094, -2.4161629827997677, -2.855893230965235, -1.7834389849314882, -3.0045791444488925, -2.567106288320437, -3.5229511437158525, -1.399315514352729, -0.6434518725570264, -1.5844172759546562, 0.025783324376667666]}, {\"hoverlabel\": {\"namelength\": 0}, \"hovertemplate\": \"value=1<br>PC1=%{x}<br>PC2=%{y}<br>PC3=%{z}\", \"legendgroup\": \"value=1\", \"marker\": {\"color\": \"#ab63fa\", \"symbol\": \"circle\"}, \"mode\": \"markers\", \"name\": \"value=1\", \"scene\": \"scene\", \"showlegend\": true, \"type\": \"scatter3d\", \"x\": [-4.6182338094509205, -4.195850853336289, -3.9491714420329522, -4.809690461614192, -3.318169464242195, -3.7354404780147323, -4.080878804403692, -3.324362833899419, -3.604079412730462, -2.7619645802947717, -1.6420570015674758, -4.108913932628891, -2.888893841577404, -2.587454295744007, -3.018310361127905, -4.332246499525916, -2.439298375697745, -3.975742054604348, -4.261896187642784, -2.700521126866854, -5.662085958125357, -4.2118143770984915, -2.834938542574418, -3.395934476076044, -2.2005430600002343, -4.739714635968442, -3.0130973613159857, -2.661677667438311, -4.777939543839815, -2.5253419970274527, -2.498847999192273, -4.576182535813263, -2.9417237581617757, -2.212822391461426, -4.642869946716394, -1.8338014187922373, -3.6864111174447185, -3.046061912285074, -2.931267498644191, -4.2873913159119805, -3.316020465425173, -4.348494442831857, -2.5656200657779635, -2.839931856451527, -3.0735042144004816, -3.2827592485151755, -3.430944862830283, -2.933986350714259, -3.137928211469297, -3.7891663992277413, -3.920939571442025, -3.39734392313392, -2.7229878234965277, -3.3347111784231194, -3.714354076397936, -3.2838392353083554, -4.15550495360185, -3.391442800406828, -2.8259466915348606, -3.2229373995559683, -3.178470166013997, -2.2728053179587198, -3.5253364706303243, -2.874687942407802, -5.882128371040169, -3.3939707702398816, -4.9155576625275, -2.2503204983435796, -3.3982647073803824, -6.024645354589044, -2.7117111922093757, -3.5716821724321184, -4.552634296628817, -4.69245027076895, -4.6542598153622885, -4.368507462526364, -3.9630437649398145, -2.789883701174771, -2.9935604095087873, -5.160628059702596, -2.3162655718131253, -3.8674301458041636, -3.209250854452111, -2.845812451216731, -3.094339387789375, -3.6738251517250355, -2.6249125525719066, -2.472661700239762, -3.2770823668752076, -4.417840032153092, -3.2843288649122626, -2.1819324816871113, -2.686306515410486, -3.4023289533339454, -4.2549786139398975, -3.1953202654147463, -2.752920996711052, -4.55980968910861, -5.241644961869829, -2.7560572009834843, -6.060590259725254, -5.6287569187210895, -2.578703066434737, -3.0109690430971927, -3.4211369073082176, -4.161191212838684, -4.418140912508167, -4.3327985434535075, -5.188883305109712, -4.925676226029235, -3.615254374400949, -4.263694781454243, -3.550853981116106, -2.7904412206029767, -3.1316504000193546, -2.328134607768725, -2.5580163688972406, -2.8413947960863197, -5.312154066043195, -2.9054886730208445, -2.1395262811648594, -3.3009769553201824, -3.33762050249521, -2.7763607832289106, -3.9441301788115584], \"y\": [2.4522115116653906, 2.917377552955697, 3.386369511955648, 3.554566578920559, 2.545705917793185, 2.445654330572473, 3.0425404655873933, 2.6118127627417107, 2.748614508808015, 2.1329855209493087, 1.1237295985287474, 2.735143121191349, 2.3825434720781677, 1.7864333059452502, 2.0883138584619547, 3.3524025373880626, 1.747605734075702, 1.938451167927648, 3.037282469037308, 1.9965285886433004, 2.476191461687135, 3.7527385012719634, 2.2688825870390326, 2.249727932978807, 1.7434340927128604, 3.3750962956746515, 2.560512076404594, 1.961479125133936, 3.323790663723417, 2.305861402557388, 2.013535564089792, 3.1317484986061417, 2.611595884967705, 1.6742495120678198, 2.5479446531061227, 1.1552586478614346, 2.3833920079126694, 1.9636968139900821, 2.2849570078993757, 3.359898790729334, 2.0725039146901745, 2.901474945239678, 2.2104630025310166, 2.5084156369301356, 2.867442516273093, 3.1139375406438825, 2.3194978928756433, 2.424798954120799, 2.855161650257312, 2.5913796652188092, -0.02152327323623726, 2.1141085074767085, 2.0455471451715392, 1.8249348660351894, 3.0325906772181073, 2.2275984802138566, 2.0439170192081866, 2.901775572704234, 2.468045850128357, 2.6841966627428993, 1.1460544326082207, 1.7511362978791725, 2.3104693834329693, 1.292504893581605, 3.562751610471073, 3.0519108225337965, 3.796637351554025, 1.7389553205505057, 3.070808707872799, 4.253601635238206, 1.6124031633142264, 2.505731838115226, 3.752331371387365, 3.9929939832855506, 3.3985071596564604, 3.488813292462797, 2.1572311857345445, 1.6814804904393972, 2.8036483672619243, 3.943509916466002, 1.5031265375266527, 2.6208286844585458, 2.782689756319579, 2.343863680719827, 2.59446507475159, 2.7602289696239692, 2.4456067069212066, 2.0810639134498032, 2.1562006119076647, 1.8565679242031163, 2.4583664420033875, 1.9383904554846758, 2.290520820773001, 2.369038084831771, 2.7856627932726483, 1.8448101348399202, 2.5432796928549926, 2.9481218200798787, 3.8882813138208943, 1.5198168706445614, 2.816863329635291, 2.969202996856039, 2.421552358874487, 2.6102225383693836, 2.8713006746832597, 3.4014498903829313, 2.9113154693942, 2.2190559722667587, 3.4054553108950647, 3.3165891256234907, 3.390412282327007, 2.622786477059479, 3.274686074531297, 2.212631060988586, 2.4180237705047465, 2.0020243085190055, 1.663868774096994, 2.6136178599387887, 4.101249887017569, 2.489148399919892, 1.6953458932421774, 2.7973872346629807, 2.499267536172271, 2.2504328851802105, 2.591059614516827], \"z\": [0.44183286173699343, 1.9426962585482168, 1.6568639938583098, 1.6068430434166885, 0.9380903234053604, 0.4520434695131252, 1.1144311502885997, 0.6670091787403074, 2.2473183485081583, 1.0064370724135985, 0.32309638436982063, 1.3955808078798437, 1.4028483962860203, 0.7217249474626377, 1.9951228503284293, 2.2865799505785995, 0.316870459198413, 0.25707906332688457, 0.8901501946669801, 1.6484832595643581, 0.04759407528613968, 1.578183348458401, 2.105086840743984, 0.8837541906389789, 1.6785739461060352, 1.2900910815883595, 0.5851600597391606, 0.899347793451509, 1.3711217928545658, 1.8445115430659553, 0.6431651097275377, 0.8960906626702028, 1.6334809864507025, 0.44506930521436017, 0.32225667492810284, 0.32074949459257734, 0.7458814366965569, 0.11777360162961634, 0.9966456164759397, 0.8999767224354748, 0.5206332449511369, 2.194219203071578, 1.04305202110439, 1.748639505911666, 1.533905875290889, 1.4170953444615992, 0.4203708921466504, 1.0678432366408699, 0.9759224980466852, 0.4322238851713164, 1.9743801644513657, 0.6575720288087614, 1.0531971167210685, 0.9241022525352273, 0.6764246223321273, 1.1856232062558487, 0.7695487380541829, 2.2609166902411872, 0.8925503962649519, 2.4201186837968067, 2.168941314187757, 0.6539241994358271, 0.2889984194189281, 0.19652585476818538, 1.240776638336195, 1.7964868525912445, 2.1228954177104606, 1.9702774849414926, 1.9647995314334328, 1.9775443052468942, 0.49972863123642325, 0.8993230039672444, 2.422439711064557, 2.0440677140074035, 1.2628131036348273, 1.1456525633041907, -0.3213124236019428, 0.6539293344764694, 1.6134112897590933, 2.866530368673243, 0.3315901076260017, 1.1105808019283585, 1.4186180426918225, 1.6986463184689822, 1.8273818510347897, 2.6424642172566397, 1.6287394938710085, 1.3978304520870986, 2.5636524560489646, 0.5623604515193251, 1.2220994019921887, 0.7043216879593166, 1.8966509855217237, 0.5518432237006209, 1.3783918814836913, 0.6342997618048802, 1.6282892626520313, 0.3992749891078542, 1.6987891387574303, 0.3379128899945928, -0.21523582447939726, 0.31465711671738483, 1.0996321286192263, 1.9858933476845146, 2.1728704772250786, 2.5511497783869324, 1.1345374033472855, 0.3457260348402284, 2.245992605179214, 0.6929462836185657, 1.7682064936333604, 1.448740249115274, 2.043826813526869, 0.8549748249561372, 2.0945164268725596, 1.4313662077615483, 0.44799525689014125, 1.6477433614400816, 2.2686258583819, 2.186017625132935, 1.7001383529858483, 1.7648600826862697, 2.3667282920367185, 2.1891852361778947, 1.6928619017168027]}, {\"hoverlabel\": {\"namelength\": 0}, \"hovertemplate\": \"value=8<br>PC1=%{x}<br>PC2=%{y}<br>PC3=%{z}\", \"legendgroup\": \"value=8\", \"marker\": {\"color\": \"#FFA15A\", \"symbol\": \"circle\"}, \"mode\": \"markers\", \"name\": \"value=8\", \"scene\": \"scene\", \"showlegend\": true, \"type\": \"scatter3d\", \"x\": [-5.7186353058742165, -8.841979683394445, -9.574882298871463, -3.5490238427052607, -6.923965447218049, -7.459580655708972, -6.561418780842302, -5.920027809795135, -7.020284331998053, -5.780362951072855, -9.975607837706779, -6.9562666816239895, -5.4413023524798, -7.7751259644269055, -6.013217690536422, -4.929581868990791, -6.550745726467874, -8.186817500921846, -6.468975167061273, -8.317059208287283, -5.576216860658797, -10.636711231349697, -4.190273979689634, -6.324356639930268, -7.795841754305294, -5.901976396172632, -7.014316646054084, -7.523594537428154, -3.918821795617077, -5.789389519532176, -9.553004800218023, -8.202070611172175, -3.956121887137042, -6.99520769863332, -5.632664583441198, -7.372961985968743, -6.131917541291949, -8.37191716039199, -7.5868908566251525, -5.482363682937727, -7.5536853746388815, -6.106094081869681, -3.582798975717414, -8.19778975478391, -8.201869006870368, -7.0120097845988445, -4.876473326884081, -5.741187196850464, -5.476320805986862, -6.236280455382277, -7.826014995344401, -5.10370550049809, -9.06389007534718, -3.639299149146862, -5.996817533155942, -9.106671261328183, -12.847225817561698, -8.702336746060853, -6.898547204163947, -4.8863080010492315, -8.007656484565903, -5.3514956480911575, -8.39761564129824, -9.417988760459188, -5.626520701967882, -10.326199915649136, -11.441519156931134, -3.7968474803846246, -6.694922715334543, -5.424138671175002, -8.097078663574413, -4.892152246629894, -6.153265967279309, -5.35677214599579, -5.438996896841615, -7.778949198006469, -4.843745866757446, -5.324316684181088, -6.5394599176224695, -6.311303944314206, -7.4884988438572115, -7.285677570349428, -6.997288684554965, -5.749684265309262, -4.890381733638627, -6.642844162934494, -6.465353880991529, -9.47418388229879, -11.525408996012539, -8.079862549173553, -5.348622837756521, -6.654679672806565, -5.281686000780187, -5.448778956423395, -3.8898896684759663, -6.288409305169314, -6.88199637703782, -6.484058233500448, -7.7808114975394265, -8.514260181679028, -4.869419422552768, -6.8753234883261864, -4.787097545585212, -10.968360966864527, -6.610736331677892, -7.728401097157349, -6.9392420227456935, -8.639876456900296, -6.341410672659455, -4.257080448742241, -4.4190836950672, -8.668303905792014, -5.989987425498135, -6.987079745252908, -6.245512657329896, -5.0892196400528364, -4.849472035057765], \"y\": [3.0495024981487937, 2.051416490077813, 1.6640701893181946, 0.4038097591044909, 1.0892433841511495, 1.7690985228326652, 2.1764627932031435, 2.3986456989340144, -0.2658397353052661, 1.6327710475431907, 1.7237181909656623, 2.6817928258182073, -0.6148431058895946, -0.2531886903175488, 0.7133981964624978, 0.06398714725096992, 2.5318290711312836, -0.16203134314525505, -0.6679116974399207, 0.4492808568413268, -0.07554811798894176, -1.0109709278708852, 0.6226828962030152, 0.17811971727732953, -0.2642809763580348, -0.4634483810538585, 1.6511005423078615, 2.362657816635473, 1.2150026260917313, 2.727588550733407, 2.1133804318778684, 1.3625068078860416, 1.0619850959437382, 0.6204842930933157, 2.025440842856742, 1.791066586294328, 1.683638295576207, 3.1595793359309674, -0.011156220524825393, 0.46491589190837895, 1.5879788336216187, 1.6613675079680255, 0.5989543322240594, 0.021109682384018114, 2.542001024670155, 1.8533567926910273, 0.6722221133805303, 0.46404736263847807, 1.1966005058891622, 3.1966815981076957, 1.2581011205939507, 2.1111738703672485, 0.020922436968861396, 2.0423610910768812, 0.5898281279162474, 1.0213059618951368, -0.4279589218588817, 2.2045665577879343, 0.8105668403718279, 0.9935260859581173, 2.716328968982684, -0.2575479671201073, -0.6770785798625737, 2.892133524333173, 0.571377540592844, -0.6617239583916927, -0.5984348060550598, 0.4655853677840291, 1.4166422828081329, -0.05831500977424651, 0.4009342631309471, 0.7878471927253303, 1.6744911328229912, 0.20319711466139082, 1.1817659623912393, 0.6226096127173546, 1.178931268127166, 1.6201491590250614, 0.5640171304357892, 0.22297105034819728, -1.9369321947296794, 1.3831099670299436, 0.961093261967214, 2.9350665458644984, 0.055163720062111704, 2.180748081819592, 1.0567578565635694, 0.20224753168285098, 0.5602725404450011, -0.6218962571045064, 0.16650355951580215, 1.587157692345463, 1.0690415248301446, 1.535465948149897, 1.6904423413608187, 2.1730063228893073, 2.2542468286910795, 0.511184911586073, 1.7541913196186425, -0.619750260083561, 1.2032202563948473, -0.23684198319566416, -0.5318261353637121, 1.663487436868327, 2.7934337412384327, -1.0267672372503502, 1.7122419972713203, -0.40160792605601914, 3.3998932523186314, 0.938847225784577, 2.701026525369807, 1.4054057718730641, 1.4359818341272488, 1.5556263778305421, 2.4770154238429796, 1.8939452049284646, 1.2865662721173836], \"z\": [1.3363376713320854, -2.54000639113128, 0.418601482144037, 0.6972698122449835, -0.10568764292409819, 1.9890200656195884, 1.7623640024644043, 0.9475400551833035, 0.0721532242647441, 0.7708333723203243, -2.7716229932032617, -0.6359335433099116, 1.0024382977179365, 2.310899908698534, 0.9447227976760719, -0.13209674441791752, 1.7252282951302824, 0.6879811404971449, 1.804824061898512, 0.7454790846108162, 0.8248404727095326, 1.7451642074877245, 1.8231619287368173, 1.9314924038596166, 1.289769262839558, 0.33509170294907514, 2.124860384132632, -2.1664077661789727, 0.8440191326928627, -0.4555864226417816, 0.9244524482497689, 1.0431955597822042, 0.1766788076712186, 0.33295063650989115, 1.750816081042766, 0.11097082570379485, -0.19858628716304733, 1.8251341053723946, 0.9103324220851083, 1.6031481364660687, -0.295519856070409, -0.38747587928952965, 0.05844008392199099, -1.0600553678197617, -0.4093671904792409, 1.5036748895407832, 0.3147973049004037, 0.7918406308931835, 1.139640506082308, 0.8278071256713291, 1.8550368341138785, 1.0173175707940334, -1.9666760245946875, 1.2067288472780129, 1.9412331586518408, 2.108612896235673, 1.9179596725260781, 1.5474384339750888, -2.255441295061808, 1.3764005667087307, 1.4262719519578242, -0.13098358891949163, 1.6755116097739935, -0.5472314695254382, 1.2573389200769, -0.014884567586282912, 1.1101044766557762, 0.4495488140229197, 0.5511581029247273, 0.7330801620767193, 1.0212328619156392, 0.7475392085975424, 0.8286040682018778, 1.8008421704623936, 1.2758631150737836, 1.449433631890638, -0.390573270069009, 0.17209331763452126, 1.4507125277248956, 1.534002365154071, 2.255520004002841, 0.5035944649030946, 1.3601664825971218, 1.7934150111197864, 1.2645402594929678, 1.2180398957275271, 1.0448619993185821, -2.6002606225260934, 0.10587996445480384, 1.6237497562794334, 1.225064600847933, 1.5686215202178564, 1.9828814654237255, 0.26309164875403734, 1.4279174554493392, 1.4397591704791357, 1.7964040304336506, 1.2210636743295353, 0.6501061956633309, 0.6653268518953253, 1.0316448572870087, 0.5046510269984202, 0.5916994028048346, -1.1021057141114794, 1.3473601745099797, 1.769369905879866, 0.8350003927921176, 0.19091366025660106, 1.3031989520536298, 1.0974771426253453, 1.8651507482003928, 1.3634223096545475, -1.5708699023194854, -0.1390300766234992, 1.835823834127341, 1.4176382889121433, 0.20905213427963684]}, {\"hoverlabel\": {\"namelength\": 0}, \"hovertemplate\": \"value=9<br>PC1=%{x}<br>PC2=%{y}<br>PC3=%{z}\", \"legendgroup\": \"value=9\", \"marker\": {\"color\": \"#19d3f3\", \"symbol\": \"circle\"}, \"mode\": \"markers\", \"name\": \"value=9\", \"scene\": \"scene\", \"showlegend\": true, \"type\": \"scatter3d\", \"x\": [-6.167265816993942, -6.082720682645723, -4.299541125377248, -7.322850631514975, -3.5364229467202613, -5.837946117612872, -3.5707303022546983, -3.0855718356411046, -6.2411092777496116, -4.92134612926279, -5.446689959646432, -4.420705718851767, -4.6869563695167225, -6.610449803645219, -9.51255333930061, -4.757227685870036, -5.4579964574009034, -5.355290734768573, -5.949571408324285, -5.973242287506727, -4.305657999968766, -5.420213330337833, -6.038419543219887, -6.402893295179637, -4.392064177577337, -7.599951022949803, -5.205170360770872, -5.148497078621337, -4.744731972229644, -3.3722930393181496, -4.585438769378865, -7.992358696750077, -6.57764767465385, -6.628800942579777, -4.864173638964, -5.584580943326641, -4.632434322444999, -9.816059828456558, -6.851749230750567, -5.5356863568909604, -8.270667311167129, -4.60059657940111, -4.966703658934559, -7.313568206916742, -2.707995288022053, -4.685829293244521, -6.30104073127384, -5.726200831962412, -6.249132387169679, -2.8487732223923805, -7.901605310415483, -4.530019759638668, -5.06673086519898, -6.913667020988811, -3.7090306913050397, -7.7024369146885725, -6.602855786526343, -5.941897752911853, -4.553713882601617, -6.990791429699983, -5.52210990177923, -3.9738795712752815, -4.47471448220709, -5.091699752894848, -3.2850792306201355, -7.057935407235421, -5.800879067828492, -5.007640598729239, -3.804404829670681, -6.459223177347535, -4.210887396274451, -6.9805914787134515, -6.784039270095074, -4.213291344399203, -3.8702386982946666, -4.024599159847836, -6.112197057781892, -3.338468737132017, -3.5033492278995015, -4.873131804894903, -6.995048314919325, -5.450262052135652, -5.609881977906404, -5.96699526685949, -5.1925973244314605, -7.424600637954299, -6.258010087728887, -6.69635011699602, -3.9535775723085846, -5.425264783632772, -4.002036038930004, -5.79775762899517, -3.520098059671133, -9.21619981966015, -6.040642967203339, -4.673551364665386, -5.580589968190981, -5.894987967233127, -3.5989617009351447, -7.391761134124738, -5.796271176679282, -5.663502302395777, -5.212495676857351, -7.498416110428747, -4.413089302968598, -4.016845241384333, -4.569132283158032, -3.2251494675009806, -6.701011759219518, -5.67998020078458, -3.783167710940459, -3.570222820733338, -3.8759668368160742, -5.437063888084941, -4.9650665422878015, -5.599265316563147, -4.576389504443209, -6.340450728217043], \"y\": [1.2885925930395252, 0.10154804680763371, 2.8401171102207217, 1.593262904242036, 2.0238984695525537, 2.3647636792887354, 1.481038288145768, 1.214171337481366, -1.1246164153808942, 2.9057850701602996, -2.971609880901145, -0.5496733247662292, -0.19719551103713218, -0.9489971506277678, 0.07239424999936475, 1.3249185248882587, 1.088199955057337, 2.925406099817126, 0.15886508749677727, 0.7833742362105629, 0.7134698441969803, 0.3721024959513426, -1.532400514006498, 4.085498540447317, 1.127576553052579, 3.031416940252015, 1.3834223960537606, 2.145475887041728, 1.683503738056375, 2.559300818317336, 2.9006311371505724, -1.1249187224330939, 0.7058424302350593, 3.523399822269259, 1.6374276766087208, -0.3068437143821009, 2.774007999081388, -1.3984909698661383, -2.8775254260715526, 1.8167708475645794, -1.707574437933564, 3.0101281908054327, 1.213836909457246, 0.2918843003706965, 1.3325824607271606, 1.3039526499517957, -0.5556823152838473, 0.539572681737414, -1.0590421497409233, 1.2994625147876326, 0.9819989036417994, -0.5002237562949036, 0.9965124434499028, -1.0605968065623044, -2.0327713218898205, 0.11117981177001383, -0.9667265707309556, 1.2611616546597484, -2.971194838988104, -2.7432831180621435, 2.616118865927711, -0.9470952641388309, 1.7238757654959136, 1.5157541546519107, 2.0243841349087046, 4.04290623748014, -1.4893977952458115, 0.6791642273620677, -1.0976225117167508, 1.8191530702265009, 1.2789027136418156, -1.2973941078020446, -0.6479105952148201, -0.6251003950313814, -0.8207387233378902, 3.1572936235790454, 1.3843605833759305, 1.1223079656216517, 1.5238148965430551, -0.09256603452568944, 0.9018360315130476, -1.4595755887528423, 0.18377523552984254, 2.926446886582599, -0.6743641770352915, 0.6729539443372076, -1.4209803630322002, 1.0645634652860145, 2.0102600301391846, -0.7194545403433253, 0.2455979388787736, -0.45983427279918326, 0.33533907762056403, -3.5278210485160164, 1.984092365907186, 1.1038081596097304, -1.665443137509428, 3.2894164359045, 2.560501970417793, 0.5913078053917059, 0.043236452831593025, 2.6989779404229717, -1.2189911266829272, 0.30382818071442746, 1.5836160331504296, 2.1272460768418986, 1.1190386716116472, 1.2346852700266033, 1.7194419351043093, 0.11581670966734955, 2.739790153078193, -2.447702056811485, 0.2266757488045347, -0.342506332715227, -1.638331618046592, -0.4672627782637069, 1.4776178586961008, 1.02116847078242], \"z\": [-3.097546248607515, -3.1403134272373228, -0.9113530686214366, -2.987237535917156, -0.49885457494752095, -1.526336795225995, -1.486483466257154, -0.7406088838204178, -2.547362790513738, -1.2732630024270908, -1.8569291008728748, -2.2780879766287057, -2.0918416476771897, -2.3427867940098372, -2.757968335182111, -2.186140034369453, -2.59276548520365, -0.8328191023326791, -3.005820342782722, -1.8812808191878951, -1.9228904054647125, -2.7844367548738864, -2.196671447711385, 0.29579761405703336, -3.0298803442841598, -1.837022574467617, -2.29695314457587, -1.8664536163470258, -1.282563959492871, -0.3845651207240335, -0.4454576609887113, -3.8318469321102855, -1.7551473182258985, -1.0452170518193702, -1.3856239994178279, -1.7144102279130864, -0.4402684049421955, -3.6517814444548082, -2.110351973940046, -0.8284925839529156, -4.325039929733355, -0.4387250686315838, -2.063163626880467, -3.817298661861519, -0.2109042982237797, -2.4913149664908034, -0.29375586279208055, -3.6802043004952774, -1.9530074813180864, -1.414176217041669, -3.0723808910943546, -3.0845832668812796, -1.4352682154634542, -3.9249383187331666, -0.7618834973945388, -3.232899177888158, -1.8920023534110817, -2.7157618484624044, -0.6568444913799344, -3.0379730689068287, -2.0128414726488164, -1.7408674254219663, -2.752952797857336, -2.1939705568891816, -0.5286417956358379, -1.1000981594924566, -2.3128852147240657, -3.046754398931885, -0.6384525000050112, -2.21505349540219, -1.7936004512668813, -2.7659254281620345, -3.3914634011001485, -1.8531140101820531, -2.210021485634548, 0.3191495600849179, -3.0990024421465843, -0.4143163251084073, -1.2056465445989646, -1.9012723583682682, -3.013478088238272, -1.9011209332459402, -1.7208735927696015, -1.9861315604744172, -2.8943498490030684, -3.4847151448350115, 1.5430873307080288, -2.239609680265358, -0.8710490041411144, -2.8953904588814243, -1.826690104312226, -3.3739167913280372, -1.9526691159243272, -1.3258854744148678, -2.2454174936277496, -2.376952851608445, -2.989296957574876, -1.002674534386006, -0.12026075186167831, -2.7215412359887132, 0.8828328222825037, -1.068405582892902, -1.5621263824087896, -3.24779208029035, -2.218831373429811, -0.9673798402864976, -1.9607795303412492, -1.4056619826229073, -2.3107439096383566, -2.886885680880392, 0.2763357673606964, -0.49129467990943776, 0.8462901724276943, -3.1164975496068035, -2.0975443238719134, -1.8887433868408703, -2.184380982542089, -2.327664127387857]}, {\"hoverlabel\": {\"namelength\": 0}, \"hovertemplate\": \"value=2<br>PC1=%{x}<br>PC2=%{y}<br>PC3=%{z}\", \"legendgroup\": \"value=2\", \"marker\": {\"color\": \"#FF6692\", \"symbol\": \"circle\"}, \"mode\": \"markers\", \"name\": \"value=2\", \"scene\": \"scene\", \"showlegend\": true, \"type\": \"scatter3d\", \"x\": [-6.5696956891262985, -4.518655920075969, -10.025437054395839, -5.853208281857726, -4.062879835946955, -6.584515460216395, -6.4020915103760005, -9.278127188187653, -4.698362897995758, -7.439375363722618, -4.659109133941034, -5.443947808441374, -7.707227187330509, -4.689164146236595, -5.839333850763599, -6.723653191297677, -5.104489053760155, -8.114154193972995, -7.581566376721786, -5.668102331937693, -5.078398799287397, -7.846740450142018, -7.016015558098651, -6.1722135184159175, -5.593413685597387, -5.381617561140073, -3.1184147819256136, -3.991689083462161, -6.346742869185091, -8.317449519670712, -4.712938689328468, -7.628192766045167, -3.370767458262544, -5.508782784651567, -7.506208315179236, -7.624427050509091, -8.573325521331002, -4.388945865836574, -3.7174273409098957, -4.5325366594000425, -6.806742925632541, -5.591921251732798, -7.270484880165554, -4.890888734786714, -9.70217794272224, -5.294179626484143, -5.0326523012096835, -4.644311351727309, -2.8674606031437015, -4.020971764899952, -5.465321104181328, -6.651618401010563, -6.8470120549771565, -7.368656989832141, -7.7729950820610405, -7.0499580340196415, -7.009894336688167, -5.95491227411582, -5.9003001652435865, -5.994770174973605, -4.809684613927212, -5.105379821896475, -5.863296842609906, -4.186623266407325, -4.902745685477487, -4.779683226694973, -8.788692718476948, -6.024477843675127, -4.130545328280456, -4.612078375450815, -7.023896467409296, -11.09439202350904, -5.615239190870575, -3.5678214364113034, -6.5582194957447735, -5.966795038498484, -6.413517878934406, -5.41037379897487, -7.090444767208329, -4.4560278649979015, -4.682297597519258, -4.419129796914593, -5.568514215803791, -3.905965089086342, -8.704943444333926, -5.09889168024472, -6.329498621384667, -6.378169852385804, -5.56204294244975, -5.470859542000582, -7.9290528947463015, -3.994427727112624, -6.562124365900324, -3.582855093200582, -3.21009455832555, -6.016345646202534, -6.651960935768817, -7.682811278715045, -9.77181363941269, -8.445926452600435, -5.449719728393334, -5.1511817452362, -5.086084131527147, -7.175650093322988, -9.363497702241325, -6.4829335190640585, -5.4869359993928395, -6.916329857852121, -5.4334096161315415, -5.995017142135239, -7.3094692579968426, -3.827233428781893, -5.501199300681498, -8.405693184316288, -7.108738589419339], \"y\": [0.9772852402944443, 1.8186055756606048, -0.7144344006598585, -0.031720072151276785, -0.44597353864798395, -2.2515563815382764, 1.8199736431776228, -0.849339871548091, 0.37544073947610757, -1.1909635016420743, 0.45000531738079874, 1.4648585407646157, -1.6915974972142753, 0.9325989526117728, 2.158295617920743, -1.0099641836679327, 0.32186681229040714, 1.5432202073510586, 0.17588360523972668, 1.991373091789324, 1.098533141941034, 1.010897420967096, 0.8290796724362434, -0.42725875093682086, 1.440751037322961, 0.939243676048628, 0.9267329258045084, -0.08388254691312858, 1.594245161454151, 0.6726225837280265, 0.810339500555681, -0.028831720333307165, 0.8606424835058246, -0.1471440991239539, -1.5467502250339091, 0.5155744918259596, 0.1537618562744245, -0.1961195455046164, 0.20996076709592293, -0.8056234208160692, 0.7348091566842743, 0.3507154443734585, 0.29869774990184417, 1.9969490138142405, 0.33116907505646903, 0.3487667538568942, 0.1934379864879409, 0.7356013339970523, -0.8086623562838811, -0.5199196712175314, 0.7095592907486201, 0.35782418394771953, 2.4199465993313596, -0.377694076764982, 1.2175080136755856, 0.49739570526691024, 1.1857019053721338, -1.3041701873009397, -2.3639980577955164, -1.906354675703141, 0.07168790937062025, 1.8733237905877358, 0.5341838145123315, -2.167060462723357, 1.7933245916940603, 0.9276159587058093, -0.4195373097291868, 0.1608884098795913, 1.3607210248189856, 2.256780109792877, 0.9867358689391448, -0.9295306111844752, 1.9452233204834144, 0.07132035353120103, 0.5079307553874692, -0.6850784952846284, -1.2027888533998463, 1.4245551165306267, 0.63498129094971, -0.06518099598292665, 0.18077934854809244, -0.502741534541201, -0.6825913940644215, 0.338959728120928, -2.036531243704571, 1.1094762123313848, 0.3311438249604839, 1.064983115597547, -1.8980635460908593, -0.7605734441095232, 1.1854901753702782, 1.6256463096460976, 0.339073351054482, 1.3487033304287896, 1.7541771971972138, -0.3965196214235638, -0.2955355418564784, -1.9155800842402022, 0.13345133770794027, 0.8909788729286668, -1.0878662929629421, 1.11586239489031, 2.0556415982230796, -0.4933372219128883, 0.35676705089359645, 0.4762373928363882, 2.016215541093517, 0.9396189529319098, 0.5043812755610546, 1.0979225145078026, 1.072308852395315, 0.7433891985264983, -2.3047899382014245, -0.8486504484632189, 1.2546741486325137], \"z\": [0.15383719557079534, 0.32002331030624853, 4.010677898024676, 0.46428748404351916, 2.319307768111377, 1.15762721554752, 0.36075338378261923, -0.5991488136603718, 4.112247238892931, -2.0849846436871866, 3.432072668607092, 2.871560210109789, 3.7483920950596556, 2.509917113943532, 2.3700498707565085, 1.2765983939511774, 2.9837699661295005, 1.7754401173386376, 0.3007631856441949, 1.3918961913129886, 2.6204011668202014, 2.577537908651383, 2.874422892300349, -1.4080589762194544, 0.5226516070235931, -0.4177158866987056, 1.026798446117712, 2.553056612756586, 1.4666087546709727, 1.4026430369412652, -0.7290529914742337, 1.0685554592821984, 0.05000599592815119, 3.7887962506607855, -2.29499842077895, 1.5403017166727655, 4.537675899291704, 0.499220738754816, 2.060262039761156, -0.3998237393532633, 2.1164696015588884, 0.5181816943013876, -1.1660400525100374, 1.6061433071423545, 1.7151807383644928, 1.236807560727548, 3.6623874809643033, 0.5712255982271953, -0.8767232125386453, 0.712713055461104, 3.0398677284563105, 0.8737856077379802, 0.903936233717484, 0.07436922698863924, 0.6488058332868244, -0.08427049676953959, 4.6825064895829875, 0.8465168834944488, -0.3264047006645563, -0.4360615755662428, 0.8114017319005677, -0.29291753290172784, -0.5198400724019027, 1.7696345104934832, 1.4879501733598097, 1.7381352924658053, 2.7500657637109285, 3.3330868278661803, 1.770001482368107, 2.1027027528949267, 2.6403825583267615, 1.3615948062932746, -0.20290541653062813, 0.5251783519671794, 0.7002145581859177, 0.2931524017170952, 0.5348817996494373, 0.6751656760158739, 1.2952664283405482, 1.1349282108980114, 2.412269102224011, -0.10939809573476289, -2.7670578335746967, 2.915904483636679, -1.6203683330107297, 3.383138209745241, 0.4942134825672096, -0.6653996219315275, 1.1980399238514126, 0.40846239356554537, 2.555781407766381, 2.979640911316224, 0.5001015566004141, 1.6168211098726366, 0.8342416504925945, 2.578490163361292, 2.3726295489770304, 0.5650228917533883, 4.155970972011458, 1.3412650513808577, 1.3241514419447296, 0.26064353351504793, 2.8184035165722507, 1.4201575745194872, 3.447451460446359, 2.2437407699190617, 2.164194584339519, 1.4834532703623806, 2.2338186689730923, 0.7780297915210765, 3.09873604698259, 2.1970740628194374, 1.079979967965455, 1.3284243774982203, 0.8452188649320951]}, {\"hoverlabel\": {\"namelength\": 0}, \"hovertemplate\": \"value=7<br>PC1=%{x}<br>PC2=%{y}<br>PC3=%{z}\", \"legendgroup\": \"value=7\", \"marker\": {\"color\": \"#B6E880\", \"symbol\": \"circle\"}, \"mode\": \"markers\", \"name\": \"value=7\", \"scene\": \"scene\", \"showlegend\": true, \"type\": \"scatter3d\", \"x\": [-4.623089994124841, -9.007840858345283, -6.636416672997918, -8.041872302876078, -6.431431032827384, -4.106183540743069, -2.4208827441696403, -5.773116438208275, -5.422039460293711, -6.089828278367611, -3.6577087323810167, -5.9459672515080495, -4.027889928511821, -6.104195156228741, -3.09402655572156, -5.256168805661151, -3.455371548699777, -6.582578832919164, -4.422429216842645, -8.183020302892364, -3.7918519500881605, -4.769798923416505, -6.473530207939722, -6.014144084847947, -2.642716736168831, -3.8198837225050415, -6.275973197440986, -3.5388510851467414, -2.829272869119607, -4.267477364656694, -7.077626685189931, -1.8435198986670118, -3.658188602829224, -5.124506456773746, -2.8491789299928545, -4.132704845957059, -4.399294160176463, -5.50189431730864, -2.118128816429314, -3.7170089233581747, -5.00405447710324, -4.809713478692408, -3.8298194441800075, -3.41950854588333, -4.774994072346427, -6.729498123910731, -7.063606842935702, -4.711754988651194, -6.645135440841976, -5.386906139446773, -4.451614961315799, -6.192540987871335, -5.825383236404918, -6.3984657619410426, -6.145059217163297, -6.037023611596737, -5.234995585697863, -5.524121758828242, -3.618634368920762, -4.843158181039222, -3.5474750492349965, -5.8578227441912185, -3.846783236424628, -3.4586282509919153, -5.630229271814816, -6.167298271125164, -4.017851658761979, -3.203287766355935, -5.5155971343618475, -4.412922581497883, -4.836458038152676, -3.7595102214633496, -4.079054205514405, -5.790720640783742, -4.827835675596373, -4.563865954432591, -6.235610794789763, -5.9420512657929905, -3.508121885887725, -3.97805067034037, -5.847181695147187, -5.532548822793412, -5.409995683017198, -5.857623390762447, -4.3197914165485685, -6.519841384787108, -4.326813662497784, -4.045739633805858, -5.6784895214742725, -7.593431160734176, -3.0078968468646936, -3.7781671492712166, -3.143083213971165, -4.189950587548015, -3.9757593402222264, -7.25909035129202, -3.796967914040284, -6.350400151000986, -4.817607922522315, -5.87928754892662, -4.6800413679029145, -3.730437071535544, -6.253242057651121, -4.846789215443349, -4.078723244176348, -3.322510907215625, -6.926511207692452, -4.844990613683192, -2.752925016653648, -4.80701697080301, -2.3631962704814504, -5.0976493932294, -5.605967274504471, -4.378709348370714, -6.643120220286104, -6.2708462885188005, -4.700579347647112, -4.442729459988342, -2.811941939902075, -3.7535522339601624, -5.9700752905162116, -4.998251471747923, -5.589160727962029, -4.59672833161004, -6.106743950945929, -4.4603077535211995, -3.1132656759331883, -6.1669786366087775, -4.960870217637501, -3.5821046311306395, -4.02185293210273, -6.029475988339966, -4.284845723070336, -4.311485707236637, -5.555670304005069, -5.607118769495101, -6.08087454238053, -5.878845241485786, -5.705316182187442, -7.159899028710493, -4.3232258340826615, -6.247494149877912, -5.171268207334912, -4.2090727767279645, -4.854311672106792, -5.588870402724696, -3.499259712267646, -5.028874974236756, -5.82740051162684], \"y\": [0.81507146225543, 3.097086442226556, 2.5136598770827265, 2.7814505657869812, -1.4693001749055343, -0.026017320515545325, -0.5729595347394317, -1.1194566805182706, 3.0616004061318645, 2.5351376429753962, 1.5976615740061368, -0.9503774644352367, 0.8603359134547158, 1.2361427169112544, 1.8533964247367445, -1.0558318708512224, 1.945261499189807, 0.030227569601007698, 0.9312123205737712, 1.507119147896785, -0.2744319427985235, -0.16785306589533922, -3.818330228978073, 2.4533451863327325, 0.8687650215881655, -1.5517735520672962, 0.6818266115871128, 1.7544890394040278, 0.487096759299645, 2.1972808771359755, 0.37175280907744684, -0.01281219878732148, -1.9901251772269786, -1.283163448852692, -0.6741952902210978, -0.3902574436700846, 2.8125741915320406, -0.37079785736161364, -0.024159804318911765, 0.07769825731380169, 1.6674628936511895, 0.11222013251684541, 0.19396562642641457, 2.094773238725153, -1.6027366252220412, -0.04195181847974672, 2.0847933737041715, -0.9797332778217939, -0.18142983901733994, 1.97355846005951, 0.32050355069284586, 0.059208774023378326, -1.9133422839240042, 0.27924595285023723, 2.0928200371755086, 2.8136090892931094, -0.4572620295534553, -1.4120818818768206, 0.640285093389226, 0.3158301288852222, 1.0781742589228964, 1.3853186015732262, 2.5955427544096943, -0.6074422257780113, -1.1166762835820532, -0.4603741690888312, 2.045355390540389, 0.8349469751958383, 0.6438655104538559, 2.4136189192693203, 1.8088552120993697, 1.3219752813823664, -0.43339558515358256, -0.28238240029722234, 0.274935250723392, 0.3719532730783838, 1.2696566378636485, 2.7617332100099072, 1.565395229212784, 2.6073080492565883, 1.2179960218913202, 3.2572702616726876, 3.3466293859303464, 2.816404907082674, 0.8207901899260333, 1.081871892138679, 2.08010375104575, 0.11356978284243971, -2.818951016565539, 1.8706010276378764, 1.816575967931826, 0.5635045826268102, 1.9509341326501937, -0.5809729584824496, 1.3003213520592198, -2.545256209327208, -0.20931864538407552, 0.3173706018305062, 0.495522064331977, -0.8592550670629023, -2.3241154544176483, 1.8631868031651735, 2.8238991230291886, 1.3521396138877413, 0.5762890954787722, 1.6402650676537662, 1.0880202154080472, 2.4751247541445176, 0.32229700129646055, 2.2092522165969846, -1.0949606752113736, 1.245809635999676, 2.075709539052556, 1.8113099268936792, -1.4707764349508732, 1.9941456366782395, 2.0124007318857675, 0.944402763274021, -0.6038203897319989, 2.19629845645834, -0.0983668732650343, 2.257199924388798, 0.7061109684494221, -0.11667599756212557, 0.9047159705524832, 1.4315863684791366, 0.4367781395830454, 2.4619469647604615, -0.1408899893732491, 2.271113349658364, 1.1993906761872983, 0.5160173450794262, 1.7787522112555278, 2.781335416693065, 3.237297105135845, 2.4237355838292736, 1.6556981678097245, -0.38292961593081326, 1.8088819599154367, -0.7640450406829525, -1.901463375147168, 2.734649862205867, -0.07986420840701144, 0.7974065321702914, 2.8158285965722922, 1.946997269829801, 0.3661378280645865, -1.2719026142859624, 0.7691650397323486], \"z\": [-2.7884513224686804, -2.225928733155555, -2.1264001212214017, -1.9075839363639087, -4.014941610433606, -3.1536839198976114, -0.9052355897002049, -4.053579326923117, -1.8919617010535226, -0.9079310976372784, -1.4307596532449354, -2.4337447324400983, -2.8428537395981865, -3.4404516462932597, 0.9602650635552026, -0.9522770698507057, -0.1335321932083538, -4.023301528174532, -2.466801252655579, -2.573929734593629, -2.3833084192033347, -3.2150897553333695, -3.9851130386497386, -3.4663874337741927, -2.170357786336181, -3.108227855732698, -1.9480977388466247, -1.6712488540230783, -2.4390347602380755, -0.7902691313934583, -4.227376286747326, -0.6683226054620564, -1.9580004597404126, -2.356806612633955, -2.071727562293238, -3.286973232945261, -0.13263652931763253, -4.1065421857163935, -1.1068287354207211, -1.6242525052162022, -0.8100503311735967, -3.299164939479348, -2.0687409204041955, -0.12649777251064026, -3.3588973276200353, -3.140918055370633, -3.9469852166697375, -3.1508738698312753, -3.699288186870092, -2.1749068758543713, -2.8536226848346993, -4.291457270723343, -1.2765449368771775, -3.1327183164874475, -1.3174851620477475, -2.964817048166739, -3.671617776843671, -3.828614203439757, -3.173821767609269, -3.580731018946764, -1.938542489906669, -3.6621017065372046, 0.5053235455750265, -1.0577692244032544, -3.229095803138298, -4.325072538556722, -0.7975919723250546, -2.048928810509796, -0.7344006328734114, -0.06987535441173395, -2.446621789302127, -1.838894018377249, -2.778250903907086, -3.053219200244985, -1.511624460169442, -1.6782281692066052, -1.5403173937996109, -0.4623416274702771, -1.6717145953273902, -0.600500267007885, -0.9390385471887767, 0.42099789570070123, -1.4491755969383235, 0.24714665634582073, -2.9414522490067907, -2.3524020617013974, -0.5384739065419217, -3.324832412015626, -3.316276810057732, -1.5154812388112897, -0.26555431398835716, -2.1100382571077736, 1.3428515957838454, -3.5243644687044506, -2.5222334627755805, -2.37069306695563, -2.4509753723625143, -3.647264334182888, -3.4608181331167005, -3.017903203718924, -3.051636336405792, -0.6583132599636878, -1.9201789341210147, -2.7947506905318074, -2.029541683692322, -1.599297660659959, -3.1104967617491805, -0.4664270878970377, -1.3184607101445396, -0.8622950030654377, -1.3792423862842231, -2.1082881211758338, -2.364202295777683, -1.940046959716979, -5.11379657682601, -1.3471219616390755, -1.0141826887958032, -2.976756091578201, -1.4749416687984374, -0.3526195853964099, -3.4181083328769044, -2.5219564946471764, -2.6607051832418263, -3.0171350784358797, -2.795989215299831, -1.8896995147995255, -2.2833150832568108, -1.8862590263792325, -2.9864971749440477, 0.7196095008576524, -2.4667528194610493, -3.455339343349573, -2.1840612720494654, 0.397384529288644, -0.2680994639795111, -2.5316194440834883, -3.197404724317412, -3.9504389850572554, -3.046973181575449, -3.8498905593794555, -1.795942620028415, -1.1255386527719085, -2.7815441747629137, -2.55986145623135, -1.1936090851172032, -2.3724722877545146, -1.7446547384124207, -3.450140412697163, -3.8933735905877755]}, {\"hoverlabel\": {\"namelength\": 0}, \"hovertemplate\": \"value=0<br>PC1=%{x}<br>PC2=%{y}<br>PC3=%{z}\", \"legendgroup\": \"value=0\", \"marker\": {\"color\": \"#FF97FF\", \"symbol\": \"circle\"}, \"mode\": \"markers\", \"name\": \"value=0\", \"scene\": \"scene\", \"showlegend\": true, \"type\": \"scatter3d\", \"x\": [-5.733885655386091, -5.629208700873667, -7.46173311643603, -6.439055889677604, -5.729397433516229, -6.103788019508221, -7.663458326673896, -4.431347839342985, -9.784266929596084, -4.369034964367068, -6.0447006153770815, -8.606719097013405, -4.776439314643053, -8.15438857228354, -3.911614623090643, -5.550593345237068, -6.393482600001325, -5.16964838724821, -5.81815402145076, -7.34745002574018, -6.397102368583884, -7.496373577447486, -5.960296913332582, -8.026990421419423, -5.729329637047294, -6.577964681555837, -8.570863034404, -6.643783409712351, -5.653666146891517, -10.030199991182002, -6.1342107475851435, -9.055071578940185, -6.91355633441828, -5.861280028409372, -11.18481266444371, -11.510469060267457, -6.123023535294014, -6.098197312828423, -8.234022320226938, -3.645233473429875, -5.7575565386043825, -4.660312054501846, -7.6294422532327095, -8.06574511832001, -7.981853455029536, -5.668563752473239, -7.195064026856086, -3.7785812284122566, -6.860006881781892, -9.469254669176056, -10.035938913968963, -7.0977469034182725, -4.337564759340289, -6.305707915594606, -8.551948298644453, -5.119779235244037, -7.964135541793921, -5.6399481130398526, -6.500669524093068, -7.026952767035214, -8.67183535533904, -5.578137923179127, -5.52046687545124, -6.7357130817051765, -4.86605526957712, -6.043852241379757, -6.18204967129251, -4.99782017518696, -6.726539721484565, -7.393556493338858, -7.166946502535885, -3.671076275942618, -7.1705885890565675, -5.389131936342845, -5.203359773616178, -5.972559116352167, -6.085416443030347, -5.029597898982496, -4.824386048726666, -2.9179650355345346, -6.6375643064624095, -7.4094204217330715, -7.96679793973547, -7.102572622514762, -4.750806699296473, -7.464299046249221, -4.92583668494755, -5.154816821415822, -6.163622166314385, -7.735272068355303, -3.868057389781964, -5.918237191468607, -5.2937139604827435, -4.407237984320241, -8.055549149330025, -6.7626972934644405, -5.995092814686723, -8.757876923619147, -7.0835166698190415, -9.802047449831393], \"y\": [-2.707330114729523, -0.3976879925538722, -6.376148471976337, -5.694198407258945, -3.364348784608672, -4.1808738202169025, -6.107019966596516, -3.6051288619882813, -5.27764826232528, -3.696170105005366, -5.270436315762878, -6.36667519748831, -2.1758630033136868, -3.1247884816710467, -3.4528433304429673, -4.654920676493208, -4.438791980636212, -5.084218902089761, -5.116530382530908, -4.569290823751043, -5.3690460384720415, -4.778860180274095, -2.902855149447758, -0.690705964070823, -4.762040083585869, -2.3775120114009787, -5.449494292145255, -5.228475204925153, -4.205509495898978, -5.050996570189361, -3.99095472826362, -1.973141261450317, -1.7889060188296377, 0.6953270301034538, -4.056898243494346, -3.3130398812662096, -4.677210880878522, -1.3136426766572633, -5.156543375375567, -0.9722598636532265, -4.530409703851641, -3.328986108375734, -1.0836948268737048, -6.4184871904596426, -4.700047631036893, -4.890895177321612, -4.977000336559611, -0.899442296105177, -3.097869635436531, -5.193865461923057, -6.060992340379088, -4.897532412433915, -2.5266642557222587, -4.822626119218914, -5.06390783305276, -1.6711576290306664, -4.38153502951252, 2.0768873722346513, -4.395829072354282, -4.073952713843715, -5.760664463392765, -5.595686875579236, -4.212938095886652, -5.097223612713253, -3.140041722037944, -4.100554034552149, -4.562719704185232, -4.690674095553674, -0.9896834175049818, -4.222465449304203, -3.959662905879625, -3.567206728836974, -5.619483148200695, -3.5400918029986497, -1.114179563364652, -4.246168054510816, -4.9359241803934895, -5.046202074928518, -2.6605687364029817, -2.5589490777057002, -2.494610038617111, -4.250235113362856, -4.499053637631239, -1.9392305192034693, -3.620474079553879, -3.5830978920923653, -4.0413460819928595, -3.833876926390962, -2.953150263594721, -0.9300249160948361, -3.640640618472034, -0.7191228329005435, -3.8690900277654, -3.0257545665822114, -6.202790321713899, -6.554717415494415, -4.302641350039475, -3.8278935844347823, -3.4781476532115514, -5.377910908872947], \"z\": [0.06618666044159541, 1.2497287564478967, 1.9977752704537037, 1.1153124702555561, -1.319173961327114, 0.8216991769369788, 2.44732845842473, 3.0272292769171982, 0.013118810659245334, 0.9535602401186665, 1.6125804250396965, 0.978871162870423, 0.10107862412469248, 1.180089477278889, 1.5814871838969828, 1.341028186841327, 0.4001680781148391, 1.0365420644765815, 1.3358012237424692, 0.571601795608456, 2.4303437859132937, -0.8091644049185224, 1.1311924323186278, 1.2229745560193477, 0.9725654862339359, 0.4913935818256499, 0.10036217443041803, 0.56992889101981, 1.2063244237049966, -0.34427330480401985, 0.30513670829702244, 0.03870624966084127, 0.8772220420398746, 0.6859280887998973, -0.9451619656602999, 0.30115807562280894, 0.8155134739231027, 1.053857143929734, 0.6161771163293871, 0.8613865943286841, 1.2968627998114062, 0.8335381112170118, 0.49286402144113606, 1.78494099660791, -0.4700262329360157, 0.6774700403505498, 1.4099344955213586, -0.02190633101717472, -0.19280080802127086, 0.864248987391733, 0.47184826442356237, 1.0917797627570711, -1.0809415919897116, 2.6305984016860444, 1.2639924771968385, -0.25922547768679804, 0.600239655809644, 1.021032401963122, 0.7622476989746785, 0.38610012938332644, 2.1875288754435114, 1.5962209314588345, 0.553526242001131, -0.08836530179030277, 1.2057913103981515, 0.0376681387718317, 1.211165387205499, 1.5277358851706904, -0.9572465954048596, -0.017140146740593803, 1.4143941466414132, 1.1006382373850216, 1.6769946283204216, 0.5909901601196939, 0.9642676162250063, 0.8352867172141047, -0.37969876405060116, 2.6055218649761067, 0.48135464792121174, 1.2235406375274966, 0.14638283622935813, 1.2368374541253038, 0.40033196290702916, -0.47818441388807675, 1.87051330019861, -0.5410513292176735, 1.1574809543380369, 1.0846335215412441, 1.1042467389437558, 0.9671586232282591, 0.01501075589019818, -0.43508742814216383, 0.5067737800486889, 1.0548769786660004, 1.503240569316425, 1.8087711609958619, -0.5076457899379299, 0.8095076357258009, 0.807750855544679, 1.363954381057318]}, {\"hoverlabel\": {\"namelength\": 0}, \"hovertemplate\": \"value=6<br>PC1=%{x}<br>PC2=%{y}<br>PC3=%{z}\", \"legendgroup\": \"value=6\", \"marker\": {\"color\": \"#FECB52\", \"symbol\": \"circle\"}, \"mode\": \"markers\", \"name\": \"value=6\", \"scene\": \"scene\", \"showlegend\": true, \"type\": \"scatter3d\", \"x\": [-5.210213940438735, -5.610732724111084, -6.034612406066259, -5.270241525481108, -4.920817850031683, -4.35228216223457, -6.789024636941088, -8.655216719345265, -8.60830805353188, -5.214104993586974, -4.74283046483203, -4.927908083564709, -6.533000617473274, -6.320855023824395, -8.029006183368006, -6.593145383542912, -6.200609557999125, -3.5605879866794856, -7.859662340432085, -5.551208878426417, -4.259422477494502, -8.354540641870368, -8.060531573476535, -7.156241661111263, -7.434228766605898, -5.796488725668223, -5.825905484424552, -6.777639028509301, -8.206009766269037, -3.3912767721836268, -6.11966093454925, -5.825390022661454, -4.334552440714294, -6.757547521334351, -3.326210998740951, -5.274634435150363, -8.25806530525804, -8.14701341360124, -3.577570176796706, -5.228739177989313, -5.191638275898783, -6.807685287752108, -7.022652793642923, -6.845185968207634, -6.7974718980013416, -4.285013094225336, -5.888520778820007, -5.307858328085798, -3.8845161905498573, -4.883409392831154, -5.150247416446256, -4.19848704144545, -3.6051320629449948, -6.007537621858351, -6.7060976977856095, -5.379869199766427, -3.775471724189936, -5.480722904741041, -4.132797955087835, -9.48867247432483, -6.854202788446618, -5.49545904727575, -8.01794378123438, -4.5199263932224225, -6.324496809501521, -3.3047298051033076, -7.297664280728782, -5.223678965095133, -5.917329489687083, -6.713748773723847, -5.339047707726754, -2.634515394502824, -6.621269591662509, -4.085692230659081, -6.743764731295583, -4.82905696304546, -8.706636528496503, -4.3261429631226616, -5.394809097646283, -5.474625776239649, -7.363386722463218, -8.345093501936269, -4.861509056476153, -8.056422586746692, -7.693898106357585, -4.067883589878294, -7.726755858816553, -4.6328545810585915, -4.2356591626418965, -5.4242022599546065, -7.177465083621001, -6.37110896867822, -5.761145143023512, -4.832244909949069, -4.65905788966629, -3.2370620927267555, -7.2889302076836815, -6.414569276819137, -6.106662294902883, -3.6536245553934243, -5.564598876742655, -6.163232268869044, -5.7023058091271706, -7.342578249726111, -5.002317104042351, -4.136956937226546, -3.313209756261099, -4.713769118086332, -6.634869667569239, -5.152385418222013, -5.049989741679992, -5.626571229256275, -4.189868932348974, -4.506380073233077, -6.281877582310062, -5.820594954824889, -5.296860383288764], \"y\": [2.5929528284141483, 1.6058533790927632, 3.6696096301383876, 0.3988278165731757, -2.647334913268763, -1.7475656305871206, 0.23307065180715414, -1.8652846073714935, -1.8353857749080063, -0.735137174784895, -1.6004331080706797, 0.7949156229125696, -1.5990357596109241, -1.1557922559096152, -1.4271220340678081, -0.5856865862099796, -1.4352099544639318, -1.0757420649243334, 0.2710357908498903, -1.0150151440048851, 0.2735954279061228, -2.3726135118888014, 1.5171400959092822, 0.813934606102804, 0.9053164624119051, -1.6635624285301842, -0.21158283548650214, -0.4324858875005395, -0.1832869807803854, 0.3225926353104993, -0.8063486822984604, 0.6063993200816047, -1.1415843006789257, -1.968990343534764, 1.6909268558265893, -0.20264451787963278, -1.9443055170022172, -3.230333323504428, -0.5941350023589274, 1.770409785235415, 0.834244405132878, -2.1737794485133666, -1.283975606196187, -0.8777860387062975, -4.132463339137519, 1.9421558612019814, -0.8679395284781934, 1.6069456666530901, -0.3904020052235386, -1.337660246125909, -1.0200560048169292, -0.8924098468484581, 1.9866311263110332, 0.3951095684913445, -2.509351488319488, -1.4109259383899746, 0.9302290154247514, -1.2692303310857813, 1.9766602555799089, -3.8780109295095526, -1.9254544909775817, -0.6506746385092576, -2.2355198405508308, -1.3052415916578008, -2.081473815252593, 1.0298228069233, -2.151957210581722, -2.082192318807139, 0.6893843741880772, -4.98142100576146, -0.9989560942538406, -0.8099640765983667, -1.8328490155901873, 1.7480759706486717, -2.4023134596551468, -0.8761753330793718, -1.876179689787616, -1.5605641984403054, 0.9395817203495784, -1.6412466032389712, 1.3966946000588791, -1.5488321689590634, 0.16864865020724845, -1.8348874064679994, 1.5794878485600976, 0.6079771828121164, -2.18646069269633, -0.39985951932923386, 1.0457330207507551, -0.5876023351883565, -1.2357360995604587, 2.344922633192446, -0.319292113241072, -2.424095155764525, -0.7876773859471247, 0.3278152728071301, -3.5339180384504596, 0.39723518453569695, -1.6019597100263094, -0.6755801558861367, -1.5543870944166727, -1.777505588834924, 0.4603082218116455, 2.2589406197927793, 0.7555549429984393, 0.7351092692575385, 1.1222086634704964, 1.3864962047446847, 2.5977771069451094, 0.5088094656602395, 1.7771335438893172, -1.3733130347083289, 1.960109376687851, 1.7482834331437298, -2.249423969499261, -2.1896974232368565, -0.5085574935449018], \"z\": [0.9113113598835803, 1.4465360806131176, 1.2167740663820517, -0.340530577121685, -1.5293782159945537, -0.9815081736072144, -0.9425473419699135, -1.373887706932027, 0.5444434348626062, 0.38723228291260464, 1.4582446285861017, -0.6877890039667985, 1.2438273317951352, 0.6656506430313743, -0.5947117300241205, 0.9874300179876921, 0.6201311209802713, -0.5599703871547026, -0.5402636422961882, 0.17517177118351113, -0.49432744857987915, 0.7732861099746801, 0.8042175573094289, -0.8099870098492332, -1.7921949148178011, 0.49486197298157464, 0.13271918009463857, -0.34787012837244813, -1.1047533941816292, -0.07206511330092868, -0.6362754974009812, 2.292567357254647, -0.4475954161037392, -0.12028777075098862, 1.2378739157804928, 1.5803191593140666, -0.1803723135449829, -1.5795687047153701, -0.27027075283872426, 1.3911337255847367, 1.6907674449479566, 0.47694152255670696, -2.246239079647885, 0.494432017376615, 0.4344791306022795, 0.8524427042768319, 0.1338874236552991, 1.0968227587984019, 0.701266467862024, -0.44647141335148843, -1.2439706612668584, 0.18209372334004914, 1.633077007013922, 1.3212156956313699, 0.5184110109166915, -0.23615920154174375, 1.0940245446195016, -1.4325090856400138, 1.2603506864535097, -2.6901231496107147, -0.7238694433837165, -1.418847475695356, 0.8767998877856422, -0.06139822386625893, 1.3000411246044659, -1.292920337112281, -1.4874686456350492, 0.3343312701359189, 0.3071401808137354, -1.9629725193875989, 0.05080316503496096, -0.5171971742559224, 0.41459268520820447, 0.7645878731559962, -0.493729284945287, 0.3380026140051978, -0.0202987476148688, -0.7972496679146, 0.6598511872300952, -0.9310005475132909, 1.4087907073287367, -1.4727570672043786, -0.09692709485688922, 0.0862386861566724, -0.2931782463650976, 0.6397310953463436, 1.122678767775803, 0.8124656131537829, 0.5094565585460828, 0.0383864370235566, -0.01583523239094553, 1.4240260509810447, 0.24056137366527142, -1.5522263233632865, -1.2202216758454667, -1.0487983843660234, -2.7795865791790124, 0.12296829176113144, 0.9948256740687753, -0.7803399782443166, -0.846321415501787, 0.008658586879442542, -0.10160065648467931, 1.6609818906710427, 0.9403344417002184, 0.6285088260366196, -0.8277060831973078, 1.5242028557281238, 2.0191313725246274, -0.28828732204591256, -0.34362239289614904, 0.34753676832703284, 0.03428505243237326, 1.333241282298723, 1.1811989517411217, 0.17199796506370613, -1.018967973906248]}],\n",
              "                        {\"legend\": {\"tracegroupgap\": 0}, \"margin\": {\"t\": 60}, \"scene\": {\"domain\": {\"x\": [0.0, 1.0], \"y\": [0.0, 1.0]}, \"xaxis\": {\"title\": {\"text\": \"PC1\"}}, \"yaxis\": {\"title\": {\"text\": \"PC2\"}}, \"zaxis\": {\"title\": {\"text\": \"PC3\"}}}, \"template\": {\"data\": {\"bar\": [{\"error_x\": {\"color\": \"#2a3f5f\"}, \"error_y\": {\"color\": \"#2a3f5f\"}, \"marker\": {\"line\": {\"color\": \"#E5ECF6\", \"width\": 0.5}}, \"type\": \"bar\"}], \"barpolar\": [{\"marker\": {\"line\": {\"color\": \"#E5ECF6\", \"width\": 0.5}}, \"type\": \"barpolar\"}], \"carpet\": [{\"aaxis\": {\"endlinecolor\": \"#2a3f5f\", \"gridcolor\": \"white\", \"linecolor\": \"white\", \"minorgridcolor\": \"white\", \"startlinecolor\": \"#2a3f5f\"}, \"baxis\": {\"endlinecolor\": \"#2a3f5f\", \"gridcolor\": \"white\", \"linecolor\": \"white\", \"minorgridcolor\": \"white\", \"startlinecolor\": \"#2a3f5f\"}, \"type\": \"carpet\"}], \"choropleth\": [{\"colorbar\": {\"outlinewidth\": 0, \"ticks\": \"\"}, \"type\": \"choropleth\"}], \"contour\": [{\"colorbar\": {\"outlinewidth\": 0, \"ticks\": \"\"}, \"colorscale\": [[0.0, \"#0d0887\"], [0.1111111111111111, \"#46039f\"], [0.2222222222222222, \"#7201a8\"], [0.3333333333333333, \"#9c179e\"], [0.4444444444444444, \"#bd3786\"], [0.5555555555555556, \"#d8576b\"], [0.6666666666666666, \"#ed7953\"], [0.7777777777777778, \"#fb9f3a\"], [0.8888888888888888, \"#fdca26\"], [1.0, \"#f0f921\"]], \"type\": \"contour\"}], \"contourcarpet\": [{\"colorbar\": {\"outlinewidth\": 0, \"ticks\": \"\"}, \"type\": \"contourcarpet\"}], \"heatmap\": [{\"colorbar\": {\"outlinewidth\": 0, \"ticks\": \"\"}, \"colorscale\": [[0.0, \"#0d0887\"], [0.1111111111111111, \"#46039f\"], [0.2222222222222222, \"#7201a8\"], [0.3333333333333333, \"#9c179e\"], [0.4444444444444444, \"#bd3786\"], [0.5555555555555556, \"#d8576b\"], [0.6666666666666666, \"#ed7953\"], [0.7777777777777778, \"#fb9f3a\"], [0.8888888888888888, \"#fdca26\"], [1.0, \"#f0f921\"]], \"type\": \"heatmap\"}], \"heatmapgl\": [{\"colorbar\": {\"outlinewidth\": 0, \"ticks\": \"\"}, \"colorscale\": [[0.0, \"#0d0887\"], [0.1111111111111111, \"#46039f\"], [0.2222222222222222, \"#7201a8\"], [0.3333333333333333, \"#9c179e\"], [0.4444444444444444, \"#bd3786\"], [0.5555555555555556, \"#d8576b\"], [0.6666666666666666, \"#ed7953\"], [0.7777777777777778, \"#fb9f3a\"], [0.8888888888888888, \"#fdca26\"], [1.0, \"#f0f921\"]], \"type\": \"heatmapgl\"}], \"histogram\": [{\"marker\": {\"colorbar\": {\"outlinewidth\": 0, \"ticks\": \"\"}}, \"type\": \"histogram\"}], \"histogram2d\": [{\"colorbar\": {\"outlinewidth\": 0, \"ticks\": \"\"}, \"colorscale\": [[0.0, \"#0d0887\"], [0.1111111111111111, \"#46039f\"], [0.2222222222222222, \"#7201a8\"], [0.3333333333333333, \"#9c179e\"], [0.4444444444444444, \"#bd3786\"], [0.5555555555555556, \"#d8576b\"], [0.6666666666666666, \"#ed7953\"], [0.7777777777777778, \"#fb9f3a\"], [0.8888888888888888, \"#fdca26\"], [1.0, \"#f0f921\"]], \"type\": \"histogram2d\"}], \"histogram2dcontour\": [{\"colorbar\": {\"outlinewidth\": 0, \"ticks\": \"\"}, \"colorscale\": [[0.0, \"#0d0887\"], [0.1111111111111111, \"#46039f\"], [0.2222222222222222, \"#7201a8\"], [0.3333333333333333, \"#9c179e\"], [0.4444444444444444, \"#bd3786\"], [0.5555555555555556, \"#d8576b\"], [0.6666666666666666, \"#ed7953\"], [0.7777777777777778, \"#fb9f3a\"], [0.8888888888888888, \"#fdca26\"], [1.0, \"#f0f921\"]], \"type\": \"histogram2dcontour\"}], \"mesh3d\": [{\"colorbar\": {\"outlinewidth\": 0, \"ticks\": \"\"}, \"type\": \"mesh3d\"}], \"parcoords\": [{\"line\": {\"colorbar\": {\"outlinewidth\": 0, \"ticks\": \"\"}}, \"type\": \"parcoords\"}], \"pie\": [{\"automargin\": true, \"type\": \"pie\"}], \"scatter\": [{\"marker\": {\"colorbar\": {\"outlinewidth\": 0, \"ticks\": \"\"}}, \"type\": \"scatter\"}], \"scatter3d\": [{\"line\": {\"colorbar\": {\"outlinewidth\": 0, \"ticks\": \"\"}}, \"marker\": {\"colorbar\": {\"outlinewidth\": 0, \"ticks\": \"\"}}, \"type\": \"scatter3d\"}], \"scattercarpet\": [{\"marker\": {\"colorbar\": {\"outlinewidth\": 0, \"ticks\": \"\"}}, \"type\": \"scattercarpet\"}], \"scattergeo\": [{\"marker\": {\"colorbar\": {\"outlinewidth\": 0, \"ticks\": \"\"}}, \"type\": \"scattergeo\"}], \"scattergl\": [{\"marker\": {\"colorbar\": {\"outlinewidth\": 0, \"ticks\": \"\"}}, \"type\": \"scattergl\"}], \"scattermapbox\": [{\"marker\": {\"colorbar\": {\"outlinewidth\": 0, \"ticks\": \"\"}}, \"type\": \"scattermapbox\"}], \"scatterpolar\": [{\"marker\": {\"colorbar\": {\"outlinewidth\": 0, \"ticks\": \"\"}}, \"type\": \"scatterpolar\"}], \"scatterpolargl\": [{\"marker\": {\"colorbar\": {\"outlinewidth\": 0, \"ticks\": \"\"}}, \"type\": \"scatterpolargl\"}], \"scatterternary\": [{\"marker\": {\"colorbar\": {\"outlinewidth\": 0, \"ticks\": \"\"}}, \"type\": \"scatterternary\"}], \"surface\": [{\"colorbar\": {\"outlinewidth\": 0, \"ticks\": \"\"}, \"colorscale\": [[0.0, \"#0d0887\"], [0.1111111111111111, \"#46039f\"], [0.2222222222222222, \"#7201a8\"], [0.3333333333333333, \"#9c179e\"], [0.4444444444444444, \"#bd3786\"], [0.5555555555555556, \"#d8576b\"], [0.6666666666666666, \"#ed7953\"], [0.7777777777777778, \"#fb9f3a\"], [0.8888888888888888, \"#fdca26\"], [1.0, \"#f0f921\"]], \"type\": \"surface\"}], \"table\": [{\"cells\": {\"fill\": {\"color\": \"#EBF0F8\"}, \"line\": {\"color\": \"white\"}}, \"header\": {\"fill\": {\"color\": \"#C8D4E3\"}, \"line\": {\"color\": \"white\"}}, \"type\": \"table\"}]}, \"layout\": {\"annotationdefaults\": {\"arrowcolor\": \"#2a3f5f\", \"arrowhead\": 0, \"arrowwidth\": 1}, \"coloraxis\": {\"colorbar\": {\"outlinewidth\": 0, \"ticks\": \"\"}}, \"colorscale\": {\"diverging\": [[0, \"#8e0152\"], [0.1, \"#c51b7d\"], [0.2, \"#de77ae\"], [0.3, \"#f1b6da\"], [0.4, \"#fde0ef\"], [0.5, \"#f7f7f7\"], [0.6, \"#e6f5d0\"], [0.7, \"#b8e186\"], [0.8, \"#7fbc41\"], [0.9, \"#4d9221\"], [1, \"#276419\"]], \"sequential\": [[0.0, \"#0d0887\"], [0.1111111111111111, \"#46039f\"], [0.2222222222222222, \"#7201a8\"], [0.3333333333333333, \"#9c179e\"], [0.4444444444444444, \"#bd3786\"], [0.5555555555555556, \"#d8576b\"], [0.6666666666666666, \"#ed7953\"], [0.7777777777777778, \"#fb9f3a\"], [0.8888888888888888, \"#fdca26\"], [1.0, \"#f0f921\"]], \"sequentialminus\": [[0.0, \"#0d0887\"], [0.1111111111111111, \"#46039f\"], [0.2222222222222222, \"#7201a8\"], [0.3333333333333333, \"#9c179e\"], [0.4444444444444444, \"#bd3786\"], [0.5555555555555556, \"#d8576b\"], [0.6666666666666666, \"#ed7953\"], [0.7777777777777778, \"#fb9f3a\"], [0.8888888888888888, \"#fdca26\"], [1.0, \"#f0f921\"]]}, \"colorway\": [\"#636efa\", \"#EF553B\", \"#00cc96\", \"#ab63fa\", \"#FFA15A\", \"#19d3f3\", \"#FF6692\", \"#B6E880\", \"#FF97FF\", \"#FECB52\"], \"font\": {\"color\": \"#2a3f5f\"}, \"geo\": {\"bgcolor\": \"white\", \"lakecolor\": \"white\", \"landcolor\": \"#E5ECF6\", \"showlakes\": true, \"showland\": true, \"subunitcolor\": \"white\"}, \"hoverlabel\": {\"align\": \"left\"}, \"hovermode\": \"closest\", \"mapbox\": {\"style\": \"light\"}, \"paper_bgcolor\": \"white\", \"plot_bgcolor\": \"#E5ECF6\", \"polar\": {\"angularaxis\": {\"gridcolor\": \"white\", \"linecolor\": \"white\", \"ticks\": \"\"}, \"bgcolor\": \"#E5ECF6\", \"radialaxis\": {\"gridcolor\": \"white\", \"linecolor\": \"white\", \"ticks\": \"\"}}, \"scene\": {\"xaxis\": {\"backgroundcolor\": \"#E5ECF6\", \"gridcolor\": \"white\", \"gridwidth\": 2, \"linecolor\": \"white\", \"showbackground\": true, \"ticks\": \"\", \"zerolinecolor\": \"white\"}, \"yaxis\": {\"backgroundcolor\": \"#E5ECF6\", \"gridcolor\": \"white\", \"gridwidth\": 2, \"linecolor\": \"white\", \"showbackground\": true, \"ticks\": \"\", \"zerolinecolor\": \"white\"}, \"zaxis\": {\"backgroundcolor\": \"#E5ECF6\", \"gridcolor\": \"white\", \"gridwidth\": 2, \"linecolor\": \"white\", \"showbackground\": true, \"ticks\": \"\", \"zerolinecolor\": \"white\"}}, \"shapedefaults\": {\"line\": {\"color\": \"#2a3f5f\"}}, \"ternary\": {\"aaxis\": {\"gridcolor\": \"white\", \"linecolor\": \"white\", \"ticks\": \"\"}, \"baxis\": {\"gridcolor\": \"white\", \"linecolor\": \"white\", \"ticks\": \"\"}, \"bgcolor\": \"#E5ECF6\", \"caxis\": {\"gridcolor\": \"white\", \"linecolor\": \"white\", \"ticks\": \"\"}}, \"title\": {\"x\": 0.05}, \"xaxis\": {\"automargin\": true, \"gridcolor\": \"white\", \"linecolor\": \"white\", \"ticks\": \"\", \"title\": {\"standoff\": 15}, \"zerolinecolor\": \"white\", \"zerolinewidth\": 2}, \"yaxis\": {\"automargin\": true, \"gridcolor\": \"white\", \"linecolor\": \"white\", \"ticks\": \"\", \"title\": {\"standoff\": 15}, \"zerolinecolor\": \"white\", \"zerolinewidth\": 2}}}},\n",
              "                        {\"responsive\": true}\n",
              "                    ).then(function(){\n",
              "                            \n",
              "var gd = document.getElementById('766a538f-aa33-40b9-8dbf-22ab61fd7cef');\n",
              "var x = new MutationObserver(function (mutations, observer) {{\n",
              "        var display = window.getComputedStyle(gd).display;\n",
              "        if (!display || display === 'none') {{\n",
              "            console.log([gd, 'removed!']);\n",
              "            Plotly.purge(gd);\n",
              "            observer.disconnect();\n",
              "        }}\n",
              "}});\n",
              "\n",
              "// Listen for the removal of the full notebook cells\n",
              "var notebookContainer = gd.closest('#notebook-container');\n",
              "if (notebookContainer) {{\n",
              "    x.observe(notebookContainer, {childList: true});\n",
              "}}\n",
              "\n",
              "// Listen for the clearing of the current output cell\n",
              "var outputEl = gd.closest('.output');\n",
              "if (outputEl) {{\n",
              "    x.observe(outputEl, {childList: true});\n",
              "}}\n",
              "\n",
              "                        })\n",
              "                };\n",
              "                \n",
              "            </script>\n",
              "        </div>\n",
              "</body>\n",
              "</html>"
            ]
          },
          "metadata": {
            "tags": []
          }
        }
      ]
    },
    {
      "cell_type": "code",
      "metadata": {
        "id": "FBe7QQPYQwYG",
        "colab_type": "code",
        "colab": {}
      },
      "source": [
        "x_r = np.dot(Z, U[:, :10].T)"
      ],
      "execution_count": 0,
      "outputs": []
    },
    {
      "cell_type": "code",
      "metadata": {
        "id": "yfYTNY2JRAwO",
        "colab_type": "code",
        "outputId": "69dd5794-488f-4fe5-8e33-38e3485fcdfe",
        "colab": {
          "base_uri": "https://localhost:8080/",
          "height": 591
        }
      },
      "source": [
        "import matplotlib.pyplot as plt\n",
        "\n",
        "plt.figure(figsize = (10, 10))\n",
        "for i in range(16):\n",
        "  plt.subplot(4, 4, i+1)\n",
        "  plt.imshow(x_r[i].reshape(28, 28), cmap= 'gray')"
      ],
      "execution_count": 38,
      "outputs": [
        {
          "output_type": "display_data",
          "data": {
            "image/png": "[encoded data removed]",
            "text/plain": [
              "<Figure size 720x720 with 16 Axes>"
            ]
          },
          "metadata": {
            "tags": [],
            "needs_background": "light"
          }
        }
      ]
    },
    {
      "cell_type": "code",
      "metadata": {
        "id": "dQCKv4_mDq23",
        "colab_type": "code",
        "colab": {}
      },
      "source": [
        "from sklearn.manifold import MDS, Isomap, TSNE\n",
        "\n",
        "embedding = Isomap(n_components=3)\n",
        "X_transformed = embedding.fit_transform(x[::50])"
      ],
      "execution_count": 0,
      "outputs": []
    },
    {
      "cell_type": "code",
      "metadata": {
        "id": "NgSpCQHNHtVN",
        "colab_type": "code",
        "colab": {}
      },
      "source": [
        "mnist_df2 = pd.DataFrame(data = X_transformed, columns = ['PC'+ str(i + 1) for i in range(3)])"
      ],
      "execution_count": 0,
      "outputs": []
    },
    {
      "cell_type": "code",
      "metadata": {
        "id": "GsThK20aIVEm",
        "colab_type": "code",
        "colab": {}
      },
      "source": [
        "mnist_df2['value'] = y_train[::50]"
      ],
      "execution_count": 0,
      "outputs": []
    },
    {
      "cell_type": "code",
      "metadata": {
        "id": "BAfOcQOwIZAk",
        "colab_type": "code",
        "outputId": "91641e15-929c-4cb3-e35f-cf8331b06160",
        "colab": {
          "base_uri": "https://localhost:8080/",
          "height": 542
        }
      },
      "source": [
        "fig = px.scatter_3d(mnist_df2, x='PC1', y='PC2', z= 'PC3',\n",
        "              color='value')\n",
        "fig.show()"
      ],
      "execution_count": 42,
      "outputs": [
        {
          "output_type": "display_data",
          "data": {
            "text/html": [
              "<html>\n",
              "<head><meta charset=\"utf-8\" /></head>\n",
              "<body>\n",
              "    <div>\n",
              "            <script src=\"https://cdnjs.cloudflare.com/ajax/libs/mathjax/2.7.5/MathJax.js?config=TeX-AMS-MML_SVG\"></script><script type=\"text/javascript\">if (window.MathJax) {MathJax.Hub.Config({SVG: {font: \"STIX-Web\"}});}</script>\n",
              "                <script type=\"text/javascript\">window.PlotlyConfig = {MathJaxConfig: 'local'};</script>\n",
              "        <script src=\"https://cdn.plot.ly/plotly-latest.min.js\"></script>    \n",
              "            <div id=\"2d23bcfb-381b-457c-bfce-61de1693888f\" class=\"plotly-graph-div\" style=\"height:525px; width:100%;\"></div>\n",
              "            <script type=\"text/javascript\">\n",
              "                \n",
              "                    window.PLOTLYENV=window.PLOTLYENV || {};\n",
              "                    \n",
              "                if (document.getElementById(\"2d23bcfb-381b-457c-bfce-61de1693888f\")) {\n",
              "                    Plotly.newPlot(\n",
              "                        '2d23bcfb-381b-457c-bfce-61de1693888f',\n",
              "                        [{\"hoverlabel\": {\"namelength\": 0}, \"hovertemplate\": \"value=5<br>PC1=%{x}<br>PC2=%{y}<br>PC3=%{z}\", \"legendgroup\": \"value=5\", \"marker\": {\"color\": \"#636efa\", \"symbol\": \"circle\"}, \"mode\": \"markers\", \"name\": \"value=5\", \"scene\": \"scene\", \"showlegend\": true, \"type\": \"scatter3d\", \"x\": [4.342400808749056, -1.4506217908593482, 2.0390841615248654, 7.083260740754762, -0.9621862433911978, -3.926313627836735, 3.031840784679515, 7.238019145992412, 12.826390634331213, 8.367386762215999, 13.745790922912988, 10.56042340878782, 10.243425032541813, -6.413388809036898, 16.559894180483486, 10.453421898316018, 14.603049180705062, 20.729947166933904, 12.787266646197079, -13.686477234663608, 12.508238080450063, 23.16687991473718, 7.927801890035208, 20.38924265004265, 16.106973107862885, -10.615796270888689, 9.828969049929643, 1.4790493896799872, 15.647893178923447, 17.400994442887566, 6.707440344231014, 9.992259855531781, 18.977064087436762, 6.401485349802439, 25.745560693816792, 13.255626743846594, -2.922989324883565, -2.9883098876987675, 23.975830228120277, 1.7684233967206577, -2.5378139116286356, 15.889299453604075, -3.1232421840662425, 14.928529457369061, 16.7124279570543, 11.237025930943021, -5.334792830738879, 13.146549790844343, 3.9178369747660455, 1.4892377759570294, -4.703830732315897, 6.279087870243928, -7.109641979433448, 9.576293595596065, 13.051854119533385, 18.32327784803177, 3.8238442101015138, -11.429438012208236, 12.521898794472994, 3.609342389987014, 7.304074230401481, 6.232290216367178, -14.377858988238296, -11.39208973433599, 10.12902271847672, -6.769037415172707, 20.213079933017223, -2.4322925558835107, 4.9297112134443495, 2.332373772315415, -11.296784949946357, -4.655664929894363, 1.180678962502242, -0.6426665417457792, 3.335917417034522, 18.938185558853146, -6.152674616787067, 4.2950815063579535, -5.205217960088094, -1.3641498621604344, 1.5699871726926806, -12.895596063869675, 8.43456886964613, 10.237614164144661, 2.57185973228763, -9.261553071342968, 14.476173000886154, 7.497956393238151, 7.918955226830201, 5.520145612753499, -3.672307588493416, 3.1717660337567786, -10.71321351300274, -0.9897699962532602, -9.578781277884051, 5.808471916509212, 10.14252840498604, 17.538813997492994, 5.695152424111263, 9.921793337871694, 11.680228396891797, 12.182108209360269, 4.566633810380046, -2.8588115060439603, 20.752247634250413, 22.087340475433955, 26.13713988070296, 11.436824109862822, -0.5642510247314746, 9.408394947279602, 3.694674840813191], \"y\": [-10.039238799676417, 2.69987365050209, 8.11727335304278, 9.1794475154637, -2.235411278168393, -1.8908300272526177, -7.656981078735144, -1.5891309862800795, -13.323562537717823, -1.682723211342167, -5.668541067705867, 0.37069834383832856, -3.2402110445316623, -4.747661149101878, -1.6277431996694278, -5.174969038935711, 0.7360131157162245, -5.165149619931399, -2.134040310252906, 10.255567495094521, -4.073086270746404, 7.2423076104001645, 1.798035373243519, -6.515793836289092, 6.2926891089987365, -2.2243922178056654, 4.404014927713689, 0.6053177112171501, -2.091189057405795, -2.078001652470839, 2.669797473700814, -2.923986839852779, 5.042506356811302, 1.5157014020751571, -1.1123556369239807, 0.04509070193081791, -2.1021865342216213, 5.653172954474845, 1.620981848353748, -3.3584600819354997, -10.251063531632614, -8.044239848850081, 3.9947670079147004, -2.2614869354278477, 7.24414778241547, -7.158578546894648, -0.42924941276764256, 4.887247847154941, -5.283138300949499, 1.6052433021745478, 3.046741968825116, 20.047866159077838, 2.421883763721539, -0.5201052829855064, 5.8286814950910255, 0.9328830724086935, 4.494076131721152, 3.2173111795732643, -9.483408089088602, 3.3476679858637115, 7.089399823530028, -1.2265932660027623, -5.637443254114881, 7.065075002198646, 4.54985563919118, 7.262870988539655, -6.617562865129146, -8.50999858825149, -7.4953915211672335, -6.309327520013475, 8.2043847906502, -7.4778043279244, -0.7882319366699881, -7.099866850757688, 5.770672664465883, -4.987372809351511, -3.4878889959136474, -8.369248629267624, -11.576322741261276, -10.706501091399522, 5.351438240745408, -2.4106969920468435, -9.261082029990124, -6.429291583408802, 1.33974926034017, -0.9145181321292459, 3.596574943870261, -3.479756502286009, 4.480627389455943, 1.0668941951077169, 6.576163781298006, -5.827389749802089, 7.124761183541377, -3.665002326276828, 2.6947099370948355, 2.342377613462343, 1.0141691631370309, 0.6534301172694837, -0.009212127082689597, -0.7715443001513936, -5.532342565648302, -5.595087083007646, -3.043359631479999, -2.2030854224284284, -1.1323868438094076, 5.312538062695598, 3.2626959640214412, -1.0394012186213022, -1.3991520709505594, -7.654819359120721, -7.62031506138094], \"z\": [0.2788276014309458, -5.411605146639807, 4.801313208452304, -7.631024432228458, -12.83691322662343, 1.9120225499345647, -5.050035174452801, -0.43443038764826597, 1.0053540750720464, 6.919538340355094, 5.647475405331798, 1.0802151874527843, 8.908915049531446, -10.651213254186972, -6.088416828492112, -0.44926301980541067, 7.525665041442059, 11.916475884026768, 2.8426249332728784, 12.704286003459094, 10.539141854972792, 3.823926008979029, 10.053061277876267, 5.51154362318091, 4.554280638841645, -9.787238531033383, 3.2350836467554873, -6.56139698395664, -0.8435004894065484, 6.66393850751556, 2.5891623039884974, 0.2909581640235423, 2.0698963042413197, 2.512167069739977, 10.223141681204353, 2.2061616924109835, -4.847240719350186, -1.5956061837471147, 3.5798584965228666, -12.755989805633245, -4.090923045371601, 4.8731617313018925, 6.990651849003571, 8.273909447190805, 0.831603016301516, 2.9282893899655487, -5.204940389629686, 5.948861665907695, 0.038622741195334986, 0.6407699314004205, -11.89672752973771, 0.13573639292355794, -0.2384741995848475, 2.0980494030496453, 5.324936527474325, 5.18511560031704, 3.755253123574894, -3.2950107775336264, 9.994250757411082, -4.483288598484956, -2.1652555997612786, -1.580786148730097, -11.756328614692977, -2.4023707246741366, 3.6586885118351704, 1.5243834660415136, 14.166645882975853, -12.393355609439299, -7.832990794509654, -8.448682223202606, 0.6432379867801877, -5.815450639629045, -8.888643401013608, -12.367068147385917, -0.4822872610229043, -1.6392567341676987, -2.912220244188944, -3.756657013203777, 1.6818970268891713, 1.9530883376194248, 1.0743016768607818, -9.25331333130417, -7.211571250785152, -6.301218951721611, -5.35119210475759, -4.798101357256402, 3.7035846764518157, 5.317705936503084, -1.3750074213941406, 1.1989650778686138, 2.155715475277088, -7.586619444864511, -2.781784537162847, 2.3453201736976554, -2.582431009753279, -8.267662845441944, 3.9021445966743804, 7.0742321403217305, -6.581593548354829, 6.383526202624471, -3.8606257694848316, 5.915469150049472, -6.0406673431454, 8.95538777649586, 9.411171766708176, 3.077631748042202, 3.9091724439790427, 6.986074444746244, -9.372410250801622, -3.42346997123175, -10.81725593688536]}, {\"hoverlabel\": {\"namelength\": 0}, \"hovertemplate\": \"value=3<br>PC1=%{x}<br>PC2=%{y}<br>PC3=%{z}\", \"legendgroup\": \"value=3\", \"marker\": {\"color\": \"#EF553B\", \"symbol\": \"circle\"}, \"mode\": \"markers\", \"name\": \"value=3\", \"scene\": \"scene\", \"showlegend\": true, \"type\": \"scatter3d\", \"x\": [13.948450603467936, 0.0691363364276288, -13.56464789318169, 12.986272216371754, 13.940041898681958, 20.027113635131613, -6.238613679837597, 17.74900947186664, 13.598561857163569, 13.622228239764386, 12.7341606737388, 9.349987108093867, 17.54616207569099, 17.965740002936894, 9.498886949992828, 15.93298808579838, 4.229751565263227, 17.274015275841887, 19.475030481356523, 7.291194608480495, -11.612577836064673, 15.845020619134726, -0.9984490210858719, 15.472008664666653, 7.80187162711037, 16.446289791768635, 14.891620820133548, 10.22749133998641, -7.764561937255574, 13.420780295377224, 8.506375909893789, 16.538029202781484, 16.888265972662364, 2.2288487959725627, 7.264438987642397, 8.329290550965284, 5.448584177132141, 8.067975274612147, 8.371147001369213, 5.032392473737127, 15.785352518036504, 15.786539496252917, 8.97952253650978, 14.758560964663404, 23.061890559301435, 12.4492428667713, 19.573188090881157, 17.204804782273477, 15.37848042967485, 13.035629896707201, 2.2257493999335014, 11.362057836181249, 13.450162541327568, 13.163883429846338, 0.15190644057419134, 14.89007556162983, 7.127030289327602, 3.653403791677559, 11.252147290887207, 15.389152335789113, 9.167414636796927, -2.187332652279564, -2.82568679041187, 13.34931604904779, 20.489195780171517, 10.571703520238248, 5.448193234187889, 6.061874534222392, 11.251622168980571, -4.946281934521625, 13.009871489831896, 1.2000288267608734, 9.961801544637767, -6.806358615508633, 3.2340598412893735, 6.255521401592597, 10.45056576958855, 19.853515965203197, 8.747950163480168, 14.446239101703561, 15.371443352944961, 12.921882764196132, 12.246776613052884, 15.92336097029734, 15.958868982019522, 6.468884007852561, 10.678157228141615, 11.02009350792354, -0.2587844259635663, 11.051828210645366, 8.56495221523413, 2.722932826223755, 10.257327908100919, 15.514649832963114, 3.0963624771460228, 10.250309116216046, 12.630322726145241, 10.056517709299694, 13.375153339694565, 14.025310910635131, 10.9536904048092, -5.888546918468644, 7.66715529519676, 10.580655131513197, 1.1617284891403543, 1.8606565555392465, 7.208446952416, 18.609437265232973, 10.851418958547741, 11.8365362489682, 23.75730333057723, 6.070697906686991, 14.35667786399209, 13.721919187004156, 14.355023036187838, 7.685125879883499, 16.04611937615798, 9.963766172057895, 12.854040140339492, 21.509207075525463, 4.681328552503743, 17.407125732171256, 22.765202281352256, 3.933915889206041, 2.7947744472083778, 9.343531277356973, 10.612560645885132, 8.839962985582927, 9.208431545703297, 5.650444925754892], \"y\": [-3.9690865634901096, 5.519809691462021, 2.1521039195457132, -4.256652113952234, -4.959169000379339, -3.407732788780317, -9.043169017239272, -6.413315389101027, -9.358003863681148, -9.271193035226663, -11.779186023205156, -9.66760700944123, -5.559654986992519, -6.005895906646386, -7.10581300115113, -3.8577527263211997, -5.166297187992554, -8.66659297929374, -3.6940795955660812, -3.3994195025134357, 14.474231477500433, -7.9302212069381985, -9.599185534792683, -4.640279652410751, -3.196824864438898, -8.222690932505879, -4.908974293535867, -8.272726977886144, -7.263069993338643, -6.268238839059639, -11.719945789230534, -3.103799080450443, -5.607365864353666, -5.259079797524808, -7.252361477120861, -11.912198098242872, -8.018857467521258, -11.269682541555548, -1.5687238721134877, -7.372468461631487, -5.532951199108592, -2.8616049047747127, -5.771386923581444, -7.725714810977556, -6.4159057588869155, -8.127025776958936, -7.410917915100401, -6.300927744803757, -8.40929069368282, -2.869488342393185, -2.2952686057652323, -7.310237384276913, -11.39979092024492, -1.4839384965069642, 4.407977621668224, -1.739592321143747, -10.876436896326735, -4.107093591872304, -6.028405456015797, -3.3200278592295067, -4.263511875924409, -11.853632304487533, -7.03950142469791, -9.608462943014645, -4.379117135994876, -3.3626605557944806, -7.966502677676922, -8.08053643415359, -7.502502006397676, -14.177996688606125, -4.511648666346586, -6.126419195420078, -8.483080856980681, -11.225076505039791, -6.833733532003055, -10.901381554173154, -4.529789303974289, -4.2222357817729375, -2.958947250202065, -2.302552976412927, -5.490579836553012, -5.23174318085439, -4.5682139666306005, -3.870134966428582, -8.061824662429355, -6.9799919490565525, -5.212209589168044, -4.459433454231102, -10.3833947942137, -3.11746051908321, 0.19037244063038655, -1.201898452620257, -10.115560338469383, -3.3219619486224086, -4.770981554863907, -3.5044906486827756, -4.504953861789165, -12.794963242702863, -4.305671971321451, -8.585529504912794, -5.991104211840738, -12.784558041033714, -0.6589015666410257, -9.633709994526773, 1.7784200178230916, -8.882461806576112, -10.462554569848152, -4.522000454829271, -10.803303137512142, -5.526034130880153, -3.177159436553932, -7.351531185458541, -6.801849639289012, -5.641082771477202, -9.789077021685916, -4.719202377627798, -7.984301720561308, -5.539462015334995, -9.206778480400661, -7.333864913749867, -3.2694421174523782, -6.889606410901454, -4.946683899411738, -14.415582913457294, -13.988323448356578, -13.246803415964072, -13.057463719647128, -12.21155431822089, -14.676577652667476, -13.990275549773397], \"z\": [5.0440448703588805, 6.414813490903541, 8.454993046274842, 12.786723032555962, 5.798502533853735, 20.78054287756741, -1.2340717559217493, 13.331205626922287, 4.783423010264658, 15.553803931447113, 7.160582530231806, 10.745732651264984, 16.10868471730852, 11.990095110832357, -0.36125909553218566, 10.667079585828361, -0.6412014323972609, -0.5975302978842294, 9.918276694647517, 17.46457672801161, 3.1328512404757634, 16.38342635742089, -0.5101057558188433, 6.955471503489047, 11.722775758923092, 16.50123562014254, 19.476161435668107, 9.461862030593325, 1.458007665805273, 7.194985860110061, 1.9995070082703208, 12.671244448592383, 9.210529860894555, 18.377058212155134, 10.064850320744227, 6.305920482260891, 13.773998542367737, 6.729864731909556, 14.146740719994627, 6.108518837881259, 8.298989781523058, 3.9355568578990066, 10.761774544639048, 18.3393075948716, 17.36679299274415, 12.062887911964387, 5.299643629747739, 13.059148069902074, 14.94844752591825, 3.3521993961983845, 8.048879471856752, 8.923346817089426, -0.9517271384802306, 8.109538406205393, 5.414004969863082, 15.122960766404178, 5.223332562482063, 10.601330658184107, 10.2789492251357, 11.047377960157032, 14.469589599444008, -1.6700886817663618, -2.053354271079201, 15.653080694515403, 19.328048352605933, 8.753939564629123, 8.674240988366181, 12.90811227537108, 7.5312285056506445, -2.2290770582621393, 15.050415480389603, 15.008081904940395, 10.209189569130377, -3.010315667221045, 11.275604478907402, 2.58864916332173, -1.0197124530526336, 16.07619896084999, 18.652524829774695, 16.687911577019467, 19.53120982141526, 6.537808104438673, 14.250445117053129, 22.40521961456452, 3.813876476456662, 4.856999734867911, 1.3098066750452593, 1.0390891762112622, 2.228712964860198, 8.076750555505978, 2.6010991417976244, 13.223148845955146, 2.1930175211116762, 10.577770252997038, 12.67597798667532, 7.786770513454961, 11.6352025531345, 3.1949076785704134, 19.538361219476897, 15.025451217827566, 4.386307388331633, -8.266716008036228, 15.899920357665932, 13.797395796220776, -4.436871986368773, -1.4380436995625498, 4.910643877642445, 14.581836240691235, 4.285055466233796, 9.788234907333685, 0.3376713950071457, 9.736004026073047, 11.642501767842907, 16.55725969462592, 7.388053838006795, -2.386610840758456, 4.6963913487005, 15.366968410840434, 4.2472967040681295, 12.793786468797727, 9.375730402230477, 16.382976846884425, 19.104694076317603, -1.1349279339964937, 3.513528285290259, 4.398630099660832, 7.958844056285072, 1.3329529611152389, 4.238450122979961, 3.8920705575341263]}, {\"hoverlabel\": {\"namelength\": 0}, \"hovertemplate\": \"value=4<br>PC1=%{x}<br>PC2=%{y}<br>PC3=%{z}\", \"legendgroup\": \"value=4\", \"marker\": {\"color\": \"#00cc96\", \"symbol\": \"circle\"}, \"mode\": \"markers\", \"name\": \"value=4\", \"scene\": \"scene\", \"showlegend\": true, \"type\": \"scatter3d\", \"x\": [-10.93327041566687, -8.267712640757996, -6.783118933180825, -17.579394365945788, -9.22183488181887, -9.096979109963334, -12.388317746636185, -6.142103940812054, -16.46918398765556, -15.703139253117342, -13.628821601896629, -16.751678350673977, -6.267050536709675, -16.879558014162498, -5.972737381582418, -17.35146455963789, -20.20518448478017, -23.36525304600348, -17.5551383825334, -17.645012741602557, -15.78762381783567, -16.39112618942038, -13.377769068336082, -13.693611662899137, -15.526621481649643, -7.21710377353359, -6.956370817004074, -20.23761550759961, -19.231233034569122, -16.234024549751144, -11.830859064221167, -15.869041554016976, -18.350883776509015, -17.351607632930694, -2.688354652657941, -18.91995008311787, -15.09488916045213, -14.980653947372414, -14.55057570841546, -6.659388683297264, -10.653283505885828, -13.850722113653672, -13.203238067265008, -9.648679054322958, -10.0254816517226, -18.668668258993957, -11.797154477557228, -13.769221709027684, -6.830889954975048, -8.382956028674933, -9.960702935653794, -14.805536642544538, -16.57831755976674, -14.890750559137143, -14.697500475912598, -16.925558450600093, -10.865380675485335, -17.043865709033422, -19.293896428324285, -19.32718397691306, -11.729556348053311, -14.714477487945747, -15.71241393825125, -11.822960050231346, -11.159603553079657, -18.41106224884961, -10.10507069918616, -15.10574283946501, -16.80348141548953, -16.284983250384943, -10.195458715292595, -8.874863296092325, -14.343569522313826, -16.96284011826789, -15.673480144330803, -18.48165572291594, -2.735152605945138, -17.192846464331023, -15.195099200014397, -14.057479605048416, -14.470623208625097, -9.522531686274272, -9.056514451182359, -22.276796661685257, -10.09994891669226, -18.889847824919514, -10.999881104602853, -11.773940564880439, -14.58276565601972, -11.121171265078218, -13.93955819721063, -14.723810868826652, -13.645306962121179, -16.78150355811906, -13.717895489778995, -18.6998115908632, -16.537103971347495, -13.773731517916024, -18.20453765060323, -14.97287967564213, -17.146202881407046, -12.822289303769594, -15.495135825051149, -13.714344451609966, -13.178211957468081, -13.702088927448088, -12.658595220403193, -19.338741507716488, -11.647786479458086, -16.401144895781346, -14.369764432113277, -16.1905306932392, -12.112149265870988, -13.177502971501461, -13.157668714418763, -10.445820107566432, -12.762094941839182, -7.34505620935264], \"y\": [-3.5122251884104965, 4.831880191663252, 9.79123982759005, 12.441268344130192, 3.894795909534205, 8.044314933015862, 6.5462211214627954, -13.143351890651939, 12.697550051099878, -3.3511291545862103, -1.5453557386328094, 10.676356982688922, -5.95680904541995, 1.5425498437234735, 1.05174192166236, 12.287319457673693, 12.933697339156982, 17.525451335910056, 6.923122733587118, 24.79859378752234, -0.012774662999256463, 3.454853540197694, 9.12541415058776, 20.24110218906064, 6.416020790798979, -11.988274391015901, 2.9458489766028606, 11.922151169517766, 8.250403464999112, 21.398414416112576, 2.4849203113002543, 13.957721247131085, 16.816329190421573, 6.759173496350311, 1.5178759287725208, 13.608072741602717, 9.835843903826362, 4.963414516433491, 9.342321917725485, 2.3483299493358833, 13.056997698603817, 4.959561896129973, 4.073388987996446, -1.5336040406300746, 2.3206325733968227, 11.300494230750706, -9.470930586809095, 10.653654002600309, 7.377072692140538, 2.875881140011457, -1.596617911991418, 10.997414971639332, 13.947838099134604, -0.4070191061362684, 2.5164240691965296, 8.209145430975868, -2.9966875812720164, 12.517923789908206, 8.498719775461115, 19.24724650453607, -2.465624558046377, 9.719107360678313, 5.185806323830194, -9.540490366446646, 5.848012153983788, 14.051961548272523, 6.7010473097655385, 14.532132024159159, 17.757222700348212, 4.146295630591964, 16.026970208926674, 18.15630541846886, 9.863295430100807, 22.023609142003362, 15.720340304955956, 13.798069962313127, -1.4502694694798715, 13.348690343348109, 3.7958517670341907, 13.55697742924894, 9.104526767199227, 5.556766797191212, 0.5836699411107482, 18.580271825258173, -7.38585434536829, 18.033521050107396, 0.43674524955431676, 1.2574560791343776, 11.098747791713885, 6.417900215235816, 10.86731884078857, 4.841037961845982, 8.933153717068846, 11.756882015187193, 13.203273615864713, 18.564852945748502, 8.20517672290145, 7.547987913129458, 22.422964170620812, 2.135150653169948, 18.88262593215131, 10.20159899969405, 10.90666094421433, 4.831502380833201, 8.019820583613036, -2.724546524107966, 8.624564825456948, 14.889540908228653, 3.6569025825473815, 14.201967333336126, 9.981193362084635, 7.951102512420639, 7.821335477668308, 5.47497673440717, 4.142155825672128, -9.311671049837035, -6.268240598897585, -9.855431531702065], \"z\": [6.906526041687041, -11.824693129593273, -10.333985692681532, -10.823574835805992, -1.4423304643006878, -6.803106192050986, -1.8636160171736076, 2.220143350418912, 2.3132272728067105, -2.3961298443124015, -5.329611645267191, 1.7332191602492812, -9.605898052563019, -3.7898048930994395, -9.476084566114594, 2.2622007754305615, 5.132403830753907, 3.826619576826686, -3.830021822148347, 8.236366115970537, 1.844163510658635, -2.3913736051767733, 0.4597099407456448, -0.6342180978503024, 3.0294694882219466, 7.028912449465047, -0.41415102022486616, 4.917720953291796, -3.730678323374635, 0.41783329363492366, 0.3297293151813795, -3.184743176802013, -1.7413314641234308, -0.582048948718918, 1.0053955579261258, -4.872412455446393, -5.438148766870603, 10.36738273322853, -0.3494877351553528, 1.436124368892016, -13.032241209197442, 1.285906848588313, -6.5201462644720705, -8.877519611919745, 4.079858631922159, -1.1828997251992037, -10.569786661558386, -6.363354626067439, -1.4640806621404014, -9.260054068342527, -10.75577047591734, -0.07810233774004711, -5.676345426617367, -8.263843883356596, -0.48888112507914744, 5.4426662159655095, -1.9004845084156117, -6.7349754755903435, 1.7021343686864487, -0.4090301949382754, -9.12636723961762, -3.090723546136642, 1.5589177398147886, -7.193965009411069, -1.5674269178890445, 3.353693310739717, 1.779223573603915, 0.430719341582525, -1.1156761138287867, 4.639681327306027, -0.19831567852115037, -0.02298903971483911, 0.661070680213258, -0.583409407543376, -0.9334955264144661, 3.0111383185071383, 10.203447076258302, -0.8779917865933351, 1.572062130025932, -6.008833582596782, 0.3501490806384591, 2.306866919404114, 13.31038289136418, -4.195105877420493, -12.872950815585154, -3.344869658932009, -4.35827145179592, -11.539190562007, -0.3814230988881589, 1.196154620569668, -7.893892134989147, -2.807909386113301, -4.593500755281935, 13.354232060631643, -8.681459226148688, 6.397280854777507, -5.266198725507547, -7.233323660885633, 6.988464837273376, 9.76134244370372, 0.31007566559096267, 0.25193394722857554, -4.56499761210119, -9.975224508219808, -1.781855805870925, -6.694280047323311, -7.857538712304116, 5.166172719939774, -5.260212609375744, 1.4854296088118475, 0.8638567757658507, 2.3218311477435423, -15.880845858127655, -8.613814592723871, -7.190244219256024, -14.825823378063811, -11.29935849473361, -9.910727903725244]}, {\"hoverlabel\": {\"namelength\": 0}, \"hovertemplate\": \"value=1<br>PC1=%{x}<br>PC2=%{y}<br>PC3=%{z}\", \"legendgroup\": \"value=1\", \"marker\": {\"color\": \"#ab63fa\", \"symbol\": \"circle\"}, \"mode\": \"markers\", \"name\": \"value=1\", \"scene\": \"scene\", \"showlegend\": true, \"type\": \"scatter3d\", \"x\": [-1.0973352228176807, -3.026072075353195, -7.432224564345417, -4.113189088345286, -2.3866912489790804, -3.252017667586038, -3.4580904430278174, -2.3856141456854614, -3.7645166750041366, -3.0750241147846387, 2.8467448864065807, -3.4319265370942227, -4.9946647610695605, 1.4053180413514843, -4.000443759878894, -3.1161479104303327, -3.619118884583117, -0.1406410858358642, -1.6362285995931, -5.1725860666756205, -4.7499631780070395, -7.523032937113551, -1.2973860863348115, -0.5417705392814031, -5.174965084602236, -3.1490543445260957, -1.756885630262226, -3.075064417740101, -4.887615329885985, -3.4235215423300507, -6.4389905363087365, -3.652494634333015, -7.3881415887984385, 1.7685186183218835, 0.6537891301994717, 2.947980826630156, 0.9865250967871416, -3.3055929762796277, -2.3254165367188824, -4.920019302976448, 1.2635083343599585, -0.749065250087889, -3.918744462148671, -5.7834524224344985, -6.964535808624231, -8.050743485219245, 0.9601342412386041, -5.335483827121005, -0.9121435136351753, -4.0568115519744765, -4.782818527634565, -0.7772506634693039, -3.919341292793985, -0.4633542867349909, -3.8317489739619837, -1.219005764631062, -1.5418852942550667, -4.305013050271094, -5.8852457358840295, -4.4969570281794145, -5.565543991302348, -5.121422265572156, -2.98773905236979, 2.2624642297569997, -2.766563121418748, -5.744602286039679, -6.029545412399038, -0.8126144306851837, -5.625677111722603, -4.1487535670229585, 2.114071020614617, -1.130184409204881, -5.8170626677350645, -5.308503666112263, -3.525219351585716, -4.099677060619116, -7.4279807573854795, 1.6874961214289321, -6.885500750097492, -5.51791612465517, 2.178321749918586, -1.1160605831602595, -7.467336968494422, -4.634460360408918, -5.948986475109048, -1.3272412311654282, -4.926370955006446, -4.686855701025226, -2.931501176174946, -0.5701457929378452, -4.807446603521844, -4.266115094851415, -2.1271179622581275, 0.0087391766501781, -3.0213262027691963, 1.4991417725844483, -6.194415933381803, -2.989374281930092, -4.551840375506868, 0.6474541700622796, -0.3387790177473992, -0.026714767862274606, -5.265590370232297, -5.279532070733132, -1.7743861076277085, -5.339539031536084, -3.0228436233776868, 1.2719428554095809, -2.8620690913285247, -2.9356117633349905, -6.022421574386162, -0.44627425903059925, -5.191900565270504, -5.090945332318696, -0.3141921997432248, -5.9556960201515645, -1.6424955090927034, -3.045365424846796, -4.245450378953187, -4.014478360696987, -1.775513190157376, -6.905727981652013, -1.466357030333054, -0.5579284972854345, 0.4419877859868066], \"y\": [-3.4025269728115535, -7.923214258537277, -11.596043107241563, -7.485512133278301, -4.781528322642077, -3.521740145631614, -6.334667404225869, -5.116576933343482, -7.643670958798302, -7.0276390957878885, 1.6388071539330054, -5.776329845899047, -7.743062437655419, -1.9548823457404283, -8.171444859538425, -16.2835486154353, -6.305893362265861, -2.7286701114293797, -5.040202819832203, -8.849438939303262, -7.7242244684716335, -11.742342350713933, -16.862940196669392, -3.082006708006557, -9.397991882332189, -6.448255575991438, -5.309588184694902, -5.770061534239252, -7.587188808266206, -13.857925562440615, -8.272943353971616, -6.521384052159336, -10.848570458223644, -0.4721001103925278, -2.306171747091797, 1.4898242603149243, -1.8049838036036303, -3.9576314668418076, -7.340977808283286, -6.186655722352633, -0.9118177331946457, -20.934732663241558, -8.448592819052033, -11.794500970112665, -12.943727749858946, -11.383712594533295, -1.7865318122263996, -8.7543891424027, -7.412644752373896, -5.428276619987316, -11.516706911524023, -2.1848905992507595, -8.462498332991606, -1.716041636116228, -6.189515752917611, -3.366101536429095, -2.365832998657858, -10.909883151991233, -8.406084010857496, -12.070064393990535, -10.064116683601299, -7.906114778023075, -2.3379574123696845, 0.42754259323172294, -7.529978061729246, -9.32460415643412, -8.722819640376889, -17.15774643915195, -13.886115496569841, -9.65445587318507, 0.21735914135335851, -4.909609434755415, -14.559304755170354, -10.705971825118642, -7.051491597429937, -7.307131144137582, -5.923561303027595, -0.9343827336855278, -11.959312145281078, -16.905214448717334, 0.6138241280649313, -5.87174609835093, -11.838796636445727, -6.712522270812768, -9.806699373418775, -18.62735075460051, -13.172354204555988, -5.990625671809661, -14.785174992882675, -0.5591772809527278, -8.060262870897617, -8.262375681639812, -15.784805688661827, -2.8401200803997884, -5.600597813339114, -0.0889796216320678, -9.364786347132384, -5.061116147158379, -9.377674696501684, -2.5892436092784292, -3.5637692655921733, -3.8138503905210865, -9.489668802018915, -8.754432643707355, -16.034762630609332, -14.295233118637137, -6.186220507227971, -1.5650462224286323, -19.995319886330552, -6.120173590445728, -13.359058683331972, -22.401149945362366, -12.005067708778734, -8.358063281076282, -19.191040729668046, -9.019979828138997, -4.296614329787968, -13.799743119858869, -17.142109936160153, -12.054181506757804, -14.407185776193646, -9.727387014454157, -18.904851803932438, -18.146821379071053, -21.121961299380764], \"z\": [6.603361715000711, 2.390937305486415, 3.9194201156089123, 8.693361537434795, 9.327054005564419, 5.539391875473123, 8.737779839511923, 8.467014660851659, 4.130574259895759, 8.482491681700322, 8.894562176234619, 7.956081573940928, 6.459027636461103, 9.356804270848366, 1.382755971921291, -3.3031090291805576, 7.7308801192359295, 6.902288285583712, 8.292352521664569, 5.577570057423145, 9.856848875541358, 3.633326595354543, -5.023767221683751, 8.815837217103356, 1.2784283672280434, 8.052022571987173, 8.96724173146863, 6.207158301134712, 8.391433643379667, -1.1553596040090746, 5.981172144978097, 7.967092020798612, 3.408158121698957, 10.29616640109844, 8.489090056630262, 6.621487315370627, 8.843880194210346, 6.31575082401291, 8.027708986554119, 7.932007393925594, 7.855802070979606, -8.418245548593775, 7.2956946019055655, 0.7990596806676034, 1.7775903036682061, 3.4187423506840875, 9.196064800502844, 6.209815183194003, 10.425664061525444, 7.608774144518511, 1.858278979097884, 6.416218502805413, 7.01363519153824, 6.358533786255816, 8.518464370342926, 7.4747599364518305, 5.6846315700499295, 1.0205798336963405, 5.09010154230719, 1.5574454691684383, 5.607284633124158, 6.400636549592577, 3.9116126815419627, 5.523290866930719, 8.503779500736199, 4.541294896035174, 4.584812804809994, -6.671292364144123, -0.9550994139106981, 3.8579390696733133, 7.83622655626498, 9.495722201717946, -0.6059696377306808, 3.593374183646286, 7.621786740149001, 7.742807697834575, 7.8523101516267175, 8.70363208029102, 1.8551929156245632, -1.935351414406739, 7.7128660171002394, 8.685411085321064, 2.479720615158441, 4.661574859975423, 2.777407184180547, -5.017577374027621, 0.27320250421521197, 5.3055810941975015, -5.139470788129036, 3.5925398314404395, 6.72778535552109, 6.951211920908728, -3.9725056455476677, 9.53191197862052, 8.554139224736371, 7.368377825380378, 2.9993098906311078, 7.2499111239689515, 4.152237846191219, 7.557246080642929, 8.825999604218095, 8.004765438549402, 5.192403212315391, 5.3058735183135655, -3.4540868384950913, -0.7956571522523405, 8.084599825996014, 7.4457854667114205, -5.590194606383639, 8.124313274890072, 0.7075894284964391, -7.492432047062615, 1.388774710864293, 5.5162396248691685, -6.643678713756161, 4.746077464501105, 7.012054572963007, -1.2666830836140677, -2.5688419290551026, -0.4818116843918095, -4.677598401307014, 3.910570313418461, -4.971737078230289, -5.22406387935009, -8.384331472445387]}, {\"hoverlabel\": {\"namelength\": 0}, \"hovertemplate\": \"value=8<br>PC1=%{x}<br>PC2=%{y}<br>PC3=%{z}\", \"legendgroup\": \"value=8\", \"marker\": {\"color\": \"#FFA15A\", \"symbol\": \"circle\"}, \"mode\": \"markers\", \"name\": \"value=8\", \"scene\": \"scene\", \"showlegend\": true, \"type\": \"scatter3d\", \"x\": [-1.590032593339116, -7.879024708288788, 0.2777213160929234, 6.284417780750588, -5.658544855828565, 6.31368028571442, 2.0126504735776742, 0.08728580426656209, 7.790139746013672, 0.7694288306069577, -11.39384119237911, -8.428184437798357, 12.315752502043024, 15.944516547946426, -0.11701698054028743, -1.3445165606363694, 3.5386012146821186, 7.810420278317351, 15.79010617304325, 4.886629272956338, 11.629602267829124, 21.339264004254314, 7.482057503885645, 12.477642783448777, 18.5536819890621, 9.384410998767308, -4.981946698303266, -10.693033483372677, 2.8717941524771198, -5.808900291697244, -0.40286782138554195, 4.924600478393277, -6.558058250004163, 4.093584778928167, 2.7375335076221674, 2.371318812880762, -0.28080141865795893, 0.1932953129627782, 9.193214703214696, -1.6230177937600965, -2.3471386446446387, -9.058791721947609, -5.338104917466263, 6.911256926153569, -2.460823387881726, 0.9887853513405465, -1.210280957692131, -0.3268306044722594, 1.0629910634935507, -3.449131541102735, 8.879962423012346, 4.575338336879803, -10.16870724846181, 0.11018298715431195, 10.843709953535637, 9.120896496065207, 13.7960417243189, 1.371590208464506, -9.663688008312954, 2.062561625817847, -0.9208009388343367, -1.3586313533753662, 19.098879704638367, -3.9511722000657628, 3.398681563656368, 4.788414397046999, 13.067409407549128, 0.04641686315230109, 0.881837454081797, 7.592858698630223, 9.626756101704721, 5.165296661797779, 0.7657584915310924, 9.84799298964823, 3.9647707252708764, 13.98743241924595, -0.7791712620444958, -2.5073399825218865, 8.620570372449128, 7.447683973850519, 16.065829384604726, 1.932498727090476, 9.671061714452144, 0.4683632619030311, 9.082211526937025, -1.2683525498079609, 3.3756863787155655, -5.966359936898728, 7.413838610343085, 10.962389459596896, 11.385507399372528, 3.2989158364957945, 7.423953309542699, -5.554494054458972, 1.1501860223283977, 3.8002851561949758, 1.1387715895017367, 9.30947763663032, 2.4568157474053294, 10.285162530956457, 5.3879934771085845, 12.971752353786805, 11.857775470215255, -3.2227750590471134, -0.769241410313241, 20.037665249189143, 3.0680233347298285, 10.068473300967515, 0.17453301721493705, -3.1810396317379617, -1.9402565601816917, 5.809752469079374, -8.509074402173127, 2.6893858669610453, -0.5514332586256703, -1.6453802685469259, -8.597389932621748], \"y\": [-9.946944336422437, -3.0623147417960324, -8.609755570137132, -7.856458204996654, -6.206582826773743, -9.782469334028411, -9.967316992403537, -14.008351484991408, -3.7518429780758904, -7.7343314884560685, -2.8779235944655754, -6.676279394108885, -3.246771935582146, -8.926243905427558, -6.606349133206117, 1.8392379856821206, -10.663054032776621, -9.351866136614412, -8.82880956381021, -7.75717784287783, -7.141596843150466, -1.5339543148788495, -0.7609116935559511, -10.030951242763319, 3.071402724774471, -8.85610842324817, -11.002548067190453, -4.5439840426832765, -10.509308237160838, -11.540999987517631, -10.711152317681714, -13.377655829444809, -4.660879299515565, -2.4482194045673067, -9.257823001840968, -11.564491978412144, -7.267029786217795, -15.789719170311631, -1.694941638780088, -8.763856074520469, -2.822835830216493, -7.262084324331322, -4.783620805639466, 3.346031189550147, -10.565717100839324, -10.176385770325982, -3.862712538389599, -4.656276247829812, -10.801556928144274, -12.285430657129902, -10.524209340484763, -14.913859199843056, 3.8626609828809246, -14.461200701431409, -9.974483882724558, -9.786933067665672, 0.3945477395920984, -10.110115163018243, 3.8706828455202396, -5.019682694446681, -13.101447434853961, 2.706561910076185, -8.214858732673122, -3.6751552934980687, -13.493915328576938, -1.0019844751272429, 3.7714552186708183, -5.3749781836900254, -6.546753785787685, -12.472105399844502, -10.762735283546927, -5.04045182655799, -6.88880439517549, -8.171106567632133, -12.389664088742537, -5.875943317366929, -3.9581933109040914, -2.1241896067734314, -10.479810725865581, -9.341754131737298, -8.441252803249483, -12.942348279256938, -10.375657882716403, -9.845957469880826, -4.371738566070859, -12.311766704877384, -11.495248816028042, 1.838377911679392, -3.0301724516364574, -5.474027194244561, -4.502952549498015, -9.68505148484017, -8.6896362796242, -5.395892782311572, -13.828850897054723, -9.431965844056673, -8.786359357288482, -9.240494611997862, -11.371337562027264, -10.538724251962611, -11.884555077851788, -2.764605623600061, -5.143594977020467, -4.691118173762745, -10.917945917256139, 0.3610961899634741, -17.58940864046421, -4.375054181723847, -11.256079543919311, -10.321077585080396, -12.72135631078179, -6.919690095830217, -2.412905001727672, -8.614753649300784, -14.149292744780817, -13.45276560454502, -4.764611866432827], \"z\": [-9.019622748685183, -5.213412547122192, 1.3835880095006703, 1.3080530861294113, -9.202502743592287, -4.557628364447728, -6.483376768030967, -10.646126539344284, -10.304918992993318, 6.446366651455866, -9.767091708763575, -7.653452682080856, 5.143019075734465, 10.564003927819225, -5.929953708240017, -11.812549003381731, -8.922916154228668, 1.190766303526372, 15.588454243462186, 5.911004102062941, 1.473471210949366, -2.2185582866791935, 4.778457150096631, -4.650304400320197, -5.572877500990814, 5.335708688392454, -7.187012718111456, -8.286082594211013, 8.471974626052795, -8.880531273307387, -12.271194243434774, -10.428740457518373, 7.0885500578300356, 18.771390422417042, -7.7917104696820845, -5.884164308586573, 2.580960956219789, -12.22103028234455, 17.122977084029444, 3.4320455117777495, -1.7753915913119178, -10.604626414046617, 10.835263674671118, 5.12116535856658, -6.2847812655960205, -4.944822723105453, 14.708251691101264, -10.143656694213588, 4.493441856748291, -8.567433123553899, -8.41312504284962, -8.27882818275636, -11.527184115270872, -6.6760551013327705, -4.78959977270787, 2.401422962570044, -3.78408361552526, -2.387967354921004, -2.1501826086418134, 3.179766858580154, -10.754138013014034, -12.452264296876335, 11.017151147911388, 5.664888299919409, -6.445763376959691, 4.880293355589605, -9.098009359682148, 9.07610662655522, 6.379021249276712, 0.08003933384335794, -0.22121239268341833, -1.4521665117148228, -1.3974243875051926, 5.2109278786297235, 0.8606581502755061, -8.42617362896652, -7.16190418790404, -5.872543887985707, -6.725983557875849, 2.5553052349363985, 13.679158130743163, -4.340152126425739, -2.111741217268497, -9.929694727575974, -2.129192674272918, -12.63791045661979, -7.527425470578794, 1.188539806937447, -11.751630741948361, -2.5694362070304977, 5.941760323870545, 3.4046388164704426, 1.9077935106349777, 3.300722206599912, -8.31263776097769, -5.012374071287858, -6.688482084970958, -2.3482615700921805, -4.186303423220927, -5.299421567928621, -3.6137972613245437, -4.687515905483786, 4.398777755424224, -8.543168012461656, -8.95748562222009, 0.3404848696957783, -5.050753256001246, 6.285001873177216, -9.762967922288624, -2.2794872698313946, -4.82370511951134, -8.034979408786063, 8.300877714315678, -2.31490224518578, -12.501120378960309, -9.780687515520949, -5.158422090582726]}, {\"hoverlabel\": {\"namelength\": 0}, \"hovertemplate\": \"value=9<br>PC1=%{x}<br>PC2=%{y}<br>PC3=%{z}\", \"legendgroup\": \"value=9\", \"marker\": {\"color\": \"#19d3f3\", \"symbol\": \"circle\"}, \"mode\": \"markers\", \"name\": \"value=9\", \"scene\": \"scene\", \"showlegend\": true, \"type\": \"scatter3d\", \"x\": [-12.902190825076953, -11.532855123301907, -9.97633707238806, -14.337325305978402, -9.945262018378058, -12.338702888584665, -9.168509585682882, -5.179616190193442, -18.308263739799262, -6.141287754195613, -7.073703109895767, -17.811244513379453, -14.527258795878891, -18.506868034905633, -9.980460826153163, -12.351964511578618, -13.677613874955126, -10.094082818467754, -18.270795629885974, -13.792995701813497, -11.25802165841598, -13.097815223169713, -17.10439641041381, -7.299997565807846, -13.889259132540166, -14.727080223936627, -13.745980980120361, -14.212635079408567, -12.82929705855489, -10.564587531887385, -8.861660923964262, -19.140121777786895, -10.52448365195123, -10.66727068887682, -11.039153647850819, -16.037686443761864, -7.501250310381883, -15.802392215094878, 0.35444871284140606, -12.056197990980678, -14.285420905638937, -7.918874281498557, -10.570027183125127, -17.131617965410804, -7.439286574983208, -13.201718494112445, 13.458581779320896, -13.949147012419113, -11.630217890340933, -10.30954847855231, -17.629609505004616, -18.51098199434781, -11.225128186960372, -14.431357085628012, -9.174009946296527, -16.569829554917696, -6.138165214237258, -12.718180575177842, -2.80200371250475, -12.893542786766773, -11.362495307089242, -15.106261762737667, -12.123026576341102, -12.353006207371905, -8.444004061715576, -12.68545009387413, -13.92207262163964, -11.800068284805274, -11.64823412814615, -14.58469237949216, -13.211794877117157, -15.603159828661735, -14.144569220212587, -15.992470288430674, -17.88149745347782, -10.419821228704702, -10.910101881887181, -10.274003644452142, -10.640498118793673, -14.010149094461232, -12.742640639304987, -16.526110260286682, -13.572513485788702, -11.263586540908383, -17.64412840575547, -15.339840220238282, 18.235827429080533, -14.607734219396354, -9.351350402484613, -12.18158305298925, -13.42956616359204, -7.911678623113005, -15.257080655764497, -7.474611913265952, -14.432431914090717, -11.914657514743535, -12.51684615706247, -12.83392502073429, -8.17158896583628, -17.288936102770688, -3.7841322382344367, -10.870541389899724, -14.809448364568837, -15.098723377496226, -11.92608262204992, -10.970955376018727, -14.646647155446022, -9.112108807350605, -13.894607347396192, -17.430691160758492, -8.5123738471655, -7.52542390271857, 4.397558270400455, -12.210733579576305, -19.28463103702628, -12.409373995755313, -13.05700059975779, -14.430027251374613], \"y\": [7.1119243226575986, 7.964754163595727, -2.8888349641415023, 5.6600931034981485, -1.5336933880801615, -7.0138290002042964, 0.44256558014197656, 2.4886649142639574, 5.501980529557883, -3.2269316297706703, 20.41624062864278, 7.6028711890338885, 11.507148963991444, 10.809582796855132, -2.702227523900475, 2.4868725900508926, 10.424806660210812, -3.569973727928373, 14.620780311226838, 2.37481439624576, 6.850304508319955, 9.365439065320155, 20.73405398090568, -5.998637973532646, 7.268107553990875, 2.0765339667844684, 4.180239426748583, -4.958343495899588, -8.474703115337187, -5.480734792175542, 1.988506388719146, 19.679524994409228, 12.483842197678653, -5.745749035962096, 2.0268331790149294, 18.138998955947642, -8.675320528059483, 18.901059811250754, 24.78179147317112, -6.076870894781949, 15.001957557414867, -2.424904805541643, 3.630555733507516, 12.485620807098908, 3.1979329901772697, -7.079055622633378, -6.682174051132339, 8.831103350642673, 14.415444564024689, 2.3714392199319034, 6.0721254733035215, 15.24497648667263, 1.0763448625322671, 17.7921702817885, 25.213897634437956, 10.034492946750783, 3.7041682874013184, 6.6336937876600555, 18.464196364640124, 23.394047415395754, 3.277256118582971, 4.6569847862348945, 5.237123216755849, -1.4790984436375463, 1.3482529862132209, -5.092900358422248, 15.27590384094371, 0.9969785062888271, 1.3217141278641529, 7.755821014387852, 3.818855419064354, 17.149276909584977, 11.42801294751028, 10.67186998879489, 10.842001509434521, -5.6435480467365835, 5.802878693608742, 2.5312013933937254, 0.6676996815736477, 9.091852885229047, 8.199102121817512, 14.504085308420374, 3.9224794877469233, -2.060646202679372, 14.33894509951051, 4.824428469806664, -5.447757316539118, 5.641864821651348, -1.4700515950345876, 10.856599232028769, 6.448936356062323, 9.77833906068896, 6.199416558419903, 14.123465351178321, 4.4991021667336, 3.587729310369515, 19.385675584720858, -2.58248592428144, -6.056469103564397, 7.790087509640398, -8.828994324871088, -9.50182187753468, 15.102700259232263, 8.527107076374445, 3.792248937022912, -3.4876475959732205, 3.6538318308002524, 5.3770503971305414, 1.3860523701297125, 7.865840838643355, -3.192292373139779, 26.793252186159403, -1.4248355755057356, 8.889759757346363, 13.661023720342676, 7.364018184066928, -5.345331260163506, -4.243518113316018], \"z\": [0.5262236666846265, 0.49006545053910405, -2.405055962657769, -3.3210913424398005, -4.058848805648829, -4.838445724524344, -3.8200250016814152, -0.750679878545021, 5.426540803378642, -1.0511905042150766, -0.7782060943218582, 6.544364427777707, 3.276774139518893, 0.993241755056172, -1.3980787177929583, 1.7717039660687839, -1.4829588677457475, -0.7868762194349738, 4.326044438455631, 9.650964895293034, 0.20678745013208646, 2.174679544500173, 5.886183919509381, -13.698435792389498, -2.4009349321803923, -5.314924690532578, 3.747857762819497, -13.311276332579977, 2.942933386853069, 1.5385094728644972, -2.3489512401072528, 11.889604051990084, 1.3374660268547696, -5.29919925002469, -1.5368778329363697, 2.6604408864770805, -10.178667950604282, 2.544590377102264, 2.1255712708718386, -10.338997442774058, -0.021863808959660013, -0.760254910357467, 1.1595575401964742, 1.364677611995169, 2.6774526040587654, -0.9682591721889375, 13.689287194070818, 0.7189109010337651, -2.9937508623371043, 1.806993781351457, 9.322361097511125, 6.301205018103005, 4.689470909593122, 2.5472602698562983, 7.6036997040042245, 2.8151825798009584, 2.5677852320195718, 0.3127146722680796, 3.950622909155613, 1.589190646001864, 0.7740887235034302, 9.149487554112298, -1.136013979065464, -12.339936730646146, -4.887617252044893, -12.610185607458614, 16.199581950317587, -0.5194479804882938, 20.38487397258029, -0.6120319529760865, 2.380890492351403, 0.9163952551206878, -0.4710098495274609, 4.256460609616943, 15.080030860152027, -10.290405416664374, -1.4259011006415896, 0.4310237939789027, -1.0372501204147793, -0.3038904610127564, -0.10255734871639917, 0.025327118779097407, 14.571300545892871, -7.901225644377147, 2.6622883918318325, -7.850222559501966, 9.220545344751075, -0.4274423684165414, -2.2822515992640855, 0.26927311999784265, 2.1473346789906493, 1.6410377972769852, -0.566538905682702, -3.632687951217005, 3.3497300058221295, 1.4064489819155654, 0.011446555196354992, -15.086254795896288, 1.2426453564664557, 8.981049540157159, 7.1984748749577125, -5.261501402551913, 9.99206603956394, -2.8401752099901363, -2.4520247007335536, -7.610870701041575, 3.109271258383384, -2.7259391183228896, 7.1488925090510245, 8.696063855967763, -10.631663300552399, 2.3191341743465426, 11.85587486784698, 1.171543247780891, 7.817894064506681, -0.01753877144341828, -6.641511446228682, -3.6699240750789945]}, {\"hoverlabel\": {\"namelength\": 0}, \"hovertemplate\": \"value=2<br>PC1=%{x}<br>PC2=%{y}<br>PC3=%{z}\", \"legendgroup\": \"value=2\", \"marker\": {\"color\": \"#FF6692\", \"symbol\": \"circle\"}, \"mode\": \"markers\", \"name\": \"value=2\", \"scene\": \"scene\", \"showlegend\": true, \"type\": \"scatter3d\", \"x\": [-4.2359302083609, -5.266420787083646, 9.136390544102591, 1.4303130644623652, 4.378283253655324, -2.4198042854574244, -11.044177574287016, 2.1298103360767797, 9.745625062807376, -7.77336289069906, 1.3539218387389063, -0.28990261557774355, 14.71824412028239, 1.9369108550260323, -1.0381934215465012, -4.123201971169212, -0.12598967823774063, -6.645218148033417, -6.3498190689319145, -3.074130404796278, 4.113670519342631, 1.2226405522471158, 3.945149881259297, -4.074154964016392, -1.3148658369186572, -0.6591806663922799, -3.834782763922389, -3.6727899085623936, -2.7655624544006927, -2.794070989901612, -10.652091788701773, -2.4395808175644773, -11.169823114591791, 10.735130822811685, -5.177265947673388, 4.588878172438014, 4.861532628224638, -5.57108589605981, 9.788382878597776, -3.9296173414811393, 5.018453812393425, -6.160795498823075, -8.891423348083032, -4.115829081761608, 1.2709008772161696, 1.4460397659486004, 10.19035856162054, -2.7167154555268898, -18.89132528858496, -0.32300454788893523, 4.292343818283122, -5.5086694741794675, -3.882656892805221, -10.810121875171482, 2.0124490807539948, 0.25011777953429204, 6.790426070916858, -2.2739683452058985, 2.638459732797626, 7.114972755398588, -6.689789099184696, -7.386517177840963, -5.917057616034268, 12.344942772476527, 1.789511119998823, 6.206950365413025, 1.5958522326526845, -1.2618137787538297, -2.791300669526833, -0.3893462392606027, -5.147996097317378, -8.112854258412812, -5.593385174144865, 1.4154709624709259, -5.336915157606293, -0.7996932232223974, 1.542698209466134, -2.510306618812642, -7.470939565735272, -2.7370264610564274, 2.2772407341105154, -1.5792584348638115, -16.79987593358803, 3.2830284860364887, -5.27950949649017, 1.4264848887684012, -0.6740325555267497, -4.707005354085926, 10.119280503405323, -3.66395128718532, -11.45742905269559, -4.263133336341135, 0.08228949392333648, -2.404570390793006, -6.934762408869757, -3.6829091808520733, -4.9119220961274515, 0.5928412246027476, 2.3234370344591215, -4.210633309314631, 1.9081787264231107, -12.45927665055671, -0.6605991657451379, -3.0672427750997695, 4.7655879043496965, 6.568497980977514, 1.794239260113854, -2.1430043918897765, 8.516172064145639, -0.46003295675626826, -1.7570503881691786, 1.425629235088125, -4.201182699139055, -0.10762832602280807, -0.6253809929382279], \"y\": [-8.80417703954195, -2.961635163486605, -14.531094871885424, -9.376159679788136, -17.69390835748386, 15.147479838672206, -8.411525290503388, -1.0955146947129917, -15.891463529995795, 7.062715376854072, -15.789082242319935, -18.23495380186317, -14.412399058297462, -16.072703081332545, -14.86929204473543, -7.293574355567059, -14.593578245144101, -13.329392144758426, -10.989139428238362, -14.18012717307277, -19.423218554161696, -17.495927133561615, -16.03432399902085, 8.505150307735137, -9.362339556560102, 0.48886969285922693, -15.702899113321084, -16.724657606037283, -11.45681530097048, -9.306256401008346, -9.9866196975783, -3.614947149406528, -5.773156013212968, -15.352480737816917, 4.938552430210043, -9.047295735623878, -14.947355745519381, -5.014012290419091, -18.856524189557216, -2.3318297351581383, -14.958232582190647, -0.5159246129717232, -6.633356820128219, -11.788911605659134, -4.912401799863073, -7.88909347925096, -17.64752879268771, -6.945506103883795, 5.0349562775083845, -0.4800521268872759, -13.790927661882995, -8.863434452177332, -14.786358704529832, 3.7291661633581565, -10.43872508433279, -12.058988181110958, -19.10745168875224, -1.4905137472512213, 5.218342920257926, 8.924156371968154, -4.40652320396902, -5.431159660618595, -5.307180742872412, 1.4973073907371524, -13.10688922624928, -10.699379288774418, -14.522343491966708, -21.02133967797884, -13.974872694625269, -13.397127841793889, -15.406913881225002, -3.024550329557342, -11.814128964471898, -3.54334234157698, -0.23208744998925693, 3.7188856180133834, -6.257468338822717, -11.757942663278824, -5.681707372759031, -2.153492148037102, -13.893448574678574, 8.448869410189177, 9.411083352839569, -17.74563336323079, 5.742104444394655, -15.823944436143275, -13.027304009833456, 4.194864163327361, -4.442766843134576, -0.12144614476736991, -11.132238997805603, -12.635963600224333, -5.811238644117789, -11.707822095941182, -12.383135414989326, -15.135383453948151, -18.554839280114713, 9.600883383854274, -18.166693570336022, -9.622890059750837, 0.10472986572198337, -12.906221024418626, -17.204729431052954, -13.474095776996625, -20.194894533368743, -14.869200086010975, -20.681785893311808, -10.997141569879622, -11.957091389661324, -12.031607915441915, -19.06359752585803, -19.0394252009402, -0.8519817602034797, -9.262285373459203, -10.732965600625656], \"z\": [-1.394558207778063, 6.73141979066352, -8.075220283185926, -12.753356876047716, -7.6099219952302395, -18.437356418248626, 4.282087047133157, -18.25066884559416, 6.217313917825147, -20.03213929183213, -8.837682896309408, -4.252081253789334, -0.763768255365975, 0.45765254676161266, 1.8333636957624335, -12.315458760112712, -10.61429257701255, -7.5789342233677965, -4.845507443973004, -7.454151597920961, -5.723001794293723, -3.7828722722834907, -6.784570033599377, -5.506547133694613, -9.199938864009852, 1.4045705678954057, -3.344167456106788, 0.6756705784492685, -1.1473797224387057, -8.004371765543471, 1.2337558286594508, -8.586258221094038, -4.9625926749383575, -3.1778982375352314, -17.43144588298402, -3.8687503908915843, -7.52511294942375, -10.012408644972089, -8.39235220285164, -3.5761574979513817, 2.4805320399648423, -4.714968637942619, -2.158856437428478, 5.502856323839685, -6.654165011860291, -10.012804349790768, -1.8258210011631775, -6.330277808925837, 0.4583865382497676, -14.36416862181786, -1.3873882761355936, -9.334775038644457, -8.654148100071, -7.5102193054512005, -8.38084561812913, -8.568796060370328, 3.734255399423952, -9.903250291741928, 1.6915035237020344, -14.183017482965818, -9.588224899204635, 3.6179003355619637, -9.273183663694446, 0.2842027560728186, 4.3790333978313996, -1.4816414445404442, -6.445170242469792, -6.874501115036859, -6.491061093624204, -1.29187067633717, -5.90977905049703, -5.830923211000221, 3.584410214438316, -8.861384275855572, -4.187916903921771, -15.76103316656553, -12.502728500571132, 2.690478211281366, -6.200474712883406, -12.966757895867987, 8.223701331010707, -15.275139272236157, -4.357320389831931, -2.4628355237192108, -16.410352371640577, -0.40080347259362853, -6.866656695128414, 1.8107783865039786, -5.540920481355467, -15.676617146535467, -0.04738760201754677, 1.7334593790553234, -11.223571770573853, 2.38370943684974, -3.0958731471197467, -2.9865657660569096, 3.0703016288244664, -22.225166783141976, 1.0612220139650743, -8.098518210837527, -12.472995740779627, 3.829610214405141, -5.057099185896155, -10.250985878792653, -4.069720438786479, 3.421528562841685, -0.5982197427139857, -9.894259690271973, 6.130347672315811, -10.271897174937255, -8.775435349735156, -5.34395131649991, -16.386484429088224, -10.797466323185047, 6.241607006384345]}, {\"hoverlabel\": {\"namelength\": 0}, \"hovertemplate\": \"value=7<br>PC1=%{x}<br>PC2=%{y}<br>PC3=%{z}\", \"legendgroup\": \"value=7\", \"marker\": {\"color\": \"#B6E880\", \"symbol\": \"circle\"}, \"mode\": \"markers\", \"name\": \"value=7\", \"scene\": \"scene\", \"showlegend\": true, \"type\": \"scatter3d\", \"x\": [-17.3860254123659, -9.52797047925729, -6.916299911797244, -11.326250979997983, -22.374570013824282, -13.829267727078872, -8.964204642527971, -15.305740738077773, -14.49166271039975, -6.880733791617675, -14.534058791848002, -15.662809107582227, -13.469248111444106, -13.417371280673905, -3.760746622559976, -5.023151719784, -4.372102854239319, -15.681110183288782, -13.99404683292859, -11.351207381982002, -13.186176232652883, -14.59774198517502, -19.864153844619423, -11.437939785957049, -13.254874912315753, -15.38067269272616, -14.506076213985763, -12.122891193077066, -12.589164721870906, -11.153219224510321, -17.283558615124278, -5.221727384219081, -14.21398102530965, -10.683012058257153, -13.795002338091903, -15.879696715878751, -8.97373775602536, -18.077852322616334, -3.5484495511670646, -9.59362310665031, -12.0763732419862, -15.977173430930472, -10.6287887675775, -4.974585165019162, -15.067158919333053, -16.942358611289958, -10.535410360531953, -15.657690576818483, -14.768592548807952, -13.237890081532134, -11.250867853297603, -20.56013041469615, -12.170313187123417, -11.637657305762668, -10.058384249611763, -14.435240034128405, -15.936553171446903, -18.908322424584885, -15.937203550630835, -17.318838771224033, -13.10576392621482, -12.13449194009379, -9.331317981961146, -8.123398280806905, -16.095615115056788, -18.465566828862283, -9.2242892776322, -14.449727560517086, -12.862585848498265, -7.046202458458026, -12.024363101876213, -12.541482968336675, -13.886984075937816, -17.405432784332014, -1.4961940932554003, -12.463502117403817, -5.714261816704612, -10.010067198614845, -11.862212760617751, -9.875019654310355, -5.6892841677953925, -9.479157009367592, -12.545706158172184, -9.822413315348392, -17.595604840314852, -15.463158566167941, -8.405116130532399, -12.737040720047316, -16.760125280777643, -13.605286033447419, -8.564055056910352, -6.453682167653169, -0.16850349831188566, -14.426934451336866, -13.458938119929403, -19.7058771731282, -12.776174649716822, -5.638633637191997, -16.290086717245263, -16.15614774647563, -15.826983337837335, -9.935912068676457, -10.246098891318276, -14.939522446310585, -15.766310963680962, -13.088155895996515, -13.790325202183894, -9.711885818252254, -10.32596299795945, -11.843567340450917, -14.888554692617104, -17.55942981789869, -13.993561694260787, -11.481304966821392, -18.0515817924378, -8.462513681382887, -13.959125477770742, -14.327917814977422, -11.14816952865371, -10.19304073645396, -15.781040399668157, -14.126755055562542, -11.072824280052844, -15.119503888650202, -10.353845894630672, -12.043841923365314, -11.743631336809843, -14.429687811587947, -18.255020380039763, -2.4705613657826184, -13.153043083409809, -15.751678010956317, -14.649169548622398, -8.717302293374706, -9.652675216334973, -14.43258419241352, -11.586318582928644, -18.039180332720758, -14.387751126440607, -9.771751990585074, -8.845335855927976, -13.451770643541664, -16.836022601200387, -14.533000784367657, -11.301564662375856, -15.045474610739538, -9.517184163541195, -14.909002865585624, -10.482081158965853], \"y\": [3.949925792948807, -1.282930706249547, -5.7491846818363825, -2.0192298415758345, 8.153861902806744, 7.306350837735527, -0.23984150581867694, 6.545464470857818, -4.427978444195891, -11.274770822990563, 3.4554295969467366, 15.541660093735164, 2.445531338126982, 3.7975547581291065, -10.681052520833033, 6.437178093118316, -8.892124289022874, 1.9765925261024626, 4.3672853912939695, 0.5654184102105877, 5.9403347661913175, 3.020104546556886, 12.732501464654778, -2.3101882094915185, 1.5911442682115091, 7.88529613851755, -2.557614414736565, -5.006522105745405, 3.5580698860054416, -7.045571717788944, 3.323465915338919, 0.3388595893424376, 10.80649843928789, 6.3389526442700435, 7.7423534065904756, 8.986641752120233, -10.113722071924974, 6.0850707478075, 3.99807926408897, 4.090548571638826, 3.931084822894462, 7.124430285514286, 3.394404171982401, -9.179253831529495, 7.30742390067822, 6.069223397227616, -2.4518480011251964, 7.114935751094358, 9.28137994239701, -5.583918233599447, 5.062912227796295, 7.554400085940548, 13.39431742805966, 1.7831589625949162, -10.42090450838907, -0.33605528377435806, 10.966211249760626, 10.940992070399535, 6.119583128272766, 7.199036524664531, 4.274990854629342, 0.8402484833739595, -12.564639906098233, 10.351266871803599, 9.53250376248538, 6.98831534657246, -10.176179672034193, 2.290786112715657, 2.2349723400597856, -9.866372809422426, -1.493288630839963, -8.69158153688526, 12.771687665964025, 5.935991827696099, -0.7659992075447013, -2.3411094119068987, -9.200296328000581, -8.77579415327215, -7.5365471930550845, -7.347351716985547, 1.303421380011656, -12.465758471828694, -6.123284723859271, -2.877586278103373, 8.063207977247732, 4.62470074948234, -9.658571684416408, 4.147330318755476, 17.61808704660616, -0.6092383526177433, -10.213194986363794, 2.9404092305340543, -12.71440891572629, 9.44743609970799, -1.3948599895726437, 9.282858528261285, 5.515868241275437, -0.11180780688428064, 7.538407021855434, 13.130776961528495, 13.62801162230967, -9.792949039530598, -8.75816119549501, -0.0505055330473819, -0.19431254530123637, -3.2406637996885195, -0.8627364036231756, -12.010217562363941, 1.9025266818207902, 1.126932972535206, 2.6858639326733638, -0.5910847808549341, 4.151442938742385, -5.113411443236331, 7.808269016512163, -10.338653446578851, -5.313669907893399, -1.5572757987809265, 2.803512681848717, -8.41353129365606, 10.824993682107788, -1.4907441076199863, -5.649220815755328, 6.756681574347712, -6.6804061074870535, -6.1744309011633, 4.118641375730315, -3.339032437486079, 7.094763671874605, -7.633489719213246, 1.1776667959305132, 10.401088085918714, -3.340593144195974, -9.87420721826236, -11.3720318927815, -0.5459944145988403, -2.2763677021367896, 9.183029199193259, -0.4068390863436232, 2.7930518291370396, 12.676345583476756, 0.18388731435270897, 10.023332447359765, 3.301139817814498, -7.1988473636793, -6.158330949455748, -0.5379268841212045, 9.5978887354449, -0.5834422746194884], \"z\": [7.2080138557638, 1.252118374157563, -0.7481303795968682, 0.8020727561588502, 13.232900104392307, 14.159673033641079, 14.032574869158516, 0.35948992644028466, 5.047849698517645, -5.666881060376014, 0.13319720581950534, 7.534184043211016, 2.895144930406424, 8.209194509459984, -5.811517468881468, -0.39041697104259787, -6.8834200042279745, 2.478836712106421, -1.4645729708068789, 7.8737971168341385, 14.247573090106625, -0.3703776693225585, 14.686907657028692, -0.5973134690848997, -1.228837367606761, 13.02371737519954, -2.801649980270655, 4.830259960245874, -2.9155670876511994, 0.11424256978011234, 8.583943914293604, 11.993512137661439, 12.595534142079496, -0.04395881499325212, 14.696214646410532, 12.905128833223785, 2.8544318123031425, 11.283123793936323, 6.187705487950578, 12.744653047735842, 7.441992684118537, 5.182755628448067, 11.519357703258526, -4.853342355106657, 14.053772136618065, 11.167703128361605, -0.026387842899211134, 0.17885754196702847, -6.538238768687257, 5.411742874720047, -2.7770712324213562, 8.244377140552771, 7.493261452981256, 9.951952278458203, -3.176055292861342, 5.702608476283263, 13.774592244981697, 13.428834413629374, 0.7240978443516228, 6.085078882929576, 1.4061682349075604, -0.31989580116888505, 1.22322082728106, 12.337579513548633, 8.617560682405632, 9.757506019259829, -3.5641457295685393, 7.651486617647331, 2.5928730096237698, -1.6121385916732862, -1.6326111702498516, -5.75793642056011, 12.825481795016067, -2.0243714300390314, -2.110487255426897, -9.64865462508951, -1.8004015128223974, -11.932949105275558, 5.628175775359627, 5.851889905189112, 8.33643404960066, 3.160899481293572, -0.9216381503980325, 10.26755117137541, 2.768485790660994, 7.0623424725809585, 0.7146724762483306, -2.073058451226771, 9.223664251210968, 10.057568835574202, -0.24535401795233297, -5.9103226516716205, -3.7339171281121035, 2.456868353696841, 0.5848637178334195, 10.904999375130563, 7.095407489155594, -1.39141552429995, 6.762282321426215, 12.639306028895131, 10.327786537265602, 3.0754779275673183, -11.687000169707135, 9.140687278892743, 3.426083308956629, 3.182044069691105, 7.296194835589118, -0.093019130784292, 11.73053999044563, 5.063399460459653, 13.802910554223102, 8.2430377622071, 8.388707945081741, -3.4656611512118647, 9.44172592557289, -5.73665615879535, 3.1985755625462824, -5.286438740397738, 15.27577953386546, 3.026909108029255, -2.045595848144711, 2.6967284194540695, -5.342847694822259, 12.340755400905936, -2.2625527900278386, -2.4351958932658424, 12.187931082047314, 5.405547304528643, 10.906649200493671, 9.49351534748903, 2.4862391547285454, 11.828487611201325, -2.5732183224290366, 5.643675315328329, 4.718683987062704, 7.1519133088701, -1.2308708703887714, 15.516411831745955, 3.0180977479361726, -0.7674306693436241, 7.095470068303953, 8.989301052172843, 15.290945722493129, 10.844718675484948, 3.1275081764018435, -7.943278427193414, -11.06000244525116, 0.9111710284495134, -3.6455002886928685]}, {\"hoverlabel\": {\"namelength\": 0}, \"hovertemplate\": \"value=0<br>PC1=%{x}<br>PC2=%{y}<br>PC3=%{z}\", \"legendgroup\": \"value=0\", \"marker\": {\"color\": \"#FF97FF\", \"symbol\": \"circle\"}, \"mode\": \"markers\", \"name\": \"value=0\", \"scene\": \"scene\", \"showlegend\": true, \"type\": \"scatter3d\", \"x\": [16.791672456851433, 7.5061004083663905, 18.55156621720671, 22.739075992413813, 7.086735890468992, 30.70217885671639, 22.18536283224973, 21.990161241635096, 21.443052652029174, 27.967984667107075, 21.260423650452335, 20.5818403589006, 16.336802227625608, 20.318430456184515, 23.079968673627885, 23.900983636897653, 14.77168453775634, 17.1616422894357, 28.261398140051064, 30.758791672272448, 19.452785310853674, 12.739874977267775, 27.84458246463015, 14.108914966401802, 22.80764135682535, 20.20624294852484, 16.354961739423175, 32.50204638226591, 20.39753509844772, 21.68237036462797, 8.058800050444189, 19.330486997927945, 18.010294484069455, 9.189775864880877, 19.74170888270643, 23.176113720681844, 25.840125524847295, 16.736781992158285, 16.52573256290408, 10.892142248796933, 27.749478257234315, 13.948780456409844, 21.200793445274023, 20.842461483338415, 13.338067882069854, 15.343442832533034, 24.59807032214743, 10.901451177191444, 21.156233015360787, 20.651334093541553, 21.459629071375694, 21.439497162104992, 5.165436430746095, 10.556666284651149, 21.630443107385048, 14.638416384738173, 14.371166628331373, -6.457469934856458, 26.15916889918149, 22.615180883944554, 19.58833376180734, 16.85572718912595, 31.941537552976936, 13.679170557885955, 19.88864237134757, 23.490221560385777, 25.397979622520268, 25.574807589009726, 16.732892254123353, 15.089113889326828, 20.129233160723818, 17.843607534770882, 17.620419078780266, 16.865990921120485, 14.387368777870378, 25.592872138721418, 27.908175420040298, 26.163653674990666, -3.733592558379828, 23.086320762644963, 17.036023908324186, 29.651765650918986, 19.948495659684248, 18.973958924295168, 27.18190156724662, 17.79178397355109, 15.118183726486713, 29.43227499082914, 20.066700072432432, 18.422861121542745, 13.75650235477555, 16.715250950530432, 32.341899235035875, 20.460052904390622, 25.571544162071746, 25.022282497187625, 14.995878905974559, 18.18721882325746, 10.215980863648143, 19.09445418596552], \"y\": [4.8638746498180705, 0.2206307481455046, 19.030446756212, 14.80548611607314, 24.653224316986627, 14.882999428385627, 20.484379122352568, 15.794114750989596, 14.092084597751006, 10.97240260867164, 16.28396041454884, 20.53692339904253, 8.086335469758128, 9.048534159695386, 12.318279665801443, 18.311521287384572, 14.212322050212231, 15.390409679688503, 11.263482079269165, 17.44091398391587, 25.137790360585406, 19.070265472467753, 15.40718175374468, -3.3475030728609, 14.510379141916927, 2.875484671279827, 19.061593315514106, 12.218822609793703, 16.93297017557298, 13.005814148137711, 20.223215526834057, 4.3047645714804945, 2.232789731072514, -2.0963218611307206, 11.770788145578756, 8.285344826848569, 17.776457576883896, 3.2383595954554654, 15.856573021282816, -5.4676695861488085, 6.88932134983372, 17.914326300547604, 0.33768162896314363, 20.153857803198246, 21.120547704271903, 14.888297187807742, 17.938552224458007, 1.3374323809563646, 13.964186511948235, 14.20374853779839, 16.2548039507414, 20.962138382423724, 10.53214186133914, 22.947740334797697, 15.250060066669166, 2.6593509438108094, 15.953726566387079, -5.645859949115823, 15.467585541423917, 12.5913365256722, 23.0279521876629, 18.669141664794385, 9.59927738486285, 14.324452249877579, 6.441758993035176, 11.584705840441403, 16.70930302999417, 12.007408637199738, 1.3735706731299135, 17.96013915018856, 10.649977716319082, 10.283383857130667, 21.026669823116038, 19.06485553172748, 0.22729057033901678, 16.994172082770906, 16.29757782541743, 8.871697305727817, 19.889687709915886, 4.077416054125744, 4.905112887047584, 18.80137230418355, 14.18140202095496, 8.741835834264682, 10.723205298291491, 12.842650873208976, 13.660786400625241, 19.16357235772801, 6.759653925284905, 0.324250369680247, 13.24544699232278, -2.685938826992909, 15.354093402071157, 19.14018971025502, 19.88293263875838, 17.53380314013436, 16.63069968452527, 11.532485274637136, 13.915811408848388, 18.950235362827005], \"z\": [-7.6694493690304375, -7.569257365847261, 1.6977525265962896, 5.494482118793735, 7.599397525548345, 7.589070659188313, 3.0881866603796007, 12.322079816189685, -13.711010228923177, 16.28997351173288, -0.30759460155391105, 3.4093790461349123, -6.168752213922446, -13.770975982728903, 7.985806968603387, 0.8405911980357553, -9.066972408925595, -0.12813998507411395, 17.48358336543837, 3.391878974589658, 7.626812719183793, -5.115250125978216, 3.898995306645185, -14.585182264119524, 2.4401950400175676, -11.851752816508844, 3.6173682458934158, 16.101980772439997, -6.4981580166799215, -16.497846939918492, -1.2052348306139908, -14.54165398083265, -11.86916351747328, -8.97934297409742, -16.21820734891134, -8.340060010300895, -4.08658750254496, -1.8170776877018737, -9.954551113795452, -4.844665543064177, 5.731671635248215, 0.5995198147614624, -10.930020604306762, 3.066333332475403, 7.292354670304853, -3.7126652215170064, 0.3530780042684961, -4.355829803473233, -2.7822042508461187, -12.268782184450954, -16.236682304938636, 1.405223087656965, 1.1093763510080734, 7.991693279006748, -3.136159379491507, -10.32625223274083, -8.578091540725884, -5.695745731328852, -1.5697305771081485, -6.553398647912706, 5.342690990597243, 3.8743686753955133, 12.245444023439292, 3.0670266003378597, -6.435162015921919, -2.3669761970715237, 3.404136879724389, 3.5340514047198073, -9.107275074496778, -5.075664584112536, -11.409412070377615, 0.5243334665871113, 5.394300428069314, -2.013324088123496, -8.57071165971042, -2.711742647103309, 3.190677734277093, 9.382513627089326, 5.079538312694753, 19.597098863340445, -8.599386257781962, 7.351634962235282, -14.477571426042882, -9.338245496197185, 18.706672718926967, 0.08016062392490876, -0.9088998550545138, 14.023699125930072, -10.750244506875232, -13.692159792709898, -1.2584702126509466, -9.565125492461657, 11.634797333025121, 15.590747357360184, 12.443138075036787, 4.941958462552582, -14.002390758179828, -13.425105305383862, -6.057317743301319, -8.694084735533144]}, {\"hoverlabel\": {\"namelength\": 0}, \"hovertemplate\": \"value=6<br>PC1=%{x}<br>PC2=%{y}<br>PC3=%{z}\", \"legendgroup\": \"value=6\", \"marker\": {\"color\": \"#FECB52\", \"symbol\": \"circle\"}, \"mode\": \"markers\", \"name\": \"value=6\", \"scene\": \"scene\", \"showlegend\": true, \"type\": \"scatter3d\", \"x\": [9.395033813209745, 11.319241190053507, 9.533010442788903, 7.37096255093599, 12.008249419196538, 9.724187914239385, 5.005975722159561, 4.8236428429048335, 16.892913535897296, 13.054750500070353, 15.205658854404271, -4.16348796894273, 16.873512796214403, 15.829326586371836, 10.233755765832658, 15.019248193905746, 15.539138681430277, 10.98842952671197, 7.832750430114032, 10.73406636985536, 6.265832252182627, 12.840208542263412, 10.106042098860584, 4.76764998277456, 7.171367190651889, 11.52611417502421, 7.016347250265387, 7.77338304444717, 6.2175914533639896, 2.001927519488949, 13.606776825221152, 10.456202792262332, 12.11102590011379, 15.02360897873007, 1.9559031597877197, 14.155446644887522, 12.830951370089647, 4.473775878654406, 9.617415238372988, 3.3922486359564457, 5.94148490678166, 8.638315707368324, -2.5424812230411544, 12.437686734656213, 17.07375091224319, 10.073966906894455, 9.234771537317613, 11.533669135091602, 9.38873414533274, 12.124867843480425, 12.871184576277575, 9.61045888484613, 1.4919122417442416, 9.377127569614286, 15.435176379024277, 11.697095785375698, 8.461497841484404, 13.233785247821913, 9.903769543413496, 12.236125160983297, 15.120426374358082, 15.806562424580193, 12.549601901510252, 17.773065729937034, 11.894804266693148, -1.3638109177960618, 10.793198064060912, 12.174902670558337, 12.08160410632933, 11.593354249033531, 15.883884623740977, 2.3795996561461803, 13.299606157728196, 9.186091483607179, 12.995155056293044, 15.859488450806147, 13.115325401564153, 6.30599707960056, -1.6096511424408118, 8.96609816298686, 8.990367512787458, 10.868754786127575, 12.258090962408033, 11.8430697095362, 8.68585591329367, 2.653821165256105, 17.22075677125382, 14.784128538324477, 12.217320695205036, 10.446854660356856, 7.9882335384341845, 10.662570109442722, 10.237627820789397, 6.315784004430791, 17.860515003046075, -2.888458856492298, 3.731501357652462, 8.841048299876254, 15.114219371842143, 10.269482148098657, 12.514024040740717, 15.515836250643455, 3.3390980029426682, 10.952260346381989, 2.6894880247022774, 8.986551136585451, -1.1018829497810865, 6.743316156754378, 4.286305720649821, 6.705708294855247, 8.794737235650125, 12.82946717210351, 9.283113676350188, 9.210411996046801, 17.347506309719687, 15.370718280834199, 1.726739374735951], \"y\": [-7.208347736724528, -6.557579194341308, -12.853991569433964, 7.0292256861546765, 14.835933465241636, 18.311962505714007, 8.196750924041234, 16.5047214523329, 16.969145780566038, 4.007822911143858, 1.7354083230085202, 7.633064468178641, 7.459711671574839, 5.894295915024197, 15.629468859408272, 2.561016003916591, 4.576627970083475, 17.26067676504625, 10.393105784782087, 11.560121145369854, 7.084162481953629, 25.408717933618806, 0.7263786226164006, 10.935201191954524, 11.745365931775435, 11.7929846009206, 8.36739618936001, 10.796170867315164, 12.62386573330475, 4.889218428059538, 13.342973250671456, -7.41105183143168, 18.38857544460181, 9.040453621260717, -15.794513048840555, 2.453829393387477, 3.3352849366812527, 22.652395036031233, 9.24118997933199, -10.159661636280884, -6.668792666119819, 23.598752206112476, 20.13086654493302, 9.788307079204092, 18.160978942607613, -6.154020207683894, 7.334939982163078, -7.318264984438443, 4.27985062973772, 24.401291410274133, 19.576977914473282, 7.935892056157185, -16.77306272475913, -3.942857519932817, 15.6884019044888, 8.193515885005693, -7.371890941280026, 15.389737229142309, -10.849338021866487, 19.37681672045476, 30.55978061298048, 22.274705243046114, 9.573413219120438, 22.599941394190985, 0.9903183722017912, 4.7455501418943244, 23.981062422463182, 10.663295154120751, 2.617299891055829, 16.420629594388785, 16.14408420778251, 8.732633797079616, 12.41566464887778, -6.021697559198409, 17.32049256701156, 25.29096550535873, 6.0657002989002775, 23.119584297443765, -10.86377907801247, 14.205646988476918, -2.6515119903058033, 15.113501313609163, 17.778435024561215, 23.384202075757667, 8.710294776017482, 3.536658434706947, 10.348091939275617, -3.1707314159068605, -3.0560170152285875, 5.9900898217030205, 10.5005232479445, -7.159582959733686, 11.120093194698738, 13.459498213894113, 24.015074227790734, 7.681978118281178, 18.122269084371627, 5.087870493051529, 9.297833650012334, 19.893539521146966, 22.194852535803914, 16.25792053422265, 6.450450908160443, -12.137796053323289, -0.8797982747306866, 1.1932705821144565, 5.743076247192284, -13.262314890704202, -12.629086378254044, 5.976062864167418, -0.06636355286411391, 2.8077309867728077, -1.6827732797768484, -11.703291458194439, 11.575610508849683, 14.863487016745575, 12.09299342989765], \"z\": [-11.318501887975593, -10.678647849571117, -13.692400539423263, -13.261404091493409, -13.717378178533659, -4.949341250862174, -13.851715448377487, -14.554217938779285, -7.01860710920821, -8.489706437468701, 0.15003507199810756, -9.692790076599879, -5.196804700717228, -14.391354235108217, -15.21556419420947, -17.74264947790873, -11.57851586208631, -10.307091254089825, -18.319466831153246, -5.158370181897483, -12.691169140191347, -1.3166478674724895, -17.78338114502822, -15.26577361943103, -14.364008605283972, -2.114542393921536, -14.901825626486596, -15.97806216144916, -16.53788084271323, -11.529723207562506, -11.553058290578198, -13.945386369800802, 0.3851064045218298, -3.90134734193295, -9.755777258252301, -1.9113141167602457, -6.577981096431689, -7.638614731398337, -11.364258099902198, -11.746184128984895, -13.499366405781785, -6.406743850282132, -10.05870197059037, -12.881794416579192, 5.628384390865878, -8.02252010581551, -13.738333125913051, -13.40837692663871, -14.62263356862782, -2.862918449795427, -5.499854103715168, -10.041156026695155, -10.129903019490593, -13.810395456027294, -3.597971638106959, -0.6940800614297974, -15.040046908328089, -5.532706673314517, -12.24224041434395, -9.038044258793558, -2.04278640888027, -2.4892314366164183, -6.328348373065587, 2.5318593682182082, -4.853865309554079, -11.405103243381063, -6.265003092145465, -3.7666160028814732, -16.133277729959797, -6.069837141876747, -6.801339845192496, 2.437824929317777, -3.6776875692941706, -11.100271753806593, 0.30400235760124306, 6.125592017858369, -13.829825842965132, -4.19647213237252, -10.00453443609267, -12.133401061276569, -17.214557438308184, -12.35471189802672, -14.901857420403088, -18.142398136263555, -13.657466464743344, -13.99293535951385, -19.523506189899557, -10.826733182394062, -11.526116509252404, -8.3707164517062, -10.668250617833262, -12.778427476216482, -10.111248357566245, 1.6431183605182254, -7.221975620676955, -11.562251884119844, -6.536046757593298, -17.62920765061965, -2.993059913125537, -7.020996356445486, -5.978099473180308, -9.299063938352347, -14.162293925609395, -14.343908512977617, -12.7042221814239, -12.6119895831967, -9.595813425946025, -12.486633342724623, -16.32266449060669, -15.10760009061151, -14.381237793090078, -3.3258211139225358, -12.90628792537621, -10.608049609666525, 3.940003229394354, -12.32574694619579, -14.893204653783172]}],\n",
              "                        {\"legend\": {\"tracegroupgap\": 0}, \"margin\": {\"t\": 60}, \"scene\": {\"domain\": {\"x\": [0.0, 1.0], \"y\": [0.0, 1.0]}, \"xaxis\": {\"title\": {\"text\": \"PC1\"}}, \"yaxis\": {\"title\": {\"text\": \"PC2\"}}, \"zaxis\": {\"title\": {\"text\": \"PC3\"}}}, \"template\": {\"data\": {\"bar\": [{\"error_x\": {\"color\": \"#2a3f5f\"}, \"error_y\": {\"color\": \"#2a3f5f\"}, \"marker\": {\"line\": {\"color\": \"#E5ECF6\", \"width\": 0.5}}, \"type\": \"bar\"}], \"barpolar\": [{\"marker\": {\"line\": {\"color\": \"#E5ECF6\", \"width\": 0.5}}, \"type\": \"barpolar\"}], \"carpet\": [{\"aaxis\": {\"endlinecolor\": \"#2a3f5f\", \"gridcolor\": \"white\", \"linecolor\": \"white\", \"minorgridcolor\": \"white\", \"startlinecolor\": \"#2a3f5f\"}, \"baxis\": {\"endlinecolor\": \"#2a3f5f\", \"gridcolor\": \"white\", \"linecolor\": \"white\", \"minorgridcolor\": \"white\", \"startlinecolor\": \"#2a3f5f\"}, \"type\": \"carpet\"}], \"choropleth\": [{\"colorbar\": {\"outlinewidth\": 0, \"ticks\": \"\"}, \"type\": \"choropleth\"}], \"contour\": [{\"colorbar\": {\"outlinewidth\": 0, \"ticks\": \"\"}, \"colorscale\": [[0.0, \"#0d0887\"], [0.1111111111111111, \"#46039f\"], [0.2222222222222222, \"#7201a8\"], [0.3333333333333333, \"#9c179e\"], [0.4444444444444444, \"#bd3786\"], [0.5555555555555556, \"#d8576b\"], [0.6666666666666666, \"#ed7953\"], [0.7777777777777778, \"#fb9f3a\"], [0.8888888888888888, \"#fdca26\"], [1.0, \"#f0f921\"]], \"type\": \"contour\"}], \"contourcarpet\": [{\"colorbar\": {\"outlinewidth\": 0, \"ticks\": \"\"}, \"type\": \"contourcarpet\"}], \"heatmap\": [{\"colorbar\": {\"outlinewidth\": 0, \"ticks\": \"\"}, \"colorscale\": [[0.0, \"#0d0887\"], [0.1111111111111111, \"#46039f\"], [0.2222222222222222, \"#7201a8\"], [0.3333333333333333, \"#9c179e\"], [0.4444444444444444, \"#bd3786\"], [0.5555555555555556, \"#d8576b\"], [0.6666666666666666, \"#ed7953\"], [0.7777777777777778, \"#fb9f3a\"], [0.8888888888888888, \"#fdca26\"], [1.0, \"#f0f921\"]], \"type\": \"heatmap\"}], \"heatmapgl\": [{\"colorbar\": {\"outlinewidth\": 0, \"ticks\": \"\"}, \"colorscale\": [[0.0, \"#0d0887\"], [0.1111111111111111, \"#46039f\"], [0.2222222222222222, \"#7201a8\"], [0.3333333333333333, \"#9c179e\"], [0.4444444444444444, \"#bd3786\"], [0.5555555555555556, \"#d8576b\"], [0.6666666666666666, \"#ed7953\"], [0.7777777777777778, \"#fb9f3a\"], [0.8888888888888888, \"#fdca26\"], [1.0, \"#f0f921\"]], \"type\": \"heatmapgl\"}], \"histogram\": [{\"marker\": {\"colorbar\": {\"outlinewidth\": 0, \"ticks\": \"\"}}, \"type\": \"histogram\"}], \"histogram2d\": [{\"colorbar\": {\"outlinewidth\": 0, \"ticks\": \"\"}, \"colorscale\": [[0.0, \"#0d0887\"], [0.1111111111111111, \"#46039f\"], [0.2222222222222222, \"#7201a8\"], [0.3333333333333333, \"#9c179e\"], [0.4444444444444444, \"#bd3786\"], [0.5555555555555556, \"#d8576b\"], [0.6666666666666666, \"#ed7953\"], [0.7777777777777778, \"#fb9f3a\"], [0.8888888888888888, \"#fdca26\"], [1.0, \"#f0f921\"]], \"type\": \"histogram2d\"}], \"histogram2dcontour\": [{\"colorbar\": {\"outlinewidth\": 0, \"ticks\": \"\"}, \"colorscale\": [[0.0, \"#0d0887\"], [0.1111111111111111, \"#46039f\"], [0.2222222222222222, \"#7201a8\"], [0.3333333333333333, \"#9c179e\"], [0.4444444444444444, \"#bd3786\"], [0.5555555555555556, \"#d8576b\"], [0.6666666666666666, \"#ed7953\"], [0.7777777777777778, \"#fb9f3a\"], [0.8888888888888888, \"#fdca26\"], [1.0, \"#f0f921\"]], \"type\": \"histogram2dcontour\"}], \"mesh3d\": [{\"colorbar\": {\"outlinewidth\": 0, \"ticks\": \"\"}, \"type\": \"mesh3d\"}], \"parcoords\": [{\"line\": {\"colorbar\": {\"outlinewidth\": 0, \"ticks\": \"\"}}, \"type\": \"parcoords\"}], \"pie\": [{\"automargin\": true, \"type\": \"pie\"}], \"scatter\": [{\"marker\": {\"colorbar\": {\"outlinewidth\": 0, \"ticks\": \"\"}}, \"type\": \"scatter\"}], \"scatter3d\": [{\"line\": {\"colorbar\": {\"outlinewidth\": 0, \"ticks\": \"\"}}, \"marker\": {\"colorbar\": {\"outlinewidth\": 0, \"ticks\": \"\"}}, \"type\": \"scatter3d\"}], \"scattercarpet\": [{\"marker\": {\"colorbar\": {\"outlinewidth\": 0, \"ticks\": \"\"}}, \"type\": \"scattercarpet\"}], \"scattergeo\": [{\"marker\": {\"colorbar\": {\"outlinewidth\": 0, \"ticks\": \"\"}}, \"type\": \"scattergeo\"}], \"scattergl\": [{\"marker\": {\"colorbar\": {\"outlinewidth\": 0, \"ticks\": \"\"}}, \"type\": \"scattergl\"}], \"scattermapbox\": [{\"marker\": {\"colorbar\": {\"outlinewidth\": 0, \"ticks\": \"\"}}, \"type\": \"scattermapbox\"}], \"scatterpolar\": [{\"marker\": {\"colorbar\": {\"outlinewidth\": 0, \"ticks\": \"\"}}, \"type\": \"scatterpolar\"}], \"scatterpolargl\": [{\"marker\": {\"colorbar\": {\"outlinewidth\": 0, \"ticks\": \"\"}}, \"type\": \"scatterpolargl\"}], \"scatterternary\": [{\"marker\": {\"colorbar\": {\"outlinewidth\": 0, \"ticks\": \"\"}}, \"type\": \"scatterternary\"}], \"surface\": [{\"colorbar\": {\"outlinewidth\": 0, \"ticks\": \"\"}, \"colorscale\": [[0.0, \"#0d0887\"], [0.1111111111111111, \"#46039f\"], [0.2222222222222222, \"#7201a8\"], [0.3333333333333333, \"#9c179e\"], [0.4444444444444444, \"#bd3786\"], [0.5555555555555556, \"#d8576b\"], [0.6666666666666666, \"#ed7953\"], [0.7777777777777778, \"#fb9f3a\"], [0.8888888888888888, \"#fdca26\"], [1.0, \"#f0f921\"]], \"type\": \"surface\"}], \"table\": [{\"cells\": {\"fill\": {\"color\": \"#EBF0F8\"}, \"line\": {\"color\": \"white\"}}, \"header\": {\"fill\": {\"color\": \"#C8D4E3\"}, \"line\": {\"color\": \"white\"}}, \"type\": \"table\"}]}, \"layout\": {\"annotationdefaults\": {\"arrowcolor\": \"#2a3f5f\", \"arrowhead\": 0, \"arrowwidth\": 1}, \"coloraxis\": {\"colorbar\": {\"outlinewidth\": 0, \"ticks\": \"\"}}, \"colorscale\": {\"diverging\": [[0, \"#8e0152\"], [0.1, \"#c51b7d\"], [0.2, \"#de77ae\"], [0.3, \"#f1b6da\"], [0.4, \"#fde0ef\"], [0.5, \"#f7f7f7\"], [0.6, \"#e6f5d0\"], [0.7, \"#b8e186\"], [0.8, \"#7fbc41\"], [0.9, \"#4d9221\"], [1, \"#276419\"]], \"sequential\": [[0.0, \"#0d0887\"], [0.1111111111111111, \"#46039f\"], [0.2222222222222222, \"#7201a8\"], [0.3333333333333333, \"#9c179e\"], [0.4444444444444444, \"#bd3786\"], [0.5555555555555556, \"#d8576b\"], [0.6666666666666666, \"#ed7953\"], [0.7777777777777778, \"#fb9f3a\"], [0.8888888888888888, \"#fdca26\"], [1.0, \"#f0f921\"]], \"sequentialminus\": [[0.0, \"#0d0887\"], [0.1111111111111111, \"#46039f\"], [0.2222222222222222, \"#7201a8\"], [0.3333333333333333, \"#9c179e\"], [0.4444444444444444, \"#bd3786\"], [0.5555555555555556, \"#d8576b\"], [0.6666666666666666, \"#ed7953\"], [0.7777777777777778, \"#fb9f3a\"], [0.8888888888888888, \"#fdca26\"], [1.0, \"#f0f921\"]]}, \"colorway\": [\"#636efa\", \"#EF553B\", \"#00cc96\", \"#ab63fa\", \"#FFA15A\", \"#19d3f3\", \"#FF6692\", \"#B6E880\", \"#FF97FF\", \"#FECB52\"], \"font\": {\"color\": \"#2a3f5f\"}, \"geo\": {\"bgcolor\": \"white\", \"lakecolor\": \"white\", \"landcolor\": \"#E5ECF6\", \"showlakes\": true, \"showland\": true, \"subunitcolor\": \"white\"}, \"hoverlabel\": {\"align\": \"left\"}, \"hovermode\": \"closest\", \"mapbox\": {\"style\": \"light\"}, \"paper_bgcolor\": \"white\", \"plot_bgcolor\": \"#E5ECF6\", \"polar\": {\"angularaxis\": {\"gridcolor\": \"white\", \"linecolor\": \"white\", \"ticks\": \"\"}, \"bgcolor\": \"#E5ECF6\", \"radialaxis\": {\"gridcolor\": \"white\", \"linecolor\": \"white\", \"ticks\": \"\"}}, \"scene\": {\"xaxis\": {\"backgroundcolor\": \"#E5ECF6\", \"gridcolor\": \"white\", \"gridwidth\": 2, \"linecolor\": \"white\", \"showbackground\": true, \"ticks\": \"\", \"zerolinecolor\": \"white\"}, \"yaxis\": {\"backgroundcolor\": \"#E5ECF6\", \"gridcolor\": \"white\", \"gridwidth\": 2, \"linecolor\": \"white\", \"showbackground\": true, \"ticks\": \"\", \"zerolinecolor\": \"white\"}, \"zaxis\": {\"backgroundcolor\": \"#E5ECF6\", \"gridcolor\": \"white\", \"gridwidth\": 2, \"linecolor\": \"white\", \"showbackground\": true, \"ticks\": \"\", \"zerolinecolor\": \"white\"}}, \"shapedefaults\": {\"line\": {\"color\": \"#2a3f5f\"}}, \"ternary\": {\"aaxis\": {\"gridcolor\": \"white\", \"linecolor\": \"white\", \"ticks\": \"\"}, \"baxis\": {\"gridcolor\": \"white\", \"linecolor\": \"white\", \"ticks\": \"\"}, \"bgcolor\": \"#E5ECF6\", \"caxis\": {\"gridcolor\": \"white\", \"linecolor\": \"white\", \"ticks\": \"\"}}, \"title\": {\"x\": 0.05}, \"xaxis\": {\"automargin\": true, \"gridcolor\": \"white\", \"linecolor\": \"white\", \"ticks\": \"\", \"title\": {\"standoff\": 15}, \"zerolinecolor\": \"white\", \"zerolinewidth\": 2}, \"yaxis\": {\"automargin\": true, \"gridcolor\": \"white\", \"linecolor\": \"white\", \"ticks\": \"\", \"title\": {\"standoff\": 15}, \"zerolinecolor\": \"white\", \"zerolinewidth\": 2}}}},\n",
              "                        {\"responsive\": true}\n",
              "                    ).then(function(){\n",
              "                            \n",
              "var gd = document.getElementById('2d23bcfb-381b-457c-bfce-61de1693888f');\n",
              "var x = new MutationObserver(function (mutations, observer) {{\n",
              "        var display = window.getComputedStyle(gd).display;\n",
              "        if (!display || display === 'none') {{\n",
              "            console.log([gd, 'removed!']);\n",
              "            Plotly.purge(gd);\n",
              "            observer.disconnect();\n",
              "        }}\n",
              "}});\n",
              "\n",
              "// Listen for the removal of the full notebook cells\n",
              "var notebookContainer = gd.closest('#notebook-container');\n",
              "if (notebookContainer) {{\n",
              "    x.observe(notebookContainer, {childList: true});\n",
              "}}\n",
              "\n",
              "// Listen for the clearing of the current output cell\n",
              "var outputEl = gd.closest('.output');\n",
              "if (outputEl) {{\n",
              "    x.observe(outputEl, {childList: true});\n",
              "}}\n",
              "\n",
              "                        })\n",
              "                };\n",
              "                \n",
              "            </script>\n",
              "        </div>\n",
              "</body>\n",
              "</html>"
            ]
          },
          "metadata": {
            "tags": []
          }
        }
      ]
    }
  ]
}