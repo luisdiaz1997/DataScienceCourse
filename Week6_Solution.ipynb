{
  "nbformat": 4,
  "nbformat_minor": 0,
  "metadata": {
    "colab": {
      "name": "Week6_Solution.ipynb",
      "provenance": [],
      "collapsed_sections": [],
      "authorship_tag": "ABX9TyP1D2p4M/mdaaJMI5ozVkFh",
      "include_colab_link": true
    },
    "kernelspec": {
      "name": "python3",
      "display_name": "Python 3"
    }
  },
  "cells": [
    {
      "cell_type": "markdown",
      "metadata": {
        "id": "view-in-github",
        "colab_type": "text"
      },
      "source": [
        "<a href=\"https://colab.research.google.com/github/luisdiaz1997/DataScienceCourse/blob/master/Week6_Solution.ipynb\" target=\"_parent\"><img src=\"https://colab.research.google.com/assets/colab-badge.svg\" alt=\"Open In Colab\"/></a>"
      ]
    },
    {
      "cell_type": "code",
      "metadata": {
        "id": "LMvxF_RptNGg",
        "colab_type": "code",
        "colab": {}
      },
      "source": [
        "import numpy as np\n",
        "from tqdm import tqdm\n",
        "import matplotlib.pyplot as plt\n",
        "import pandas as pd"
      ],
      "execution_count": 0,
      "outputs": []
    },
    {
      "cell_type": "code",
      "metadata": {
        "id": "kev7b8f0uRMK",
        "colab_type": "code",
        "colab": {}
      },
      "source": [
        "data_url = \"https://download.mlcc.google.com/mledu-datasets/california_housing_train.csv\""
      ],
      "execution_count": 0,
      "outputs": []
    },
    {
      "cell_type": "code",
      "metadata": {
        "id": "AtvhAYwGuSoQ",
        "colab_type": "code",
        "colab": {}
      },
      "source": [
        "df = pd.read_csv(data_url, sep=\",\")\n",
        "df.head()"
      ],
      "execution_count": 0,
      "outputs": []
    },
    {
      "cell_type": "code",
      "metadata": {
        "id": "3j3BaQpEuZyP",
        "colab_type": "code",
        "colab": {}
      },
      "source": [
        "plt.figure(1)\n",
        "x = df.households.values.reshape(-1, 1)\n",
        "y = df.total_rooms.values.reshape(-1,1)\n",
        "plt.figure(figsize=(8, 6))\n",
        "plt.scatter(x[::10], y[::10])\n",
        "plt.xlabel('Number of Households')\n",
        "plt.ylabel('Total Rooms');"
      ],
      "execution_count": 0,
      "outputs": []
    },
    {
      "cell_type": "markdown",
      "metadata": {
        "id": "BcKlz2or0Eix",
        "colab_type": "text"
      },
      "source": [
        ">$h(x) = x w + b$"
      ]
    },
    {
      "cell_type": "code",
      "metadata": {
        "id": "ivkhLoshtS1w",
        "colab_type": "code",
        "colab": {}
      },
      "source": [
        "def linear(x, w, b):\n",
        "  z = np.dot(x,w) + b\n",
        "  return z"
      ],
      "execution_count": 0,
      "outputs": []
    },
    {
      "cell_type": "code",
      "metadata": {
        "id": "f2s6YMUktUdZ",
        "colab_type": "code",
        "colab": {}
      },
      "source": [
        "def start_params(features = 2):\n",
        "  params = {'W': np.random.randn(features, 1), 'b': np.random.randn(1, 1)}\n",
        "  return params"
      ],
      "execution_count": 0,
      "outputs": []
    },
    {
      "cell_type": "markdown",
      "metadata": {
        "id": "zOr1bV0z0OcG",
        "colab_type": "text"
      },
      "source": [
        ">$J = \\frac{1}{2M}\\sum_{} (h(x) - y)^2 $"
      ]
    },
    {
      "cell_type": "code",
      "metadata": {
        "id": "iWdvtNRgtWJ5",
        "colab_type": "code",
        "colab": {}
      },
      "source": [
        "def loss(model, inputs, targets):\n",
        "  error = model(inputs) - targets\n",
        "  return np.sum(error **2)/inputs.shape[0]"
      ],
      "execution_count": 0,
      "outputs": []
    },
    {
      "cell_type": "markdown",
      "metadata": {
        "id": "PrMFVuGv0LA2",
        "colab_type": "text"
      },
      "source": [
        "## We decrease this cost function by gradient descent\n",
        "### To make things easier\n",
        "\n",
        ">$ \\delta = h(x) - y $\n",
        "\n",
        ">$J = \\frac{1}{2M}\\sum_{} (\\delta)^2 $\n",
        "\n",
        "## With chain rule\n",
        "\n",
        ">$\\frac{\\partial J}{\\partial W} = \\frac{1}{M} \\sum_{} \\delta \\frac{\\partial \\delta}{\\partial W}$\n",
        "\n",
        ">$ \\frac{\\partial \\delta}{\\partial W} = x $\n",
        "\n",
        ">$\\frac{\\partial J}{\\partial W} = \\frac{1}{M}\\sum_{} \\delta x $\n",
        "\n",
        "## Vectorizing we get\n",
        ">$dW=\\frac{\\partial J}{\\partial W} = \\frac{1}{M}X^T \\delta $\n",
        "\n",
        "\n",
        "## Similarly for B, since dJ/db is 1\n",
        "\n",
        "> $db = \\frac{\\partial J}{\\partial b} = \\frac{1}{M}\\sum_{} \\delta $\n",
        "\n",
        "## We will update the models this way, where alpha is our learning rate\n",
        "\n",
        "> $W=W - \\alpha dW $\n",
        "\n",
        "> $b=b - \\alpha db $\n"
      ]
    },
    {
      "cell_type": "code",
      "metadata": {
        "id": "yzVvcIeUtad6",
        "colab_type": "code",
        "colab": {}
      },
      "source": [
        "def grad(model, inputs, targets):\n",
        "\n",
        "  error = model(inputs) - targets\n",
        "  grad_dict = {'dW': np.dot(inputs.T, error)/inputs.shape[0],\n",
        "               'db': np.sum(error, axis = 0, keepdims=  True)/inputs.shape[0]}\n",
        "  return grad_dict"
      ],
      "execution_count": 0,
      "outputs": []
    },
    {
      "cell_type": "code",
      "metadata": {
        "id": "QEwbNw8Wtb3y",
        "colab_type": "code",
        "colab": {}
      },
      "source": [
        "class LinearRegression():\n",
        "  def __init__(self, features = 2):\n",
        "    self.params = start_params(features = features)\n",
        "    self.costs = []\n",
        "  \n",
        "  def __call__(self, inputs):\n",
        "    return linear(inputs, self.params['W'], self.params['b'])\n",
        "\n",
        "  def fit(self, inputs, targets, learning_rate = 1e-3, epochs= 10):\n",
        "    for i in tqdm(range(epochs)):\n",
        "      self.costs.append(loss(self, inputs, targets))\n",
        "      grads = grad(self, inputs, targets)\n",
        "\n",
        "      for key, values in self.params.items():\n",
        "        self.params[key] -= learning_rate * grads['d'+key]\n",
        "\n"
      ],
      "execution_count": 0,
      "outputs": []
    },
    {
      "cell_type": "code",
      "metadata": {
        "id": "qwZYg5x0tnH9",
        "colab_type": "code",
        "colab": {}
      },
      "source": [
        "model = LinearRegression(features = 1)"
      ],
      "execution_count": 0,
      "outputs": []
    },
    {
      "cell_type": "code",
      "metadata": {
        "id": "vBG08aVc2i3R",
        "colab_type": "code",
        "colab": {}
      },
      "source": [
        "model.params"
      ],
      "execution_count": 0,
      "outputs": []
    },
    {
      "cell_type": "code",
      "metadata": {
        "id": "r3P-S6CMwzPz",
        "colab_type": "code",
        "colab": {}
      },
      "source": [
        "plt.figure(2, figsize = (10,8))\n",
        "\n",
        "y_predict = model(x)\n",
        "plt.scatter(x, y )\n",
        "plt.scatter(x[:, 0], y_predict)"
      ],
      "execution_count": 0,
      "outputs": []
    },
    {
      "cell_type": "code",
      "metadata": {
        "id": "JQMT4VL3uno7",
        "colab_type": "code",
        "colab": {}
      },
      "source": [
        "model.fit(x, y, learning_rate=1e-8, epochs = 1000)"
      ],
      "execution_count": 0,
      "outputs": []
    },
    {
      "cell_type": "code",
      "metadata": {
        "id": "8etQCpq1vQPb",
        "colab_type": "code",
        "colab": {}
      },
      "source": [
        "plt.plot(model.costs)"
      ],
      "execution_count": 0,
      "outputs": []
    },
    {
      "cell_type": "code",
      "metadata": {
        "id": "hgWqEDIHwyJc",
        "colab_type": "code",
        "colab": {}
      },
      "source": [
        "plt.figure(3, figsize = (10,8))\n",
        "\n",
        "y_predict = model(x)\n",
        "plt.scatter(x, y )\n",
        "plt.scatter(x[:, 0], y_predict)"
      ],
      "execution_count": 0,
      "outputs": []
    },
    {
      "cell_type": "code",
      "metadata": {
        "id": "NjkyxYYBtQnA",
        "colab_type": "code",
        "colab": {}
      },
      "source": [
        "from sklearn.datasets import make_blobs\n",
        "n_samples = 1500\n",
        "random_state = 170\n",
        "X, y = make_blobs(n_samples=n_samples, random_state=random_state, centers = np.array([[-3, -3], [1, 1]]))"
      ],
      "execution_count": 0,
      "outputs": []
    },
    {
      "cell_type": "code",
      "metadata": {
        "id": "SfoYoy2xtRxg",
        "colab_type": "code",
        "colab": {}
      },
      "source": [
        "plt.figure(4, figsize = (10,8))\n",
        "plt.scatter(X[:, 0], X[:, 1], c = y, cmap = 'bwr')\n",
        "plt.colorbar();"
      ],
      "execution_count": 0,
      "outputs": []
    },
    {
      "cell_type": "code",
      "metadata": {
        "id": "J7RfcIfwwSA9",
        "colab_type": "code",
        "colab": {}
      },
      "source": [
        "model2 = LinearRegression(features = 2)"
      ],
      "execution_count": 0,
      "outputs": []
    },
    {
      "cell_type": "code",
      "metadata": {
        "id": "ccq8adJBzMPq",
        "colab_type": "code",
        "colab": {}
      },
      "source": [
        "model2.params"
      ],
      "execution_count": 0,
      "outputs": []
    },
    {
      "cell_type": "code",
      "metadata": {
        "id": "hVG4WVyctrmc",
        "colab_type": "code",
        "colab": {}
      },
      "source": [
        "plt.figure(5, figsize = (10,8))\n",
        "\n",
        "y_predict = model2(X)\n",
        "plt.scatter(X[:, 0], X[:, 1], c = y_predict.reshape(-1), cmap = 'bwr', vmin = 0, vmax = 1)\n",
        "plt.colorbar();"
      ],
      "execution_count": 0,
      "outputs": []
    },
    {
      "cell_type": "code",
      "metadata": {
        "id": "wC9NptbfwYof",
        "colab_type": "code",
        "colab": {}
      },
      "source": [
        "model2.fit(X, y[:, None], learning_rate = 1e-3, epochs = 10000)"
      ],
      "execution_count": 0,
      "outputs": []
    },
    {
      "cell_type": "code",
      "metadata": {
        "id": "XwUoOhEpwZH8",
        "colab_type": "code",
        "colab": {}
      },
      "source": [
        "plt.plot(model2.costs)"
      ],
      "execution_count": 0,
      "outputs": []
    },
    {
      "cell_type": "code",
      "metadata": {
        "id": "6eOdhPPXtwm7",
        "colab_type": "code",
        "colab": {}
      },
      "source": [
        "plt.figure(6, figsize = (10,8))\n",
        "\n",
        "y_predict = model2(X)\n",
        "plt.scatter(X[:, 0], X[:, 1], c = y_predict.reshape(-1), cmap = 'bwr', vmin = 0, vmax = 1)\n",
        "plt.colorbar();"
      ],
      "execution_count": 0,
      "outputs": []
    },
    {
      "cell_type": "code",
      "metadata": {
        "id": "COw58t_OtyUG",
        "colab_type": "code",
        "colab": {}
      },
      "source": [
        "model2.params"
      ],
      "execution_count": 0,
      "outputs": []
    },
    {
      "cell_type": "code",
      "metadata": {
        "id": "BUmBitw4t1Kx",
        "colab_type": "code",
        "colab": {}
      },
      "source": [
        ""
      ],
      "execution_count": 0,
      "outputs": []
    }
  ]
}