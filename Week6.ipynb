{
  "nbformat": 4,
  "nbformat_minor": 0,
  "metadata": {
    "colab": {
      "name": "Week6.ipynb",
      "provenance": [],
      "collapsed_sections": [],
      "authorship_tag": "ABX9TyOYIhqFXLmP6KlPmzFt41Xu",
      "include_colab_link": true
    },
    "kernelspec": {
      "name": "python3",
      "display_name": "Python 3"
    }
  },
  "cells": [
    {
      "cell_type": "markdown",
      "metadata": {
        "id": "view-in-github",
        "colab_type": "text"
      },
      "source": [
        "<a href=\"https://colab.research.google.com/github/luisdiaz1997/DataScienceCourse/blob/master/Week6.ipynb\" target=\"_parent\"><img src=\"https://colab.research.google.com/assets/colab-badge.svg\" alt=\"Open In Colab\"/></a>"
      ]
    },
    {
      "cell_type": "code",
      "metadata": {
        "id": "LMvxF_RptNGg",
        "colab_type": "code",
        "colab": {}
      },
      "source": [
        ""
      ],
      "execution_count": 0,
      "outputs": []
    },
    {
      "cell_type": "code",
      "metadata": {
        "id": "kev7b8f0uRMK",
        "colab_type": "code",
        "colab": {}
      },
      "source": [
        "data_url = \"https://download.mlcc.google.com/mledu-datasets/california_housing_train.csv\""
      ],
      "execution_count": 0,
      "outputs": []
    },
    {
      "cell_type": "code",
      "metadata": {
        "id": "AtvhAYwGuSoQ",
        "colab_type": "code",
        "colab": {}
      },
      "source": [
        "df = pd.read_csv(data_url, sep=\",\")\n",
        "df.head()"
      ],
      "execution_count": 0,
      "outputs": []
    },
    {
      "cell_type": "code",
      "metadata": {
        "id": "3j3BaQpEuZyP",
        "colab_type": "code",
        "colab": {}
      },
      "source": [
        "plt.figure(1)\n",
        "x = df.households.values.reshape(-1, 1)\n",
        "y = df.total_rooms.values.reshape(-1,1)\n",
        "plt.figure(figsize=(8, 6))\n",
        "plt.scatter(x[::10], y[::10])\n",
        "plt.xlabel('Number of Households')\n",
        "plt.ylabel('Total Rooms');"
      ],
      "execution_count": 0,
      "outputs": []
    },
    {
      "cell_type": "markdown",
      "metadata": {
        "id": "BcKlz2or0Eix",
        "colab_type": "text"
      },
      "source": [
        ">$h(x) = x w + b$"
      ]
    },
    {
      "cell_type": "code",
      "metadata": {
        "id": "ivkhLoshtS1w",
        "colab_type": "code",
        "colab": {}
      },
      "source": [
        "def linear(x, w, b):\n",
        "  pass"
      ],
      "execution_count": 0,
      "outputs": []
    },
    {
      "cell_type": "code",
      "metadata": {
        "id": "f2s6YMUktUdZ",
        "colab_type": "code",
        "colab": {}
      },
      "source": [
        "def start_params():\n",
        "  pass"
      ],
      "execution_count": 0,
      "outputs": []
    },
    {
      "cell_type": "markdown",
      "metadata": {
        "id": "zOr1bV0z0OcG",
        "colab_type": "text"
      },
      "source": [
        ">$J = \\frac{1}{2M}\\sum_{} (h(x) - y)^2 $"
      ]
    },
    {
      "cell_type": "code",
      "metadata": {
        "id": "iWdvtNRgtWJ5",
        "colab_type": "code",
        "colab": {}
      },
      "source": [
        "def loss(model, inputs, targets):\n",
        "  pass"
      ],
      "execution_count": 0,
      "outputs": []
    },
    {
      "cell_type": "markdown",
      "metadata": {
        "id": "PrMFVuGv0LA2",
        "colab_type": "text"
      },
      "source": [
        "## We decrease this cost function by gradient descent\n",
        "### To make things easier\n",
        "\n",
        ">$ \\delta = h(x) - y $\n",
        "\n",
        ">$J = \\frac{1}{2M}\\sum_{} (\\delta)^2 $\n",
        "\n",
        "## With chain rule\n",
        "\n",
        ">$\\frac{\\partial J}{\\partial W} = \\frac{1}{M} \\sum_{} \\delta \\frac{\\partial \\delta}{\\partial W}$\n",
        "\n",
        ">$ \\frac{\\partial \\delta}{\\partial W} = x $\n",
        "\n",
        ">$\\frac{\\partial J}{\\partial W} = \\frac{1}{M}\\sum_{} \\delta x $\n",
        "\n",
        "## Vectorizing we get\n",
        ">$dW=\\frac{\\partial J}{\\partial W} = \\frac{1}{M}X^T \\delta $\n",
        "\n",
        "\n",
        "## Similarly for B, since dJ/db is 1\n",
        "\n",
        "> $db = \\frac{\\partial J}{\\partial b} = \\frac{1}{M}\\sum_{} \\delta $\n",
        "\n",
        "## We will update the models this way, where alpha is our learning rate\n",
        "\n",
        "> $W=W - \\alpha dW $\n",
        "\n",
        "> $b=b - \\alpha db $\n"
      ]
    },
    {
      "cell_type": "code",
      "metadata": {
        "id": "yzVvcIeUtad6",
        "colab_type": "code",
        "colab": {}
      },
      "source": [
        "def grad(model, inputs, targets):\n",
        "\n",
        "  pass"
      ],
      "execution_count": 0,
      "outputs": []
    },
    {
      "cell_type": "code",
      "metadata": {
        "id": "QEwbNw8Wtb3y",
        "colab_type": "code",
        "colab": {}
      },
      "source": [
        "class LinearRegression():\n",
        "  def __init__(self):\n",
        "    pass\n",
        "  \n",
        "  def __call__(self):\n",
        "    pass\n",
        "\n",
        "  def fit(self):\n",
        "    pass\n"
      ],
      "execution_count": 0,
      "outputs": []
    },
    {
      "cell_type": "code",
      "metadata": {
        "id": "qwZYg5x0tnH9",
        "colab_type": "code",
        "colab": {}
      },
      "source": [
        ""
      ],
      "execution_count": 0,
      "outputs": []
    },
    {
      "cell_type": "code",
      "metadata": {
        "id": "vBG08aVc2i3R",
        "colab_type": "code",
        "colab": {}
      },
      "source": [
        ""
      ],
      "execution_count": 0,
      "outputs": []
    },
    {
      "cell_type": "code",
      "metadata": {
        "id": "r3P-S6CMwzPz",
        "colab_type": "code",
        "colab": {}
      },
      "source": [
        "plt.figure(2, figsize = (10,8))\n",
        "\n",
        "y_predict = model(x)\n",
        "plt.scatter(x, y )\n",
        "plt.scatter(x[:, 0], y_predict)"
      ],
      "execution_count": 0,
      "outputs": []
    },
    {
      "cell_type": "code",
      "metadata": {
        "id": "JQMT4VL3uno7",
        "colab_type": "code",
        "colab": {}
      },
      "source": [
        ""
      ],
      "execution_count": 0,
      "outputs": []
    },
    {
      "cell_type": "code",
      "metadata": {
        "id": "8etQCpq1vQPb",
        "colab_type": "code",
        "colab": {}
      },
      "source": [
        ""
      ],
      "execution_count": 0,
      "outputs": []
    },
    {
      "cell_type": "code",
      "metadata": {
        "id": "hgWqEDIHwyJc",
        "colab_type": "code",
        "colab": {}
      },
      "source": [
        "plt.figure(3, figsize = (10,8))\n",
        "\n",
        "y_predict = model(x)\n",
        "plt.scatter(x, y )\n",
        "plt.scatter(x[:, 0], y_predict)"
      ],
      "execution_count": 0,
      "outputs": []
    },
    {
      "cell_type": "code",
      "metadata": {
        "id": "NjkyxYYBtQnA",
        "colab_type": "code",
        "colab": {}
      },
      "source": [
        "from sklearn.datasets import make_blobs\n",
        "n_samples = 1500\n",
        "random_state = 170\n",
        "X, y = make_blobs(n_samples=n_samples, random_state=random_state, centers = np.array([[-3, -3], [1, 1]]))"
      ],
      "execution_count": 0,
      "outputs": []
    },
    {
      "cell_type": "code",
      "metadata": {
        "id": "SfoYoy2xtRxg",
        "colab_type": "code",
        "colab": {}
      },
      "source": [
        "plt.figure(4, figsize = (10,8))\n",
        "plt.scatter(X[:, 0], X[:, 1], c = y, cmap = 'bwr')\n",
        "plt.colorbar();"
      ],
      "execution_count": 0,
      "outputs": []
    },
    {
      "cell_type": "code",
      "metadata": {
        "id": "J7RfcIfwwSA9",
        "colab_type": "code",
        "colab": {}
      },
      "source": [
        ""
      ],
      "execution_count": 0,
      "outputs": []
    },
    {
      "cell_type": "code",
      "metadata": {
        "id": "ccq8adJBzMPq",
        "colab_type": "code",
        "colab": {}
      },
      "source": [
        ""
      ],
      "execution_count": 0,
      "outputs": []
    },
    {
      "cell_type": "code",
      "metadata": {
        "id": "hVG4WVyctrmc",
        "colab_type": "code",
        "colab": {}
      },
      "source": [
        "plt.figure(5, figsize = (10,8))\n",
        "\n",
        "y_predict = model2(X)\n",
        "plt.scatter(X[:, 0], X[:, 1], c = y_predict.reshape(-1), cmap = 'bwr', vmin = 0, vmax = 1)\n",
        "plt.colorbar();"
      ],
      "execution_count": 0,
      "outputs": []
    },
    {
      "cell_type": "code",
      "metadata": {
        "id": "wC9NptbfwYof",
        "colab_type": "code",
        "colab": {}
      },
      "source": [
        ""
      ],
      "execution_count": 0,
      "outputs": []
    },
    {
      "cell_type": "code",
      "metadata": {
        "id": "XwUoOhEpwZH8",
        "colab_type": "code",
        "colab": {}
      },
      "source": [
        ""
      ],
      "execution_count": 0,
      "outputs": []
    },
    {
      "cell_type": "code",
      "metadata": {
        "id": "6eOdhPPXtwm7",
        "colab_type": "code",
        "colab": {}
      },
      "source": [
        "plt.figure(6, figsize = (10,8))\n",
        "\n",
        "y_predict = model2(X)\n",
        "plt.scatter(X[:, 0], X[:, 1], c = y_predict.reshape(-1), cmap = 'bwr', vmin = 0, vmax = 1)\n",
        "plt.colorbar();"
      ],
      "execution_count": 0,
      "outputs": []
    },
    {
      "cell_type": "code",
      "metadata": {
        "id": "COw58t_OtyUG",
        "colab_type": "code",
        "colab": {}
      },
      "source": [
        ""
      ],
      "execution_count": 0,
      "outputs": []
    },
    {
      "cell_type": "code",
      "metadata": {
        "id": "BUmBitw4t1Kx",
        "colab_type": "code",
        "colab": {}
      },
      "source": [
        ""
      ],
      "execution_count": 0,
      "outputs": []
    }
  ]
}