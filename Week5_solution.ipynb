{
  "nbformat": 4,
  "nbformat_minor": 0,
  "metadata": {
    "colab": {
      "name": "Week5_solution.ipynb",
      "provenance": [],
      "collapsed_sections": [],
      "authorship_tag": "ABX9TyPJnxNiHyaRRJFVOkmh/qKB",
      "include_colab_link": true
    },
    "kernelspec": {
      "name": "python3",
      "display_name": "Python 3"
    }
  },
  "cells": [
    {
      "cell_type": "markdown",
      "metadata": {
        "id": "view-in-github",
        "colab_type": "text"
      },
      "source": [
        "<a href=\"https://colab.research.google.com/github/luisdiaz1997/DataScienceCourse/blob/master/Week5_solution.ipynb\" target=\"_parent\"><img src=\"https://colab.research.google.com/assets/colab-badge.svg\" alt=\"Open In Colab\"/></a>"
      ]
    },
    {
      "cell_type": "code",
      "metadata": {
        "id": "UaMX4xp8EFgX",
        "colab_type": "code",
        "colab": {}
      },
      "source": [
        "import matplotlib.pyplot as plt\n",
        "import numpy as np"
      ],
      "execution_count": 0,
      "outputs": []
    },
    {
      "cell_type": "markdown",
      "metadata": {
        "id": "jRB3W6luTGO1",
        "colab_type": "text"
      },
      "source": [
        "# Unit Vectors\n",
        ">$\n",
        "\\hat{i} =\n",
        " \\begin{pmatrix}\n",
        "  1 \\\\\n",
        "  0\n",
        " \\end{pmatrix}\n",
        " $\n",
        " \n",
        ">$\n",
        "  \\hat{j} =\n",
        " \\begin{pmatrix}\n",
        "  0 \\\\\n",
        "  1\n",
        " \\end{pmatrix}\n",
        "  $\n",
        "\n",
        ">$\n",
        "  \\vec{A} = A_1 \\hat{i} + A_2 \\hat{j} = A_1 \n",
        " \\begin{pmatrix}\n",
        "  1 \\\\\n",
        "  0\n",
        " \\end{pmatrix}\n",
        " +\n",
        " A_2\n",
        " \\begin{pmatrix}\n",
        "  0 \\\\\n",
        "  1\n",
        " \\end{pmatrix}\n",
        " = \\begin{pmatrix}\n",
        "  A_1 \\\\\n",
        "  0\n",
        " \\end{pmatrix}\n",
        " +\n",
        " \\begin{pmatrix}\n",
        "  0 \\\\\n",
        "  A_2\n",
        " \\end{pmatrix}\n",
        "= \n",
        "  \\begin{pmatrix}\n",
        "  A_1 \\\\\n",
        "  A_2\n",
        " \\end{pmatrix}\n",
        "  $"
      ]
    },
    {
      "cell_type": "code",
      "metadata": {
        "id": "V_Ley6q0EJlS",
        "colab_type": "code",
        "colab": {}
      },
      "source": [
        "i = np.array([1, 0])"
      ],
      "execution_count": 0,
      "outputs": []
    },
    {
      "cell_type": "code",
      "metadata": {
        "id": "Ev9P_3B0EL8u",
        "colab_type": "code",
        "colab": {}
      },
      "source": [
        "j = np.array([0, 1])"
      ],
      "execution_count": 0,
      "outputs": []
    },
    {
      "cell_type": "code",
      "metadata": {
        "id": "z0FMqWIWE81N",
        "colab_type": "code",
        "colab": {}
      },
      "source": [
        "A = i+j"
      ],
      "execution_count": 0,
      "outputs": []
    },
    {
      "cell_type": "code",
      "metadata": {
        "id": "HjpcF06yEPaw",
        "colab_type": "code",
        "colab": {}
      },
      "source": [
        "plt.figure(1, figsize= (8, 8))\n",
        "plt.arrow(0, 0 , i[0], i[1], head_width=0.2, head_length=0.1, color= 'blue')\n",
        "plt.arrow(i[0], i[1] , j[0], j[1], head_width=0.2, head_length=0.1, color= 'blue')\n",
        "plt.arrow(0, 0 , A[0], A[1], head_width=0.2, head_length=0.1, color = 'red')\n",
        "\n",
        "plt.xlim([-3, 3])\n",
        "plt.ylim([-3, 3])"
      ],
      "execution_count": 0,
      "outputs": []
    },
    {
      "cell_type": "markdown",
      "metadata": {
        "id": "M_B0wOdRY9GS",
        "colab_type": "text"
      },
      "source": [
        "# Vector Addition\n",
        ">$\n",
        "  \\vec{A} = A_1 \\hat{i} + A_2 \\hat{j}\n",
        "= \n",
        "  \\begin{pmatrix}\n",
        "  A_1 \\\\\n",
        "  A_2\n",
        " \\end{pmatrix}\n",
        "  $\n",
        "\n",
        ">$\n",
        "  \\vec{B} = B_1 \\hat{i} + B_2 \\hat{j}\n",
        "= \n",
        "  \\begin{pmatrix}\n",
        "  B_1 \\\\\n",
        "  B_2\n",
        " \\end{pmatrix}\n",
        "  $\n",
        "\n",
        ">$\n",
        "  \\vec{A} + \\vec{B} = (A_1 + B_1) \\hat{i} + (A_2 + B_2) \\hat{j}\n",
        "= \n",
        "  \\begin{pmatrix}\n",
        "  A_1 + B_1 \\\\\n",
        "  A_2 + B_2\n",
        " \\end{pmatrix}\n",
        "  $\n",
        "\n",
        "\n"
      ]
    },
    {
      "cell_type": "code",
      "metadata": {
        "id": "ZUXTmHg9Y30Y",
        "colab_type": "code",
        "colab": {}
      },
      "source": [
        "A = 2*i + 1*j\n",
        "B = 1*i + 3*j\n",
        "C = A+B"
      ],
      "execution_count": 0,
      "outputs": []
    },
    {
      "cell_type": "code",
      "metadata": {
        "id": "j69haDtWZ582",
        "colab_type": "code",
        "colab": {}
      },
      "source": [
        "A = np.array([2, 1])\n",
        "B = np.array([1, 3])\n",
        "C = A+B"
      ],
      "execution_count": 0,
      "outputs": []
    },
    {
      "cell_type": "code",
      "metadata": {
        "id": "RxJporIQZqoo",
        "colab_type": "code",
        "colab": {}
      },
      "source": [
        "plt.figure(2, figsize= (8, 8))\n",
        "plt.arrow(0, 0 , A[0], A[1], head_width=0.2, head_length=0.1, color= 'blue')\n",
        "plt.arrow(A[0], A[1] , B[0], B[1], head_width=0.2, head_length=0.1, color= 'blue')\n",
        "plt.arrow(0, 0 , C[0], C[1], head_width=0.2, head_length=0.1, color = 'red')\n",
        "\n",
        "plt.xlim([-5, 5])\n",
        "plt.ylim([-5, 5])"
      ],
      "execution_count": 0,
      "outputs": []
    },
    {
      "cell_type": "markdown",
      "metadata": {
        "id": "9PhAQSn6RJNM",
        "colab_type": "text"
      },
      "source": [
        "# Dot Product"
      ]
    },
    {
      "cell_type": "markdown",
      "metadata": {
        "id": "EATRxEoZakNr",
        "colab_type": "text"
      },
      "source": [
        ">$\\hat{i} \\cdot \\hat{i} = 1$\n",
        "\n",
        ">$\\hat{j} \\cdot \\hat{j} = 1$\n",
        "\n",
        ">$\\hat{i} \\cdot \\hat{j} = 0$"
      ]
    },
    {
      "cell_type": "code",
      "metadata": {
        "id": "erd5yy6Tavl4",
        "colab_type": "code",
        "colab": {}
      },
      "source": [
        "print(np.dot(i, i))\n",
        "print(np.dot(j, j))\n",
        "print(np.dot(i, j))"
      ],
      "execution_count": 0,
      "outputs": []
    },
    {
      "cell_type": "markdown",
      "metadata": {
        "id": "ZfumigqZRqAK",
        "colab_type": "text"
      },
      "source": [
        "## Vector dot product\n",
        ">$\\vec{A} \\cdot \\vec{B} = (A_1 \\hat{i} + A_2\\hat{j}) \\cdot (B_1\\hat{i} + B_2\\hat{j})$\n",
        "\n",
        ">$ = A_1 \\hat{i} \\cdot B_1 \\hat{i} + A_1 \\hat{i} \\cdot B_2 \\hat{j} \n",
        "+ A_2 \\hat{j} \\cdot B_1 \\hat{i} + A_2 \\hat{j} \\cdot B_2 \\hat{j}$\n",
        "\n",
        ">$ = A_1  B_1 \\hat{i} \\cdot\\hat{i} + A_1  B_2 \\hat{i} \\cdot \\hat{j} \n",
        "+ A_2 B_1 \\hat{j} \\cdot \\hat{i} + A_2  B_2 \\hat{j} \\cdot \\hat{j}$\n",
        "\n",
        ">$ = A_1  B_1 (1) + A_1  B_2 (0) \n",
        "+ A_2 B_1 (0) + A_2  B_2 (1)$\n",
        "\n",
        "\n",
        ">$ = A_1B_1 + A_2B_2$"
      ]
    },
    {
      "cell_type": "markdown",
      "metadata": {
        "id": "NHbFGU2MeSLS",
        "colab_type": "text"
      },
      "source": [
        "## Or simply\n",
        ">$\\vec{A} \\cdot \\vec{B} = \\sum_{i=1}^n A_iB_i$"
      ]
    },
    {
      "cell_type": "code",
      "metadata": {
        "id": "-1HVTZo8lDqE",
        "colab_type": "code",
        "colab": {}
      },
      "source": [
        "A = np.array([5, -2])\n",
        "B = np.array([3, 1])\n",
        "\n",
        "C = np.dot(A, B)\n",
        "C"
      ],
      "execution_count": 0,
      "outputs": []
    },
    {
      "cell_type": "code",
      "metadata": {
        "id": "X9cyRS0wQ1ux",
        "colab_type": "code",
        "colab": {}
      },
      "source": [
        "A = np.array([1, 1])\n",
        "B = np.array([2, 1])\n",
        "\n",
        "C = np.dot(A, B)\n",
        "C"
      ],
      "execution_count": 0,
      "outputs": []
    },
    {
      "cell_type": "code",
      "metadata": {
        "id": "kJv3a8HoQ-dB",
        "colab_type": "code",
        "colab": {}
      },
      "source": [
        "plt.figure(3, figsize= (8, 8))\n",
        "plt.arrow(0, 0 , A[0], A[1], head_width=0.2, head_length=0.1, color= 'blue')\n",
        "plt.arrow(0, 0 , B[0], B[1], head_width=0.2, head_length=0.1, color= 'red')\n",
        "\n",
        "plt.xlim([-3, 3])\n",
        "plt.ylim([-3, 3])"
      ],
      "execution_count": 0,
      "outputs": []
    },
    {
      "cell_type": "markdown",
      "metadata": {
        "id": "Pt_OVTEJh-G0",
        "colab_type": "text"
      },
      "source": [
        "## Let's get the projection\n",
        ">$\\hat{B} = \\frac{\\vec{B}}{ ||\\vec{B}||}$\n",
        "\n",
        ">$\\vec{B} \\cdot \\vec{B} = B_1^2 + B_2^2 = ||\\vec{B}||^2$\n",
        "\n",
        "\n",
        ">$ProjA_B = \\frac{\\vec{A} \\cdot \\vec{B}}{||\\vec{B}||} \\hat{B} \n",
        "= \\frac{\\vec{A} \\cdot \\vec{B}}{||\\vec{B}||} \\frac{\\vec{B}}{ ||\\vec{B}||} \n",
        "=  \\frac{\\vec{A} \\cdot \\vec{B}}{||\\vec{B}||^2} \\vec{B}\n",
        "= \\frac{\\vec{A} \\cdot \\vec{B}}{\\vec{B} \\cdot \\vec{B}} \\vec{B} $"
      ]
    },
    {
      "cell_type": "code",
      "metadata": {
        "id": "eDk7CKMAEXNg",
        "colab_type": "code",
        "colab": {}
      },
      "source": [
        "A = np.array([1, 1])\n",
        "B = np.array([2, 1])\n",
        "\n",
        "C = np.dot(A, B)\n",
        "\n",
        "proj = C*B/np.dot(B, B)\n",
        "C"
      ],
      "execution_count": 0,
      "outputs": []
    },
    {
      "cell_type": "code",
      "metadata": {
        "id": "nB1364LIGoad",
        "colab_type": "code",
        "colab": {}
      },
      "source": [
        "plt.figure(4, figsize= (8, 8))\n",
        "plt.arrow(0, 0 , A[0], A[1], head_width=0.2, head_length=0.1, color= 'blue')\n",
        "\n",
        "plt.arrow(0, 0 , B[0], B[1], head_width=0.2, head_length=0.1, color= 'red')\n",
        "\n",
        "plt.arrow(0, 0 , proj[0], proj[1], head_width=0.2, head_length=0.1, color= 'green')\n",
        "\n",
        "\n",
        "plt.xlim([-3, 3])\n",
        "plt.ylim([-3, 3])"
      ],
      "execution_count": 0,
      "outputs": []
    },
    {
      "cell_type": "markdown",
      "metadata": {
        "id": "leiWc5mu7Aod",
        "colab_type": "text"
      },
      "source": [
        "# Dealing with shapes\n"
      ]
    },
    {
      "cell_type": "code",
      "metadata": {
        "id": "xCRS5XmglYvf",
        "colab_type": "code",
        "colab": {}
      },
      "source": [
        "A = np.array([1, 1])[:, None]\n",
        "B = np.array([2, 1])[:, None]"
      ],
      "execution_count": 0,
      "outputs": []
    },
    {
      "cell_type": "code",
      "metadata": {
        "id": "rO5xglqdlSHT",
        "colab_type": "code",
        "colab": {}
      },
      "source": [
        "A.shape"
      ],
      "execution_count": 0,
      "outputs": []
    },
    {
      "cell_type": "code",
      "metadata": {
        "id": "pEaHDl7D8AON",
        "colab_type": "code",
        "colab": {}
      },
      "source": [
        "A"
      ],
      "execution_count": 0,
      "outputs": []
    },
    {
      "cell_type": "code",
      "metadata": {
        "id": "IJd2m1nD8By3",
        "colab_type": "code",
        "colab": {}
      },
      "source": [
        "A.T"
      ],
      "execution_count": 0,
      "outputs": []
    },
    {
      "cell_type": "markdown",
      "metadata": {
        "id": "S346PagO7rcS",
        "colab_type": "text"
      },
      "source": [
        "## When your array has 2D shape, the dot product is expressed this way\n",
        ">$ \\vec{A} \\cdot \\vec{B} = A^TB$"
      ]
    },
    {
      "cell_type": "code",
      "metadata": {
        "id": "rRDZFjtI7U0t",
        "colab_type": "code",
        "colab": {}
      },
      "source": [
        "np.dot(A.T, B)"
      ],
      "execution_count": 0,
      "outputs": []
    },
    {
      "cell_type": "code",
      "metadata": {
        "id": "Mt1klq4o7gZe",
        "colab_type": "code",
        "colab": {}
      },
      "source": [
        "X = np.array( [[1, 1], [0, 2]])"
      ],
      "execution_count": 0,
      "outputs": []
    },
    {
      "cell_type": "code",
      "metadata": {
        "id": "pkzrO1Hi9t-U",
        "colab_type": "code",
        "colab": {}
      },
      "source": [
        "W = np.array([1, 1])[:,None]"
      ],
      "execution_count": 0,
      "outputs": []
    },
    {
      "cell_type": "code",
      "metadata": {
        "id": "N0VLV2WL8uDB",
        "colab_type": "code",
        "colab": {}
      },
      "source": [
        "np.dot(X, W)"
      ],
      "execution_count": 0,
      "outputs": []
    },
    {
      "cell_type": "code",
      "metadata": {
        "id": "I-7GBktf9oL2",
        "colab_type": "code",
        "colab": {}
      },
      "source": [
        "W = np.array([[1, 1], [1, 0]])"
      ],
      "execution_count": 0,
      "outputs": []
    },
    {
      "cell_type": "code",
      "metadata": {
        "id": "7ybYsnFc9-Fd",
        "colab_type": "code",
        "colab": {}
      },
      "source": [
        "np.dot(X, W)"
      ],
      "execution_count": 0,
      "outputs": []
    },
    {
      "cell_type": "code",
      "metadata": {
        "id": "WRi4K57X_MU4",
        "colab_type": "code",
        "colab": {}
      },
      "source": [
        "from sklearn.datasets import make_blobs\n",
        "n_samples = 1500\n",
        "random_state = 170\n",
        "X, y = make_blobs(n_samples=n_samples, random_state=random_state, centers = np.array([[-3, -3], [1, 1]]))"
      ],
      "execution_count": 0,
      "outputs": []
    },
    {
      "cell_type": "code",
      "metadata": {
        "id": "zg6uyb2R_2Wm",
        "colab_type": "code",
        "colab": {}
      },
      "source": [
        "plt.figure(5, figsize = (8, 8))\n",
        "\n",
        "plt.scatter(X[:, 0], X[:, 1], c = y)"
      ],
      "execution_count": 0,
      "outputs": []
    },
    {
      "cell_type": "code",
      "metadata": {
        "id": "ndBYu0GpAowy",
        "colab_type": "code",
        "colab": {}
      },
      "source": [
        "W = np.array([1, 1])"
      ],
      "execution_count": 0,
      "outputs": []
    },
    {
      "cell_type": "code",
      "metadata": {
        "id": "2zPGBY96A2_N",
        "colab_type": "code",
        "colab": {}
      },
      "source": [
        "P = np.dot(X, W) +2"
      ],
      "execution_count": 0,
      "outputs": []
    },
    {
      "cell_type": "code",
      "metadata": {
        "id": "0Lc49egIA_ZW",
        "colab_type": "code",
        "colab": {}
      },
      "source": [
        "plt.figure(6, figsize = (8, 8))\n",
        "\n",
        "plt.scatter(X[:, 0], X[:, 1], c = P, cmap= 'bwr', vmin = -1, vmax = 1)\n",
        "plt.colorbar();"
      ],
      "execution_count": 0,
      "outputs": []
    },
    {
      "cell_type": "code",
      "metadata": {
        "id": "_QHUhnWglIMG",
        "colab_type": "code",
        "colab": {}
      },
      "source": [
        ""
      ],
      "execution_count": 0,
      "outputs": []
    },
    {
      "cell_type": "code",
      "metadata": {
        "id": "_G4KbdrxlLyr",
        "colab_type": "code",
        "colab": {}
      },
      "source": [
        "#"
      ],
      "execution_count": 0,
      "outputs": []
    },
    {
      "cell_type": "markdown",
      "metadata": {
        "id": "9hIcckPilNC7",
        "colab_type": "text"
      },
      "source": [
        "## Derivatives"
      ]
    },
    {
      "cell_type": "code",
      "metadata": {
        "id": "vakIS3gdEkOo",
        "colab_type": "code",
        "colab": {}
      },
      "source": [
        "def model(w):\n",
        "  return w**2 - w + 1"
      ],
      "execution_count": 0,
      "outputs": []
    },
    {
      "cell_type": "code",
      "metadata": {
        "id": "rGkm1nTMlWEk",
        "colab_type": "code",
        "colab": {}
      },
      "source": [
        "def derivative(w):\n",
        "  return 2*w -1"
      ],
      "execution_count": 0,
      "outputs": []
    },
    {
      "cell_type": "code",
      "metadata": {
        "id": "wgSmUPuJjvJp",
        "colab_type": "code",
        "colab": {}
      },
      "source": [
        "w = np.linspace(-5, 5, 100)\n",
        "h = model(w)\n",
        "h_d = derivative(w)"
      ],
      "execution_count": 0,
      "outputs": []
    },
    {
      "cell_type": "code",
      "metadata": {
        "id": "EI5fTeONjznA",
        "colab_type": "code",
        "colab": {}
      },
      "source": [
        "plt.figure(6, figsize = (8, 8))\n",
        "\n",
        "plt.plot(w, h)\n",
        "plt.plot(w, h_d)\n",
        "plt.axvline(0)\n",
        "plt.axhline(0)\n",
        "\n",
        "plt.ylim([-3, 8])\n",
        "plt.xlim([-3, 6])"
      ],
      "execution_count": 0,
      "outputs": []
    },
    {
      "cell_type": "markdown",
      "metadata": {
        "id": "tjkVOyQH-bWl",
        "colab_type": "text"
      },
      "source": [
        "## Using derivatives to reach the minimum\n",
        ">$ w := w - \\alpha\\frac{df}{dw}$"
      ]
    },
    {
      "cell_type": "code",
      "metadata": {
        "id": "AYGLFQyVj_bi",
        "colab_type": "code",
        "colab": {}
      },
      "source": [
        "from IPython import display\n",
        "\n",
        "o = -2\n",
        "for i in range(20):\n",
        "\n",
        "  o = o - 0.1*derivative(o)\n",
        "  plt.figure(7, figsize = (8, 8))\n",
        "  plt.plot(w, h)\n",
        "  plt.axvline(0)\n",
        "  plt.axhline(0)\n",
        "  plt.gca().add_artist(plt.Circle((o, model(o)), 0.1, color='r'))\n",
        "  plt.ylim([-3, 8])\n",
        "  plt.xlim([-3, 6])\n",
        "\n",
        "  plt.pause(0.5)\n",
        "  display.clear_output(wait=True)\n"
      ],
      "execution_count": 0,
      "outputs": []
    },
    {
      "cell_type": "code",
      "metadata": {
        "id": "WI3bX5YlrInc",
        "colab_type": "code",
        "colab": {}
      },
      "source": [
        "x = np.linspace(-10, 10, 101)\n",
        "y=  np.linspace(-10, 10, 101)\n",
        "X, Y = np.meshgrid(x, y)"
      ],
      "execution_count": 0,
      "outputs": []
    },
    {
      "cell_type": "code",
      "metadata": {
        "id": "-IkqCvsmp7-p",
        "colab_type": "code",
        "colab": {}
      },
      "source": [
        "def model(X, Y):\n",
        "  Z = X**2 + Y**2 - X + 2*Y + 2 + X*Y\n",
        "  return Z"
      ],
      "execution_count": 0,
      "outputs": []
    },
    {
      "cell_type": "code",
      "metadata": {
        "id": "dplWmFPOu8XX",
        "colab_type": "code",
        "colab": {}
      },
      "source": [
        "plt.figure(8, figsize = (8, 8))\n",
        "plt.contourf(X, Y, model(X, Y))\n",
        "plt.colorbar();"
      ],
      "execution_count": 0,
      "outputs": []
    },
    {
      "cell_type": "markdown",
      "metadata": {
        "id": "FOaIqGgv_ERi",
        "colab_type": "text"
      },
      "source": [
        "## Gradient Descent\n",
        ">$ w_1 := w_1 - \\alpha\\frac{\\partial f}{\\partial w_1}$\n",
        "\n",
        ">$ w_2 := w_2 - \\alpha\\frac{\\partial f}{\\partial w_2}$\n",
        "\n",
        ">$ \\vec{w} := \\vec{w} - \\alpha \\vec{\\nabla}_w f$"
      ]
    },
    {
      "cell_type": "code",
      "metadata": {
        "id": "FM5lPgZ2xZso",
        "colab_type": "code",
        "colab": {}
      },
      "source": [
        "o = np.array([-5, 7.5])"
      ],
      "execution_count": 0,
      "outputs": []
    },
    {
      "cell_type": "code",
      "metadata": {
        "id": "kIvI4OZqvd2O",
        "colab_type": "code",
        "colab": {}
      },
      "source": [
        "model(*o)"
      ],
      "execution_count": 0,
      "outputs": []
    },
    {
      "cell_type": "code",
      "metadata": {
        "id": "e3t-PwG2xXDO",
        "colab_type": "code",
        "colab": {}
      },
      "source": [
        "def gradient(X, Y):\n",
        "  Z = X**2 + Y**2 - X + 2*Y + 2 + X*Y\n",
        "  grad = [2*X - 1 + Y, 2*Y + 2 + X]\n",
        "  return np.array(grad)"
      ],
      "execution_count": 0,
      "outputs": []
    },
    {
      "cell_type": "code",
      "metadata": {
        "id": "1DoN8wUsx4Yd",
        "colab_type": "code",
        "colab": {}
      },
      "source": [
        "-gradient(*o)"
      ],
      "execution_count": 0,
      "outputs": []
    },
    {
      "cell_type": "code",
      "metadata": {
        "id": "lbs-r6uJx7h8",
        "colab_type": "code",
        "colab": {}
      },
      "source": [
        "from IPython import display\n",
        "\n",
        "o = np.array([-5, 7.5])\n",
        "\n",
        "for i in range(15):\n",
        "\n",
        "  o = o - 0.3*gradient(*o)\n",
        "\n",
        "  plt.figure(9, figsize = (8, 8))\n",
        "  plt.contourf(X, Y, model(X, Y))\n",
        "  plt.gca().add_artist(plt.Circle((o[0], o[1]), 0.2, color='r'))\n",
        "\n",
        "  plt.arrow(o[0], o[1] , -0.3*gradient(*o)[0], -0.3*gradient(*o)[1], head_width=0.2, head_length=0.1, color= 'red')\n",
        "\n",
        "  plt.pause(0.3)\n",
        "  display.clear_output(wait=True)"
      ],
      "execution_count": 0,
      "outputs": []
    },
    {
      "cell_type": "code",
      "metadata": {
        "id": "5oISJUbTyZ3I",
        "colab_type": "code",
        "colab": {}
      },
      "source": [
        ""
      ],
      "execution_count": 0,
      "outputs": []
    }
  ]
}