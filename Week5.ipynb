{
  "nbformat": 4,
  "nbformat_minor": 0,
  "metadata": {
    "colab": {
      "name": "Week5",
      "provenance": [],
      "collapsed_sections": [],
      "authorship_tag": "ABX9TyNHQ0f0R2MBc3v4tXKH6Il8",
      "include_colab_link": true
    },
    "kernelspec": {
      "name": "python3",
      "display_name": "Python 3"
    }
  },
  "cells": [
    {
      "cell_type": "markdown",
      "metadata": {
        "id": "view-in-github",
        "colab_type": "text"
      },
      "source": [
        "<a href=\"https://colab.research.google.com/github/luisdiaz1997/DataScienceCourse/blob/master/Week5.ipynb\" target=\"_parent\"><img src=\"https://colab.research.google.com/assets/colab-badge.svg\" alt=\"Open In Colab\"/></a>"
      ]
    },
    {
      "cell_type": "code",
      "metadata": {
        "id": "UaMX4xp8EFgX",
        "colab_type": "code",
        "colab": {}
      },
      "source": [
        ""
      ],
      "execution_count": 0,
      "outputs": []
    },
    {
      "cell_type": "markdown",
      "metadata": {
        "id": "jRB3W6luTGO1",
        "colab_type": "text"
      },
      "source": [
        "# Unit Vectors\n",
        ">$\n",
        "\\hat{i} =\n",
        " \\begin{pmatrix}\n",
        "  1 \\\\\n",
        "  0\n",
        " \\end{pmatrix}\n",
        " $\n",
        " \n",
        ">$\n",
        "  \\hat{j} =\n",
        " \\begin{pmatrix}\n",
        "  0 \\\\\n",
        "  1\n",
        " \\end{pmatrix}\n",
        "  $\n",
        "\n",
        ">$\n",
        "  \\vec{A} = A_1 \\hat{i} + A_2 \\hat{j} = A_1 \n",
        " \\begin{pmatrix}\n",
        "  1 \\\\\n",
        "  0\n",
        " \\end{pmatrix}\n",
        " +\n",
        " A_2\n",
        " \\begin{pmatrix}\n",
        "  0 \\\\\n",
        "  1\n",
        " \\end{pmatrix}\n",
        " = \\begin{pmatrix}\n",
        "  A_1 \\\\\n",
        "  0\n",
        " \\end{pmatrix}\n",
        " +\n",
        " \\begin{pmatrix}\n",
        "  0 \\\\\n",
        "  A_2\n",
        " \\end{pmatrix}\n",
        "= \n",
        "  \\begin{pmatrix}\n",
        "  A_1 \\\\\n",
        "  A_2\n",
        " \\end{pmatrix}\n",
        "  $"
      ]
    },
    {
      "cell_type": "code",
      "metadata": {
        "id": "V_Ley6q0EJlS",
        "colab_type": "code",
        "colab": {}
      },
      "source": [
        ""
      ],
      "execution_count": 0,
      "outputs": []
    },
    {
      "cell_type": "code",
      "metadata": {
        "id": "Ev9P_3B0EL8u",
        "colab_type": "code",
        "colab": {}
      },
      "source": [
        ""
      ],
      "execution_count": 0,
      "outputs": []
    },
    {
      "cell_type": "code",
      "metadata": {
        "id": "z0FMqWIWE81N",
        "colab_type": "code",
        "colab": {}
      },
      "source": [
        ""
      ],
      "execution_count": 0,
      "outputs": []
    },
    {
      "cell_type": "code",
      "metadata": {
        "id": "HjpcF06yEPaw",
        "colab_type": "code",
        "colab": {}
      },
      "source": [
        ""
      ],
      "execution_count": 0,
      "outputs": []
    },
    {
      "cell_type": "markdown",
      "metadata": {
        "id": "M_B0wOdRY9GS",
        "colab_type": "text"
      },
      "source": [
        "# Vector Addition\n",
        ">$\n",
        "  \\vec{A} = A_1 \\hat{i} + A_2 \\hat{j}\n",
        "= \n",
        "  \\begin{pmatrix}\n",
        "  A_1 \\\\\n",
        "  A_2\n",
        " \\end{pmatrix}\n",
        "  $\n",
        "\n",
        ">$\n",
        "  \\vec{B} = B_1 \\hat{i} + B_2 \\hat{j}\n",
        "= \n",
        "  \\begin{pmatrix}\n",
        "  B_1 \\\\\n",
        "  B_2\n",
        " \\end{pmatrix}\n",
        "  $\n",
        "\n",
        ">$\n",
        "  \\vec{A} + \\vec{B} = (A_1 + B_1) \\hat{i} + (A_2 + B_2) \\hat{j}\n",
        "= \n",
        "  \\begin{pmatrix}\n",
        "  A_1 + B_1 \\\\\n",
        "  A_2 + B_2\n",
        " \\end{pmatrix}\n",
        "  $\n",
        "\n",
        "\n"
      ]
    },
    {
      "cell_type": "code",
      "metadata": {
        "id": "ZUXTmHg9Y30Y",
        "colab_type": "code",
        "colab": {}
      },
      "source": [
        ""
      ],
      "execution_count": 0,
      "outputs": []
    },
    {
      "cell_type": "code",
      "metadata": {
        "id": "j69haDtWZ582",
        "colab_type": "code",
        "colab": {}
      },
      "source": [
        ""
      ],
      "execution_count": 0,
      "outputs": []
    },
    {
      "cell_type": "code",
      "metadata": {
        "id": "RxJporIQZqoo",
        "colab_type": "code",
        "colab": {}
      },
      "source": [
        ""
      ],
      "execution_count": 0,
      "outputs": []
    },
    {
      "cell_type": "markdown",
      "metadata": {
        "id": "9PhAQSn6RJNM",
        "colab_type": "text"
      },
      "source": [
        "# Dot Product"
      ]
    },
    {
      "cell_type": "markdown",
      "metadata": {
        "id": "EATRxEoZakNr",
        "colab_type": "text"
      },
      "source": [
        ">$\\hat{i} \\cdot \\hat{i} = 1$\n",
        "\n",
        ">$\\hat{j} \\cdot \\hat{j} = 1$\n",
        "\n",
        ">$\\hat{i} \\cdot \\hat{j} = 0$"
      ]
    },
    {
      "cell_type": "code",
      "metadata": {
        "id": "erd5yy6Tavl4",
        "colab_type": "code",
        "colab": {}
      },
      "source": [
        ""
      ],
      "execution_count": 0,
      "outputs": []
    },
    {
      "cell_type": "markdown",
      "metadata": {
        "id": "ZfumigqZRqAK",
        "colab_type": "text"
      },
      "source": [
        "## Vector dot product\n",
        ">$\\vec{A} \\cdot \\vec{B} = (A_1 \\hat{i} + A_2\\hat{j}) \\cdot (B_1\\hat{i} + B_2\\hat{j})$\n",
        "\n",
        ">$ = A_1 \\hat{i} \\cdot B_1 \\hat{i} + A_1 \\hat{i} \\cdot B_2 \\hat{j} \n",
        "+ A_2 \\hat{j} \\cdot B_1 \\hat{i} + A_2 \\hat{j} \\cdot B_2 \\hat{j}$\n",
        "\n",
        ">$ = A_1  B_1 \\hat{i} \\cdot\\hat{i} + A_1  B_2 \\hat{i} \\cdot \\hat{j} \n",
        "+ A_2 B_1 \\hat{j} \\cdot \\hat{i} + A_2  B_2 \\hat{j} \\cdot \\hat{j}$\n",
        "\n",
        ">$ = A_1  B_1 (1) + A_1  B_2 (0) \n",
        "+ A_2 B_1 (0) + A_2  B_2 (1)$\n",
        "\n",
        "\n",
        ">$ = A_1B_1 + A_2B_2$"
      ]
    },
    {
      "cell_type": "markdown",
      "metadata": {
        "id": "NHbFGU2MeSLS",
        "colab_type": "text"
      },
      "source": [
        "## Or simply\n",
        ">$\\vec{A} \\cdot \\vec{B} = \\sum_{i=1}^n A_iB_i$"
      ]
    },
    {
      "cell_type": "code",
      "metadata": {
        "id": "-1HVTZo8lDqE",
        "colab_type": "code",
        "colab": {}
      },
      "source": [
        ""
      ],
      "execution_count": 0,
      "outputs": []
    },
    {
      "cell_type": "code",
      "metadata": {
        "id": "X9cyRS0wQ1ux",
        "colab_type": "code",
        "colab": {}
      },
      "source": [
        ""
      ],
      "execution_count": 0,
      "outputs": []
    },
    {
      "cell_type": "code",
      "metadata": {
        "id": "kJv3a8HoQ-dB",
        "colab_type": "code",
        "colab": {}
      },
      "source": [
        ""
      ],
      "execution_count": 0,
      "outputs": []
    },
    {
      "cell_type": "markdown",
      "metadata": {
        "id": "Pt_OVTEJh-G0",
        "colab_type": "text"
      },
      "source": [
        "## Let's get the projection\n",
        ">$\\hat{B} = \\frac{\\vec{B}}{ ||\\vec{B}||}$\n",
        "\n",
        ">$\\vec{B} \\cdot \\vec{B} = B_1^2 + B_2^2 = ||\\vec{B}||^2$\n",
        "\n",
        "\n",
        ">$ProjA_B = \\frac{\\vec{A} \\cdot \\vec{B}}{||\\vec{B}||} \\hat{B} \n",
        "= \\frac{\\vec{A} \\cdot \\vec{B}}{||\\vec{B}||} \\frac{\\vec{B}}{ ||\\vec{B}||} \n",
        "=  \\frac{\\vec{A} \\cdot \\vec{B}}{||\\vec{B}||^2} \\vec{B}\n",
        "= \\frac{\\vec{A} \\cdot \\vec{B}}{\\vec{B} \\cdot \\vec{B}} \\vec{B} $"
      ]
    },
    {
      "cell_type": "code",
      "metadata": {
        "id": "eDk7CKMAEXNg",
        "colab_type": "code",
        "colab": {}
      },
      "source": [
        ""
      ],
      "execution_count": 0,
      "outputs": []
    },
    {
      "cell_type": "code",
      "metadata": {
        "id": "nB1364LIGoad",
        "colab_type": "code",
        "colab": {}
      },
      "source": [
        ""
      ],
      "execution_count": 0,
      "outputs": []
    },
    {
      "cell_type": "markdown",
      "metadata": {
        "id": "leiWc5mu7Aod",
        "colab_type": "text"
      },
      "source": [
        "# Dealing with shapes\n"
      ]
    },
    {
      "cell_type": "code",
      "metadata": {
        "id": "xCRS5XmglYvf",
        "colab_type": "code",
        "colab": {}
      },
      "source": [
        ""
      ],
      "execution_count": 0,
      "outputs": []
    },
    {
      "cell_type": "code",
      "metadata": {
        "id": "rO5xglqdlSHT",
        "colab_type": "code",
        "colab": {}
      },
      "source": [
        ""
      ],
      "execution_count": 0,
      "outputs": []
    },
    {
      "cell_type": "code",
      "metadata": {
        "id": "pEaHDl7D8AON",
        "colab_type": "code",
        "colab": {}
      },
      "source": [
        ""
      ],
      "execution_count": 0,
      "outputs": []
    },
    {
      "cell_type": "code",
      "metadata": {
        "id": "IJd2m1nD8By3",
        "colab_type": "code",
        "colab": {}
      },
      "source": [
        ""
      ],
      "execution_count": 0,
      "outputs": []
    },
    {
      "cell_type": "markdown",
      "metadata": {
        "id": "S346PagO7rcS",
        "colab_type": "text"
      },
      "source": [
        "## When your array has 2D shape, the dot product is expressed this way\n",
        ">$ \\vec{A} \\cdot \\vec{B} = A^TB$"
      ]
    },
    {
      "cell_type": "code",
      "metadata": {
        "id": "rRDZFjtI7U0t",
        "colab_type": "code",
        "colab": {}
      },
      "source": [
        ""
      ],
      "execution_count": 0,
      "outputs": []
    },
    {
      "cell_type": "code",
      "metadata": {
        "id": "Mt1klq4o7gZe",
        "colab_type": "code",
        "colab": {}
      },
      "source": [
        ""
      ],
      "execution_count": 0,
      "outputs": []
    },
    {
      "cell_type": "code",
      "metadata": {
        "id": "pkzrO1Hi9t-U",
        "colab_type": "code",
        "colab": {}
      },
      "source": [
        ""
      ],
      "execution_count": 0,
      "outputs": []
    },
    {
      "cell_type": "code",
      "metadata": {
        "id": "N0VLV2WL8uDB",
        "colab_type": "code",
        "colab": {}
      },
      "source": [
        ""
      ],
      "execution_count": 0,
      "outputs": []
    },
    {
      "cell_type": "code",
      "metadata": {
        "id": "I-7GBktf9oL2",
        "colab_type": "code",
        "colab": {}
      },
      "source": [
        ""
      ],
      "execution_count": 0,
      "outputs": []
    },
    {
      "cell_type": "code",
      "metadata": {
        "id": "7ybYsnFc9-Fd",
        "colab_type": "code",
        "colab": {}
      },
      "source": [
        ""
      ],
      "execution_count": 0,
      "outputs": []
    },
    {
      "cell_type": "code",
      "metadata": {
        "id": "WRi4K57X_MU4",
        "colab_type": "code",
        "colab": {}
      },
      "source": [
        "from sklearn.datasets import make_blobs\n",
        "n_samples = 1500\n",
        "random_state = 170\n",
        "X, y = make_blobs(n_samples=n_samples, random_state=random_state, centers = np.array([[-3, -3], [1, 1]]))"
      ],
      "execution_count": 0,
      "outputs": []
    },
    {
      "cell_type": "code",
      "metadata": {
        "id": "zg6uyb2R_2Wm",
        "colab_type": "code",
        "colab": {}
      },
      "source": [
        ""
      ],
      "execution_count": 0,
      "outputs": []
    },
    {
      "cell_type": "code",
      "metadata": {
        "id": "ndBYu0GpAowy",
        "colab_type": "code",
        "colab": {}
      },
      "source": [
        ""
      ],
      "execution_count": 0,
      "outputs": []
    },
    {
      "cell_type": "code",
      "metadata": {
        "id": "2zPGBY96A2_N",
        "colab_type": "code",
        "colab": {}
      },
      "source": [
        ""
      ],
      "execution_count": 0,
      "outputs": []
    },
    {
      "cell_type": "code",
      "metadata": {
        "id": "0Lc49egIA_ZW",
        "colab_type": "code",
        "colab": {}
      },
      "source": [
        ""
      ],
      "execution_count": 0,
      "outputs": []
    },
    {
      "cell_type": "code",
      "metadata": {
        "id": "_QHUhnWglIMG",
        "colab_type": "code",
        "colab": {}
      },
      "source": [
        ""
      ],
      "execution_count": 0,
      "outputs": []
    },
    {
      "cell_type": "code",
      "metadata": {
        "id": "_G4KbdrxlLyr",
        "colab_type": "code",
        "colab": {}
      },
      "source": [
        ""
      ],
      "execution_count": 0,
      "outputs": []
    },
    {
      "cell_type": "markdown",
      "metadata": {
        "id": "9hIcckPilNC7",
        "colab_type": "text"
      },
      "source": [
        "## Derivatives"
      ]
    },
    {
      "cell_type": "code",
      "metadata": {
        "id": "vakIS3gdEkOo",
        "colab_type": "code",
        "colab": {}
      },
      "source": [
        ""
      ],
      "execution_count": 0,
      "outputs": []
    },
    {
      "cell_type": "code",
      "metadata": {
        "id": "rGkm1nTMlWEk",
        "colab_type": "code",
        "colab": {}
      },
      "source": [
        ""
      ],
      "execution_count": 0,
      "outputs": []
    },
    {
      "cell_type": "code",
      "metadata": {
        "id": "wgSmUPuJjvJp",
        "colab_type": "code",
        "colab": {}
      },
      "source": [
        ""
      ],
      "execution_count": 0,
      "outputs": []
    },
    {
      "cell_type": "code",
      "metadata": {
        "id": "EI5fTeONjznA",
        "colab_type": "code",
        "colab": {}
      },
      "source": [
        ""
      ],
      "execution_count": 0,
      "outputs": []
    },
    {
      "cell_type": "markdown",
      "metadata": {
        "id": "tjkVOyQH-bWl",
        "colab_type": "text"
      },
      "source": [
        "## Using derivatives to reach the minimum\n",
        ">$ w := w - \\alpha\\frac{df}{dw}$"
      ]
    },
    {
      "cell_type": "code",
      "metadata": {
        "id": "AYGLFQyVj_bi",
        "colab_type": "code",
        "colab": {}
      },
      "source": [
        ""
      ],
      "execution_count": 0,
      "outputs": []
    },
    {
      "cell_type": "code",
      "metadata": {
        "id": "WI3bX5YlrInc",
        "colab_type": "code",
        "colab": {}
      },
      "source": [
        ""
      ],
      "execution_count": 0,
      "outputs": []
    },
    {
      "cell_type": "code",
      "metadata": {
        "id": "-IkqCvsmp7-p",
        "colab_type": "code",
        "colab": {}
      },
      "source": [
        ""
      ],
      "execution_count": 0,
      "outputs": []
    },
    {
      "cell_type": "code",
      "metadata": {
        "id": "dplWmFPOu8XX",
        "colab_type": "code",
        "colab": {}
      },
      "source": [
        ""
      ],
      "execution_count": 0,
      "outputs": []
    },
    {
      "cell_type": "markdown",
      "metadata": {
        "id": "FOaIqGgv_ERi",
        "colab_type": "text"
      },
      "source": [
        "## Gradient Descent\n",
        ">$ w_1 := w_1 - \\alpha\\frac{\\partial f}{\\partial w_1}$\n",
        "\n",
        ">$ w_2 := w_2 - \\alpha\\frac{\\partial f}{\\partial w_2}$\n",
        "\n",
        ">$ \\vec{w} := \\vec{w} - \\alpha \\vec{\\nabla}_w f$"
      ]
    },
    {
      "cell_type": "code",
      "metadata": {
        "id": "FM5lPgZ2xZso",
        "colab_type": "code",
        "colab": {}
      },
      "source": [
        ""
      ],
      "execution_count": 0,
      "outputs": []
    },
    {
      "cell_type": "code",
      "metadata": {
        "id": "kIvI4OZqvd2O",
        "colab_type": "code",
        "colab": {}
      },
      "source": [
        ""
      ],
      "execution_count": 0,
      "outputs": []
    },
    {
      "cell_type": "code",
      "metadata": {
        "id": "e3t-PwG2xXDO",
        "colab_type": "code",
        "colab": {}
      },
      "source": [
        ""
      ],
      "execution_count": 0,
      "outputs": []
    },
    {
      "cell_type": "code",
      "metadata": {
        "id": "1DoN8wUsx4Yd",
        "colab_type": "code",
        "colab": {}
      },
      "source": [
        ""
      ],
      "execution_count": 0,
      "outputs": []
    },
    {
      "cell_type": "code",
      "metadata": {
        "id": "lbs-r6uJx7h8",
        "colab_type": "code",
        "colab": {}
      },
      "source": [
        ""
      ],
      "execution_count": 0,
      "outputs": []
    },
    {
      "cell_type": "code",
      "metadata": {
        "id": "5oISJUbTyZ3I",
        "colab_type": "code",
        "colab": {}
      },
      "source": [
        ""
      ],
      "execution_count": 0,
      "outputs": []
    }
  ]
}