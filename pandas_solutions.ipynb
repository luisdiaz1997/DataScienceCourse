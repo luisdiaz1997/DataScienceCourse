{
  "nbformat": 4,
  "nbformat_minor": 0,
  "metadata": {
    "colab": {
      "name": "pandas_solutions.ipynb",
      "provenance": [],
      "collapsed_sections": [],
      "include_colab_link": true
    },
    "kernelspec": {
      "name": "python3",
      "display_name": "Python 3"
    }
  },
  "cells": [
    {
      "cell_type": "markdown",
      "metadata": {
        "id": "view-in-github",
        "colab_type": "text"
      },
      "source": [
        "<a href=\"https://colab.research.google.com/github/luisdiaz1997/DataScienceCourse/blob/master/pandas_solutions.ipynb\" target=\"_parent\"><img src=\"https://colab.research.google.com/assets/colab-badge.svg\" alt=\"Open In Colab\"/></a>"
      ]
    },
    {
      "cell_type": "markdown",
      "metadata": {
        "id": "8ZG3RSMEG_QU",
        "colab_type": "text"
      },
      "source": [
        "# PACKAGES \n",
        "\n",
        "There are tools you can download into your code to implement. Think of these like your toolbox, to create plots, analyze data, and "
      ]
    },
    {
      "cell_type": "code",
      "metadata": {
        "id": "RAKk3_pBjh4E",
        "colab_type": "code",
        "colab": {}
      },
      "source": [
        "import pandas as pd"
      ],
      "execution_count": 0,
      "outputs": []
    },
    {
      "cell_type": "markdown",
      "metadata": {
        "id": "HRi-8zH1HC2M",
        "colab_type": "text"
      },
      "source": [
        "# IMPORT DATA\n",
        "\n",
        "Pd. - pandas : used for data manipulation and analysis \n",
        "\n",
        "pd.read_csv({dataframe}) \n",
        "\n",
        "variables : a way to name your values to refer to them "
      ]
    },
    {
      "cell_type": "code",
      "metadata": {
        "id": "-dTA8yZkkPKd",
        "colab_type": "code",
        "colab": {}
      },
      "source": [
        "url_link = \"https://raw.githubusercontent.com/luisdiaz1997/Python-Lessons/master/IMDB-Movie-Data.csv\""
      ],
      "execution_count": 0,
      "outputs": []
    },
    {
      "cell_type": "code",
      "metadata": {
        "id": "winxLCpdU550",
        "colab_type": "code",
        "colab": {}
      },
      "source": [
        "df = pd.read_csv(url_link)"
      ],
      "execution_count": 0,
      "outputs": []
    },
    {
      "cell_type": "markdown",
      "metadata": {
        "id": "jseXO1XqZ42H",
        "colab_type": "text"
      },
      "source": [
        "# Google \n",
        "\n",
        "how can you view the first five lines of the dataframe?  "
      ]
    },
    {
      "cell_type": "code",
      "metadata": {
        "id": "LonoOeLIH_it",
        "colab_type": "code",
        "colab": {
          "base_uri": "https://localhost:8080/",
          "height": 204
        },
        "outputId": "9119476c-52ca-4de8-dbf6-128fabc73686"
      },
      "source": [
        "df.head(n = 5) # you can change the number of rows shown however the default is 5 "
      ],
      "execution_count": 4,
      "outputs": [
        {
          "output_type": "execute_result",
          "data": {
            "text/html": [
              "<div>\n",
              "<style scoped>\n",
              "    .dataframe tbody tr th:only-of-type {\n",
              "        vertical-align: middle;\n",
              "    }\n",
              "\n",
              "    .dataframe tbody tr th {\n",
              "        vertical-align: top;\n",
              "    }\n",
              "\n",
              "    .dataframe thead th {\n",
              "        text-align: right;\n",
              "    }\n",
              "</style>\n",
              "<table border=\"1\" class=\"dataframe\">\n",
              "  <thead>\n",
              "    <tr style=\"text-align: right;\">\n",
              "      <th></th>\n",
              "      <th>Rank</th>\n",
              "      <th>Title</th>\n",
              "      <th>Genre</th>\n",
              "      <th>Description</th>\n",
              "      <th>Director</th>\n",
              "      <th>Actors</th>\n",
              "      <th>Year</th>\n",
              "      <th>Runtime (Minutes)</th>\n",
              "      <th>Rating</th>\n",
              "      <th>Votes</th>\n",
              "      <th>Revenue (Millions)</th>\n",
              "      <th>Metascore</th>\n",
              "    </tr>\n",
              "  </thead>\n",
              "  <tbody>\n",
              "    <tr>\n",
              "      <th>0</th>\n",
              "      <td>1</td>\n",
              "      <td>Guardians of the Galaxy</td>\n",
              "      <td>Action,Adventure,Sci-Fi</td>\n",
              "      <td>A group of intergalactic criminals are forced ...</td>\n",
              "      <td>James Gunn</td>\n",
              "      <td>Chris Pratt, Vin Diesel, Bradley Cooper, Zoe S...</td>\n",
              "      <td>2014</td>\n",
              "      <td>121</td>\n",
              "      <td>8.1</td>\n",
              "      <td>757074</td>\n",
              "      <td>333.13</td>\n",
              "      <td>76.0</td>\n",
              "    </tr>\n",
              "    <tr>\n",
              "      <th>1</th>\n",
              "      <td>2</td>\n",
              "      <td>Prometheus</td>\n",
              "      <td>Adventure,Mystery,Sci-Fi</td>\n",
              "      <td>Following clues to the origin of mankind, a te...</td>\n",
              "      <td>Ridley Scott</td>\n",
              "      <td>Noomi Rapace, Logan Marshall-Green, Michael Fa...</td>\n",
              "      <td>2012</td>\n",
              "      <td>124</td>\n",
              "      <td>7.0</td>\n",
              "      <td>485820</td>\n",
              "      <td>126.46</td>\n",
              "      <td>65.0</td>\n",
              "    </tr>\n",
              "    <tr>\n",
              "      <th>2</th>\n",
              "      <td>3</td>\n",
              "      <td>Split</td>\n",
              "      <td>Horror,Thriller</td>\n",
              "      <td>Three girls are kidnapped by a man with a diag...</td>\n",
              "      <td>M. Night Shyamalan</td>\n",
              "      <td>James McAvoy, Anya Taylor-Joy, Haley Lu Richar...</td>\n",
              "      <td>2016</td>\n",
              "      <td>117</td>\n",
              "      <td>7.3</td>\n",
              "      <td>157606</td>\n",
              "      <td>138.12</td>\n",
              "      <td>62.0</td>\n",
              "    </tr>\n",
              "    <tr>\n",
              "      <th>3</th>\n",
              "      <td>4</td>\n",
              "      <td>Sing</td>\n",
              "      <td>Animation,Comedy,Family</td>\n",
              "      <td>In a city of humanoid animals, a hustling thea...</td>\n",
              "      <td>Christophe Lourdelet</td>\n",
              "      <td>Matthew McConaughey,Reese Witherspoon, Seth Ma...</td>\n",
              "      <td>2016</td>\n",
              "      <td>108</td>\n",
              "      <td>7.2</td>\n",
              "      <td>60545</td>\n",
              "      <td>270.32</td>\n",
              "      <td>59.0</td>\n",
              "    </tr>\n",
              "    <tr>\n",
              "      <th>4</th>\n",
              "      <td>5</td>\n",
              "      <td>Suicide Squad</td>\n",
              "      <td>Action,Adventure,Fantasy</td>\n",
              "      <td>A secret government agency recruits some of th...</td>\n",
              "      <td>David Ayer</td>\n",
              "      <td>Will Smith, Jared Leto, Margot Robbie, Viola D...</td>\n",
              "      <td>2016</td>\n",
              "      <td>123</td>\n",
              "      <td>6.2</td>\n",
              "      <td>393727</td>\n",
              "      <td>325.02</td>\n",
              "      <td>40.0</td>\n",
              "    </tr>\n",
              "  </tbody>\n",
              "</table>\n",
              "</div>"
            ],
            "text/plain": [
              "   Rank                    Title  ... Revenue (Millions) Metascore\n",
              "0     1  Guardians of the Galaxy  ...             333.13      76.0\n",
              "1     2               Prometheus  ...             126.46      65.0\n",
              "2     3                    Split  ...             138.12      62.0\n",
              "3     4                     Sing  ...             270.32      59.0\n",
              "4     5            Suicide Squad  ...             325.02      40.0\n",
              "\n",
              "[5 rows x 12 columns]"
            ]
          },
          "metadata": {
            "tags": []
          },
          "execution_count": 4
        }
      ]
    },
    {
      "cell_type": "markdown",
      "metadata": {
        "id": "5I1ACp7VXgCp",
        "colab_type": "text"
      },
      "source": [
        "## How we can access rows"
      ]
    },
    {
      "cell_type": "code",
      "metadata": {
        "id": "80tX4SoUH7DD",
        "colab_type": "code",
        "colab": {
          "base_uri": "https://localhost:8080/",
          "height": 238
        },
        "outputId": "94e02fec-659c-486d-8d27-f98c6b1cb0ed"
      },
      "source": [
        "df.iloc[0] # you can access the specific rows, on a 0-n scale, not 1-n "
      ],
      "execution_count": 5,
      "outputs": [
        {
          "output_type": "execute_result",
          "data": {
            "text/plain": [
              "Rank                                                                  1\n",
              "Title                                           Guardians of the Galaxy\n",
              "Genre                                           Action,Adventure,Sci-Fi\n",
              "Description           A group of intergalactic criminals are forced ...\n",
              "Director                                                     James Gunn\n",
              "Actors                Chris Pratt, Vin Diesel, Bradley Cooper, Zoe S...\n",
              "Year                                                               2014\n",
              "Runtime (Minutes)                                                   121\n",
              "Rating                                                              8.1\n",
              "Votes                                                            757074\n",
              "Revenue (Millions)                                               333.13\n",
              "Metascore                                                            76\n",
              "Name: 0, dtype: object"
            ]
          },
          "metadata": {
            "tags": []
          },
          "execution_count": 5
        }
      ]
    },
    {
      "cell_type": "markdown",
      "metadata": {
        "id": "3Q7xuTZ5m7N7",
        "colab_type": "text"
      },
      "source": [
        "## How we can access multiple rows?"
      ]
    },
    {
      "cell_type": "code",
      "metadata": {
        "id": "Twnz7qjuH7lA",
        "colab_type": "code",
        "colab": {
          "base_uri": "https://localhost:8080/",
          "height": 142
        },
        "outputId": "23843e1a-93b4-424f-8ed0-36cc853a89da"
      },
      "source": [
        "df.iloc[2:5] # you can access multiple rows through iloc as well, 2-5, but the 5 is not included because of the scale "
      ],
      "execution_count": 6,
      "outputs": [
        {
          "output_type": "execute_result",
          "data": {
            "text/html": [
              "<div>\n",
              "<style scoped>\n",
              "    .dataframe tbody tr th:only-of-type {\n",
              "        vertical-align: middle;\n",
              "    }\n",
              "\n",
              "    .dataframe tbody tr th {\n",
              "        vertical-align: top;\n",
              "    }\n",
              "\n",
              "    .dataframe thead th {\n",
              "        text-align: right;\n",
              "    }\n",
              "</style>\n",
              "<table border=\"1\" class=\"dataframe\">\n",
              "  <thead>\n",
              "    <tr style=\"text-align: right;\">\n",
              "      <th></th>\n",
              "      <th>Rank</th>\n",
              "      <th>Title</th>\n",
              "      <th>Genre</th>\n",
              "      <th>Description</th>\n",
              "      <th>Director</th>\n",
              "      <th>Actors</th>\n",
              "      <th>Year</th>\n",
              "      <th>Runtime (Minutes)</th>\n",
              "      <th>Rating</th>\n",
              "      <th>Votes</th>\n",
              "      <th>Revenue (Millions)</th>\n",
              "      <th>Metascore</th>\n",
              "    </tr>\n",
              "  </thead>\n",
              "  <tbody>\n",
              "    <tr>\n",
              "      <th>2</th>\n",
              "      <td>3</td>\n",
              "      <td>Split</td>\n",
              "      <td>Horror,Thriller</td>\n",
              "      <td>Three girls are kidnapped by a man with a diag...</td>\n",
              "      <td>M. Night Shyamalan</td>\n",
              "      <td>James McAvoy, Anya Taylor-Joy, Haley Lu Richar...</td>\n",
              "      <td>2016</td>\n",
              "      <td>117</td>\n",
              "      <td>7.3</td>\n",
              "      <td>157606</td>\n",
              "      <td>138.12</td>\n",
              "      <td>62.0</td>\n",
              "    </tr>\n",
              "    <tr>\n",
              "      <th>3</th>\n",
              "      <td>4</td>\n",
              "      <td>Sing</td>\n",
              "      <td>Animation,Comedy,Family</td>\n",
              "      <td>In a city of humanoid animals, a hustling thea...</td>\n",
              "      <td>Christophe Lourdelet</td>\n",
              "      <td>Matthew McConaughey,Reese Witherspoon, Seth Ma...</td>\n",
              "      <td>2016</td>\n",
              "      <td>108</td>\n",
              "      <td>7.2</td>\n",
              "      <td>60545</td>\n",
              "      <td>270.32</td>\n",
              "      <td>59.0</td>\n",
              "    </tr>\n",
              "    <tr>\n",
              "      <th>4</th>\n",
              "      <td>5</td>\n",
              "      <td>Suicide Squad</td>\n",
              "      <td>Action,Adventure,Fantasy</td>\n",
              "      <td>A secret government agency recruits some of th...</td>\n",
              "      <td>David Ayer</td>\n",
              "      <td>Will Smith, Jared Leto, Margot Robbie, Viola D...</td>\n",
              "      <td>2016</td>\n",
              "      <td>123</td>\n",
              "      <td>6.2</td>\n",
              "      <td>393727</td>\n",
              "      <td>325.02</td>\n",
              "      <td>40.0</td>\n",
              "    </tr>\n",
              "  </tbody>\n",
              "</table>\n",
              "</div>"
            ],
            "text/plain": [
              "   Rank          Title  ... Revenue (Millions) Metascore\n",
              "2     3          Split  ...             138.12      62.0\n",
              "3     4           Sing  ...             270.32      59.0\n",
              "4     5  Suicide Squad  ...             325.02      40.0\n",
              "\n",
              "[3 rows x 12 columns]"
            ]
          },
          "metadata": {
            "tags": []
          },
          "execution_count": 6
        }
      ]
    },
    {
      "cell_type": "markdown",
      "metadata": {
        "id": "1CZUhL_CjT7l",
        "colab_type": "text"
      },
      "source": [
        "##Accessing Columns"
      ]
    },
    {
      "cell_type": "code",
      "metadata": {
        "id": "jHMPmhinH8K5",
        "colab_type": "code",
        "colab": {
          "base_uri": "https://localhost:8080/",
          "height": 221
        },
        "outputId": "939c677e-406b-4733-a346-ebb68d751af4"
      },
      "source": [
        "df['Title'] # two ways to access columns, one is by the name, and it has to be exactly how it is written in the data frame "
      ],
      "execution_count": 7,
      "outputs": [
        {
          "output_type": "execute_result",
          "data": {
            "text/plain": [
              "0      Guardians of the Galaxy\n",
              "1                   Prometheus\n",
              "2                        Split\n",
              "3                         Sing\n",
              "4                Suicide Squad\n",
              "                ...           \n",
              "995       Secret in Their Eyes\n",
              "996            Hostel: Part II\n",
              "997     Step Up 2: The Streets\n",
              "998               Search Party\n",
              "999                 Nine Lives\n",
              "Name: Title, Length: 1000, dtype: object"
            ]
          },
          "metadata": {
            "tags": []
          },
          "execution_count": 7
        }
      ]
    },
    {
      "cell_type": "code",
      "metadata": {
        "id": "68o4npM3sq0F",
        "colab_type": "code",
        "colab": {
          "base_uri": "https://localhost:8080/",
          "height": 419
        },
        "outputId": "5a70a0c5-5e88-4f2b-c654-6eb2f751a171"
      },
      "source": [
        "df.iloc[:, 2:5] # you can also access it this with the iloc format, [ row , column ]  \n",
        "# : all , 0:10 , :2  before 2: after # column same thing"
      ],
      "execution_count": 8,
      "outputs": [
        {
          "output_type": "execute_result",
          "data": {
            "text/html": [
              "<div>\n",
              "<style scoped>\n",
              "    .dataframe tbody tr th:only-of-type {\n",
              "        vertical-align: middle;\n",
              "    }\n",
              "\n",
              "    .dataframe tbody tr th {\n",
              "        vertical-align: top;\n",
              "    }\n",
              "\n",
              "    .dataframe thead th {\n",
              "        text-align: right;\n",
              "    }\n",
              "</style>\n",
              "<table border=\"1\" class=\"dataframe\">\n",
              "  <thead>\n",
              "    <tr style=\"text-align: right;\">\n",
              "      <th></th>\n",
              "      <th>Genre</th>\n",
              "      <th>Description</th>\n",
              "      <th>Director</th>\n",
              "    </tr>\n",
              "  </thead>\n",
              "  <tbody>\n",
              "    <tr>\n",
              "      <th>0</th>\n",
              "      <td>Action,Adventure,Sci-Fi</td>\n",
              "      <td>A group of intergalactic criminals are forced ...</td>\n",
              "      <td>James Gunn</td>\n",
              "    </tr>\n",
              "    <tr>\n",
              "      <th>1</th>\n",
              "      <td>Adventure,Mystery,Sci-Fi</td>\n",
              "      <td>Following clues to the origin of mankind, a te...</td>\n",
              "      <td>Ridley Scott</td>\n",
              "    </tr>\n",
              "    <tr>\n",
              "      <th>2</th>\n",
              "      <td>Horror,Thriller</td>\n",
              "      <td>Three girls are kidnapped by a man with a diag...</td>\n",
              "      <td>M. Night Shyamalan</td>\n",
              "    </tr>\n",
              "    <tr>\n",
              "      <th>3</th>\n",
              "      <td>Animation,Comedy,Family</td>\n",
              "      <td>In a city of humanoid animals, a hustling thea...</td>\n",
              "      <td>Christophe Lourdelet</td>\n",
              "    </tr>\n",
              "    <tr>\n",
              "      <th>4</th>\n",
              "      <td>Action,Adventure,Fantasy</td>\n",
              "      <td>A secret government agency recruits some of th...</td>\n",
              "      <td>David Ayer</td>\n",
              "    </tr>\n",
              "    <tr>\n",
              "      <th>...</th>\n",
              "      <td>...</td>\n",
              "      <td>...</td>\n",
              "      <td>...</td>\n",
              "    </tr>\n",
              "    <tr>\n",
              "      <th>995</th>\n",
              "      <td>Crime,Drama,Mystery</td>\n",
              "      <td>A tight-knit team of rising investigators, alo...</td>\n",
              "      <td>Billy Ray</td>\n",
              "    </tr>\n",
              "    <tr>\n",
              "      <th>996</th>\n",
              "      <td>Horror</td>\n",
              "      <td>Three American college students studying abroa...</td>\n",
              "      <td>Eli Roth</td>\n",
              "    </tr>\n",
              "    <tr>\n",
              "      <th>997</th>\n",
              "      <td>Drama,Music,Romance</td>\n",
              "      <td>Romantic sparks occur between two dance studen...</td>\n",
              "      <td>Jon M. Chu</td>\n",
              "    </tr>\n",
              "    <tr>\n",
              "      <th>998</th>\n",
              "      <td>Adventure,Comedy</td>\n",
              "      <td>A pair of friends embark on a mission to reuni...</td>\n",
              "      <td>Scot Armstrong</td>\n",
              "    </tr>\n",
              "    <tr>\n",
              "      <th>999</th>\n",
              "      <td>Comedy,Family,Fantasy</td>\n",
              "      <td>A stuffy businessman finds himself trapped ins...</td>\n",
              "      <td>Barry Sonnenfeld</td>\n",
              "    </tr>\n",
              "  </tbody>\n",
              "</table>\n",
              "<p>1000 rows × 3 columns</p>\n",
              "</div>"
            ],
            "text/plain": [
              "                        Genre  ...              Director\n",
              "0     Action,Adventure,Sci-Fi  ...            James Gunn\n",
              "1    Adventure,Mystery,Sci-Fi  ...          Ridley Scott\n",
              "2             Horror,Thriller  ...    M. Night Shyamalan\n",
              "3     Animation,Comedy,Family  ...  Christophe Lourdelet\n",
              "4    Action,Adventure,Fantasy  ...            David Ayer\n",
              "..                        ...  ...                   ...\n",
              "995       Crime,Drama,Mystery  ...             Billy Ray\n",
              "996                    Horror  ...              Eli Roth\n",
              "997       Drama,Music,Romance  ...            Jon M. Chu\n",
              "998          Adventure,Comedy  ...        Scot Armstrong\n",
              "999     Comedy,Family,Fantasy  ...      Barry Sonnenfeld\n",
              "\n",
              "[1000 rows x 3 columns]"
            ]
          },
          "metadata": {
            "tags": []
          },
          "execution_count": 8
        }
      ]
    },
    {
      "cell_type": "markdown",
      "metadata": {
        "id": "pceAut44C9UY",
        "colab_type": "text"
      },
      "source": [
        "## Get the movies released 2015"
      ]
    },
    {
      "cell_type": "code",
      "metadata": {
        "id": "vZTCXyCGQT3x",
        "colab_type": "code",
        "colab": {
          "base_uri": "https://localhost:8080/",
          "height": 221
        },
        "outputId": "1e65aa82-81e9-481a-d2d5-5119b607e789"
      },
      "source": [
        "df['Year']==2015 # introduction to boolean "
      ],
      "execution_count": 9,
      "outputs": [
        {
          "output_type": "execute_result",
          "data": {
            "text/plain": [
              "0      False\n",
              "1      False\n",
              "2      False\n",
              "3      False\n",
              "4      False\n",
              "       ...  \n",
              "995     True\n",
              "996    False\n",
              "997    False\n",
              "998    False\n",
              "999    False\n",
              "Name: Year, Length: 1000, dtype: bool"
            ]
          },
          "metadata": {
            "tags": []
          },
          "execution_count": 9
        }
      ]
    },
    {
      "cell_type": "code",
      "metadata": {
        "id": "P9zRe81rVkkw",
        "colab_type": "code",
        "colab": {
          "base_uri": "https://localhost:8080/",
          "height": 306
        },
        "outputId": "04933809-2adb-41ae-90cf-9cd0e3dae996"
      },
      "source": [
        "mask = df['Year']==2015 #assign to a variable to use it  \n",
        "\n",
        "df[mask].head() # get the first 5 of the movies made in 2015 "
      ],
      "execution_count": 10,
      "outputs": [
        {
          "output_type": "execute_result",
          "data": {
            "text/html": [
              "<div>\n",
              "<style scoped>\n",
              "    .dataframe tbody tr th:only-of-type {\n",
              "        vertical-align: middle;\n",
              "    }\n",
              "\n",
              "    .dataframe tbody tr th {\n",
              "        vertical-align: top;\n",
              "    }\n",
              "\n",
              "    .dataframe thead th {\n",
              "        text-align: right;\n",
              "    }\n",
              "</style>\n",
              "<table border=\"1\" class=\"dataframe\">\n",
              "  <thead>\n",
              "    <tr style=\"text-align: right;\">\n",
              "      <th></th>\n",
              "      <th>Rank</th>\n",
              "      <th>Title</th>\n",
              "      <th>Genre</th>\n",
              "      <th>Description</th>\n",
              "      <th>Director</th>\n",
              "      <th>Actors</th>\n",
              "      <th>Year</th>\n",
              "      <th>Runtime (Minutes)</th>\n",
              "      <th>Rating</th>\n",
              "      <th>Votes</th>\n",
              "      <th>Revenue (Millions)</th>\n",
              "      <th>Metascore</th>\n",
              "    </tr>\n",
              "  </thead>\n",
              "  <tbody>\n",
              "    <tr>\n",
              "      <th>26</th>\n",
              "      <td>27</td>\n",
              "      <td>Bahubali: The Beginning</td>\n",
              "      <td>Action,Adventure,Drama</td>\n",
              "      <td>In ancient India, an adventurous and daring ma...</td>\n",
              "      <td>S.S. Rajamouli</td>\n",
              "      <td>Prabhas, Rana Daggubati, Anushka Shetty,Tamann...</td>\n",
              "      <td>2015</td>\n",
              "      <td>159</td>\n",
              "      <td>8.3</td>\n",
              "      <td>76193</td>\n",
              "      <td>6.50</td>\n",
              "      <td>NaN</td>\n",
              "    </tr>\n",
              "    <tr>\n",
              "      <th>50</th>\n",
              "      <td>51</td>\n",
              "      <td>Star Wars: Episode VII - The Force Awakens</td>\n",
              "      <td>Action,Adventure,Fantasy</td>\n",
              "      <td>Three decades after the defeat of the Galactic...</td>\n",
              "      <td>J.J. Abrams</td>\n",
              "      <td>Daisy Ridley, John Boyega, Oscar Isaac, Domhna...</td>\n",
              "      <td>2015</td>\n",
              "      <td>136</td>\n",
              "      <td>8.1</td>\n",
              "      <td>661608</td>\n",
              "      <td>936.63</td>\n",
              "      <td>81.0</td>\n",
              "    </tr>\n",
              "    <tr>\n",
              "      <th>63</th>\n",
              "      <td>64</td>\n",
              "      <td>Fifty Shades of Grey</td>\n",
              "      <td>Drama,Romance,Thriller</td>\n",
              "      <td>Literature student Anastasia Steele's life cha...</td>\n",
              "      <td>Sam Taylor-Johnson</td>\n",
              "      <td>Dakota Johnson, Jamie Dornan, Jennifer Ehle,El...</td>\n",
              "      <td>2015</td>\n",
              "      <td>125</td>\n",
              "      <td>4.1</td>\n",
              "      <td>244474</td>\n",
              "      <td>166.15</td>\n",
              "      <td>46.0</td>\n",
              "    </tr>\n",
              "    <tr>\n",
              "      <th>67</th>\n",
              "      <td>68</td>\n",
              "      <td>Mad Max: Fury Road</td>\n",
              "      <td>Action,Adventure,Sci-Fi</td>\n",
              "      <td>A woman rebels against a tyrannical ruler in p...</td>\n",
              "      <td>George Miller</td>\n",
              "      <td>Tom Hardy, Charlize Theron, Nicholas Hoult, Zo...</td>\n",
              "      <td>2015</td>\n",
              "      <td>120</td>\n",
              "      <td>8.1</td>\n",
              "      <td>632842</td>\n",
              "      <td>153.63</td>\n",
              "      <td>90.0</td>\n",
              "    </tr>\n",
              "    <tr>\n",
              "      <th>84</th>\n",
              "      <td>85</td>\n",
              "      <td>Furious Seven</td>\n",
              "      <td>Action,Crime,Thriller</td>\n",
              "      <td>Deckard Shaw seeks revenge against Dominic Tor...</td>\n",
              "      <td>James Wan</td>\n",
              "      <td>Vin Diesel, Paul Walker, Dwayne Johnson, Jason...</td>\n",
              "      <td>2015</td>\n",
              "      <td>137</td>\n",
              "      <td>7.2</td>\n",
              "      <td>301249</td>\n",
              "      <td>350.03</td>\n",
              "      <td>67.0</td>\n",
              "    </tr>\n",
              "  </tbody>\n",
              "</table>\n",
              "</div>"
            ],
            "text/plain": [
              "    Rank  ... Metascore\n",
              "26    27  ...       NaN\n",
              "50    51  ...      81.0\n",
              "63    64  ...      46.0\n",
              "67    68  ...      90.0\n",
              "84    85  ...      67.0\n",
              "\n",
              "[5 rows x 12 columns]"
            ]
          },
          "metadata": {
            "tags": []
          },
          "execution_count": 10
        }
      ]
    },
    {
      "cell_type": "markdown",
      "metadata": {
        "id": "b4l7-tCtLOd9",
        "colab_type": "text"
      },
      "source": [
        "##Get the movies with a rating higher than 8"
      ]
    },
    {
      "cell_type": "code",
      "metadata": {
        "id": "Q1sl32MFjeHY",
        "colab_type": "code",
        "colab": {
          "base_uri": "https://localhost:8080/",
          "height": 204
        },
        "outputId": "66074899-b6bf-4cce-a3fd-69c208c60a18"
      },
      "source": [
        "df[df['Rating'] > 8].head() # if you dont want to make an entire variable like mask, and just want a one time use you can use soemthing like this"
      ],
      "execution_count": 11,
      "outputs": [
        {
          "output_type": "execute_result",
          "data": {
            "text/html": [
              "<div>\n",
              "<style scoped>\n",
              "    .dataframe tbody tr th:only-of-type {\n",
              "        vertical-align: middle;\n",
              "    }\n",
              "\n",
              "    .dataframe tbody tr th {\n",
              "        vertical-align: top;\n",
              "    }\n",
              "\n",
              "    .dataframe thead th {\n",
              "        text-align: right;\n",
              "    }\n",
              "</style>\n",
              "<table border=\"1\" class=\"dataframe\">\n",
              "  <thead>\n",
              "    <tr style=\"text-align: right;\">\n",
              "      <th></th>\n",
              "      <th>Rank</th>\n",
              "      <th>Title</th>\n",
              "      <th>Genre</th>\n",
              "      <th>Description</th>\n",
              "      <th>Director</th>\n",
              "      <th>Actors</th>\n",
              "      <th>Year</th>\n",
              "      <th>Runtime (Minutes)</th>\n",
              "      <th>Rating</th>\n",
              "      <th>Votes</th>\n",
              "      <th>Revenue (Millions)</th>\n",
              "      <th>Metascore</th>\n",
              "    </tr>\n",
              "  </thead>\n",
              "  <tbody>\n",
              "    <tr>\n",
              "      <th>0</th>\n",
              "      <td>1</td>\n",
              "      <td>Guardians of the Galaxy</td>\n",
              "      <td>Action,Adventure,Sci-Fi</td>\n",
              "      <td>A group of intergalactic criminals are forced ...</td>\n",
              "      <td>James Gunn</td>\n",
              "      <td>Chris Pratt, Vin Diesel, Bradley Cooper, Zoe S...</td>\n",
              "      <td>2014</td>\n",
              "      <td>121</td>\n",
              "      <td>8.1</td>\n",
              "      <td>757074</td>\n",
              "      <td>333.13</td>\n",
              "      <td>76.0</td>\n",
              "    </tr>\n",
              "    <tr>\n",
              "      <th>6</th>\n",
              "      <td>7</td>\n",
              "      <td>La La Land</td>\n",
              "      <td>Comedy,Drama,Music</td>\n",
              "      <td>A jazz pianist falls for an aspiring actress i...</td>\n",
              "      <td>Damien Chazelle</td>\n",
              "      <td>Ryan Gosling, Emma Stone, Rosemarie DeWitt, J....</td>\n",
              "      <td>2016</td>\n",
              "      <td>128</td>\n",
              "      <td>8.3</td>\n",
              "      <td>258682</td>\n",
              "      <td>151.06</td>\n",
              "      <td>93.0</td>\n",
              "    </tr>\n",
              "    <tr>\n",
              "      <th>16</th>\n",
              "      <td>17</td>\n",
              "      <td>Hacksaw Ridge</td>\n",
              "      <td>Biography,Drama,History</td>\n",
              "      <td>WWII American Army Medic Desmond T. Doss, who ...</td>\n",
              "      <td>Mel Gibson</td>\n",
              "      <td>Andrew Garfield, Sam Worthington, Luke Bracey,...</td>\n",
              "      <td>2016</td>\n",
              "      <td>139</td>\n",
              "      <td>8.2</td>\n",
              "      <td>211760</td>\n",
              "      <td>67.12</td>\n",
              "      <td>71.0</td>\n",
              "    </tr>\n",
              "    <tr>\n",
              "      <th>18</th>\n",
              "      <td>19</td>\n",
              "      <td>Lion</td>\n",
              "      <td>Biography,Drama</td>\n",
              "      <td>A five-year-old Indian boy gets lost on the st...</td>\n",
              "      <td>Garth Davis</td>\n",
              "      <td>Dev Patel, Nicole Kidman, Rooney Mara, Sunny P...</td>\n",
              "      <td>2016</td>\n",
              "      <td>118</td>\n",
              "      <td>8.1</td>\n",
              "      <td>102061</td>\n",
              "      <td>51.69</td>\n",
              "      <td>69.0</td>\n",
              "    </tr>\n",
              "    <tr>\n",
              "      <th>26</th>\n",
              "      <td>27</td>\n",
              "      <td>Bahubali: The Beginning</td>\n",
              "      <td>Action,Adventure,Drama</td>\n",
              "      <td>In ancient India, an adventurous and daring ma...</td>\n",
              "      <td>S.S. Rajamouli</td>\n",
              "      <td>Prabhas, Rana Daggubati, Anushka Shetty,Tamann...</td>\n",
              "      <td>2015</td>\n",
              "      <td>159</td>\n",
              "      <td>8.3</td>\n",
              "      <td>76193</td>\n",
              "      <td>6.50</td>\n",
              "      <td>NaN</td>\n",
              "    </tr>\n",
              "  </tbody>\n",
              "</table>\n",
              "</div>"
            ],
            "text/plain": [
              "    Rank                    Title  ... Revenue (Millions) Metascore\n",
              "0      1  Guardians of the Galaxy  ...             333.13      76.0\n",
              "6      7               La La Land  ...             151.06      93.0\n",
              "16    17            Hacksaw Ridge  ...              67.12      71.0\n",
              "18    19                     Lion  ...              51.69      69.0\n",
              "26    27  Bahubali: The Beginning  ...               6.50       NaN\n",
              "\n",
              "[5 rows x 12 columns]"
            ]
          },
          "metadata": {
            "tags": []
          },
          "execution_count": 11
        }
      ]
    },
    {
      "cell_type": "markdown",
      "metadata": {
        "id": "fH1akRxwJEzF",
        "colab_type": "text"
      },
      "source": [
        "## Get the movies with a rating higher than 7 and released 2014"
      ]
    },
    {
      "cell_type": "code",
      "metadata": {
        "id": "clprus-tJEAe",
        "colab_type": "code",
        "colab": {
          "base_uri": "https://localhost:8080/",
          "height": 272
        },
        "outputId": "ae3ad91d-a6d7-4394-deef-79c2cc0a9a75"
      },
      "source": [
        "df[(df['Rating'] > 7) & (df['Year'] == 2014)].head() # more boolean work "
      ],
      "execution_count": 12,
      "outputs": [
        {
          "output_type": "execute_result",
          "data": {
            "text/html": [
              "<div>\n",
              "<style scoped>\n",
              "    .dataframe tbody tr th:only-of-type {\n",
              "        vertical-align: middle;\n",
              "    }\n",
              "\n",
              "    .dataframe tbody tr th {\n",
              "        vertical-align: top;\n",
              "    }\n",
              "\n",
              "    .dataframe thead th {\n",
              "        text-align: right;\n",
              "    }\n",
              "</style>\n",
              "<table border=\"1\" class=\"dataframe\">\n",
              "  <thead>\n",
              "    <tr style=\"text-align: right;\">\n",
              "      <th></th>\n",
              "      <th>Rank</th>\n",
              "      <th>Title</th>\n",
              "      <th>Genre</th>\n",
              "      <th>Description</th>\n",
              "      <th>Director</th>\n",
              "      <th>Actors</th>\n",
              "      <th>Year</th>\n",
              "      <th>Runtime (Minutes)</th>\n",
              "      <th>Rating</th>\n",
              "      <th>Votes</th>\n",
              "      <th>Revenue (Millions)</th>\n",
              "      <th>Metascore</th>\n",
              "    </tr>\n",
              "  </thead>\n",
              "  <tbody>\n",
              "    <tr>\n",
              "      <th>0</th>\n",
              "      <td>1</td>\n",
              "      <td>Guardians of the Galaxy</td>\n",
              "      <td>Action,Adventure,Sci-Fi</td>\n",
              "      <td>A group of intergalactic criminals are forced ...</td>\n",
              "      <td>James Gunn</td>\n",
              "      <td>Chris Pratt, Vin Diesel, Bradley Cooper, Zoe S...</td>\n",
              "      <td>2014</td>\n",
              "      <td>121</td>\n",
              "      <td>8.1</td>\n",
              "      <td>757074</td>\n",
              "      <td>333.13</td>\n",
              "      <td>76.0</td>\n",
              "    </tr>\n",
              "    <tr>\n",
              "      <th>36</th>\n",
              "      <td>37</td>\n",
              "      <td>Interstellar</td>\n",
              "      <td>Adventure,Drama,Sci-Fi</td>\n",
              "      <td>A team of explorers travel through a wormhole ...</td>\n",
              "      <td>Christopher Nolan</td>\n",
              "      <td>Matthew McConaughey, Anne Hathaway, Jessica Ch...</td>\n",
              "      <td>2014</td>\n",
              "      <td>169</td>\n",
              "      <td>8.6</td>\n",
              "      <td>1047747</td>\n",
              "      <td>187.99</td>\n",
              "      <td>74.0</td>\n",
              "    </tr>\n",
              "    <tr>\n",
              "      <th>53</th>\n",
              "      <td>54</td>\n",
              "      <td>John Wick</td>\n",
              "      <td>Action,Crime,Thriller</td>\n",
              "      <td>An ex-hitman comes out of retirement to track ...</td>\n",
              "      <td>Chad Stahelski</td>\n",
              "      <td>Keanu Reeves, Michael Nyqvist, Alfie Allen, Wi...</td>\n",
              "      <td>2014</td>\n",
              "      <td>101</td>\n",
              "      <td>7.2</td>\n",
              "      <td>321933</td>\n",
              "      <td>43.00</td>\n",
              "      <td>68.0</td>\n",
              "    </tr>\n",
              "    <tr>\n",
              "      <th>65</th>\n",
              "      <td>66</td>\n",
              "      <td>Kingsman: The Secret Service</td>\n",
              "      <td>Action,Adventure,Comedy</td>\n",
              "      <td>A spy organization recruits an unrefined, but ...</td>\n",
              "      <td>Matthew Vaughn</td>\n",
              "      <td>Colin Firth, Taron Egerton, Samuel L. Jackson,...</td>\n",
              "      <td>2014</td>\n",
              "      <td>129</td>\n",
              "      <td>7.7</td>\n",
              "      <td>440209</td>\n",
              "      <td>128.25</td>\n",
              "      <td>58.0</td>\n",
              "    </tr>\n",
              "    <tr>\n",
              "      <th>83</th>\n",
              "      <td>84</td>\n",
              "      <td>Gone Girl</td>\n",
              "      <td>Crime,Drama,Mystery</td>\n",
              "      <td>With his wife's disappearance having become th...</td>\n",
              "      <td>David Fincher</td>\n",
              "      <td>Ben Affleck, Rosamund Pike, Neil Patrick Harri...</td>\n",
              "      <td>2014</td>\n",
              "      <td>149</td>\n",
              "      <td>8.1</td>\n",
              "      <td>636243</td>\n",
              "      <td>167.74</td>\n",
              "      <td>79.0</td>\n",
              "    </tr>\n",
              "  </tbody>\n",
              "</table>\n",
              "</div>"
            ],
            "text/plain": [
              "    Rank                         Title  ... Revenue (Millions) Metascore\n",
              "0      1       Guardians of the Galaxy  ...             333.13      76.0\n",
              "36    37                  Interstellar  ...             187.99      74.0\n",
              "53    54                     John Wick  ...              43.00      68.0\n",
              "65    66  Kingsman: The Secret Service  ...             128.25      58.0\n",
              "83    84                     Gone Girl  ...             167.74      79.0\n",
              "\n",
              "[5 rows x 12 columns]"
            ]
          },
          "metadata": {
            "tags": []
          },
          "execution_count": 12
        }
      ]
    },
    {
      "cell_type": "markdown",
      "metadata": {
        "id": "5ZFjmhtokyQv",
        "colab_type": "text"
      },
      "source": [
        "##What was the maximum length of movies?"
      ]
    },
    {
      "cell_type": "code",
      "metadata": {
        "id": "HYPcnhKRkJNL",
        "colab_type": "code",
        "colab": {
          "base_uri": "https://localhost:8080/",
          "height": 34
        },
        "outputId": "43fe343a-6b0c-4214-8ca7-516d71c9f354"
      },
      "source": [
        "df['Runtime (Minutes)'].max() # introduce the max "
      ],
      "execution_count": 13,
      "outputs": [
        {
          "output_type": "execute_result",
          "data": {
            "text/plain": [
              "191"
            ]
          },
          "metadata": {
            "tags": []
          },
          "execution_count": 13
        }
      ]
    },
    {
      "cell_type": "markdown",
      "metadata": {
        "id": "Yj09fzuJL1rT",
        "colab_type": "text"
      },
      "source": [
        "## What was the maximum duration of the movies in 2014?"
      ]
    },
    {
      "cell_type": "code",
      "metadata": {
        "id": "gXGMtrNpj0Wj",
        "colab_type": "code",
        "colab": {
          "base_uri": "https://localhost:8080/",
          "height": 85
        },
        "outputId": "bf8be43f-3b44-49f1-b956-d343679d2742"
      },
      "source": [
        "df.columns"
      ],
      "execution_count": 14,
      "outputs": [
        {
          "output_type": "execute_result",
          "data": {
            "text/plain": [
              "Index(['Rank', 'Title', 'Genre', 'Description', 'Director', 'Actors', 'Year',\n",
              "       'Runtime (Minutes)', 'Rating', 'Votes', 'Revenue (Millions)',\n",
              "       'Metascore'],\n",
              "      dtype='object')"
            ]
          },
          "metadata": {
            "tags": []
          },
          "execution_count": 14
        }
      ]
    },
    {
      "cell_type": "code",
      "metadata": {
        "id": "EjFkbkLcj0ha",
        "colab_type": "code",
        "colab": {
          "base_uri": "https://localhost:8080/",
          "height": 34
        },
        "outputId": "da048158-c13c-450f-db7c-7318d22046a3"
      },
      "source": [
        "df[df['Year'] == 2014]['Runtime (Minutes)'].max()"
      ],
      "execution_count": 15,
      "outputs": [
        {
          "output_type": "execute_result",
          "data": {
            "text/plain": [
              "169"
            ]
          },
          "metadata": {
            "tags": []
          },
          "execution_count": 15
        }
      ]
    },
    {
      "cell_type": "markdown",
      "metadata": {
        "id": "onQ4cHuYlcZW",
        "colab_type": "text"
      },
      "source": [
        "##What was the average duration of movies in 2015?"
      ]
    },
    {
      "cell_type": "code",
      "metadata": {
        "id": "1x1lrOjalkoO",
        "colab_type": "code",
        "colab": {
          "base_uri": "https://localhost:8080/",
          "height": 34
        },
        "outputId": "03893ca2-0b84-4502-dbce-e902447f4133"
      },
      "source": [
        "df[df['Year'] == 2015]['Runtime (Minutes)'].mean()"
      ],
      "execution_count": 16,
      "outputs": [
        {
          "output_type": "execute_result",
          "data": {
            "text/plain": [
              "114.49606299212599"
            ]
          },
          "metadata": {
            "tags": []
          },
          "execution_count": 16
        }
      ]
    },
    {
      "cell_type": "code",
      "metadata": {
        "id": "LFNHNqQYlk88",
        "colab_type": "code",
        "colab": {}
      },
      "source": [
        ""
      ],
      "execution_count": 0,
      "outputs": []
    },
    {
      "cell_type": "markdown",
      "metadata": {
        "id": "8eJhxWzvjora",
        "colab_type": "text"
      },
      "source": [
        "#Challenge Question\n",
        "\n",
        "##In the year 2016, what was the average rating of movies?"
      ]
    },
    {
      "cell_type": "code",
      "metadata": {
        "id": "jRRfmayyH5km",
        "colab_type": "code",
        "colab": {
          "base_uri": "https://localhost:8080/",
          "height": 34
        },
        "outputId": "1993546b-df12-4c9b-c338-b73e61c362d7"
      },
      "source": [
        "df[df['Year'] == 2016]['Rating'].mean()"
      ],
      "execution_count": 17,
      "outputs": [
        {
          "output_type": "execute_result",
          "data": {
            "text/plain": [
              "6.436700336700337"
            ]
          },
          "metadata": {
            "tags": []
          },
          "execution_count": 17
        }
      ]
    },
    {
      "cell_type": "markdown",
      "metadata": {
        "id": "LBnr18bFLQrf",
        "colab_type": "text"
      },
      "source": [
        "#Challenge 2\n",
        "##What year had the highest rated movie?"
      ]
    },
    {
      "cell_type": "code",
      "metadata": {
        "id": "YSpMGYHsLf5O",
        "colab_type": "code",
        "colab": {
          "base_uri": "https://localhost:8080/",
          "height": 34
        },
        "outputId": "318b9756-5203-486d-d4bb-a08145b4a6ac"
      },
      "source": [
        "df.iloc[df['Rating'].idxmax()]['Year']"
      ],
      "execution_count": 18,
      "outputs": [
        {
          "output_type": "execute_result",
          "data": {
            "text/plain": [
              "2008"
            ]
          },
          "metadata": {
            "tags": []
          },
          "execution_count": 18
        }
      ]
    }
  ]
}