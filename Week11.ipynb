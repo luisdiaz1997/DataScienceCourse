{
  "nbformat": 4,
  "nbformat_minor": 0,
  "metadata": {
    "colab": {
      "name": "Week11.ipynb",
      "provenance": [],
      "collapsed_sections": [],
      "include_colab_link": true
    },
    "kernelspec": {
      "name": "python3",
      "display_name": "Python 3"
    }
  },
  "cells": [
    {
      "cell_type": "markdown",
      "metadata": {
        "id": "view-in-github",
        "colab_type": "text"
      },
      "source": [
        "<a href=\"https://colab.research.google.com/github/luisdiaz1997/DataScienceCourse/blob/master/Week11.ipynb\" target=\"_parent\"><img src=\"https://colab.research.google.com/assets/colab-badge.svg\" alt=\"Open In Colab\"/></a>"
      ]
    },
    {
      "cell_type": "code",
      "metadata": {
        "id": "YCEjlhd2cG9K",
        "colab_type": "code",
        "colab": {}
      },
      "source": [
        "import numpy as np\n",
        "import pandas as pd\n",
        "import plotly.express as px\n",
        "import tensorflow.keras as keras\n",
        "import matplotlib.pyplot as plt"
      ],
      "execution_count": 0,
      "outputs": []
    },
    {
      "cell_type": "markdown",
      "metadata": {
        "id": "jcD5fB0udVP6",
        "colab_type": "text"
      },
      "source": [
        ">$\n",
        "A = \\begin{pmatrix}\n",
        "  A_{11}&A_{12} \\\\\n",
        "  A_{21}&A_{22}\n",
        " \\end{pmatrix}\n",
        " =\n",
        " \\begin{pmatrix}\n",
        "  \\vec{A_1} \\\\\n",
        "  \\vec{A_2}\n",
        " \\end{pmatrix}\n",
        " $\n",
        "\n",
        " >$\n",
        "V = \\begin{pmatrix}\n",
        "  V_{11}& V_{12} \\\\\n",
        "  V_{21}& V_{22}\n",
        " \\end{pmatrix}\n",
        " =\n",
        " \\begin{pmatrix}\n",
        "  \\vec{V_1}& \\vec{V_2}\n",
        " \\end{pmatrix}\n",
        " $"
      ]
    },
    {
      "cell_type": "code",
      "metadata": {
        "id": "KO_DCRtWZ2wH",
        "colab_type": "code",
        "colab": {}
      },
      "source": [
        "A = np.array([[1, 3], [3, 1]])\n",
        "V = np.array([[1, -1], [1, 1]])/np.sqrt(2)\n",
        "print('A:\\n', A, '\\nV:\\n',V)"
      ],
      "execution_count": 0,
      "outputs": []
    },
    {
      "cell_type": "code",
      "metadata": {
        "id": "ljLlnLelac1A",
        "colab_type": "code",
        "colab": {}
      },
      "source": [
        "plt.figure(1, figsize= (4, 4))\n",
        "plt.arrow(0, 0 , V[0,0], V[1,0], head_width=0.2, head_length=0.1, color= 'blue')\n",
        "plt.arrow(0, 0 , V[0,1], V[1, 1], head_width=0.2, head_length=0.1, color= 'blue')\n",
        "plt.arrow(0, 0 , A[0,0], A[0, 1], head_width=0.2, head_length=0.1, color = 'red')\n",
        "\n",
        "plt.xlim([-4, 4])\n",
        "plt.ylim([-4, 4])"
      ],
      "execution_count": 0,
      "outputs": []
    },
    {
      "cell_type": "markdown",
      "metadata": {
        "id": "NJ1IoNGzi_sQ",
        "colab_type": "text"
      },
      "source": [
        ">$\n",
        "AV =\n",
        " \\begin{pmatrix}\n",
        "  A_{11}&A_{12} \\\\\n",
        "  A_{21}&A_{22}\n",
        " \\end{pmatrix}\n",
        " \\begin{pmatrix}\n",
        "  V_{11}& V_{12} \\\\\n",
        "  V_{21}& V_{22}\n",
        " \\end{pmatrix}\n",
        " =\n",
        " \\begin{pmatrix}\n",
        "  A_{11}V_{11} + A_{12}V_{21} & A_{11}V_{12} + A_{12}V_{22}\\\\\n",
        "  A_{21}V_{11} + A_{22}V_{21} & A_{21}V_{12} + A_{22}V_{22}\n",
        " \\end{pmatrix}\n",
        "$\n",
        "\n",
        ">$\n",
        "AV =\n",
        " \\begin{pmatrix}\n",
        "  \\vec{A_1} \\\\\n",
        "  \\vec{A_2}\n",
        " \\end{pmatrix}\n",
        " \\begin{pmatrix}\n",
        "  \\vec{V_1}& \\vec{V_2}\n",
        " \\end{pmatrix}\n",
        " =\n",
        " \\begin{pmatrix}\n",
        "  \\vec{A_1} \\cdot  \\vec{V_1} & \\vec{A_1} \\cdot  \\vec{V_2}\\\\\n",
        "  \\vec{A_2} \\cdot  \\vec{V_1} & \\vec{A_2} \\cdot  \\vec{V_2}\n",
        " \\end{pmatrix}\n",
        "$\n",
        "\n",
        ">$\n",
        "= \\begin{pmatrix}\n",
        "  Proj{{A_1}_{V_1}} & Proj{{A_1}_{V_2}} \\\\\n",
        "  Proj{{A_2}_{V_1}} & Proj{{A_2}_{V_2}}\n",
        " \\end{pmatrix}\n",
        " = \n",
        " \\begin{pmatrix}\n",
        "  \\vec{Z_1} \\\\\n",
        "  \\vec{Z_2}\n",
        " \\end{pmatrix}\n",
        "$\n"
      ]
    },
    {
      "cell_type": "code",
      "metadata": {
        "id": "ejW2Bb8vsCiR",
        "colab_type": "code",
        "colab": {}
      },
      "source": [
        ""
      ],
      "execution_count": 0,
      "outputs": []
    },
    {
      "cell_type": "code",
      "metadata": {
        "id": "ybfgmbfxrex9",
        "colab_type": "code",
        "colab": {}
      },
      "source": [
        "plt.figure(2, figsize= (4, 4))\n",
        "plt.arrow(0, 0 , V[0,0], V[1,0], head_width=0.2, head_length=0.1, color= 'blue')\n",
        "plt.arrow(0, 0 , V[0,1], V[1, 1], head_width=0.2, head_length=0.1, color= 'blue')\n",
        "plt.arrow(0, 0 , A[0,0], A[0, 1], head_width=0.2, head_length=0.1, color = 'red')\n",
        "\n",
        "plt.arrow(0, 0 , Z[0,0], Z[0, 1], head_width=0.2, head_length=0.1, color = 'green')\n",
        "\n",
        "plt.xlim([-4, 4])\n",
        "plt.ylim([-4, 4])"
      ],
      "execution_count": 0,
      "outputs": []
    },
    {
      "cell_type": "code",
      "metadata": {
        "id": "R_Gvs3WLghhX",
        "colab_type": "code",
        "colab": {}
      },
      "source": [
        "plt.figure(3, figsize= (4, 4))\n",
        "plt.arrow(0, 0 , V[0,0], V[1,0], head_width=0.2, head_length=0.1, color= 'blue')\n",
        "plt.arrow(0, 0 , V[0,1], V[1, 1], head_width=0.2, head_length=0.1, color= 'blue')\n",
        "plt.arrow(0, 0 , A[0,0], A[0, 1], head_width=0.2, head_length=0.1, color = 'red')\n",
        "plt.arrow(0, 0 , A[1,0], A[1, 1], head_width=0.2, head_length=0.1, color = 'red')\n",
        "\n",
        "plt.arrow(0, 0 , Z[0,0], Z[0, 1], head_width=0.2, head_length=0.1, color = 'green')\n",
        "plt.arrow(0, 0 , Z[1,0], Z[1, 1], head_width=0.2, head_length=0.1, color = 'green')\n",
        "\n",
        "\n",
        "plt.xlim([-4, 4])\n",
        "plt.ylim([-4, 4])"
      ],
      "execution_count": 0,
      "outputs": []
    },
    {
      "cell_type": "code",
      "metadata": {
        "id": "fBEGabf9uRfq",
        "colab_type": "code",
        "colab": {}
      },
      "source": [
        "A = np.array([[1.95, 2.05], [1.05, 0.95]])\n",
        "Z = np.dot(A, V)\n",
        "plt.figure(4, figsize= (4, 4))\n",
        "plt.arrow(0, 0 , V[0,0], V[1,0], head_width=0.2, head_length=0.1, color= 'blue')\n",
        "plt.arrow(0, 0 , V[0,1], V[1, 1], head_width=0.2, head_length=0.1, color= 'blue')\n",
        "plt.arrow(0, 0 , A[0,0], A[0, 1], head_width=0.2, head_length=0.1, color = 'red')\n",
        "plt.arrow(0, 0 , A[1,0], A[1, 1], head_width=0.2, head_length=0.1, color = 'red')\n",
        "\n",
        "plt.arrow(0, 0 , Z[0,0], Z[0, 1], head_width=0.2, head_length=0.1, color = 'green')\n",
        "plt.arrow(0, 0 , Z[1,0], Z[1, 1], head_width=0.2, head_length=0.1, color = 'green')\n",
        "\n",
        "\n",
        "plt.xlim([-4, 4])\n",
        "plt.ylim([-4, 4])"
      ],
      "execution_count": 0,
      "outputs": []
    },
    {
      "cell_type": "code",
      "metadata": {
        "id": "8RWXFNNgu34L",
        "colab_type": "code",
        "colab": {}
      },
      "source": [
        ""
      ],
      "execution_count": 0,
      "outputs": []
    },
    {
      "cell_type": "markdown",
      "metadata": {
        "id": "cDuP7FfCxDXK",
        "colab_type": "text"
      },
      "source": [
        "[Visual PCA Link](https://setosa.io/ev/principal-component-analysis/)"
      ]
    },
    {
      "cell_type": "markdown",
      "metadata": {
        "id": "kiI9GPhu5pja",
        "colab_type": "text"
      },
      "source": [
        "#Let's look at some data"
      ]
    },
    {
      "cell_type": "code",
      "metadata": {
        "id": "Wsc3rtQGpLVZ",
        "colab_type": "code",
        "colab": {}
      },
      "source": [
        "df = px.data.iris()"
      ],
      "execution_count": 0,
      "outputs": []
    },
    {
      "cell_type": "code",
      "metadata": {
        "id": "Tg6ITe1_pN-4",
        "colab_type": "code",
        "colab": {}
      },
      "source": [
        "df.head()"
      ],
      "execution_count": 0,
      "outputs": []
    },
    {
      "cell_type": "code",
      "metadata": {
        "id": "toXMPBNU2vPB",
        "colab_type": "code",
        "colab": {}
      },
      "source": [
        "fig = px.scatter_3d(df, x='sepal_length', y='sepal_width', z='petal_width',\n",
        "              color='species')\n",
        "fig.show()"
      ],
      "execution_count": 0,
      "outputs": []
    },
    {
      "cell_type": "code",
      "metadata": {
        "id": "zTM_9g7Z4u1U",
        "colab_type": "code",
        "colab": {}
      },
      "source": [
        ""
      ],
      "execution_count": 0,
      "outputs": []
    },
    {
      "cell_type": "markdown",
      "metadata": {
        "id": "eT-4GGg99fhy",
        "colab_type": "text"
      },
      "source": [
        ">$\n",
        "X_i = \\frac{(X_i - u)}{S} \\\\\n",
        "X_i = \\frac{(X_i - \\tilde{x})}{\\sqrt{\\sum_{i}{(x_i-\\tilde{x})^2}}}\n",
        "$"
      ]
    },
    {
      "cell_type": "code",
      "metadata": {
        "id": "EicwEGZNAAte",
        "colab_type": "code",
        "colab": {}
      },
      "source": [
        "def normalize(data):\n",
        "  u = data.mean(axis = 0, keepdims = True)\n",
        "  A = data - u\n",
        "  s = np.linalg.norm(A, axis = 0, keepdims = True)\n",
        "  A /= s\n",
        "  return A, u, s"
      ],
      "execution_count": 0,
      "outputs": []
    },
    {
      "cell_type": "code",
      "metadata": {
        "id": "tlRerH0IAN81",
        "colab_type": "code",
        "colab": {}
      },
      "source": [
        ""
      ],
      "execution_count": 0,
      "outputs": []
    },
    {
      "cell_type": "code",
      "metadata": {
        "id": "h0ApXF4M8scw",
        "colab_type": "code",
        "colab": {}
      },
      "source": [
        ""
      ],
      "execution_count": 0,
      "outputs": []
    },
    {
      "cell_type": "markdown",
      "metadata": {
        "id": "5K07XaEs-Ni0",
        "colab_type": "text"
      },
      "source": [
        ">$\n",
        "Pearson = \\frac{ (x_{i} - \\tilde{x}) (y_{i} - \\tilde{y}) }{\\sqrt{\\sum_{i}{(x_i-\\tilde{x})^2}} \\sqrt{\\sum_{i}{(y_i-\\tilde{y})^2}}} \n",
        "$"
      ]
    },
    {
      "cell_type": "markdown",
      "metadata": {
        "id": "w_QVWNOzCr7e",
        "colab_type": "text"
      },
      "source": [
        ">$\n",
        "A = \\begin{pmatrix}\n",
        "  \\vec{A_1} &\n",
        "  \\vec{A_2}\n",
        " \\end{pmatrix} \\\\\n",
        "A^T = \\begin{pmatrix}\n",
        "  \\vec{A_1} \\\\\n",
        "  \\vec{A_2}\n",
        " \\end{pmatrix}\\\\\n",
        "A^T A = \n",
        " \\begin{pmatrix}\n",
        "  \\vec{A_1} \\\\\n",
        "  \\vec{A_2}\n",
        " \\end{pmatrix}\n",
        " \\begin{pmatrix}\n",
        "  \\vec{A_1}& \\vec{A_2}\n",
        " \\end{pmatrix}\n",
        " =\n",
        " \\begin{pmatrix}\n",
        "  \\vec{A_1} \\cdot  \\vec{A_1} & \\vec{A_1} \\cdot  \\vec{A_2}\\\\\n",
        "  \\vec{A_2} \\cdot  \\vec{A_1} & \\vec{A_2} \\cdot  \\vec{A_2}\n",
        " \\end{pmatrix}\n",
        "$"
      ]
    },
    {
      "cell_type": "code",
      "metadata": {
        "id": "dqa-H4YZDTc-",
        "colab_type": "code",
        "colab": {}
      },
      "source": [
        ""
      ],
      "execution_count": 0,
      "outputs": []
    },
    {
      "cell_type": "code",
      "metadata": {
        "id": "v4LZOyiI_348",
        "colab_type": "code",
        "colab": {}
      },
      "source": [
        ""
      ],
      "execution_count": 0,
      "outputs": []
    },
    {
      "cell_type": "markdown",
      "metadata": {
        "id": "jl68olXrE-Ah",
        "colab_type": "text"
      },
      "source": [
        "## Eigenvectors\n",
        ">$\n",
        "C = \n",
        "\\begin{pmatrix}\n",
        "  C_{11} & C_{12}\\\\\n",
        "  C_{21} & C_{22}\n",
        " \\end{pmatrix}= \n",
        "\\begin{pmatrix}\n",
        "  \\vec{C_1} \\\\\n",
        "  \\vec{C_2}\n",
        " \\end{pmatrix}\\\\\n",
        "V = \\begin{pmatrix}\n",
        "  V_1 \\\\\n",
        "  V_2\n",
        " \\end{pmatrix}\\\\\n",
        " C \\vec{V} = \\lambda \\vec{V}\\\\\n",
        "C \\vec{V} = \n",
        "\\begin{pmatrix}\n",
        "  C_{11}V_1+C_{12}V_2 \\\\\n",
        "  C_{21}V_1+C_{22}V_2\n",
        " \\end{pmatrix}=\n",
        "\\begin{pmatrix}\n",
        "  \\vec{C_1} \\cdot \\vec{V} \\\\\n",
        "  \\vec{C_2} \\cdot \\vec{V}\n",
        " \\end{pmatrix}= \n",
        "  \\begin{pmatrix}\n",
        "  \\lambda  V_1 \\\\\n",
        "  \\lambda  V_2\n",
        " \\end{pmatrix}\n",
        "$\n",
        "\n",
        ">$\n",
        "V = \n",
        "\\begin{pmatrix}\n",
        "  V_{11} & V_{12}\\\\\n",
        "  V_{21} & V_{22}\n",
        " \\end{pmatrix}= \n",
        "\\begin{pmatrix}\n",
        "  \\vec{V_1}& \\vec{V_2}\n",
        " \\end{pmatrix}\\\\\n",
        "CV = \\begin{pmatrix}\n",
        "  \\lambda_1\\vec{V_1}& \\lambda_2 \\vec{V_2}\n",
        " \\end{pmatrix} = VS\\\\\n",
        "S = \\begin{pmatrix}\n",
        "\\lambda_1 &0\\\\\n",
        "0&\\lambda_2\n",
        "\\end{pmatrix} \n",
        "$\n",
        "\n",
        ">$\n",
        "V V^{T} = \n",
        "\\begin{pmatrix}\n",
        "  1 & 0\\\\\n",
        "  0 & 1\n",
        " \\end{pmatrix}\\\\\n",
        "  C V V^T = VS V^T \\\\\n",
        "  C = VS V^T \\\\ \n",
        "$"
      ]
    },
    {
      "cell_type": "code",
      "metadata": {
        "id": "PCS7FUoIE17D",
        "colab_type": "code",
        "colab": {}
      },
      "source": [
        ""
      ],
      "execution_count": 0,
      "outputs": []
    },
    {
      "cell_type": "code",
      "metadata": {
        "id": "RwdYyiTGM3Cu",
        "colab_type": "code",
        "colab": {}
      },
      "source": [
        ""
      ],
      "execution_count": 0,
      "outputs": []
    },
    {
      "cell_type": "code",
      "metadata": {
        "id": "zfyL8hpCEtAA",
        "colab_type": "code",
        "colab": {}
      },
      "source": [
        ""
      ],
      "execution_count": 0,
      "outputs": []
    },
    {
      "cell_type": "code",
      "metadata": {
        "id": "cZMoEWVwM40W",
        "colab_type": "code",
        "colab": {}
      },
      "source": [
        ""
      ],
      "execution_count": 0,
      "outputs": []
    },
    {
      "cell_type": "code",
      "metadata": {
        "id": "mUhJzy72zdX9",
        "colab_type": "code",
        "colab": {}
      },
      "source": [
        "np.round(S/np.sum(np.abs(S)), 2)"
      ],
      "execution_count": 0,
      "outputs": []
    },
    {
      "cell_type": "code",
      "metadata": {
        "id": "iec0UXNmwiOB",
        "colab_type": "code",
        "colab": {}
      },
      "source": [
        ""
      ],
      "execution_count": 0,
      "outputs": []
    },
    {
      "cell_type": "code",
      "metadata": {
        "id": "eR3xA1Kn1w3j",
        "colab_type": "code",
        "colab": {}
      },
      "source": [
        ""
      ],
      "execution_count": 0,
      "outputs": []
    },
    {
      "cell_type": "code",
      "metadata": {
        "id": "pcxlOJuM2TWP",
        "colab_type": "code",
        "colab": {}
      },
      "source": [
        ""
      ],
      "execution_count": 0,
      "outputs": []
    },
    {
      "cell_type": "code",
      "metadata": {
        "id": "42gC9Sto6jX9",
        "colab_type": "code",
        "colab": {}
      },
      "source": [
        ""
      ],
      "execution_count": 0,
      "outputs": []
    },
    {
      "cell_type": "code",
      "metadata": {
        "id": "l1MofWjJnSu3",
        "colab_type": "code",
        "colab": {}
      },
      "source": [
        ""
      ],
      "execution_count": 0,
      "outputs": []
    },
    {
      "cell_type": "code",
      "metadata": {
        "id": "11NwSt4j0Up8",
        "colab_type": "code",
        "colab": {}
      },
      "source": [
        "(x_train, y_train), (x_test, y_test)= keras.datasets.mnist.load_data()\n",
        "x_train= (x_train)/255.0\n",
        "x_test= (x_test)/255.0"
      ],
      "execution_count": 0,
      "outputs": []
    },
    {
      "cell_type": "code",
      "metadata": {
        "id": "TcBC2mtTArfW",
        "colab_type": "code",
        "colab": {}
      },
      "source": [
        "def flatten(data):\n",
        "  new_data = data.reshape(data.shape[0], -1)\n",
        "  return new_data"
      ],
      "execution_count": 0,
      "outputs": []
    },
    {
      "cell_type": "code",
      "metadata": {
        "id": "U5ae0_aZBPYD",
        "colab_type": "code",
        "colab": {}
      },
      "source": [
        "x = flatten(x_train)\n",
        "x.shape"
      ],
      "execution_count": 0,
      "outputs": []
    },
    {
      "cell_type": "code",
      "metadata": {
        "id": "RHrnhOanBfSG",
        "colab_type": "code",
        "colab": {}
      },
      "source": [
        ""
      ],
      "execution_count": 0,
      "outputs": []
    },
    {
      "cell_type": "code",
      "metadata": {
        "id": "U0QeKIcACVk3",
        "colab_type": "code",
        "colab": {}
      },
      "source": [
        ""
      ],
      "execution_count": 0,
      "outputs": []
    },
    {
      "cell_type": "code",
      "metadata": {
        "id": "O3q35I2KCcgt",
        "colab_type": "code",
        "colab": {}
      },
      "source": [
        ""
      ],
      "execution_count": 0,
      "outputs": []
    },
    {
      "cell_type": "code",
      "metadata": {
        "id": "Is_aUrRjDWrU",
        "colab_type": "code",
        "colab": {}
      },
      "source": [
        ""
      ],
      "execution_count": 0,
      "outputs": []
    },
    {
      "cell_type": "code",
      "metadata": {
        "id": "UUWQTzrmEIOy",
        "colab_type": "code",
        "colab": {}
      },
      "source": [
        ""
      ],
      "execution_count": 0,
      "outputs": []
    },
    {
      "cell_type": "code",
      "metadata": {
        "id": "KAfwt-izDXs4",
        "colab_type": "code",
        "colab": {}
      },
      "source": [
        ""
      ],
      "execution_count": 0,
      "outputs": []
    },
    {
      "cell_type": "code",
      "metadata": {
        "id": "FBe7QQPYQwYG",
        "colab_type": "code",
        "colab": {}
      },
      "source": [
        ""
      ],
      "execution_count": 0,
      "outputs": []
    },
    {
      "cell_type": "code",
      "metadata": {
        "id": "yfYTNY2JRAwO",
        "colab_type": "code",
        "colab": {}
      },
      "source": [
        ""
      ],
      "execution_count": 0,
      "outputs": []
    },
    {
      "cell_type": "code",
      "metadata": {
        "id": "dQCKv4_mDq23",
        "colab_type": "code",
        "colab": {}
      },
      "source": [
        ""
      ],
      "execution_count": 0,
      "outputs": []
    },
    {
      "cell_type": "code",
      "metadata": {
        "id": "NgSpCQHNHtVN",
        "colab_type": "code",
        "colab": {}
      },
      "source": [
        ""
      ],
      "execution_count": 0,
      "outputs": []
    },
    {
      "cell_type": "code",
      "metadata": {
        "id": "GsThK20aIVEm",
        "colab_type": "code",
        "colab": {}
      },
      "source": [
        ""
      ],
      "execution_count": 0,
      "outputs": []
    },
    {
      "cell_type": "code",
      "metadata": {
        "id": "BAfOcQOwIZAk",
        "colab_type": "code",
        "colab": {}
      },
      "source": [
        ""
      ],
      "execution_count": 0,
      "outputs": []
    }
  ]
}