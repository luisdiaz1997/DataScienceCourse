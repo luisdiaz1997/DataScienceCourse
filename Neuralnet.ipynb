{
 "cells": [
  {
   "cell_type": "code",
   "execution_count": 456,
   "metadata": {},
   "outputs": [],
   "source": [
    "import glob\n",
    "import matplotlib.pyplot as plt\n",
    "import numpy as np\n",
    "import tensorflow as tf"
   ]
  },
  {
   "cell_type": "code",
   "execution_count": 457,
   "metadata": {},
   "outputs": [],
   "source": [
    "files = glob.glob('datasets/**/*_batch*', recursive =True)"
   ]
  },
  {
   "cell_type": "code",
   "execution_count": 458,
   "metadata": {},
   "outputs": [],
   "source": [
    "def unpickle(file):\n",
    "    import pickle\n",
    "    with open(file, 'rb') as fo:\n",
    "        dict = pickle.load(fo, encoding='bytes')\n",
    "    return dict"
   ]
  },
  {
   "cell_type": "code",
   "execution_count": 466,
   "metadata": {},
   "outputs": [],
   "source": [
    "def get_data(file):\n",
    "    data = unpickle(file)\n",
    "    y= data[b'labels']\n",
    "    x_v = data[b'data']\n",
    "    n = len(x_v[0])//3\n",
    "    x = np.concatenate([x_v.reshape(-1, 3, n)[:,i,:].reshape(-1, 32, 32, 1) for i in range(3)], axis =3)\n",
    "    return x, x_v, y"
   ]
  },
  {
   "cell_type": "code",
   "execution_count": 473,
   "metadata": {},
   "outputs": [
    {
     "data": {
      "text/plain": [
       "(10000, 3072)"
      ]
     },
     "execution_count": 473,
     "metadata": {},
     "output_type": "execute_result"
    }
   ],
   "source": [
    "x_v.shape"
   ]
  },
  {
   "cell_type": "code",
   "execution_count": 467,
   "metadata": {},
   "outputs": [],
   "source": [
    "x, x_v, y = get_data(files[0])"
   ]
  },
  {
   "cell_type": "code",
   "execution_count": 508,
   "metadata": {},
   "outputs": [],
   "source": [
    "with tf.Session() as sess:\n",
    "    y_hot = sess.run(tf.one_hot(y, depth = 10))"
   ]
  },
  {
   "cell_type": "code",
   "execution_count": 482,
   "metadata": {},
   "outputs": [
    {
     "data": {
      "text/plain": [
       "<matplotlib.image.AxesImage at 0x1381c4630>"
      ]
     },
     "execution_count": 482,
     "metadata": {},
     "output_type": "execute_result"
    },
    {
     "data": {
      "image/png": "[encoded data removed]",
      "text/plain": [
       "<Figure size 432x288 with 1 Axes>"
      ]
     },
     "metadata": {
      "needs_background": "light"
     },
     "output_type": "display_data"
    }
   ],
   "source": [
    "plt.imshow(x[0])"
   ]
  },
  {
   "cell_type": "code",
   "execution_count": 598,
   "metadata": {},
   "outputs": [],
   "source": [
    "def get_params(shape):\n",
    "    np.random.seed(7)\n",
    "    params = dict()\n",
    "    for i in range(1, len(shape)):\n",
    "        params['W' + str(i)] = tf.Variable(np.random.randn(*shape[i-1: i+1]), dtype = tf.float32)\n",
    "        params['b' + str(i)] = tf.Variable(np.zeros((1, shape[i])), dtype = tf.float32)\n",
    "    return params"
   ]
  },
  {
   "cell_type": "code",
   "execution_count": 599,
   "metadata": {},
   "outputs": [],
   "source": [
    "def linear(x, params, i = ''):\n",
    "    h = tf.add(tf.matmul(x, params['W' + i]),params['b' + i])\n",
    "    return h"
   ]
  },
  {
   "cell_type": "code",
   "execution_count": 600,
   "metadata": {},
   "outputs": [],
   "source": [
    "def logistic(x, params):\n",
    "    hs = [x]\n",
    "    for i in range(1, len(params)//2 +1):\n",
    "        z = linear(hs[-1], params, str(i))\n",
    "        h = tf.nn.sigmoid(z)\n",
    "        hs.append(h)\n",
    "    \n",
    "    return hs[-1]"
   ]
  },
  {
   "cell_type": "code",
   "execution_count": 613,
   "metadata": {},
   "outputs": [],
   "source": [
    "def get_cost(x, y, model, params, lambd = 0, loss = 'MSE'):\n",
    "    h= model(x, params)\n",
    "    if loss == 'MSE':\n",
    "        J = (h-y)**2\n",
    "    elif loss == 'crossentropy':\n",
    "        epsilon = 1e-20\n",
    "        J = -(y*tf.math.log(h +epsilon) + (1-y)*tf.math.log(1-h+epsilon))\n",
    "    R = 0\n",
    "    for i in range(1, len(params)//2 +1): \n",
    "        R+=tf.math.reduce_sum(params['W'+str(i)] **2) \n",
    "        \n",
    "    J = tf.math.reduce_mean(J) + (lambd/2)*R\n",
    "    return J"
   ]
  },
  {
   "cell_type": "code",
   "execution_count": 662,
   "metadata": {},
   "outputs": [],
   "source": [
    "def train(inp, out, model, shape = None , epochs = 100, lr= 1e-3, lambd = 0, loss = 'MSE', batch_size = 32):\n",
    "    x = tf.placeholder(tf.float32, shape = (None, inp.shape[1]))\n",
    "    y = tf.placeholder(tf.float32, shape = (None, out.shape[1]))\n",
    "    if shape == None:\n",
    "        shape =[x.shape[1], y.shape[1]]\n",
    "    params = get_params(shape)\n",
    "    costs = []\n",
    "    cost = get_cost(x, y, model, params, lambd, loss)\n",
    "    optimizer = tf.train.AdamOptimizer(learning_rate = lr).minimize(cost)\n",
    "    init=tf.global_variables_initializer()\n",
    "    with tf.Session() as sess:\n",
    "        sess.run(init)\n",
    "        for epoch in range(epochs):\n",
    "            for i in range(len(inp)//batch_size):\n",
    "                c, _ = sess.run([cost, optimizer], feed_dict={x: inp[i*batch_size:(i+1)*batch_size, :], y:out[i*batch_size:(i+1)*batch_size,:]})\n",
    "            if epoch%(epochs//10) == 0:\n",
    "                print('Cost at epoch ' + str(epoch), c)\n",
    "            if epoch%5 == 0:\n",
    "                costs.append(c)\n",
    "                \n",
    "        params = sess.run(params)\n",
    "    \n",
    "    return costs, params\n",
    "        \n",
    "    "
   ]
  },
  {
   "cell_type": "code",
   "execution_count": 665,
   "metadata": {},
   "outputs": [
    {
     "name": "stdout",
     "output_type": "stream",
     "text": [
      "Cost at epoch 0 0.3355622\n",
      "Cost at epoch 10 0.32049778\n",
      "Cost at epoch 20 0.32067984\n",
      "Cost at epoch 30 0.3236907\n",
      "Cost at epoch 40 0.32419735\n",
      "Cost at epoch 50 0.32433942\n",
      "Cost at epoch 60 0.324317\n",
      "Cost at epoch 70 0.32429415\n",
      "Cost at epoch 80 0.32427078\n",
      "Cost at epoch 90 0.32424802\n"
     ]
    }
   ],
   "source": [
    "costs, params = train(x_v.astype(np.float32), y_hot, shape = [x_v.shape[1], 20, y_hot.shape[1]], model = logistic, lr = 1e-3, loss = 'crossentropy', epochs = 100)"
   ]
  },
  {
   "cell_type": "code",
   "execution_count": null,
   "metadata": {},
   "outputs": [],
   "source": [
    "with tf.Session() as sess:\n",
    "    predictions = sess.run(logistic(x_v.astype(np.float32), params))"
   ]
  },
  {
   "cell_type": "code",
   "execution_count": null,
   "metadata": {},
   "outputs": [],
   "source": [
    "p = np.array(y) == np.argmax(predictions, axis = 1)"
   ]
  },
  {
   "cell_type": "code",
   "execution_count": null,
   "metadata": {},
   "outputs": [],
   "source": [
    "np.sum(p)/len(p)"
   ]
  },
  {
   "cell_type": "code",
   "execution_count": null,
   "metadata": {},
   "outputs": [],
   "source": []
  }
 ],
 "metadata": {
  "kernelspec": {
   "display_name": "Python 3",
   "language": "python",
   "name": "python3"
  },
  "language_info": {
   "codemirror_mode": {
    "name": "ipython",
    "version": 3
   },
   "file_extension": ".py",
   "mimetype": "text/x-python",
   "name": "python",
   "nbconvert_exporter": "python",
   "pygments_lexer": "ipython3",
   "version": "3.7.0"
  }
 },
 "nbformat": 4,
 "nbformat_minor": 4
}
