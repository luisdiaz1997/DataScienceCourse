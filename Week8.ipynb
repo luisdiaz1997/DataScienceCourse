{
  "nbformat": 4,
  "nbformat_minor": 0,
  "metadata": {
    "colab": {
      "name": "Week8.ipynb",
      "provenance": [],
      "collapsed_sections": [],
      "authorship_tag": "ABX9TyMtQhLFXOjrRmySpvcOlfDl",
      "include_colab_link": true
    },
    "kernelspec": {
      "name": "python3",
      "display_name": "Python 3"
    }
  },
  "cells": [
    {
      "cell_type": "markdown",
      "metadata": {
        "id": "view-in-github",
        "colab_type": "text"
      },
      "source": [
        "<a href=\"https://colab.research.google.com/github/luisdiaz1997/DataScienceCourse/blob/master/Week8.ipynb\" target=\"_parent\"><img src=\"https://colab.research.google.com/assets/colab-badge.svg\" alt=\"Open In Colab\"/></a>"
      ]
    },
    {
      "cell_type": "code",
      "metadata": {
        "id": "JcrqVg4KSDJq",
        "colab_type": "code",
        "colab": {}
      },
      "source": [
        "import numpy as np\n",
        "from tqdm import tqdm_notebook as tqdm\n",
        "import matplotlib.pyplot as plt\n",
        "import pandas as pd\n",
        "\n",
        "import torch\n",
        "from torch import optim\n",
        "import tensorflow.keras as keras\n"
      ],
      "execution_count": 0,
      "outputs": []
    },
    {
      "cell_type": "code",
      "metadata": {
        "id": "I8JBLWO-Tgt2",
        "colab_type": "code",
        "colab": {}
      },
      "source": [
        "def linear(x, w, b):\n",
        "  z = np.matmul(x,w) + b\n",
        "  return z"
      ],
      "execution_count": 0,
      "outputs": []
    },
    {
      "cell_type": "code",
      "metadata": {
        "id": "26uJybMJTow3",
        "colab_type": "code",
        "colab": {}
      },
      "source": [
        "def start_params(features = 2, classes = 1):\n",
        "  params = {'W': np.random.randn(features, classes), 'b': np.random.randn(1, classes)}\n",
        "  return params"
      ],
      "execution_count": 0,
      "outputs": []
    },
    {
      "cell_type": "code",
      "metadata": {
        "id": "V4hXWkFaT0O2",
        "colab_type": "code",
        "colab": {}
      },
      "source": [
        "def loss_MSE(model, inputs, targets):\n",
        "  error = model(inputs) - targets\n",
        "  return np.mean(error **2)/2"
      ],
      "execution_count": 0,
      "outputs": []
    },
    {
      "cell_type": "code",
      "metadata": {
        "id": "FyfKUy0eeru_",
        "colab_type": "code",
        "colab": {}
      },
      "source": [
        "def loss_EL(model, inputs, targets):\n",
        "  M = inputs.shape[0]\n",
        "  error = targets*np.log(model(inputs) + 1e-3) + (1-targets)*np.log( 1 - model(inputs) + 1e-3)\n",
        "\n",
        "  return np.sum(-error)/M\n"
      ],
      "execution_count": 0,
      "outputs": []
    },
    {
      "cell_type": "code",
      "metadata": {
        "id": "qV5gMnYrfWm8",
        "colab_type": "code",
        "colab": {}
      },
      "source": [
        "def grad(model, inputs, targets):\n",
        "  M = inputs.shape[0]\n",
        "  error =(model(inputs) - targets)/M\n",
        "\n",
        "  grad_dict = {'dW': np.dot(inputs.T, error),\n",
        "               'db': np.sum(error, axis = 0, keepdims=  True)}\n",
        "  return grad_dict"
      ],
      "execution_count": 0,
      "outputs": []
    },
    {
      "cell_type": "code",
      "metadata": {
        "id": "HQr3SoVAfw_V",
        "colab_type": "code",
        "colab": {}
      },
      "source": [
        "def sigmoid(z):\n",
        "  return 1/(1 + np.exp(-z))"
      ],
      "execution_count": 0,
      "outputs": []
    },
    {
      "cell_type": "code",
      "metadata": {
        "id": "OAV9Jo2wfZY4",
        "colab_type": "code",
        "colab": {}
      },
      "source": [
        "class LinearRegression():\n",
        "  def __init__(self, features = 2, classes = 1):\n",
        "    self.params = start_params(features = features, classes = classes)\n",
        "    self.costs = []\n",
        "  \n",
        "  def __call__(self, inputs):\n",
        "    return linear(inputs, self.params['W'], self.params['b'])\n",
        "\n",
        "  def fit(self, inputs, targets, learning_rate = 1e-3, epochs= 10):\n",
        "    for i in tqdm(range(epochs)):\n",
        "      loss = loss_MSE(self, inputs, targets)\n",
        "      self.costs.append(loss)\n",
        "      grads = grad(self, inputs, targets)\n",
        "\n",
        "      for key, values in self.params.items():\n",
        "        self.params[key] -= learning_rate * grads['d'+key]"
      ],
      "execution_count": 0,
      "outputs": []
    },
    {
      "cell_type": "code",
      "metadata": {
        "id": "0MQr7NFvfb8Z",
        "colab_type": "code",
        "colab": {}
      },
      "source": [
        "class LogisticRegression():\n",
        "  def __init__(self, features = 2, classes = 1):\n",
        "    self.params = start_params(features = features, classes= classes)\n",
        "    self.costs = []\n",
        "  \n",
        "  def __call__(self, inputs):\n",
        "    Z = linear(inputs, self.params['W'], self.params['b'])\n",
        "    return sigmoid(Z)\n",
        "\n",
        "  def fit(self, inputs, targets, learning_rate = 1e-3, epochs= 10):\n",
        "    for i in tqdm(range(epochs)):\n",
        "      loss = loss_EL(self, inputs, targets)\n",
        "      self.costs.append(loss)\n",
        "      grads = grad(self, inputs, targets)\n",
        "\n",
        "      for key, values in self.params.items():\n",
        "        self.params[key] -= learning_rate * grads['d'+key]"
      ],
      "execution_count": 0,
      "outputs": []
    },
    {
      "cell_type": "code",
      "metadata": {
        "id": "ZTR9rlo0TRun",
        "colab_type": "code",
        "colab": {}
      },
      "source": [
        "data_url = \"https://download.mlcc.google.com/mledu-datasets/california_housing_train.csv\""
      ],
      "execution_count": 0,
      "outputs": []
    },
    {
      "cell_type": "code",
      "metadata": {
        "id": "AVAacOy3TdjO",
        "colab_type": "code",
        "colab": {}
      },
      "source": [
        "df = pd.read_csv(data_url, sep=\",\")\n",
        "df.head()"
      ],
      "execution_count": 0,
      "outputs": []
    },
    {
      "cell_type": "code",
      "metadata": {
        "id": "UttWML9XTfI-",
        "colab_type": "code",
        "colab": {}
      },
      "source": [
        "plt.figure(1)\n",
        "x = df.households.values.reshape(-1, 1)\n",
        "y = df.total_rooms.values.reshape(-1,1)\n",
        "plt.figure(figsize=(8, 6))\n",
        "plt.scatter(x[::10], y[::10])\n",
        "plt.xlabel('Number of Households')\n",
        "plt.ylabel('Total Rooms');"
      ],
      "execution_count": 0,
      "outputs": []
    },
    {
      "cell_type": "code",
      "metadata": {
        "id": "uoQ-s73TZfA1",
        "colab_type": "code",
        "colab": {}
      },
      "source": [
        "linear_model = LinearRegression(features = 1, classes = 1)"
      ],
      "execution_count": 0,
      "outputs": []
    },
    {
      "cell_type": "code",
      "metadata": {
        "id": "ENz_r3cIZimd",
        "colab_type": "code",
        "colab": {}
      },
      "source": [
        "linear_model.fit(x, y, learning_rate=1e-8, epochs = 1000)"
      ],
      "execution_count": 0,
      "outputs": []
    },
    {
      "cell_type": "code",
      "metadata": {
        "id": "KlQik192Zr3N",
        "colab_type": "code",
        "colab": {}
      },
      "source": [
        "plt.plot(linear_model.costs)"
      ],
      "execution_count": 0,
      "outputs": []
    },
    {
      "cell_type": "code",
      "metadata": {
        "id": "x8CXMT4qaDX8",
        "colab_type": "code",
        "colab": {}
      },
      "source": [
        "plt.figure(2, figsize = (10,8))\n",
        "\n",
        "y_predict = linear_model(x)\n",
        "plt.scatter(x, y )\n",
        "plt.scatter(x[:, 0], y_predict)\n"
      ],
      "execution_count": 0,
      "outputs": []
    },
    {
      "cell_type": "code",
      "metadata": {
        "id": "2Rs3ZNBxaLDE",
        "colab_type": "code",
        "colab": {}
      },
      "source": [
        "from sklearn.datasets import make_blobs\n",
        "n_samples = 1500\n",
        "random_state = 170\n",
        "X, y = make_blobs(n_samples=n_samples, random_state=random_state, centers = np.array([[-3, -3], [1, 1], [5, -2]]))"
      ],
      "execution_count": 0,
      "outputs": []
    },
    {
      "cell_type": "code",
      "metadata": {
        "id": "Cl6JlPVzcT-f",
        "colab_type": "code",
        "colab": {}
      },
      "source": [
        "def one_hot(data):\n",
        "  new_data = np.zeros((len(data), np.max(data) + 1))\n",
        "  for i, k in enumerate(data):\n",
        "    new_data[i, k] = 1\n",
        "  return new_data"
      ],
      "execution_count": 0,
      "outputs": []
    },
    {
      "cell_type": "code",
      "metadata": {
        "id": "VlJOhD5xcUw8",
        "colab_type": "code",
        "colab": {}
      },
      "source": [
        "Y = one_hot(y)"
      ],
      "execution_count": 0,
      "outputs": []
    },
    {
      "cell_type": "code",
      "metadata": {
        "id": "J1z01KP_dNBJ",
        "colab_type": "code",
        "colab": {}
      },
      "source": [
        "plt.figure(3, figsize = (10,8))\n",
        "plt.scatter(X[:, 0], X[:, 1], c = y)\n",
        "plt.colorbar();"
      ],
      "execution_count": 0,
      "outputs": []
    },
    {
      "cell_type": "code",
      "metadata": {
        "id": "0ArITX8WduX8",
        "colab_type": "code",
        "colab": {}
      },
      "source": [
        "logistic_model = LogisticRegression(features = 2, classes = 3)"
      ],
      "execution_count": 0,
      "outputs": []
    },
    {
      "cell_type": "code",
      "metadata": {
        "id": "eomAbWFvd2TU",
        "colab_type": "code",
        "colab": {}
      },
      "source": [
        "logistic_model.fit(X, Y, learning_rate = 0.1, epochs = 500)"
      ],
      "execution_count": 0,
      "outputs": []
    },
    {
      "cell_type": "code",
      "metadata": {
        "id": "n7cHVASBd6FI",
        "colab_type": "code",
        "colab": {}
      },
      "source": [
        "plt.plot(logistic_model.costs)"
      ],
      "execution_count": 0,
      "outputs": []
    },
    {
      "cell_type": "code",
      "metadata": {
        "id": "-mOIn7PCeZnq",
        "colab_type": "code",
        "colab": {}
      },
      "source": [
        "plt.figure(4, figsize = (10,8))\n",
        "\n",
        "y_predict = np.argmax(logistic_model(X), axis = 1)\n",
        "plt.scatter(X[:, 0], X[:, 1], c = y_predict.reshape(-1))\n",
        "plt.colorbar();"
      ],
      "execution_count": 0,
      "outputs": []
    },
    {
      "cell_type": "code",
      "metadata": {
        "id": "hea02XXDeJD8",
        "colab_type": "code",
        "colab": {}
      },
      "source": [
        "import tensorflow as tf\n",
        "(x_train, y_train), (x_test, y_test) = tf.keras.datasets.mnist.load_data()\n",
        "x_train = x_train/255\n",
        "x_test = x_test/255 "
      ],
      "execution_count": 0,
      "outputs": []
    },
    {
      "cell_type": "code",
      "metadata": {
        "id": "QVTwKVxieVdk",
        "colab_type": "code",
        "colab": {}
      },
      "source": [
        "plt.figure(figsize= (8, 8))\n",
        "k = 10\n",
        "for k in range(16):\n",
        "  plt.subplot(4, 4, k+1)\n",
        "  plt.imshow(x_train[k], cmap = 'gray')\n",
        "  plt.title(y_train[k]);\n",
        "  plt.axis('off')"
      ],
      "execution_count": 0,
      "outputs": []
    },
    {
      "cell_type": "code",
      "metadata": {
        "id": "4_BuUpyyg19h",
        "colab_type": "code",
        "colab": {}
      },
      "source": [
        "x_train.shape"
      ],
      "execution_count": 0,
      "outputs": []
    },
    {
      "cell_type": "code",
      "metadata": {
        "id": "vRRqDAhpiJ3v",
        "colab_type": "code",
        "colab": {}
      },
      "source": [
        "def flatten(data):\n",
        "  new_data = data.reshape(data.shape[0], -1)\n",
        "  return new_data"
      ],
      "execution_count": 0,
      "outputs": []
    },
    {
      "cell_type": "code",
      "metadata": {
        "id": "_TyCtO5kiix2",
        "colab_type": "code",
        "colab": {}
      },
      "source": [
        "flatten(x_train).shape"
      ],
      "execution_count": 0,
      "outputs": []
    },
    {
      "cell_type": "code",
      "metadata": {
        "id": "2hRev1JCgCb6",
        "colab_type": "code",
        "colab": {}
      },
      "source": [
        "mnist_model = LogisticRegression(features = flatten(x_train).shape[1], classes = 10)"
      ],
      "execution_count": 0,
      "outputs": []
    },
    {
      "cell_type": "code",
      "metadata": {
        "id": "8ceZ100ehF4U",
        "colab_type": "code",
        "colab": {}
      },
      "source": [
        "mnist_model.params['W'].shape"
      ],
      "execution_count": 0,
      "outputs": []
    },
    {
      "cell_type": "code",
      "metadata": {
        "id": "jDD7oNlehHnj",
        "colab_type": "code",
        "colab": {}
      },
      "source": [
        "mnist_model.fit(flatten(x_train), one_hot(y_train), learning_rate= 9, epochs =10)"
      ],
      "execution_count": 0,
      "outputs": []
    },
    {
      "cell_type": "code",
      "metadata": {
        "id": "sN3ruUHVhqCZ",
        "colab_type": "code",
        "colab": {}
      },
      "source": [
        "plt.plot(mnist_model.costs)"
      ],
      "execution_count": 0,
      "outputs": []
    },
    {
      "cell_type": "code",
      "metadata": {
        "id": "BZFgl7zTi076",
        "colab_type": "code",
        "colab": {}
      },
      "source": [
        "plt.figure(figsize= (10, 5))\n",
        "k = 10\n",
        "for k in range(10):\n",
        "  plt.subplot(2, 5, k+1)\n",
        "  plt.imshow(mnist_model.params['W'][:, k].reshape(28, 28), vmin = -1.5, vmax =1.5, cmap = 'gray_r')\n",
        "  plt.title(k)\n",
        "  plt.axis('off');"
      ],
      "execution_count": 0,
      "outputs": []
    },
    {
      "cell_type": "code",
      "metadata": {
        "id": "p5ybDCJUnB8D",
        "colab_type": "code",
        "colab": {}
      },
      "source": [
        ""
      ],
      "execution_count": 0,
      "outputs": []
    },
    {
      "cell_type": "code",
      "metadata": {
        "id": "ZMLl_IwPnByu",
        "colab_type": "code",
        "colab": {}
      },
      "source": [
        ""
      ],
      "execution_count": 0,
      "outputs": []
    },
    {
      "cell_type": "code",
      "metadata": {
        "id": "w_kp9rRAknnq",
        "colab_type": "code",
        "colab": {}
      },
      "source": [
        "from skimage import io\n",
        "image = io.imread('https://i.kym-cdn.com/photos/images/original/000/531/557/a88.jpg')\n",
        "plt.figure(figsize = (10, 5))\n",
        "plt.imshow(image)\n",
        "plt.axis('off');"
      ],
      "execution_count": 0,
      "outputs": []
    },
    {
      "cell_type": "code",
      "metadata": {
        "id": "QDEexyKzkqSC",
        "colab_type": "code",
        "colab": {}
      },
      "source": [
        ""
      ],
      "execution_count": 0,
      "outputs": []
    }
  ]
}