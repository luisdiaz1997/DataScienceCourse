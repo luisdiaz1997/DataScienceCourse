{
  "nbformat": 4,
  "nbformat_minor": 0,
  "metadata": {
    "kernelspec": {
      "display_name": "Python 3",
      "language": "python",
      "name": "python3"
    },
    "language_info": {
      "codemirror_mode": {
        "name": "ipython",
        "version": 3
      },
      "file_extension": ".py",
      "mimetype": "text/x-python",
      "name": "python",
      "nbconvert_exporter": "python",
      "pygments_lexer": "ipython3",
      "version": "3.7.0"
    },
    "colab": {
      "name": "Workshop2Final",
      "provenance": [],
      "collapsed_sections": [],
      "include_colab_link": true
    }
  },
  "cells": [
    {
      "cell_type": "markdown",
      "metadata": {
        "id": "view-in-github",
        "colab_type": "text"
      },
      "source": [
        "<a href=\"https://colab.research.google.com/github/luisdiaz1997/DataScienceCourse/blob/master/Week3_solutions.ipynb\" target=\"_parent\"><img src=\"https://colab.research.google.com/assets/colab-badge.svg\" alt=\"Open In Colab\"/></a>"
      ]
    },
    {
      "cell_type": "markdown",
      "metadata": {
        "id": "AxaJF_opJTcg",
        "colab_type": "text"
      },
      "source": [
        "# WELCOME BACK TO SACNAS' PYTHON WORKSHOP \n",
        "hosted by Luis and Emily\n"
      ]
    },
    {
      "cell_type": "markdown",
      "metadata": {
        "id": "x5h1xeyDJTcm",
        "colab_type": "text"
      },
      "source": [
        "### Introduction:\n",
        "Sign in and grab food! \n",
        "### Import the necessary libraries/packages:\n",
        "There are tools you can download into your code to implement. Think of these like your toolbox, to create plots, analyze data, and endless possibilities \n"
      ]
    },
    {
      "cell_type": "code",
      "metadata": {
        "id": "2aVvhKbyJTcp",
        "colab_type": "code",
        "colab": {}
      },
      "source": [
        "import pandas as pd\n",
        "import numpy as np\n",
        "\n",
        "# visualization libraries\n",
        "import matplotlib.pyplot as plt\n",
        "\n",
        "from sklearn.linear_model import LinearRegression"
      ],
      "execution_count": 0,
      "outputs": []
    },
    {
      "cell_type": "markdown",
      "metadata": {
        "id": "J7Gb9C04JTc2",
        "colab_type": "text"
      },
      "source": [
        "### Import data and assign it to a variable called tips"
      ]
    },
    {
      "cell_type": "code",
      "metadata": {
        "id": "69zVfMAOJTc5",
        "colab_type": "code",
        "colab": {}
      },
      "source": [
        "url = 'https://raw.githubusercontent.com/guipsamora/pandas_exercises/master/07_Visualization/Tips/tips.csv'\n"
      ],
      "execution_count": 0,
      "outputs": []
    },
    {
      "cell_type": "code",
      "metadata": {
        "id": "PTA7EGR6OJg2",
        "colab_type": "code",
        "colab": {}
      },
      "source": [
        "df = pd.read_csv(url, index_col= 0)"
      ],
      "execution_count": 0,
      "outputs": []
    },
    {
      "cell_type": "code",
      "metadata": {
        "id": "XopS2KGbOOmr",
        "colab_type": "code",
        "colab": {
          "base_uri": "https://localhost:8080/",
          "height": 204
        },
        "outputId": "18700a6e-3ff1-4acd-b2c5-848aeaa12306"
      },
      "source": [
        "df.head()"
      ],
      "execution_count": 4,
      "outputs": [
        {
          "output_type": "execute_result",
          "data": {
            "text/html": [
              "<div>\n",
              "<style scoped>\n",
              "    .dataframe tbody tr th:only-of-type {\n",
              "        vertical-align: middle;\n",
              "    }\n",
              "\n",
              "    .dataframe tbody tr th {\n",
              "        vertical-align: top;\n",
              "    }\n",
              "\n",
              "    .dataframe thead th {\n",
              "        text-align: right;\n",
              "    }\n",
              "</style>\n",
              "<table border=\"1\" class=\"dataframe\">\n",
              "  <thead>\n",
              "    <tr style=\"text-align: right;\">\n",
              "      <th></th>\n",
              "      <th>total_bill</th>\n",
              "      <th>tip</th>\n",
              "      <th>sex</th>\n",
              "      <th>smoker</th>\n",
              "      <th>day</th>\n",
              "      <th>time</th>\n",
              "      <th>size</th>\n",
              "    </tr>\n",
              "  </thead>\n",
              "  <tbody>\n",
              "    <tr>\n",
              "      <th>0</th>\n",
              "      <td>16.99</td>\n",
              "      <td>1.01</td>\n",
              "      <td>Female</td>\n",
              "      <td>No</td>\n",
              "      <td>Sun</td>\n",
              "      <td>Dinner</td>\n",
              "      <td>2</td>\n",
              "    </tr>\n",
              "    <tr>\n",
              "      <th>1</th>\n",
              "      <td>10.34</td>\n",
              "      <td>1.66</td>\n",
              "      <td>Male</td>\n",
              "      <td>No</td>\n",
              "      <td>Sun</td>\n",
              "      <td>Dinner</td>\n",
              "      <td>3</td>\n",
              "    </tr>\n",
              "    <tr>\n",
              "      <th>2</th>\n",
              "      <td>21.01</td>\n",
              "      <td>3.50</td>\n",
              "      <td>Male</td>\n",
              "      <td>No</td>\n",
              "      <td>Sun</td>\n",
              "      <td>Dinner</td>\n",
              "      <td>3</td>\n",
              "    </tr>\n",
              "    <tr>\n",
              "      <th>3</th>\n",
              "      <td>23.68</td>\n",
              "      <td>3.31</td>\n",
              "      <td>Male</td>\n",
              "      <td>No</td>\n",
              "      <td>Sun</td>\n",
              "      <td>Dinner</td>\n",
              "      <td>2</td>\n",
              "    </tr>\n",
              "    <tr>\n",
              "      <th>4</th>\n",
              "      <td>24.59</td>\n",
              "      <td>3.61</td>\n",
              "      <td>Female</td>\n",
              "      <td>No</td>\n",
              "      <td>Sun</td>\n",
              "      <td>Dinner</td>\n",
              "      <td>4</td>\n",
              "    </tr>\n",
              "  </tbody>\n",
              "</table>\n",
              "</div>"
            ],
            "text/plain": [
              "   total_bill   tip     sex smoker  day    time  size\n",
              "0       16.99  1.01  Female     No  Sun  Dinner     2\n",
              "1       10.34  1.66    Male     No  Sun  Dinner     3\n",
              "2       21.01  3.50    Male     No  Sun  Dinner     3\n",
              "3       23.68  3.31    Male     No  Sun  Dinner     2\n",
              "4       24.59  3.61  Female     No  Sun  Dinner     4"
            ]
          },
          "metadata": {
            "tags": []
          },
          "execution_count": 4
        }
      ]
    },
    {
      "cell_type": "markdown",
      "metadata": {
        "id": "sjzak6sPmyqE",
        "colab_type": "text"
      },
      "source": [
        "# .describe()\n",
        "Generate descriptive statistics that summarize the central tendency, dispersion and shape of a dataset’s distribution, excluding NaN values.\n",
        "\n"
      ]
    },
    {
      "cell_type": "code",
      "metadata": {
        "id": "Y8dWzCXLNlyr",
        "colab_type": "code",
        "colab": {
          "base_uri": "https://localhost:8080/",
          "height": 297
        },
        "outputId": "bb7c558e-97f5-4ede-a8a0-f652a82e637f"
      },
      "source": [
        "df.describe()"
      ],
      "execution_count": 5,
      "outputs": [
        {
          "output_type": "execute_result",
          "data": {
            "text/html": [
              "<div>\n",
              "<style scoped>\n",
              "    .dataframe tbody tr th:only-of-type {\n",
              "        vertical-align: middle;\n",
              "    }\n",
              "\n",
              "    .dataframe tbody tr th {\n",
              "        vertical-align: top;\n",
              "    }\n",
              "\n",
              "    .dataframe thead th {\n",
              "        text-align: right;\n",
              "    }\n",
              "</style>\n",
              "<table border=\"1\" class=\"dataframe\">\n",
              "  <thead>\n",
              "    <tr style=\"text-align: right;\">\n",
              "      <th></th>\n",
              "      <th>total_bill</th>\n",
              "      <th>tip</th>\n",
              "      <th>size</th>\n",
              "    </tr>\n",
              "  </thead>\n",
              "  <tbody>\n",
              "    <tr>\n",
              "      <th>count</th>\n",
              "      <td>244.000000</td>\n",
              "      <td>244.000000</td>\n",
              "      <td>244.000000</td>\n",
              "    </tr>\n",
              "    <tr>\n",
              "      <th>mean</th>\n",
              "      <td>19.785943</td>\n",
              "      <td>2.998279</td>\n",
              "      <td>2.569672</td>\n",
              "    </tr>\n",
              "    <tr>\n",
              "      <th>std</th>\n",
              "      <td>8.902412</td>\n",
              "      <td>1.383638</td>\n",
              "      <td>0.951100</td>\n",
              "    </tr>\n",
              "    <tr>\n",
              "      <th>min</th>\n",
              "      <td>3.070000</td>\n",
              "      <td>1.000000</td>\n",
              "      <td>1.000000</td>\n",
              "    </tr>\n",
              "    <tr>\n",
              "      <th>25%</th>\n",
              "      <td>13.347500</td>\n",
              "      <td>2.000000</td>\n",
              "      <td>2.000000</td>\n",
              "    </tr>\n",
              "    <tr>\n",
              "      <th>50%</th>\n",
              "      <td>17.795000</td>\n",
              "      <td>2.900000</td>\n",
              "      <td>2.000000</td>\n",
              "    </tr>\n",
              "    <tr>\n",
              "      <th>75%</th>\n",
              "      <td>24.127500</td>\n",
              "      <td>3.562500</td>\n",
              "      <td>3.000000</td>\n",
              "    </tr>\n",
              "    <tr>\n",
              "      <th>max</th>\n",
              "      <td>50.810000</td>\n",
              "      <td>10.000000</td>\n",
              "      <td>6.000000</td>\n",
              "    </tr>\n",
              "  </tbody>\n",
              "</table>\n",
              "</div>"
            ],
            "text/plain": [
              "       total_bill         tip        size\n",
              "count  244.000000  244.000000  244.000000\n",
              "mean    19.785943    2.998279    2.569672\n",
              "std      8.902412    1.383638    0.951100\n",
              "min      3.070000    1.000000    1.000000\n",
              "25%     13.347500    2.000000    2.000000\n",
              "50%     17.795000    2.900000    2.000000\n",
              "75%     24.127500    3.562500    3.000000\n",
              "max     50.810000   10.000000    6.000000"
            ]
          },
          "metadata": {
            "tags": []
          },
          "execution_count": 5
        }
      ]
    },
    {
      "cell_type": "markdown",
      "metadata": {
        "id": "LqILy_GWr3Af",
        "colab_type": "text"
      },
      "source": [
        "# Working with our dataset"
      ]
    },
    {
      "cell_type": "markdown",
      "metadata": {
        "id": "6upPlRxqSORV",
        "colab_type": "text"
      },
      "source": [
        "# For Loops\n",
        "## a for-loop is a control flow statement for specifying iteration, which allows code to be executed repeatedly.\n",
        "\n"
      ]
    },
    {
      "cell_type": "code",
      "metadata": {
        "id": "B0K09KGYSW6n",
        "colab_type": "code",
        "colab": {}
      },
      "source": [
        "x = [1, 2, 3, 4, 5, 6, 7, 8, 9, 10]\n"
      ],
      "execution_count": 0,
      "outputs": []
    },
    {
      "cell_type": "code",
      "metadata": {
        "id": "NEPdMzF0SY6f",
        "colab_type": "code",
        "colab": {
          "base_uri": "https://localhost:8080/",
          "height": 207
        },
        "outputId": "e47c2eb9-e965-4792-c4ca-dc868eb53dbb"
      },
      "source": [
        "for num in x:\n",
        "  print(num)"
      ],
      "execution_count": 7,
      "outputs": [
        {
          "output_type": "stream",
          "text": [
            "1\n",
            "2\n",
            "3\n",
            "4\n",
            "5\n",
            "6\n",
            "7\n",
            "8\n",
            "9\n",
            "10\n"
          ],
          "name": "stdout"
        }
      ]
    },
    {
      "cell_type": "code",
      "metadata": {
        "id": "z6XZdwXmSfyN",
        "colab_type": "code",
        "colab": {
          "base_uri": "https://localhost:8080/",
          "height": 207
        },
        "outputId": "b57a5437-deb8-418a-ba37-0decb341b7b8"
      },
      "source": [
        "for num in x:\n",
        "  print('The square of', num, 'is', num**2)"
      ],
      "execution_count": 8,
      "outputs": [
        {
          "output_type": "stream",
          "text": [
            "The square of 1 is 1\n",
            "The square of 2 is 4\n",
            "The square of 3 is 9\n",
            "The square of 4 is 16\n",
            "The square of 5 is 25\n",
            "The square of 6 is 36\n",
            "The square of 7 is 49\n",
            "The square of 8 is 64\n",
            "The square of 9 is 81\n",
            "The square of 10 is 100\n"
          ],
          "name": "stdout"
        }
      ]
    },
    {
      "cell_type": "markdown",
      "metadata": {
        "id": "wFVe4XRnYJDj",
        "colab_type": "text"
      },
      "source": [
        "### What day are people more likely to tip?\n"
      ]
    },
    {
      "cell_type": "code",
      "metadata": {
        "id": "rhmN-W13RhsL",
        "colab_type": "code",
        "colab": {
          "base_uri": "https://localhost:8080/",
          "height": 36
        },
        "outputId": "5766f041-1640-4446-ef6e-6eedeb3efd38"
      },
      "source": [
        "df.day.unique()"
      ],
      "execution_count": 9,
      "outputs": [
        {
          "output_type": "execute_result",
          "data": {
            "text/plain": [
              "array(['Sun', 'Sat', 'Thur', 'Fri'], dtype=object)"
            ]
          },
          "metadata": {
            "tags": []
          },
          "execution_count": 9
        }
      ]
    },
    {
      "cell_type": "code",
      "metadata": {
        "id": "0lMeXjyMT1cO",
        "colab_type": "code",
        "colab": {
          "base_uri": "https://localhost:8080/",
          "height": 36
        },
        "outputId": "22b88cf1-b677-4653-fc2e-a6ac4804d9d4"
      },
      "source": [
        "df[df.day == 'Sun'].tip.mean()"
      ],
      "execution_count": 10,
      "outputs": [
        {
          "output_type": "execute_result",
          "data": {
            "text/plain": [
              "3.255131578947369"
            ]
          },
          "metadata": {
            "tags": []
          },
          "execution_count": 10
        }
      ]
    },
    {
      "cell_type": "code",
      "metadata": {
        "id": "iz1KQYR91w-J",
        "colab_type": "code",
        "colab": {
          "base_uri": "https://localhost:8080/",
          "height": 36
        },
        "outputId": "2d3ba1d6-cdea-476d-a83d-e6d283e8ca11"
      },
      "source": [
        "df[df.day == 'Sat'].tip.mean()"
      ],
      "execution_count": 11,
      "outputs": [
        {
          "output_type": "execute_result",
          "data": {
            "text/plain": [
              "2.993103448275862"
            ]
          },
          "metadata": {
            "tags": []
          },
          "execution_count": 11
        }
      ]
    },
    {
      "cell_type": "markdown",
      "metadata": {
        "id": "vRaEPrSw3Jof",
        "colab_type": "text"
      },
      "source": [
        "### How can we automate a print statement using a For loop?"
      ]
    },
    {
      "cell_type": "code",
      "metadata": {
        "id": "ZJo4kixDZbsb",
        "colab_type": "code",
        "colab": {
          "base_uri": "https://localhost:8080/",
          "height": 93
        },
        "outputId": "ce767063-33a3-4103-c551-b9b59bb4a651"
      },
      "source": [
        "for day in df.day.unique():\n",
        "  current_mean = df[df.day == day].tip.mean()\n",
        "  print('In', day, 'people tip on average', current_mean)"
      ],
      "execution_count": 12,
      "outputs": [
        {
          "output_type": "stream",
          "text": [
            "In Sun people tip on average 3.255131578947369\n",
            "In Sat people tip on average 2.993103448275862\n",
            "In Thur people tip on average 2.771451612903226\n",
            "In Fri people tip on average 2.734736842105263\n"
          ],
          "name": "stdout"
        }
      ]
    },
    {
      "cell_type": "markdown",
      "metadata": {
        "id": "Qf6sBoO-U66i",
        "colab_type": "text"
      },
      "source": [
        "### How do we store these values? "
      ]
    },
    {
      "cell_type": "code",
      "metadata": {
        "id": "RIwaq-qDUyIt",
        "colab_type": "code",
        "colab": {
          "base_uri": "https://localhost:8080/",
          "height": 36
        },
        "outputId": "b1e04f5b-143b-4045-e909-bb5f0be89334"
      },
      "source": [
        "A = list()\n",
        "A"
      ],
      "execution_count": 13,
      "outputs": [
        {
          "output_type": "execute_result",
          "data": {
            "text/plain": [
              "[]"
            ]
          },
          "metadata": {
            "tags": []
          },
          "execution_count": 13
        }
      ]
    },
    {
      "cell_type": "code",
      "metadata": {
        "id": "lzC6ILgjS3l6",
        "colab_type": "code",
        "colab": {}
      },
      "source": [
        "A.append('12')"
      ],
      "execution_count": 0,
      "outputs": []
    },
    {
      "cell_type": "code",
      "metadata": {
        "id": "oOn-ngcXS9Z8",
        "colab_type": "code",
        "colab": {
          "base_uri": "https://localhost:8080/",
          "height": 36
        },
        "outputId": "b968dfcc-3b5c-423b-d881-b69158819e39"
      },
      "source": [
        "A"
      ],
      "execution_count": 15,
      "outputs": [
        {
          "output_type": "execute_result",
          "data": {
            "text/plain": [
              "['12']"
            ]
          },
          "metadata": {
            "tags": []
          },
          "execution_count": 15
        }
      ]
    },
    {
      "cell_type": "code",
      "metadata": {
        "id": "S9Oe1ms1TA2d",
        "colab_type": "code",
        "colab": {
          "base_uri": "https://localhost:8080/",
          "height": 93
        },
        "outputId": "ce5d3990-a62f-4e67-d795-1d8498d9cf4c"
      },
      "source": [
        "mean_list = list()\n",
        "for day in df.day.unique():\n",
        "  current_mean = df[df.day == day].tip.mean()\n",
        "  mean_list.append([day, current_mean])\n",
        "  print('In', day, 'people tip on average', current_mean)\n"
      ],
      "execution_count": 16,
      "outputs": [
        {
          "output_type": "stream",
          "text": [
            "In Sun people tip on average 3.255131578947369\n",
            "In Sat people tip on average 2.993103448275862\n",
            "In Thur people tip on average 2.771451612903226\n",
            "In Fri people tip on average 2.734736842105263\n"
          ],
          "name": "stdout"
        }
      ]
    },
    {
      "cell_type": "code",
      "metadata": {
        "id": "scEjoFV_U-tt",
        "colab_type": "code",
        "colab": {}
      },
      "source": [
        "mean_list = [[day, df[df.day == day].tip.mean()] for day in df.day.unique()]"
      ],
      "execution_count": 0,
      "outputs": []
    },
    {
      "cell_type": "code",
      "metadata": {
        "id": "AJ_s7YTmVddk",
        "colab_type": "code",
        "colab": {
          "base_uri": "https://localhost:8080/",
          "height": 93
        },
        "outputId": "d82c6ac1-6e34-487b-fbee-2019d67a4e59"
      },
      "source": [
        "mean_list"
      ],
      "execution_count": 18,
      "outputs": [
        {
          "output_type": "execute_result",
          "data": {
            "text/plain": [
              "[['Sun', 3.255131578947369],\n",
              " ['Sat', 2.993103448275862],\n",
              " ['Thur', 2.771451612903226],\n",
              " ['Fri', 2.734736842105263]]"
            ]
          },
          "metadata": {
            "tags": []
          },
          "execution_count": 18
        }
      ]
    },
    {
      "cell_type": "code",
      "metadata": {
        "id": "MAVkbpn-Ueuh",
        "colab_type": "code",
        "colab": {}
      },
      "source": [
        "Z  = lambda x: x**2"
      ],
      "execution_count": 0,
      "outputs": []
    },
    {
      "cell_type": "code",
      "metadata": {
        "id": "rOkxgaQlUjWq",
        "colab_type": "code",
        "colab": {
          "base_uri": "https://localhost:8080/",
          "height": 36
        },
        "outputId": "60ed64ea-38e0-4c6b-b7d5-e14c4f2247ca"
      },
      "source": [
        "Z(10)"
      ],
      "execution_count": 20,
      "outputs": [
        {
          "output_type": "execute_result",
          "data": {
            "text/plain": [
              "100"
            ]
          },
          "metadata": {
            "tags": []
          },
          "execution_count": 20
        }
      ]
    },
    {
      "cell_type": "code",
      "metadata": {
        "id": "2HXXOd7DTT8B",
        "colab_type": "code",
        "colab": {
          "base_uri": "https://localhost:8080/",
          "height": 36
        },
        "outputId": "9c4f924f-9a10-4016-a2e0-1a36a442adbb"
      },
      "source": [
        "max(mean_list, key = lambda x: x[1])"
      ],
      "execution_count": 21,
      "outputs": [
        {
          "output_type": "execute_result",
          "data": {
            "text/plain": [
              "['Sun', 3.255131578947369]"
            ]
          },
          "metadata": {
            "tags": []
          },
          "execution_count": 21
        }
      ]
    },
    {
      "cell_type": "code",
      "metadata": {
        "id": "nvwWn2p8TWAX",
        "colab_type": "code",
        "colab": {
          "base_uri": "https://localhost:8080/",
          "height": 36
        },
        "outputId": "bf0e22bc-533e-47a1-c28e-ef3c700b9fb0"
      },
      "source": [
        "min(mean_list, key = lambda x: x[1])"
      ],
      "execution_count": 22,
      "outputs": [
        {
          "output_type": "execute_result",
          "data": {
            "text/plain": [
              "['Fri', 2.734736842105263]"
            ]
          },
          "metadata": {
            "tags": []
          },
          "execution_count": 22
        }
      ]
    },
    {
      "cell_type": "markdown",
      "metadata": {
        "id": "bdSiQBJFYEm-",
        "colab_type": "text"
      },
      "source": [
        "### Who tips more? Smokers or non smokers?"
      ]
    },
    {
      "cell_type": "code",
      "metadata": {
        "id": "JIXYCwsPYhoi",
        "colab_type": "code",
        "colab": {}
      },
      "source": [
        ""
      ],
      "execution_count": 0,
      "outputs": []
    },
    {
      "cell_type": "markdown",
      "metadata": {
        "colab_type": "text",
        "id": "0qNTrnxKv-HE"
      },
      "source": [
        "\n",
        "\n",
        "\n",
        "\n",
        "### Who tips more? Women or Men\n"
      ]
    },
    {
      "cell_type": "code",
      "metadata": {
        "id": "Y2_0z5TbYh3U",
        "colab_type": "code",
        "colab": {}
      },
      "source": [
        ""
      ],
      "execution_count": 0,
      "outputs": []
    },
    {
      "cell_type": "markdown",
      "metadata": {
        "id": "TZRo9n5w8hbs",
        "colab_type": "text"
      },
      "source": [
        "### Plotting\n",
        "\n",
        "parameters are what you need inside the paranthesis for the function you are calling to work. "
      ]
    },
    {
      "cell_type": "markdown",
      "metadata": {
        "id": "iZyiP6hwJTdR",
        "colab_type": "text"
      },
      "source": [
        "### Create a scatter plot presenting the relationship between total_bill and tip\n",
        "\n",
        "---\n",
        "\n"
      ]
    },
    {
      "cell_type": "code",
      "metadata": {
        "id": "0WC6EphIYHuv",
        "colab_type": "code",
        "colab": {
          "base_uri": "https://localhost:8080/",
          "height": 369
        },
        "outputId": "110207e3-417b-4a69-af85-89e54b485955"
      },
      "source": [
        "plt.figure(1, figsize = (8, 5))\n",
        "x = df.total_bill[:, None]\n",
        "y = df.tip[:, None]\n",
        "plt.scatter(x, y)\n",
        "plt.xlabel('Total bill')\n",
        "plt.ylabel('Tip')\n",
        "plt.title('Total vs tip')"
      ],
      "execution_count": 23,
      "outputs": [
        {
          "output_type": "execute_result",
          "data": {
            "text/plain": [
              "Text(0.5, 1.0, 'Total vs tip')"
            ]
          },
          "metadata": {
            "tags": []
          },
          "execution_count": 23
        },
        {
          "output_type": "display_data",
          "data": {
            "image/png": "[encoded data removed]",
            "text/plain": [
              "<Figure size 576x360 with 1 Axes>"
            ]
          },
          "metadata": {
            "tags": []
          }
        }
      ]
    },
    {
      "cell_type": "markdown",
      "metadata": {
        "id": "-JG4_WFrj-wX",
        "colab_type": "text"
      },
      "source": [
        "# Let's get the slope"
      ]
    },
    {
      "cell_type": "code",
      "metadata": {
        "id": "aIVNn2h5cdb_",
        "colab_type": "code",
        "colab": {}
      },
      "source": [
        "model = LinearRegression()"
      ],
      "execution_count": 0,
      "outputs": []
    },
    {
      "cell_type": "code",
      "metadata": {
        "id": "9OJcO2bPdCFu",
        "colab_type": "code",
        "colab": {
          "base_uri": "https://localhost:8080/",
          "height": 350
        },
        "outputId": "f5452c66-e373-4809-a87e-fa39c2b8d0a7"
      },
      "source": [
        "plt.figure(1, figsize = (8, 5))\n",
        "\n",
        "\n",
        "x = df.total_bill[:, None]\n",
        "y = df.tip[:, None]\n",
        "\n",
        "\n",
        "model.fit(x, y)\n",
        "y_predict = model.predict(x)\n",
        "plt.scatter(x, y)\n",
        "plt.scatter(x, y_predict, label = 'predicted slope= ' + str(model.coef_[0][0]))\n",
        "plt.xlabel('Total bill')\n",
        "plt.ylabel('Tip')\n",
        "plt.title('Total vs tip')\n",
        "plt.legend(loc = 'upper left');"
      ],
      "execution_count": 25,
      "outputs": [
        {
          "output_type": "display_data",
          "data": {
            "image/png": "[encoded data removed]",
            "text/plain": [
              "<Figure size 576x360 with 1 Axes>"
            ]
          },
          "metadata": {
            "tags": []
          }
        }
      ]
    },
    {
      "cell_type": "markdown",
      "metadata": {
        "id": "Nm5GDhjxjz4q",
        "colab_type": "text"
      },
      "source": [
        "## What is the bill vs tip relationship at each day of the week?"
      ]
    },
    {
      "cell_type": "code",
      "metadata": {
        "id": "k26h31ZgZAQO",
        "colab_type": "code",
        "colab": {
          "base_uri": "https://localhost:8080/",
          "height": 621
        },
        "outputId": "a2eaac18-4b20-428d-ba48-ccdcb906fbc3"
      },
      "source": [
        "plt.figure(2, figsize = (20, 10))\n",
        "\n",
        "for i, day in enumerate(df.day.unique()):\n",
        "  plt.subplot(2, 2, i+1)\n",
        "  plt.title(day)\n",
        "\n",
        "  mask = df.day == day\n",
        "\n",
        "  x = df[mask].total_bill[:, None]\n",
        "  y = df[mask].tip[:, None]\n",
        "\n",
        "\n",
        "  model.fit(x, y)\n",
        "  y_predict = model.predict(x)\n",
        "\n",
        "  plt.scatter(x, y)\n",
        "  plt.scatter(x, y_predict, label = 'predicted slope= ' + str(round(model.coef_[0][0], 3)) )\n",
        "  plt.xlabel('Total Bill')\n",
        "  plt.ylabel('Tip')\n",
        "  plt.legend(loc = 'upper left');"
      ],
      "execution_count": 32,
      "outputs": [
        {
          "output_type": "display_data",
          "data": {
            "image/png": "[encoded data removed]",
            "text/plain": [
              "<Figure size 1440x720 with 4 Axes>"
            ]
          },
          "metadata": {
            "tags": []
          }
        }
      ]
    },
    {
      "cell_type": "markdown",
      "metadata": {
        "id": "3pNfN1MKkWZX",
        "colab_type": "text"
      },
      "source": [
        "# What is the bill vs tip relationship at each time of the day?"
      ]
    },
    {
      "cell_type": "code",
      "metadata": {
        "id": "EIfcE6yNkvAI",
        "colab_type": "code",
        "colab": {
          "base_uri": "https://localhost:8080/",
          "height": 350
        },
        "outputId": "8df63aed-bc06-4017-d581-cf2b837bdea9"
      },
      "source": [
        "plt.figure(3, figsize = (20, 5))\n",
        "\n",
        "for i, time in enumerate(df.time.unique()):\n",
        "  plt.subplot(1, 2, i+1)\n",
        "  plt.title(time)\n",
        "\n",
        "  mask = df.time == time\n",
        "\n",
        "  x = df[mask].total_bill[:, None]\n",
        "  y = df[mask].tip[:, None]\n",
        "\n",
        "\n",
        "  model.fit(x, y)\n",
        "  y_predict = model.predict(x)\n",
        "\n",
        "  plt.scatter(x, y)\n",
        "  plt.scatter(x, y_predict, label = 'predicted slope= ' + str(round(model.coef_[0][0], 3)) )\n",
        "  plt.xlabel('Total Bill')\n",
        "  plt.ylabel('Tip')\n",
        "  plt.legend(loc = 'upper left');"
      ],
      "execution_count": 31,
      "outputs": [
        {
          "output_type": "display_data",
          "data": {
            "image/png": "[encoded data removed]",
            "text/plain": [
              "<Figure size 1440x360 with 2 Axes>"
            ]
          },
          "metadata": {
            "tags": []
          }
        }
      ]
    },
    {
      "cell_type": "code",
      "metadata": {
        "id": "2DLaXwH-JTdZ",
        "colab_type": "code",
        "colab": {
          "base_uri": "https://localhost:8080/",
          "height": 336
        },
        "outputId": "3fab7106-e47b-4ac2-9e5b-0725386e085b"
      },
      "source": [
        "plt.figure(4, figsize = (20, 5))\n",
        "\n",
        "for i, sex in enumerate(df.sex.unique()):\n",
        "  plt.subplot(1, 2, i+1)\n",
        "  plt.title(sex)\n",
        "\n",
        "  mask = df.sex == sex\n",
        "\n",
        "  y = df[mask].tip[:, None]\n",
        "\n",
        "  bp = plt.boxplot(y)\n",
        "\n",
        "  for median in bp['medians']:\n",
        "    median.set(color='red', linewidth=2)\n",
        "\n",
        "  for box in bp['boxes']:\n",
        "  \n",
        "    # change fill color\n",
        "    box.set_color('blue')\n",
        "\n",
        "  \n",
        "  plt.ylim([0, 10])"
      ],
      "execution_count": 54,
      "outputs": [
        {
          "output_type": "display_data",
          "data": {
            "image/png": "[encoded data removed]",
            "text/plain": [
              "<Figure size 1440x360 with 2 Axes>"
            ]
          },
          "metadata": {
            "tags": []
          }
        }
      ]
    },
    {
      "cell_type": "code",
      "metadata": {
        "id": "CC3ohJcNmsp3",
        "colab_type": "code",
        "colab": {}
      },
      "source": [
        ""
      ],
      "execution_count": 0,
      "outputs": []
    }
  ]
}
