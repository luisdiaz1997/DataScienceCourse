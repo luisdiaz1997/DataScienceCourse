{
  "nbformat": 4,
  "nbformat_minor": 0,
  "metadata": {
    "kernelspec": {
      "display_name": "Python 3",
      "language": "python",
      "name": "python3"
    },
    "language_info": {
      "codemirror_mode": {
        "name": "ipython",
        "version": 3
      },
      "file_extension": ".py",
      "mimetype": "text/x-python",
      "name": "python",
      "nbconvert_exporter": "python",
      "pygments_lexer": "ipython3",
      "version": "3.7.0"
    },
    "colab": {
      "name": "Week4",
      "provenance": [],
      "collapsed_sections": [],
      "include_colab_link": true
    }
  },
  "cells": [
    {
      "cell_type": "markdown",
      "metadata": {
        "id": "view-in-github",
        "colab_type": "text"
      },
      "source": [
        "<a href=\"https://colab.research.google.com/github/luisdiaz1997/DataScienceCourse/blob/master/Week4.ipynb\" target=\"_parent\"><img src=\"https://colab.research.google.com/assets/colab-badge.svg\" alt=\"Open In Colab\"/></a>"
      ]
    },
    {
      "cell_type": "markdown",
      "metadata": {
        "id": "x5h1xeyDJTcm",
        "colab_type": "text"
      },
      "source": [
        "### Import the necessary libraries/packages:\n",
        "There are tools you can download into your code to implement. Think of these like your toolbox, to create plots, analyze data, and endless possibilities \n"
      ]
    },
    {
      "cell_type": "code",
      "metadata": {
        "id": "2aVvhKbyJTcp",
        "colab_type": "code",
        "colab": {}
      },
      "source": [
        ""
      ],
      "execution_count": 0,
      "outputs": []
    },
    {
      "cell_type": "markdown",
      "metadata": {
        "id": "J7Gb9C04JTc2",
        "colab_type": "text"
      },
      "source": [
        "### Import data and assign it to a variable called tips"
      ]
    },
    {
      "cell_type": "code",
      "metadata": {
        "id": "69zVfMAOJTc5",
        "colab_type": "code",
        "colab": {}
      },
      "source": [
        "url = 'https://raw.githubusercontent.com/guipsamora/pandas_exercises/master/07_Visualization/Tips/tips.csv'\n"
      ],
      "execution_count": 0,
      "outputs": []
    },
    {
      "cell_type": "code",
      "metadata": {
        "id": "PTA7EGR6OJg2",
        "colab_type": "code",
        "colab": {}
      },
      "source": [
        ""
      ],
      "execution_count": 0,
      "outputs": []
    },
    {
      "cell_type": "code",
      "metadata": {
        "id": "XopS2KGbOOmr",
        "colab_type": "code",
        "colab": {}
      },
      "source": [
        ""
      ],
      "execution_count": 0,
      "outputs": []
    },
    {
      "cell_type": "markdown",
      "metadata": {
        "id": "sjzak6sPmyqE",
        "colab_type": "text"
      },
      "source": [
        "# .describe()\n",
        "Generate descriptive statistics that summarize the central tendency, dispersion and shape of a dataset’s distribution, excluding NaN values.\n",
        "\n"
      ]
    },
    {
      "cell_type": "code",
      "metadata": {
        "id": "Y8dWzCXLNlyr",
        "colab_type": "code",
        "colab": {}
      },
      "source": [
        ""
      ],
      "execution_count": 0,
      "outputs": []
    },
    {
      "cell_type": "markdown",
      "metadata": {
        "id": "LqILy_GWr3Af",
        "colab_type": "text"
      },
      "source": [
        "# Working with our dataset"
      ]
    },
    {
      "cell_type": "markdown",
      "metadata": {
        "id": "wFVe4XRnYJDj",
        "colab_type": "text"
      },
      "source": [
        "### What day are people more likely to tip?\n"
      ]
    },
    {
      "cell_type": "code",
      "metadata": {
        "id": "t10b3nG33wmT",
        "colab_type": "code",
        "colab": {}
      },
      "source": [
        ""
      ],
      "execution_count": 0,
      "outputs": []
    },
    {
      "cell_type": "code",
      "metadata": {
        "id": "eTZu2n813wWY",
        "colab_type": "code",
        "colab": {}
      },
      "source": [
        ""
      ],
      "execution_count": 0,
      "outputs": []
    },
    {
      "cell_type": "code",
      "metadata": {
        "id": "c9OqxGe03xjS",
        "colab_type": "code",
        "colab": {}
      },
      "source": [
        ""
      ],
      "execution_count": 0,
      "outputs": []
    },
    {
      "cell_type": "markdown",
      "metadata": {
        "id": "vRaEPrSw3Jof",
        "colab_type": "text"
      },
      "source": [
        "### How can we automate a print statement using a For loop?"
      ]
    },
    {
      "cell_type": "code",
      "metadata": {
        "id": "ZJo4kixDZbsb",
        "colab_type": "code",
        "colab": {}
      },
      "source": [
        ""
      ],
      "execution_count": 0,
      "outputs": []
    },
    {
      "cell_type": "markdown",
      "metadata": {
        "colab_type": "text",
        "id": "vSfBvELp3659"
      },
      "source": [
        "### How do we store these values? "
      ]
    },
    {
      "cell_type": "code",
      "metadata": {
        "id": "S9Oe1ms1TA2d",
        "colab_type": "code",
        "colab": {}
      },
      "source": [
        ""
      ],
      "execution_count": 0,
      "outputs": []
    },
    {
      "cell_type": "code",
      "metadata": {
        "id": "scEjoFV_U-tt",
        "colab_type": "code",
        "colab": {}
      },
      "source": [
        ""
      ],
      "execution_count": 0,
      "outputs": []
    },
    {
      "cell_type": "code",
      "metadata": {
        "id": "AJ_s7YTmVddk",
        "colab_type": "code",
        "colab": {}
      },
      "source": [
        ""
      ],
      "execution_count": 0,
      "outputs": []
    },
    {
      "cell_type": "code",
      "metadata": {
        "id": "MAVkbpn-Ueuh",
        "colab_type": "code",
        "colab": {}
      },
      "source": [
        ""
      ],
      "execution_count": 0,
      "outputs": []
    },
    {
      "cell_type": "code",
      "metadata": {
        "id": "rOkxgaQlUjWq",
        "colab_type": "code",
        "colab": {}
      },
      "source": [
        ""
      ],
      "execution_count": 0,
      "outputs": []
    },
    {
      "cell_type": "code",
      "metadata": {
        "id": "2HXXOd7DTT8B",
        "colab_type": "code",
        "colab": {}
      },
      "source": [
        ""
      ],
      "execution_count": 0,
      "outputs": []
    },
    {
      "cell_type": "code",
      "metadata": {
        "id": "nvwWn2p8TWAX",
        "colab_type": "code",
        "colab": {}
      },
      "source": [
        ""
      ],
      "execution_count": 0,
      "outputs": []
    },
    {
      "cell_type": "markdown",
      "metadata": {
        "id": "bdSiQBJFYEm-",
        "colab_type": "text"
      },
      "source": [
        "### Who tips more? Smokers or non smokers?"
      ]
    },
    {
      "cell_type": "code",
      "metadata": {
        "id": "JIXYCwsPYhoi",
        "colab_type": "code",
        "colab": {}
      },
      "source": [
        ""
      ],
      "execution_count": 0,
      "outputs": []
    },
    {
      "cell_type": "markdown",
      "metadata": {
        "colab_type": "text",
        "id": "0qNTrnxKv-HE"
      },
      "source": [
        "\n",
        "\n",
        "\n",
        "\n",
        "### Who tips more? Women or Men\n"
      ]
    },
    {
      "cell_type": "code",
      "metadata": {
        "id": "Y2_0z5TbYh3U",
        "colab_type": "code",
        "colab": {}
      },
      "source": [
        ""
      ],
      "execution_count": 0,
      "outputs": []
    },
    {
      "cell_type": "markdown",
      "metadata": {
        "id": "TZRo9n5w8hbs",
        "colab_type": "text"
      },
      "source": [
        "### Plotting\n",
        "\n",
        "parameters are what you need inside the paranthesis for the function you are calling to work. "
      ]
    },
    {
      "cell_type": "markdown",
      "metadata": {
        "id": "iZyiP6hwJTdR",
        "colab_type": "text"
      },
      "source": [
        "### Create a scatter plot presenting the relationship between total_bill and tip\n",
        "\n",
        "---\n",
        "\n"
      ]
    },
    {
      "cell_type": "code",
      "metadata": {
        "id": "0WC6EphIYHuv",
        "colab_type": "code",
        "colab": {}
      },
      "source": [
        ""
      ],
      "execution_count": 0,
      "outputs": []
    },
    {
      "cell_type": "markdown",
      "metadata": {
        "id": "-JG4_WFrj-wX",
        "colab_type": "text"
      },
      "source": [
        "# Let's get the slope"
      ]
    },
    {
      "cell_type": "code",
      "metadata": {
        "id": "aIVNn2h5cdb_",
        "colab_type": "code",
        "colab": {}
      },
      "source": [
        ""
      ],
      "execution_count": 0,
      "outputs": []
    },
    {
      "cell_type": "code",
      "metadata": {
        "id": "9OJcO2bPdCFu",
        "colab_type": "code",
        "colab": {}
      },
      "source": [
        ""
      ],
      "execution_count": 0,
      "outputs": []
    },
    {
      "cell_type": "markdown",
      "metadata": {
        "id": "Nm5GDhjxjz4q",
        "colab_type": "text"
      },
      "source": [
        "## What is the bill vs tip relationship at each day of the week?"
      ]
    },
    {
      "cell_type": "code",
      "metadata": {
        "id": "k26h31ZgZAQO",
        "colab_type": "code",
        "colab": {}
      },
      "source": [
        ""
      ],
      "execution_count": 0,
      "outputs": []
    },
    {
      "cell_type": "markdown",
      "metadata": {
        "id": "3pNfN1MKkWZX",
        "colab_type": "text"
      },
      "source": [
        "# What is the bill vs tip relationship at each time of the day?"
      ]
    },
    {
      "cell_type": "code",
      "metadata": {
        "id": "EIfcE6yNkvAI",
        "colab_type": "code",
        "colab": {}
      },
      "source": [
        ""
      ],
      "execution_count": 0,
      "outputs": []
    },
    {
      "cell_type": "code",
      "metadata": {
        "id": "2DLaXwH-JTdZ",
        "colab_type": "code",
        "colab": {}
      },
      "source": [
        ""
      ],
      "execution_count": 0,
      "outputs": []
    },
    {
      "cell_type": "code",
      "metadata": {
        "id": "CC3ohJcNmsp3",
        "colab_type": "code",
        "colab": {}
      },
      "source": [
        ""
      ],
      "execution_count": 0,
      "outputs": []
    }
  ]
}