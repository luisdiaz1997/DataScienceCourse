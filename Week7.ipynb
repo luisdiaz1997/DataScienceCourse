{
  "nbformat": 4,
  "nbformat_minor": 0,
  "metadata": {
    "colab": {
      "name": "Week7.ipynb",
      "provenance": [],
      "collapsed_sections": [],
      "authorship_tag": "ABX9TyMh3XEAkktwoZuCDqgFiOKn",
      "include_colab_link": true
    },
    "kernelspec": {
      "name": "python3",
      "display_name": "Python 3"
    }
  },
  "cells": [
    {
      "cell_type": "markdown",
      "metadata": {
        "id": "view-in-github",
        "colab_type": "text"
      },
      "source": [
        "<a href=\"https://colab.research.google.com/github/luisdiaz1997/DataScienceCourse/blob/master/Week7.ipynb\" target=\"_parent\"><img src=\"https://colab.research.google.com/assets/colab-badge.svg\" alt=\"Open In Colab\"/></a>"
      ]
    },
    {
      "cell_type": "code",
      "metadata": {
        "id": "8wfAowq3gnuL",
        "colab_type": "code",
        "colab": {}
      },
      "source": [
        ""
      ],
      "execution_count": 0,
      "outputs": []
    },
    {
      "cell_type": "code",
      "metadata": {
        "id": "_sTO-Rfagr8L",
        "colab_type": "code",
        "colab": {}
      },
      "source": [
        "from sklearn.datasets import make_blobs\n",
        "n_samples = 1500\n",
        "random_state = 170\n",
        "X, y = make_blobs(n_samples=n_samples, random_state=random_state, centers = np.array([[-3, -3], [1, 1], [5, -2]]))"
      ],
      "execution_count": 0,
      "outputs": []
    },
    {
      "cell_type": "code",
      "metadata": {
        "id": "OCx9PAAzVLbb",
        "colab_type": "code",
        "colab": {}
      },
      "source": [
        "from sklearn.preprocessing import OneHotEncoder\n",
        "\n",
        "def onehot(y):\n",
        "  enc = OneHotEncoder()\n",
        "  enc.fit(np.unique(y)[:, None])\n",
        "  y_train = enc.transform(y[:, None]).toarray()\n",
        "  return y_train"
      ],
      "execution_count": 0,
      "outputs": []
    },
    {
      "cell_type": "code",
      "metadata": {
        "id": "oh26Qe-Yh3gO",
        "colab_type": "code",
        "colab": {}
      },
      "source": [
        ""
      ],
      "execution_count": 0,
      "outputs": []
    },
    {
      "cell_type": "code",
      "metadata": {
        "id": "r6v7lo6Zgy9S",
        "colab_type": "code",
        "colab": {}
      },
      "source": [
        "plt.figure(1, figsize = (10,8))\n",
        "plt.scatter(X[:, 0], X[:, 1], c = y)\n",
        "plt.colorbar();"
      ],
      "execution_count": 0,
      "outputs": []
    },
    {
      "cell_type": "code",
      "metadata": {
        "id": "MdXGqAKKg0eK",
        "colab_type": "code",
        "colab": {}
      },
      "source": [
        "def linear(x, w, b):\n",
        "  z = None\n",
        "  return z"
      ],
      "execution_count": 0,
      "outputs": []
    },
    {
      "cell_type": "code",
      "metadata": {
        "id": "MRBmBSZehCUr",
        "colab_type": "code",
        "colab": {}
      },
      "source": [
        "def start_params(classes, features = 2):\n",
        "  params = {'W': None, 'b': None}\n",
        "  return params"
      ],
      "execution_count": 0,
      "outputs": []
    },
    {
      "cell_type": "code",
      "metadata": {
        "id": "zlV9I0uEhK-6",
        "colab_type": "code",
        "colab": {}
      },
      "source": [
        "def loss(model, inputs, targets):\n",
        "  error = None\n",
        "  return None"
      ],
      "execution_count": 0,
      "outputs": []
    },
    {
      "cell_type": "code",
      "metadata": {
        "id": "qEbMf57AhoK1",
        "colab_type": "code",
        "colab": {}
      },
      "source": [
        "def grad(model, inputs, targets):\n",
        "\n",
        "  error = None\n",
        "  grad_dict = {'dW': None,\n",
        "               'db': None}\n",
        "  return grad_dict"
      ],
      "execution_count": 0,
      "outputs": []
    },
    {
      "cell_type": "code",
      "metadata": {
        "id": "QPqcJkwYndBo",
        "colab_type": "code",
        "colab": {}
      },
      "source": [
        ""
      ],
      "execution_count": 0,
      "outputs": []
    },
    {
      "cell_type": "code",
      "metadata": {
        "id": "h6Pt656HnXZo",
        "colab_type": "code",
        "colab": {}
      },
      "source": [
        "class LogisticRegression():\n",
        "  def __init__(self):\n",
        "    pass\n",
        "  \n",
        "  def __call__(self):\n",
        "    pass\n",
        "\n",
        "  def fit(self):\n",
        "    pass\n",
        "\n"
      ],
      "execution_count": 0,
      "outputs": []
    },
    {
      "cell_type": "code",
      "metadata": {
        "id": "REOkTC4SnnFg",
        "colab_type": "code",
        "colab": {}
      },
      "source": [
        ""
      ],
      "execution_count": 0,
      "outputs": []
    },
    {
      "cell_type": "code",
      "metadata": {
        "id": "sTlz2uHpnpm4",
        "colab_type": "code",
        "colab": {}
      },
      "source": [
        "plt.figure(2, figsize = (10,8))\n",
        "\n",
        "y_predict = np.argmax(model(X), axis = 1)\n",
        "plt.scatter(X[:, 0], X[:, 1], c = y_predict.reshape(-1))\n",
        "plt.colorbar();"
      ],
      "execution_count": 0,
      "outputs": []
    },
    {
      "cell_type": "code",
      "metadata": {
        "id": "yUd48a9woDEu",
        "colab_type": "code",
        "colab": {}
      },
      "source": [
        ""
      ],
      "execution_count": 0,
      "outputs": []
    },
    {
      "cell_type": "code",
      "metadata": {
        "id": "m-jjPFYnoSyY",
        "colab_type": "code",
        "colab": {}
      },
      "source": [
        ""
      ],
      "execution_count": 0,
      "outputs": []
    },
    {
      "cell_type": "code",
      "metadata": {
        "id": "RzLjJTjToazY",
        "colab_type": "code",
        "colab": {}
      },
      "source": [
        "plt.figure(3, figsize = (10,8))\n",
        "\n",
        "y_predict = np.argmax(model(X), axis = 1)\n",
        "plt.scatter(X[:, 0], X[:, 1], c = y_predict.reshape(-1))\n",
        "plt.colorbar();"
      ],
      "execution_count": 0,
      "outputs": []
    },
    {
      "cell_type": "code",
      "metadata": {
        "id": "I3y5x-BeomSP",
        "colab_type": "code",
        "colab": {}
      },
      "source": [
        ""
      ],
      "execution_count": 0,
      "outputs": []
    },
    {
      "cell_type": "code",
      "metadata": {
        "id": "Pi5DAwC35BHE",
        "colab_type": "code",
        "colab": {}
      },
      "source": [
        ""
      ],
      "execution_count": 0,
      "outputs": []
    },
    {
      "cell_type": "code",
      "metadata": {
        "id": "DBT6g5vYF3bq",
        "colab_type": "code",
        "colab": {}
      },
      "source": [
        "from sklearn.datasets import make_circles\n",
        "n_samples = 400\n",
        "random_state = 170\n",
        "X, y = make_circles(n_samples=n_samples, random_state=random_state, noise = 0.15)\n",
        "\n",
        "\n",
        "\n",
        "plt.figure(4, figsize = (10,8))\n",
        "plt.scatter(X[:, 0], X[:, 1], c = y)\n",
        "plt.colorbar();"
      ],
      "execution_count": 0,
      "outputs": []
    },
    {
      "cell_type": "code",
      "metadata": {
        "id": "J0RN4vSvHRnx",
        "colab_type": "code",
        "colab": {}
      },
      "source": [
        "def add_polynomials(x, order = 7):\n",
        "    \n",
        "    x_new = list()\n",
        "    for i in range(1, order+1):\n",
        "        for j in range(i+1):\n",
        "            x_new.append((x[:,0]** (i-j)) *(x[:,1]** (j))) \n",
        "    x_new = np.array(x_new)\n",
        "    \n",
        "    \n",
        "    return x_new.T"
      ],
      "execution_count": 0,
      "outputs": []
    },
    {
      "cell_type": "code",
      "metadata": {
        "id": "rzhnOXl2InuK",
        "colab_type": "code",
        "colab": {}
      },
      "source": [
        "X_p = add_polynomials(X)"
      ],
      "execution_count": 0,
      "outputs": []
    },
    {
      "cell_type": "code",
      "metadata": {
        "id": "RfT5G9D0IrrG",
        "colab_type": "code",
        "colab": {}
      },
      "source": [
        ""
      ],
      "execution_count": 0,
      "outputs": []
    },
    {
      "cell_type": "code",
      "metadata": {
        "id": "OGI_q-yQJwFP",
        "colab_type": "code",
        "colab": {}
      },
      "source": [
        "plt.figure(5, figsize = (10,8))\n",
        "\n",
        "y_predict = model2(X_p)\n",
        "plt.scatter(X[:, 0], X[:, 1], c = y_predict.reshape(-1), cmap = 'bwr')\n",
        "plt.colorbar();"
      ],
      "execution_count": 0,
      "outputs": []
    },
    {
      "cell_type": "code",
      "metadata": {
        "id": "7_QdAwBJItE2",
        "colab_type": "code",
        "colab": {}
      },
      "source": [
        ""
      ],
      "execution_count": 0,
      "outputs": []
    },
    {
      "cell_type": "code",
      "metadata": {
        "id": "fC2E6_X-MF4b",
        "colab_type": "code",
        "colab": {}
      },
      "source": [
        ""
      ],
      "execution_count": 0,
      "outputs": []
    },
    {
      "cell_type": "code",
      "metadata": {
        "id": "L6tf0VqcJEJ3",
        "colab_type": "code",
        "colab": {}
      },
      "source": [
        "plt.figure(6, figsize = (10,8))\n",
        "\n",
        "y_predict = model2(X_p)\n",
        "plt.scatter(X[:, 0], X[:, 1], c = y_predict.reshape(-1), cmap = 'bwr')\n",
        "plt.colorbar();"
      ],
      "execution_count": 0,
      "outputs": []
    },
    {
      "cell_type": "code",
      "metadata": {
        "id": "RUlQ0ZbSJogm",
        "colab_type": "code",
        "colab": {}
      },
      "source": [
        "def get_grid(x):\n",
        "    a = np.linspace(x[:, 0].min() -1, x[:, 0].max() +1, 1000)\n",
        "    b = np.linspace(x[:, 1].min() -1, x[:, 1].max()+1, 1000)\n",
        "    xx, yy = np.meshgrid(a, b, sparse=False)\n",
        "    zz = np.stack((xx,yy), axis =2)\n",
        "    inp = zz.reshape(-1, 2)\n",
        "    return xx, yy, inp"
      ],
      "execution_count": 0,
      "outputs": []
    },
    {
      "cell_type": "code",
      "metadata": {
        "id": "Llp4tV7hKRUm",
        "colab_type": "code",
        "colab": {}
      },
      "source": [
        "xx, yy, grid = get_grid(X)"
      ],
      "execution_count": 0,
      "outputs": []
    },
    {
      "cell_type": "code",
      "metadata": {
        "id": "VipJuqh7KZJ3",
        "colab_type": "code",
        "colab": {}
      },
      "source": [
        "grid_p = add_polynomials(grid)"
      ],
      "execution_count": 0,
      "outputs": []
    },
    {
      "cell_type": "code",
      "metadata": {
        "id": "UEGH58VZKVMm",
        "colab_type": "code",
        "colab": {}
      },
      "source": [
        "plt.figure(7, figsize = (10,8))\n",
        "\n",
        "y_predict = model2(grid_p)\n",
        "\n",
        "\n",
        "plt.contourf( xx, yy, y_predict.reshape(1000, 1000), cmap = 'bwr')\n",
        "plt.colorbar();"
      ],
      "execution_count": 0,
      "outputs": []
    },
    {
      "cell_type": "code",
      "metadata": {
        "id": "9cGGzVaCKtnv",
        "colab_type": "code",
        "colab": {}
      },
      "source": [
        ""
      ],
      "execution_count": 0,
      "outputs": []
    },
    {
      "cell_type": "code",
      "metadata": {
        "id": "xveuXGYTRocl",
        "colab_type": "code",
        "colab": {}
      },
      "source": [
        "import tensorflow as tf\n",
        "(x_train, y_train), (x_test, y_test) = tf.keras.datasets.mnist.load_data()"
      ],
      "execution_count": 0,
      "outputs": []
    },
    {
      "cell_type": "code",
      "metadata": {
        "id": "y2Fsxnt7UM4x",
        "colab_type": "code",
        "colab": {}
      },
      "source": [
        "plt.figure(figsize= (8, 8))\n",
        "k = 10\n",
        "for k in range(16):\n",
        "  plt.subplot(4, 4, k+1)\n",
        "  plt.imshow(x_train[k], cmap = 'gray')\n",
        "  plt.title(y_train[k]);"
      ],
      "execution_count": 0,
      "outputs": []
    },
    {
      "cell_type": "code",
      "metadata": {
        "id": "dh02jW4sVwjR",
        "colab_type": "code",
        "colab": {}
      },
      "source": [
        ""
      ],
      "execution_count": 0,
      "outputs": []
    },
    {
      "cell_type": "code",
      "metadata": {
        "id": "2GIlW13LUqr2",
        "colab_type": "code",
        "colab": {}
      },
      "source": [
        ""
      ],
      "execution_count": 0,
      "outputs": []
    },
    {
      "cell_type": "code",
      "metadata": {
        "id": "XCDRkPE_VdNq",
        "colab_type": "code",
        "colab": {}
      },
      "source": [
        ""
      ],
      "execution_count": 0,
      "outputs": []
    },
    {
      "cell_type": "code",
      "metadata": {
        "id": "0f_LzOSaYgzH",
        "colab_type": "code",
        "colab": {}
      },
      "source": [
        ""
      ],
      "execution_count": 0,
      "outputs": []
    },
    {
      "cell_type": "code",
      "metadata": {
        "id": "TUCKEjdDZPnl",
        "colab_type": "code",
        "colab": {}
      },
      "source": [
        ""
      ],
      "execution_count": 0,
      "outputs": []
    },
    {
      "cell_type": "code",
      "metadata": {
        "id": "XGL2Gb-VWmS0",
        "colab_type": "code",
        "colab": {}
      },
      "source": [
        "y_predict = model3(x_train2/255)"
      ],
      "execution_count": 0,
      "outputs": []
    },
    {
      "cell_type": "code",
      "metadata": {
        "id": "7v-6uGLHXHGy",
        "colab_type": "code",
        "colab": {}
      },
      "source": [
        "np.sum(np.argmax(y_predict, axis = 1) == y_train)/x_train2.shape[0]"
      ],
      "execution_count": 0,
      "outputs": []
    },
    {
      "cell_type": "code",
      "metadata": {
        "id": "j5uZ2glQX8RS",
        "colab_type": "code",
        "colab": {}
      },
      "source": [
        "test_predict = model3(x_test2/255)"
      ],
      "execution_count": 0,
      "outputs": []
    },
    {
      "cell_type": "code",
      "metadata": {
        "id": "_0bPxvJyaeMJ",
        "colab_type": "code",
        "colab": {}
      },
      "source": [
        "np.sum(np.argmax(test_predict, axis = 1) == y_test)/test_predict.shape[0]"
      ],
      "execution_count": 0,
      "outputs": []
    },
    {
      "cell_type": "code",
      "metadata": {
        "id": "dKTPbzD2aq85",
        "colab_type": "code",
        "colab": {}
      },
      "source": [
        "plt.figure(figsize= (10, 5))\n",
        "k = 10\n",
        "for k in range(10):\n",
        "  plt.subplot(2, 5, k+1)\n",
        "  plt.imshow(model3.params['W'][:, k].reshape(28, 28), vmin = -1.5, vmax =1.5)\n",
        "  plt.title(k);"
      ],
      "execution_count": 0,
      "outputs": []
    },
    {
      "cell_type": "code",
      "metadata": {
        "id": "lkcZ1wWazf-J",
        "colab_type": "code",
        "colab": {}
      },
      "source": [
        ""
      ],
      "execution_count": 0,
      "outputs": []
    }
  ]
}